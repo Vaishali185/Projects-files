{
 "cells": [
  {
   "cell_type": "raw",
   "metadata": {},
   "source": [
    "\n",
    "Name: Vaishali Pawar.\n",
    "student number: 0559388 \n",
    "VUB"
   ]
  },
  {
   "cell_type": "markdown",
   "metadata": {},
   "source": [
    "### Introduction"
   ]
  },
  {
   "cell_type": "markdown",
   "metadata": {},
   "source": [
    "This project is about Herbarium challenge which consists of image classification which classifies drawings of plants into a large number of categories. Neural network is trained on  the Herbarium dataset for classification tasks. To deal with images, a standard python packages that load data into a Numpy array will be used, then we can convert this array into a torch. In this project Pillow package is used for images. For vision, torchvision package is used that had a dataloader for data and data transformers for images."
   ]
  },
  {
   "cell_type": "markdown",
   "metadata": {},
   "source": [
    "### Import packages\n",
    " Required packages are imported as follows:"
   ]
  },
  {
   "cell_type": "code",
   "execution_count": 1,
   "metadata": {},
   "outputs": [],
   "source": [
    "import numpy as np \n",
    "import pandas as pd\n",
    "from PIL import Image\n",
    "import os\n",
    "import json\n",
    "import matplotlib.pyplot as plt\n",
    "import imageio\n",
    "import torch\n",
    "import torch.nn as nn\n",
    "import torchvision\n",
    "import torchvision.transforms as transforms\n",
    "from sklearn.model_selection import KFold\n",
    "from torch.utils.data import Dataset, DataLoader\n",
    "from torch.multiprocessing import Process\n",
    "from mpi4py import MPI             # MPI functions in Python\n",
    "import PIL.Image  \n",
    "import sys\n",
    "from collections import OrderedDict\n",
    "from torchvision import datasets, transforms, models"
   ]
  },
  {
   "cell_type": "markdown",
   "metadata": {},
   "source": [
    "## INDEX"
   ]
  },
  {
   "cell_type": "markdown",
   "metadata": {},
   "source": [
    "* [Training Configuration](#training_configuration)\n",
    "* [Training network](#Training_network)\n",
    "   * [Loading and Normalizing data](#loading_data)\n",
    "   * [training classifier](#training_classifier)\n",
    "       * [convolutional neural network](#cnn)\n",
    "         * [Defining model](#define_cnn)\n",
    "         * [Define loss and optimizer](#loss_function)\n",
    "         * [train network](#train_network)\n",
    "   * [Prediction](#predictionn)\n",
    "* [Training of PyTorch network over MPI](#mpi)\n",
    "* [Implementing a pipelined prediction](#pipeline)\n",
    "   * [Pipelined prediction](#pipeline1)\n",
    "   * [Pipelined prediction 2](#pipeline2)\n",
    "   * [Pipelined prediction 3](#pipeline3)\n",
    "* [other neural network and optimizer](#other_nn)\n",
    "    \n",
    "   "
   ]
  },
  {
   "cell_type": "markdown",
   "metadata": {},
   "source": [
    "<a class=\"anchor\" id=\"training_configuration\"></a>\n",
    "### Training Configuration"
   ]
  },
  {
   "cell_type": "code",
   "execution_count": 2,
   "metadata": {},
   "outputs": [
    {
     "name": "stderr",
     "output_type": "stream",
     "text": [
      "C:\\Users\\kaila\\Anaconda3\\lib\\site-packages\\torch\\cuda\\__init__.py:52: UserWarning: CUDA initialization: Found no NVIDIA driver on your system. Please check that you have an NVIDIA GPU and installed a driver from http://www.nvidia.com/Download/index.aspx (Triggered internally at  ..\\c10\\cuda\\CUDAFunctions.cpp:100.)\n",
      "  return torch._C._cuda_getDeviceCount() > 0\n"
     ]
    },
    {
     "data": {
      "text/plain": [
       "'C:/Users/kaila/3rd semester/information_retrival/scalable_analytics project/mini_herbarium/mini_herbarium/train/'"
      ]
     },
     "execution_count": 2,
     "metadata": {},
     "output_type": "execute_result"
    }
   ],
   "source": [
    "BATCH = 10\n",
    "EPOCHS = 2\n",
    "LR = 0.01\n",
    "IM_SIZE = 224\n",
    "#input_size = 224*224\n",
    "#input_size = 28 * 28 \n",
    "#hidden_size=10\n",
    "#num_classes = 10\n",
    "#device config\n",
    "DEVICE = torch.device(\"cuda:0\" if torch.cuda.is_available() else \"cpu\")\n",
    "dataset_root = \"C:/Users/kaila/3rd semester/information_retrival/scalable_analytics project/mini_herbarium/mini_herbarium/\"\n",
    "#dataset_root = \"C:/Users/kaila/3rd semester/information_retrival/scalable_analytics project/kaggle_herbarium_1gb/kaggle_herbarium_1gb/\"\n",
    "train_images_dir = dataset_root + \"train/\"\n",
    "test_images_dir = dataset_root + \"test/\"\n",
    "train_images_dir"
   ]
  },
  {
   "cell_type": "markdown",
   "metadata": {},
   "source": [
    "<a class=\"anchor\" id=\"Training_network\"></a>\n",
    "### Training network"
   ]
  },
  {
   "cell_type": "raw",
   "metadata": {},
   "source": [
    "Following steps are implemented to train the network:\n",
    "\n",
    "1) Loading and Normalizing data\n",
    "2) Defining a model\n",
    "3) Training a classifier\n",
    "4) Prediction\n",
    "\n",
    "In this project convolutional neural network(CNN) and other pretrained model such as resnet34 and ResNet 50 are implemented."
   ]
  },
  {
   "cell_type": "markdown",
   "metadata": {},
   "source": [
    "<a class=\"anchor\" id=\"loading_data\"></a>\n",
    "#### Loading And Normalizing data"
   ]
  },
  {
   "cell_type": "code",
   "execution_count": 3,
   "metadata": {},
   "outputs": [
    {
     "name": "stdout",
     "output_type": "stream",
     "text": [
      "train dict dict_keys(['annotations', 'categories', 'images', 'info', 'licenses', 'institutions'])\n"
     ]
    }
   ],
   "source": [
    "#try:\n",
    "with open(train_images_dir + 'metadata.json', \"r\", encoding=\"ISO-8859-1\") as file:\n",
    "     train = json.load(file)  \n",
    "        \n",
    "print(\"train dict\", train.keys())\n",
    "#except IOError:\n",
    " #       pass"
   ]
  },
  {
   "cell_type": "code",
   "execution_count": 4,
   "metadata": {},
   "outputs": [
    {
     "data": {
      "text/plain": [
       "['images/000/01/404873.jpg',\n",
       " 'images/000/01/1515603.jpg',\n",
       " 'images/000/00/1433074.jpg',\n",
       " 'images/000/01/1104517.jpg',\n",
       " 'images/000/01/1948744.jpg',\n",
       " 'images/000/00/1360648.jpg',\n",
       " 'images/000/01/928455.jpg',\n",
       " 'images/000/01/230965.jpg',\n",
       " 'images/000/00/1703060.jpg',\n",
       " 'images/000/01/1486090.jpg']"
      ]
     },
     "execution_count": 4,
     "metadata": {},
     "output_type": "execute_result"
    }
   ],
   "source": [
    "all_filenames=[]\n",
    "for image in train[\"images\"]:\n",
    "    all_filenames.append(image[\"file_name\"])\n",
    "all_filenames"
   ]
  },
  {
   "cell_type": "code",
   "execution_count": 5,
   "metadata": {},
   "outputs": [
    {
     "data": {
      "image/png": "[encoded data removed]",
      "text/plain": [
       "<Figure size 432x288 with 1 Axes>"
      ]
     },
     "metadata": {
      "needs_background": "light"
     },
     "output_type": "display_data"
    }
   ],
   "source": [
    "def plot_image(i, train):\n",
    "     \n",
    "    filename = train_images_dir + train[\"images\"][i]['file_name']\n",
    "    im = imageio.read(filename).get_data(0)\n",
    "    plt.imshow(im)\n",
    "    category = train[\"annotations\"][i]['category_id']\n",
    "    category = train[\"categories\"][category]\n",
    "    plt.title(category['name'])\n",
    "#plot_image(9, train)\n",
    "for x in range(10):\n",
    "    plot_image(x,train)"
   ]
  },
  {
   "cell_type": "markdown",
   "metadata": {},
   "source": [
    "We can take the images and annotations from the file and convert to dataframe and then merge it into one single dataframe and name it as train_df. We can use this train_df for training classifier.  We can load train_df as follows: "
   ]
  },
  {
   "cell_type": "code",
   "execution_count": 6,
   "metadata": {},
   "outputs": [
    {
     "data": {
      "text/html": [
       "<div>\n",
       "<style scoped>\n",
       "    .dataframe tbody tr th:only-of-type {\n",
       "        vertical-align: middle;\n",
       "    }\n",
       "\n",
       "    .dataframe tbody tr th {\n",
       "        vertical-align: top;\n",
       "    }\n",
       "\n",
       "    .dataframe thead th {\n",
       "        text-align: right;\n",
       "    }\n",
       "</style>\n",
       "<table border=\"1\" class=\"dataframe\">\n",
       "  <thead>\n",
       "    <tr style=\"text-align: right;\">\n",
       "      <th></th>\n",
       "      <th>file_name</th>\n",
       "      <th>height</th>\n",
       "      <th>id</th>\n",
       "      <th>license</th>\n",
       "      <th>width</th>\n",
       "      <th>category_id</th>\n",
       "      <th>institution_id</th>\n",
       "    </tr>\n",
       "  </thead>\n",
       "  <tbody>\n",
       "    <tr>\n",
       "      <td>0</td>\n",
       "      <td>images/000/01/404873.jpg</td>\n",
       "      <td>1000</td>\n",
       "      <td>404873</td>\n",
       "      <td>0</td>\n",
       "      <td>680</td>\n",
       "      <td>1</td>\n",
       "      <td>0</td>\n",
       "    </tr>\n",
       "    <tr>\n",
       "      <td>1</td>\n",
       "      <td>images/000/01/1515603.jpg</td>\n",
       "      <td>1000</td>\n",
       "      <td>1515603</td>\n",
       "      <td>0</td>\n",
       "      <td>680</td>\n",
       "      <td>1</td>\n",
       "      <td>0</td>\n",
       "    </tr>\n",
       "    <tr>\n",
       "      <td>2</td>\n",
       "      <td>images/000/00/1433074.jpg</td>\n",
       "      <td>1000</td>\n",
       "      <td>1433074</td>\n",
       "      <td>0</td>\n",
       "      <td>660</td>\n",
       "      <td>0</td>\n",
       "      <td>0</td>\n",
       "    </tr>\n",
       "    <tr>\n",
       "      <td>3</td>\n",
       "      <td>images/000/01/1104517.jpg</td>\n",
       "      <td>1000</td>\n",
       "      <td>1104517</td>\n",
       "      <td>0</td>\n",
       "      <td>680</td>\n",
       "      <td>1</td>\n",
       "      <td>0</td>\n",
       "    </tr>\n",
       "    <tr>\n",
       "      <td>4</td>\n",
       "      <td>images/000/01/1948744.jpg</td>\n",
       "      <td>1000</td>\n",
       "      <td>1948744</td>\n",
       "      <td>0</td>\n",
       "      <td>680</td>\n",
       "      <td>1</td>\n",
       "      <td>0</td>\n",
       "    </tr>\n",
       "    <tr>\n",
       "      <td>5</td>\n",
       "      <td>images/000/00/1360648.jpg</td>\n",
       "      <td>1000</td>\n",
       "      <td>1360648</td>\n",
       "      <td>0</td>\n",
       "      <td>704</td>\n",
       "      <td>0</td>\n",
       "      <td>0</td>\n",
       "    </tr>\n",
       "    <tr>\n",
       "      <td>6</td>\n",
       "      <td>images/000/01/928455.jpg</td>\n",
       "      <td>1000</td>\n",
       "      <td>928455</td>\n",
       "      <td>0</td>\n",
       "      <td>680</td>\n",
       "      <td>1</td>\n",
       "      <td>0</td>\n",
       "    </tr>\n",
       "    <tr>\n",
       "      <td>7</td>\n",
       "      <td>images/000/01/230965.jpg</td>\n",
       "      <td>1000</td>\n",
       "      <td>230965</td>\n",
       "      <td>0</td>\n",
       "      <td>680</td>\n",
       "      <td>1</td>\n",
       "      <td>0</td>\n",
       "    </tr>\n",
       "    <tr>\n",
       "      <td>8</td>\n",
       "      <td>images/000/00/1703060.jpg</td>\n",
       "      <td>1000</td>\n",
       "      <td>1703060</td>\n",
       "      <td>0</td>\n",
       "      <td>691</td>\n",
       "      <td>0</td>\n",
       "      <td>0</td>\n",
       "    </tr>\n",
       "    <tr>\n",
       "      <td>9</td>\n",
       "      <td>images/000/01/1486090.jpg</td>\n",
       "      <td>1000</td>\n",
       "      <td>1486090</td>\n",
       "      <td>0</td>\n",
       "      <td>680</td>\n",
       "      <td>1</td>\n",
       "      <td>0</td>\n",
       "    </tr>\n",
       "  </tbody>\n",
       "</table>\n",
       "</div>"
      ],
      "text/plain": [
       "                   file_name  height       id  license  width  category_id  \\\n",
       "0   images/000/01/404873.jpg    1000   404873        0    680            1   \n",
       "1  images/000/01/1515603.jpg    1000  1515603        0    680            1   \n",
       "2  images/000/00/1433074.jpg    1000  1433074        0    660            0   \n",
       "3  images/000/01/1104517.jpg    1000  1104517        0    680            1   \n",
       "4  images/000/01/1948744.jpg    1000  1948744        0    680            1   \n",
       "5  images/000/00/1360648.jpg    1000  1360648        0    704            0   \n",
       "6   images/000/01/928455.jpg    1000   928455        0    680            1   \n",
       "7   images/000/01/230965.jpg    1000   230965        0    680            1   \n",
       "8  images/000/00/1703060.jpg    1000  1703060        0    691            0   \n",
       "9  images/000/01/1486090.jpg    1000  1486090        0    680            1   \n",
       "\n",
       "   institution_id  \n",
       "0               0  \n",
       "1               0  \n",
       "2               0  \n",
       "3               0  \n",
       "4               0  \n",
       "5               0  \n",
       "6               0  \n",
       "7               0  \n",
       "8               0  \n",
       "9               0  "
      ]
     },
     "execution_count": 6,
     "metadata": {},
     "output_type": "execute_result"
    }
   ],
   "source": [
    "train_img = pd.DataFrame(train['images'])\n",
    "train_ann = pd.DataFrame(train['annotations']).drop(columns='image_id')\n",
    "train_df = train_img.merge(train_ann, on='id')\n",
    "train_df"
   ]
  },
  {
   "cell_type": "code",
   "execution_count": 7,
   "metadata": {},
   "outputs": [
    {
     "data": {
      "text/plain": [
       "2"
      ]
     },
     "execution_count": 7,
     "metadata": {},
     "output_type": "execute_result"
    }
   ],
   "source": [
    "NUM_CL = len(train_df['category_id'].value_counts())\n",
    "NUM_CL"
   ]
  },
  {
   "cell_type": "markdown",
   "metadata": {},
   "source": [
    "We can assign labels for training purpose as a category_id and assign it to Y_Train, similarly we will use file_name as X_train data as shown below:"
   ]
  },
  {
   "cell_type": "code",
   "execution_count": 8,
   "metadata": {},
   "outputs": [],
   "source": [
    "X_Train, Y_Train = train_df['file_name'].values, train_df['category_id'].values"
   ]
  },
  {
   "cell_type": "markdown",
   "metadata": {},
   "source": [
    "#### Transform"
   ]
  },
  {
   "cell_type": "markdown",
   "metadata": {},
   "source": [
    "We will transform the loaded images to Tensors of normalized range [-1, 1] as follows:."
   ]
  },
  {
   "cell_type": "code",
   "execution_count": 9,
   "metadata": {},
   "outputs": [],
   "source": [
    "Transform = transforms.Compose(\n",
    "    [transforms.RandomRotation(10),      # rotate +/- 10 degrees\n",
    "     transforms.RandomHorizontalFlip(),  # reverse 50% of images\n",
    "     transforms.Resize(224),             # resize shortest side to 224 pixels\n",
    "     transforms.CenterCrop(224),  \n",
    "     transforms.ToTensor(),\n",
    "     transforms.Normalize((0.5, 0.5, 0.5), (0.5, 0.5, 0.5))])"
   ]
  },
  {
   "cell_type": "markdown",
   "metadata": {},
   "source": [
    "First, we determine the transformations and put it into a list of brackets [] and pass it into the transforms.Compose() function. In the above code there are two transformations: \n",
    "\n",
    "ToTensor():\n",
    "It Converts the type images from the dataset made up of Python Imaging Library (PIL) images into tensors to be used with torch library\n",
    "\n",
    "Normalize(mean, std): \n",
    "Since the PIL images are RGB, which means they have three channels — red, green, and blue so we pass in 3 parameters for both the mean and standard deviation sequence"
   ]
  },
  {
   "cell_type": "code",
   "execution_count": 10,
   "metadata": {},
   "outputs": [],
   "source": [
    "\n",
    "class GetData(Dataset):\n",
    "    def __init__(self, Dir, FNames, Labels, Transform):\n",
    "        self.dir = Dir\n",
    "        self.fnames = FNames\n",
    "        self.transform = Transform\n",
    "        self.labels = Labels         \n",
    "\n",
    "    def __len__(self):\n",
    "        return len(self.fnames)\n",
    "\n",
    "    def __getitem__(self, index):       \n",
    "        x = Image.open(os.path.join(self.dir, self.fnames[index]))\n",
    "\n",
    "        if \"train\" in self.dir:             \n",
    "            return self.transform(x), self.labels[index]\n",
    "        elif \"test\" in self.dir:            \n",
    "            return self.transform(x), self.fnames[index]\n",
    " "
   ]
  },
  {
   "cell_type": "code",
   "execution_count": 11,
   "metadata": {},
   "outputs": [
    {
     "name": "stdout",
     "output_type": "stream",
     "text": [
      "<__main__.GetData object at 0x0000015A89FBED08>\n"
     ]
    }
   ],
   "source": [
    " \n",
    "trainset = GetData(train_images_dir, X_Train, Y_Train, Transform)\n",
    "trainloader = DataLoader(trainset, batch_size=BATCH, shuffle=True)\n",
    "print(trainset)\n",
    " "
   ]
  },
  {
   "cell_type": "markdown",
   "metadata": {},
   "source": [
    "We can show the training images as follows:"
   ]
  },
  {
   "cell_type": "code",
   "execution_count": 12,
   "metadata": {},
   "outputs": [
    {
     "data": {
      "image/png": "[encoded data removed]",
      "text/plain": [
       "<Figure size 432x288 with 1 Axes>"
      ]
     },
     "metadata": {
      "needs_background": "light"
     },
     "output_type": "display_data"
    }
   ],
   "source": [
    "def img_show(img):\n",
    "    img = img / 2 + 0.5     # unnormalize\n",
    "    npimg = img.numpy()\n",
    "    plt.imshow(np.transpose(npimg, (1, 2, 0)))\n",
    "    plt.show()\n",
    "\n",
    "\n",
    "# get some random training images\n",
    "d_img = iter(trainloader)\n",
    "images, labels = d_img.next()\n",
    "\n",
    "# show images\n",
    "#img_show(torchvision.utils.make_grid(images))\n",
    "img_show(torchvision.utils.make_grid(images))\n",
    " "
   ]
  },
  {
   "cell_type": "markdown",
   "metadata": {},
   "source": [
    "<a class=\"anchor\" id=\"training_classifiern\"></a>\n",
    "#### Training a classifier"
   ]
  },
  {
   "cell_type": "markdown",
   "metadata": {},
   "source": [
    "Training a image classifier involves the steps as follows:\n",
    "    \n",
    "1) Defining a model\n",
    "\n",
    "2) Defining a loss function\n",
    "\n",
    "3) Training the model on the training data"
   ]
  },
  {
   "cell_type": "code",
   "execution_count": 13,
   "metadata": {},
   "outputs": [],
   "source": [
    "# We can create a model as follow:\n",
    "\n",
    "model = torchvision.models.resnet34()\n",
    "model.fc = nn.Linear(512, NUM_CL, bias=True)\n",
    "model = model.to(DEVICE)\n",
    "\n",
    "# Defining a loss function\n",
    "criterion = nn.CrossEntropyLoss()\n",
    "optimizer = torch.optim.Adam(model.parameters(), lr=LR)"
   ]
  },
  {
   "cell_type": "code",
   "execution_count": 14,
   "metadata": {},
   "outputs": [
    {
     "name": "stdout",
     "output_type": "stream",
     "text": [
      "torch.Size([10, 3, 224, 224]) torch.Size([10])\n"
     ]
    }
   ],
   "source": [
    "examples = iter(trainloader)\n",
    "samples,labels = examples.next()\n",
    "print(samples.shape, labels.shape)"
   ]
  },
  {
   "cell_type": "code",
   "execution_count": 15,
   "metadata": {},
   "outputs": [
    {
     "name": "stdout",
     "output_type": "stream",
     "text": [
      "Epoch: 0 | Loss: 0.6627\n",
      "Epoch: 1 | Loss: 2.4377\n"
     ]
    }
   ],
   "source": [
    "# training loop\n",
    "\n",
    "for epoch in range(EPOCHS):\n",
    "    tr_loss = 0.0\n",
    "\n",
    "    model = model.train()\n",
    "\n",
    "    for i, (images, labels) in enumerate(trainloader):  \n",
    "    #for i, data in enumerate(trainloader, 0):\n",
    "        # get the inputs; data is a list of [inputs, labels]\n",
    "        #images, labels = data\n",
    "        #images = images.reshape(-1,224 * 224).to(DEVICE)\n",
    "        images = images.to(DEVICE)\n",
    "        labels = labels.to(DEVICE) \n",
    "        #forward pass\n",
    "        outputs = model(images.float())       \n",
    "        loss = criterion(outputs, labels)\n",
    "        #backward pass\n",
    "        optimizer.zero_grad()\n",
    "        loss.backward()\n",
    "        optimizer.step()\n",
    "\n",
    "        tr_loss += loss.detach().item()\n",
    "    \n",
    "    model.eval()\n",
    "    print('Epoch: %d | Loss: %.4f'%(epoch, tr_loss))"
   ]
  },
  {
   "cell_type": "markdown",
   "metadata": {},
   "source": [
    "In the forward pass, we can get the predicted output as a model(images). To compute the loss, we will use a criterion which takes the parameter as a predicted output and labels. In the backward pass, we will call optimizer.zero_grad() to empty the value in the gadient attribute. then we call the loss.backward() which will do a back propagation. We then call a optimizer.step() which will do the update step and updates the parameters for us."
   ]
  },
  {
   "cell_type": "markdown",
   "metadata": {},
   "source": [
    "<a class=\"anchor\" id='prediction'></a>\n",
    "#### Prediction\n",
    "\n"
   ]
  },
  {
   "cell_type": "markdown",
   "metadata": {},
   "source": [
    "Same data which is used for training purpose is used as a test data. We can use prediction function on images as follows:\n"
   ]
  },
  {
   "cell_type": "code",
   "execution_count": 16,
   "metadata": {},
   "outputs": [],
   "source": [
    "with open(train_images_dir + 'metadata.json', \"r\", encoding=\"ISO-8859-1\") as file:\n",
    "    test = json.load(file)"
   ]
  },
  {
   "cell_type": "code",
   "execution_count": 17,
   "metadata": {},
   "outputs": [
    {
     "data": {
      "text/html": [
       "<div>\n",
       "<style scoped>\n",
       "    .dataframe tbody tr th:only-of-type {\n",
       "        vertical-align: middle;\n",
       "    }\n",
       "\n",
       "    .dataframe tbody tr th {\n",
       "        vertical-align: top;\n",
       "    }\n",
       "\n",
       "    .dataframe thead th {\n",
       "        text-align: right;\n",
       "    }\n",
       "</style>\n",
       "<table border=\"1\" class=\"dataframe\">\n",
       "  <thead>\n",
       "    <tr style=\"text-align: right;\">\n",
       "      <th></th>\n",
       "      <th>file_name</th>\n",
       "      <th>height</th>\n",
       "      <th>id</th>\n",
       "      <th>license</th>\n",
       "      <th>width</th>\n",
       "    </tr>\n",
       "  </thead>\n",
       "  <tbody>\n",
       "    <tr>\n",
       "      <td>0</td>\n",
       "      <td>images/000/01/404873.jpg</td>\n",
       "      <td>1000</td>\n",
       "      <td>404873</td>\n",
       "      <td>0</td>\n",
       "      <td>680</td>\n",
       "    </tr>\n",
       "    <tr>\n",
       "      <td>1</td>\n",
       "      <td>images/000/01/1515603.jpg</td>\n",
       "      <td>1000</td>\n",
       "      <td>1515603</td>\n",
       "      <td>0</td>\n",
       "      <td>680</td>\n",
       "    </tr>\n",
       "    <tr>\n",
       "      <td>2</td>\n",
       "      <td>images/000/00/1433074.jpg</td>\n",
       "      <td>1000</td>\n",
       "      <td>1433074</td>\n",
       "      <td>0</td>\n",
       "      <td>660</td>\n",
       "    </tr>\n",
       "    <tr>\n",
       "      <td>3</td>\n",
       "      <td>images/000/01/1104517.jpg</td>\n",
       "      <td>1000</td>\n",
       "      <td>1104517</td>\n",
       "      <td>0</td>\n",
       "      <td>680</td>\n",
       "    </tr>\n",
       "    <tr>\n",
       "      <td>4</td>\n",
       "      <td>images/000/01/1948744.jpg</td>\n",
       "      <td>1000</td>\n",
       "      <td>1948744</td>\n",
       "      <td>0</td>\n",
       "      <td>680</td>\n",
       "    </tr>\n",
       "  </tbody>\n",
       "</table>\n",
       "</div>"
      ],
      "text/plain": [
       "                   file_name  height       id  license  width\n",
       "0   images/000/01/404873.jpg    1000   404873        0    680\n",
       "1  images/000/01/1515603.jpg    1000  1515603        0    680\n",
       "2  images/000/00/1433074.jpg    1000  1433074        0    660\n",
       "3  images/000/01/1104517.jpg    1000  1104517        0    680\n",
       "4  images/000/01/1948744.jpg    1000  1948744        0    680"
      ]
     },
     "execution_count": 17,
     "metadata": {},
     "output_type": "execute_result"
    }
   ],
   "source": [
    "test_df = pd.DataFrame(test['images'])\n",
    "#test_df = testdf[:5]\n",
    "#test_df = test_df\n",
    "test_df.head()\n"
   ]
  },
  {
   "cell_type": "code",
   "execution_count": 18,
   "metadata": {},
   "outputs": [],
   "source": [
    "X_Test = test_df['file_name'].values"
   ]
  },
  {
   "cell_type": "code",
   "execution_count": 19,
   "metadata": {},
   "outputs": [],
   "source": [
    "class GetData_test(Dataset):\n",
    "    def __init__(self, Dir, FNames, Transform):\n",
    "        self.dir = Dir\n",
    "        self.fnames = FNames\n",
    "        self.transform = Transform\n",
    "               \n",
    "\n",
    "    def __len__(self):\n",
    "        return len(self.fnames)\n",
    "\n",
    "    def __getitem__(self, index):       \n",
    "        x = Image.open(os.path.join(self.dir, self.fnames[index]))\n",
    "        \n",
    "        if \"train\" in self.dir:             \n",
    "            return self.transform(x), self.fnames[index]\n",
    "        elif \"test\" in self.dir:            \n",
    "            return self.transform(x), self.fnames[index]\n",
    " "
   ]
  },
  {
   "cell_type": "code",
   "execution_count": 20,
   "metadata": {},
   "outputs": [],
   "source": [
    "testset = GetData_test(train_images_dir, X_Test, Transform)\n",
    "testloader = DataLoader(testset, batch_size=1, shuffle=False)"
   ]
  },
  {
   "cell_type": "code",
   "execution_count": 21,
   "metadata": {},
   "outputs": [
    {
     "name": "stdout",
     "output_type": "stream",
     "text": [
      "[1, 1, 1, 1, 1, 1, 1, 1, 1, 1]\n"
     ]
    }
   ],
   "source": [
    "prediction = []\n",
    "with torch.no_grad():\n",
    "    model.eval()\n",
    "    for i, (img, fname) in enumerate(testloader):  \n",
    "        img = img.to(DEVICE)\n",
    "        output = model(img)\n",
    "        p = torch.exp(output)        \n",
    "        _, topClass = p.topk(1, dim=1)\n",
    "        \n",
    "        for pred in topClass:\n",
    "            prediction.append(pred.item())\n",
    "print(prediction)"
   ]
  },
  {
   "cell_type": "code",
   "execution_count": null,
   "metadata": {},
   "outputs": [],
   "source": []
  },
  {
   "cell_type": "markdown",
   "metadata": {},
   "source": [
    "<a class=\"anchor\" id=\"cnn\"></a>\n",
    "### Training a convolutional neural network"
   ]
  },
  {
   "cell_type": "markdown",
   "metadata": {},
   "source": [
    "#### Convolutional neural network (CNN)\n",
    "\n",
    "CNN is made up from neurons that have a learnabe weights and biases. It is mainly worked on a image data and apply the convolutional filters on image. In the CNN architecture we will first have a image, different convolutional layers, and optional activation functions followed by pooling layers. This layers are used to automatically learn some features from images and then at the end we have fully connected layers for the classification tasks. Convolutional filters works by applying filter kernel to our images, so we put a filter at the position of image then we compute the output value by multiplying and summing up all the values and then we write the value to output image. We can then slide the filter to the next position of image and repeat the same process. We have to slide the filter over whole image till we done. This is the working of CNN. \n",
    "\n",
    "##### Max pooling\n",
    "Max pooling is used to downsample an image by applying a maximum filter to subregions. If we have an filter of size 2 by 2, then we look at 2 by 2 subregion in our original image and we write the maximum value of this region into the output image. So max pooling is used to reduce the computational cost by reducing the size of the image. This reduces the number of parameters that model has to learn and it also helps to avoid overfitting by providing abstracted form of the input.\n",
    "\n",
    "We can define a convolutional neural network as follow:\n",
    "\n",
    "We can create a first convolutional layer with: self.conv1 = nn.Conv2d(3, 6, 5), where 3 is input channel size, 6 is output channel size, and 5 is kernel size. For MaxPool, we have kernel size as 2 and number of srides as 2. We can then define a second convolutional layer and fully connected layers."
   ]
  },
  {
   "cell_type": "markdown",
   "metadata": {},
   "source": [
    "<a class=\"anchor\" id=\"define_cnn\"></a>\n",
    "#### Defining a Convolutional Neural Network\n",
    "\n",
    "Following code defines the architecture of the CNN."
   ]
  },
  {
   "cell_type": "code",
   "execution_count": 22,
   "metadata": {},
   "outputs": [],
   "source": [
    "import torch.nn as nn\n",
    "import torch.nn.functional as F\n",
    "\n",
    "\n",
    "class Net(nn.Module):\n",
    "    def __init__(self):\n",
    "        super().__init__()\n",
    "        self.conv1 = nn.Conv2d(3, 6, 5)\n",
    "        self.pool = nn.MaxPool2d(2, 2)\n",
    "        self.conv2 = nn.Conv2d(6, 16, 5)\n",
    "        #fully connected layers\n",
    "        # 16 * 53 * 53\n",
    "        self.fc1 = nn.Linear(44944, 120)\n",
    "        self.fc2 = nn.Linear(120, 84)\n",
    "        self.fc3 = nn.Linear(84, 10)\n",
    "        \n",
    "    def forward(self, x):\n",
    "        #x = self.pool(F.relu(self.conv1(x)))\n",
    "        #x = self.pool(F.relu(self.conv2(x)))\n",
    "        x = F.max_pool2d(F.relu(self.conv1(x)),(2,2))\n",
    "        x = F.max_pool2d(F.relu(self.conv2(x)),2)\n",
    "        print(x.shape)\n",
    "        x = x.view(-1, 44944)\n",
    "        x = F.relu(self.fc1(x))\n",
    "        x = F.relu(self.fc2(x))\n",
    "        x = self.fc3(x)\n",
    "        return x\n",
    "\n",
    "\n",
    "net = Net()"
   ]
  },
  {
   "cell_type": "markdown",
   "metadata": {},
   "source": [
    "In this code for our forward function, we used the view function. View is used to reshape tensors. The reason of using view is that we need to flatten the output from our conv layer and give it to our fully connected layers."
   ]
  },
  {
   "cell_type": "markdown",
   "metadata": {},
   "source": [
    "<a class=\"anchor\" id=\"loss_function\"></a>\n",
    "#### Defining a Loss function and optimizer\n",
    "\n",
    "We can use a Classification Cross-Entropy loss and SGD with momentum as follows:\n",
    "\n"
   ]
  },
  {
   "cell_type": "code",
   "execution_count": 23,
   "metadata": {},
   "outputs": [],
   "source": [
    "import torch.optim as optim\n",
    "criterion = nn.CrossEntropyLoss()\n",
    "optimizer = optim.SGD(net.parameters(), lr=0.001, momentum=0.9)"
   ]
  },
  {
   "cell_type": "raw",
   "metadata": {},
   "source": [
    "We construct an optimizer object that holds the current state of the object, it then updates the parameters based on the computed gradients. This cycle happens till the training ends. It’s basically a fundamental tool for the network to “learn” and update its weights from backpropagation.\n",
    "\n",
    "optim.SGD → Implements stochastic gradient descent\n",
    "net.parameters() → gets the learnable parameters of the CNN\n",
    "lr → learning rate of the gradient descent which tells how big of a steps are taken\n",
    "momentum → momentum helps accelerate gradient vectors in the right directions"
   ]
  },
  {
   "cell_type": "markdown",
   "metadata": {},
   "source": [
    "<a class=\"anchor\" id=\"train_network\"></a>\n",
    "#### Train network\n",
    "\n",
    "\n",
    "For training a network, we simply have to loop over our data iterator, and feed the inputs to the network and optimize."
   ]
  },
  {
   "cell_type": "code",
   "execution_count": 24,
   "metadata": {},
   "outputs": [
    {
     "name": "stdout",
     "output_type": "stream",
     "text": [
      "torch.Size([10, 16, 53, 53])\n",
      "Epoch: 0 | Minibatch: 0 | Loss: 2.2283\n",
      "torch.Size([10, 16, 53, 53])\n",
      "Epoch: 1 | Minibatch: 0 | Loss: 2.2106\n",
      "Finished Training\n"
     ]
    }
   ],
   "source": [
    "# train the network\n",
    "\n",
    "for epoch in range(2):  # loop over the dataset multiple times\n",
    "\n",
    "    running_loss = 0.0\n",
    "    for i, data in enumerate(trainloader, 0):\n",
    "        # get the inputs; data is a list of [inputs, labels]\n",
    "        inputs, labels = data\n",
    "\n",
    "        # zero the parameter gradients\n",
    "        optimizer.zero_grad()\n",
    "\n",
    "        # forward + backward + optimize\n",
    "        outputs = net(inputs)\n",
    "        loss = criterion(outputs, labels)\n",
    "        loss.backward()\n",
    "        optimizer.step()\n",
    "\n",
    "        # print statistics\n",
    "        running_loss += loss.detach().item()\n",
    "        print('Epoch: %d | Minibatch: %d | Loss: %.4f'%(epoch,i, running_loss))\n",
    "         \n",
    "\n",
    "print('Finished Training')"
   ]
  },
  {
   "cell_type": "raw",
   "metadata": {},
   "source": [
    "Different sections of above code is as follows:\n",
    "\n",
    "for epoch in range(2) \n",
    "with this we loop over the entire train set 2 times:  setting too many epochs will lead to overfitting, because the network has been learning from the training data for too long: \n",
    "\n",
    "for i, data in enumerate(trainloader, 0):  \n",
    "It Creates for loop to enumerate over the batches from trainloader starting from index = 0, where i is the batch no. and data is a list of [inputs, labels]\n",
    "\n",
    "\n",
    "optimizer.zero_grad()\n",
    "Zero the parameter gradients.\n",
    "It’s a crucial step to zero out the gradients or else all the gradients from multiple passes will accumulated\n",
    "\n",
    "outputs = net(inputs)\n",
    "Pass the inputs into our neural network\n",
    "\n",
    "loss = criterion(outputs, labels)\n",
    "Criterion is our CrossEntropyLoss function, so with this we can pass our ouputs from the network into a log softmax function and negative log likelihood. All this allows us to get the prediction error of our network.\n",
    "\n",
    "loss.backward()\n",
    "'backward' is PyTorch’s way to perform backpropagation by computing the gradient based on the loss.\n",
    "\n",
    "optimzer.step()\n",
    "After computing gradient using backward(), we can call the optimizer step function, which iterates over all the parameters and update their values."
   ]
  },
  {
   "cell_type": "markdown",
   "metadata": {},
   "source": [
    "<a class=\"anchor\" id=\"predictionn\"></a>\n",
    "#### Prediction"
   ]
  },
  {
   "cell_type": "code",
   "execution_count": 25,
   "metadata": {},
   "outputs": [
    {
     "data": {
      "image/png": "[encoded data removed]",
      "text/plain": [
       "<Figure size 432x288 with 1 Axes>"
      ]
     },
     "metadata": {
      "needs_background": "light"
     },
     "output_type": "display_data"
    },
    {
     "name": "stdout",
     "output_type": "stream",
     "text": [
      "GroundTruth:  i m a g e s / 0 0 0 / 0 1 / 4 0 4 8 7 3 . j p g\n"
     ]
    }
   ],
   "source": [
    "dataiter = iter(testloader)\n",
    "images, labels = dataiter.next()\n",
    " \n",
    "# print images\n",
    "img_show(torchvision.utils.make_grid(images))\n",
    "print('GroundTruth: ', ' '.join('%5s' % labels))"
   ]
  },
  {
   "cell_type": "code",
   "execution_count": 26,
   "metadata": {},
   "outputs": [
    {
     "name": "stdout",
     "output_type": "stream",
     "text": [
      "torch.Size([1, 16, 53, 53])\n"
     ]
    }
   ],
   "source": [
    "outputs = net(images)"
   ]
  },
  {
   "cell_type": "code",
   "execution_count": 27,
   "metadata": {},
   "outputs": [
    {
     "name": "stdout",
     "output_type": "stream",
     "text": [
      "torch.return_types.max(\n",
      "values=tensor([0.1219], grad_fn=<MaxBackward0>),\n",
      "indices=tensor([0]))\n"
     ]
    }
   ],
   "source": [
    "predicted = torch.max(outputs, 1)\n",
    "print(predicted) \n",
    "#print('Predicted: ', ' '.join('%5s' % predicted))"
   ]
  },
  {
   "cell_type": "code",
   "execution_count": 28,
   "metadata": {},
   "outputs": [
    {
     "name": "stdout",
     "output_type": "stream",
     "text": [
      "('images/000/01/404873.jpg',)\n"
     ]
    }
   ],
   "source": [
    "print(labels)"
   ]
  },
  {
   "cell_type": "code",
   "execution_count": 29,
   "metadata": {},
   "outputs": [
    {
     "name": "stdout",
     "output_type": "stream",
     "text": [
      "torch.Size([1, 16, 53, 53])\n",
      "torch.Size([1, 16, 53, 53])\n",
      "torch.Size([1, 16, 53, 53])\n",
      "torch.Size([1, 16, 53, 53])\n",
      "torch.Size([1, 16, 53, 53])\n",
      "torch.Size([1, 16, 53, 53])\n",
      "torch.Size([1, 16, 53, 53])\n",
      "torch.Size([1, 16, 53, 53])\n",
      "torch.Size([1, 16, 53, 53])\n",
      "torch.Size([1, 16, 53, 53])\n"
     ]
    }
   ],
   "source": [
    "correct = 0\n",
    "total = 0\n",
    "with torch.no_grad():\n",
    "    for data in testloader:\n",
    "        images, labels = data\n",
    "        outputs = net(images)\n",
    "        _, predicted = torch.max(outputs.data, 1)\n",
    "        \n",
    "        \n",
    "        #total += labels.size()\n",
    "        #correct += (predicted == labels).sum().item()\n",
    "#print('Accuracy of the network on the 10000 test images: %d %%' % (\n",
    "#100 * correct / total))"
   ]
  },
  {
   "cell_type": "code",
   "execution_count": 30,
   "metadata": {},
   "outputs": [
    {
     "name": "stdout",
     "output_type": "stream",
     "text": [
      "[1, 1, 1, 1, 1, 1, 1, 1, 1, 1]\n"
     ]
    }
   ],
   "source": [
    "prediction = []\n",
    "with torch.no_grad():\n",
    "    model.eval()\n",
    "    for i, (img, fname) in enumerate(testloader):  \n",
    "        img = img.to(DEVICE)\n",
    "        output = model(img)\n",
    "        p = torch.exp(output)        \n",
    "        _, topClass = p.topk(1, dim=1)\n",
    "        \n",
    "        for pred in topClass:\n",
    "            prediction.append(pred.item())\n",
    "print(prediction)"
   ]
  },
  {
   "cell_type": "markdown",
   "metadata": {},
   "source": [
    "<a class=\"anchor\" id=\"mpi\"></a>\n",
    "#### Training of PyTorch network over MPI"
   ]
  },
  {
   "cell_type": "code",
   "execution_count": 31,
   "metadata": {},
   "outputs": [
    {
     "name": "stdout",
     "output_type": "stream",
     "text": [
      "torch.Size([10, 16, 53, 53])\n"
     ]
    }
   ],
   "source": [
    "comm = MPI.COMM_WORLD\n",
    "rank = comm.Get_rank()\n",
    "size = comm.Get_size() # number workers\n",
    "\n",
    "filenames_to_scatter = None\n",
    "\n",
    "if rank == 0:\n",
    "     \n",
    "     \n",
    "    # Spliting them among <size> workers (node 0 included)\n",
    "    elements_per_worker = len(all_filenames) // size\n",
    "    filenames_to_scatter = []\n",
    "    \n",
    "    for i in range(size):\n",
    "        fr = i * elements_per_worker\n",
    "        to = fr + elements_per_worker\n",
    "        \n",
    "        if i == size-1:\n",
    "            # The last worker may have more images to process if <size> does not divide len(all_filenames)\n",
    "            to = len(all_filenames)\n",
    "        \n",
    "        filenames_to_scatter.append(all_filenames[fr:to])\n",
    "        \n",
    "my_filenames = comm.scatter(filenames_to_scatter, root=0)\n",
    "\n",
    "for t in range(EPOCHS):\n",
    "                #model = MNISTNetwork()\n",
    "         \n",
    "        for i, filename in enumerate(my_filenames):\n",
    "            image = PIL.Image.open(train_images_dir + filename)        # Open the image\n",
    "            image = image.resize((500, 500))                  # Resize the image to 500x500 pixels to be faster\n",
    "            image = np.array(image)                           # Cast to a height,width,3 numpy array of uint8 values\n",
    "\n",
    "\n",
    "        model = Net()\n",
    "        \n",
    "loss_fn = nn.CrossEntropyLoss()\n",
    "opt = torch.optim.SGD(model.parameters(),lr=LR)\n",
    "for k, (x, y) in enumerate(trainloader):\n",
    "    opt.zero_grad()\n",
    "    loss_fn(model(x), y).backward()\n",
    "    opt.step()\n",
    "m=comm.gather(model.state_dict(), root=0)\n",
    "\n",
    "#if rank == 0:\n",
    "    #print(m)\n"
   ]
  },
  {
   "cell_type": "raw",
   "metadata": {},
   "source": [
    "In this code,\n",
    "Node 0 scatters images\n",
    "Every node processes their slice of images\n",
    "Node 0 gathers the slices of results\n",
    "\n",
    "Node 0 loads the dataset and gets the list of all images in it. Here the variable filenames_to_scatter is created for storing this list.  With the command: filenames_to_scatter.append(all_filenames[fr:to]), the list of different portions is created. So here we have list of list of filenames. Ex. if there are 4 workers, this filenames_to_scatter is list of 4 elements and each element is list of filenames. We can give this list to scatter using comm.scatter(filenames_to_scatter, root=0). \n",
    "\n",
    "The line 'my_filenames = comm.scatter(filenames_to_scatter, root=0)' states that process 0 has the filenames_to_scatter dataset to scatter piece of data among the worker nodes. All the other processes will receive a piece of dataset and it will going to process that respective partition of data. Each process will execute the whole block of code like open the image, resize the image, cast to numpy array which is the processing of images. With the command image = PIL.Image.open(train_images_dir + filename), loading of image and making it PIL image object is done. Then we can resize it and cast to numpy array.\n",
    "After processing of data by each process, it has to return data to main process generally to the process with id=0. This main process will do a final processing on whole thing. This gather process is performed by the line: comm.gather(model.state_dict(), root=0) in above code. In this case model is trained by every processes, and processes also performed the loss function calculation and back propagation in the network. Node 0 gathers the stat_dict() of model. A state_dict is a Python dictionary object that maps each layer to its parameter tensor and it is useful for saving or loading models from PyTorch. convolutional layers has a learnable parameters and it has entries in the model’s state_dict. \n",
    "\n"
   ]
  },
  {
   "cell_type": "raw",
   "metadata": {},
   "source": [
    "filenames can be scattered by the root node. Above script will be executed using anaconda prompt using the command: mpiexec -n 4 python -m mpi4py scalable_analytics1.py and the output is as follows:\n",
    "\n",
    "C:\\Users\\kaila\\Anaconda3\\lib\\site-packages\\torch\\cuda\\__init__.py:52: UserWarning: CUDA initialization: Found no NVIDIA driver on your system. Please check that you have an NVIDIA GPU and installed a driver from http://www.nvidia.com/Download/index.aspx (Triggered internally at  ..\\c10\\cuda\\CUDAFunctions.cpp:100.)\n",
    "  return torch._C._cuda_getDeviceCount() > 0\n",
    "train dict dict_keys(['annotations', 'categories', 'images', 'info', 'licenses', 'institutions'])\n",
    "Epoch: 0 | Minibatch: 0 | Loss: 0.7030\n",
    "Epoch: 1 | Minibatch: 0 | Loss: 2.9498\n",
    "torch.Size([10, 16, 53, 53])\n",
    "Epoch: 0 | Minibatch: 0 | Loss: 2.3165\n",
    "torch.Size([10, 16, 53, 53])\n",
    "Epoch: 1 | Minibatch: 0 | Loss: 2.3025\n",
    "Finished Training\n",
    "I am Node 1 and I got 2 images to process\n",
    "I am Node 1 and I have opened all my images\n",
    "I am Node 1 and I have opened all my images\n",
    "torch.Size([10, 16, 53, 53])\n",
    "\n",
    "C:\\Users\\kaila\\Anaconda3\\lib\\site-packages\\torch\\cuda\\__init__.py:52: UserWarning: CUDA initialization: Found no NVIDIA driver on your system. Please check that you have an NVIDIA GPU and installed a driver from http://www.nvidia.com/Download/index.aspx (Triggered internally at  ..\\c10\\cuda\\CUDAFunctions.cpp:100.)\n",
    "  return torch._C._cuda_getDeviceCount() > 0\n",
    "train dict dict_keys(['annotations', 'categories', 'images', 'info', 'licenses', 'institutions'])\n",
    "Epoch: 0 | Minibatch: 0 | Loss: 0.7697\n",
    "Epoch: 1 | Minibatch: 0 | Loss: 1.4600\n",
    "torch.Size([10, 16, 53, 53])\n",
    "Epoch: 0 | Minibatch: 0 | Loss: 2.2879\n",
    "torch.Size([10, 16, 53, 53])\n",
    "Epoch: 1 | Minibatch: 0 | Loss: 2.2336\n",
    "Finished Training\n",
    "I am Node 2 and I got 2 images to process\n",
    "I am Node 2 and I have opened all my images\n",
    "I am Node 2 and I have opened all my images\n",
    "torch.Size([10, 16, 53, 53])\n",
    "\n",
    "C:\\Users\\kaila\\Anaconda3\\lib\\site-packages\\torch\\cuda\\__init__.py:52: UserWarning: CUDA initialization: Found no NVIDIA driver on your system. Please check that you have an NVIDIA GPU and installed a driver from http://www.nvidia.com/Download/index.aspx (Triggered internally at  ..\\c10\\cuda\\CUDAFunctions.cpp:100.)\n",
    "  return torch._C._cuda_getDeviceCount() > 0\n",
    "train dict dict_keys(['annotations', 'categories', 'images', 'info', 'licenses', 'institutions'])\n",
    "Epoch: 0 | Minibatch: 0 | Loss: 0.7146\n",
    "Epoch: 1 | Minibatch: 0 | Loss: 2.6201\n",
    "torch.Size([10, 16, 53, 53])\n",
    "Epoch: 0 | Minibatch: 0 | Loss: 2.2158\n",
    "torch.Size([10, 16, 53, 53])\n",
    "Epoch: 1 | Minibatch: 0 | Loss: 2.1646\n",
    "Finished Training\n",
    "I am Node 3 and I got 4 images to process\n",
    "I am Node 3 and I have opened all my images\n",
    "I am Node 3 and I have opened all my images\n",
    "torch.Size([10, 16, 53, 53])\n",
    "\n",
    "C:\\Users\\kaila\\Anaconda3\\lib\\site-packages\\torch\\cuda\\__init__.py:52: UserWarning: CUDA initialization: Found no NVIDIA driver on your system. Please check that you have an NVIDIA GPU and installed a driver from http://www.nvidia.com/Download/index.aspx (Triggered internally at  ..\\c10\\cuda\\CUDAFunctions.cpp:100.)\n",
    "  return torch._C._cuda_getDeviceCount() > 0\n",
    "train dict dict_keys(['annotations', 'categories', 'images', 'info', 'licenses', 'institutions'])\n",
    "Epoch: 0 | Minibatch: 0 | Loss: 0.6902\n",
    "Epoch: 1 | Minibatch: 0 | Loss: 5.7045\n",
    "torch.Size([10, 16, 53, 53])\n",
    "Epoch: 0 | Minibatch: 0 | Loss: 2.3106\n",
    "torch.Size([10, 16, 53, 53])\n",
    "Epoch: 1 | Minibatch: 0 | Loss: 2.2368\n",
    "Finished Training\n",
    "I am Node 0 and I got 2 images to process\n",
    "I am Node 0 and I have opened all my images\n",
    "I am Node 0 and I have opened all my images\n",
    "torch.Size([10, 16, 53, 53])"
   ]
  },
  {
   "cell_type": "markdown",
   "metadata": {},
   "source": []
  },
  {
   "cell_type": "markdown",
   "metadata": {},
   "source": [
    "<a class=\"anchor\" id=\"pipeline\"></a>\n",
    "#### Implementing a pipelined prediction"
   ]
  },
  {
   "cell_type": "code",
   "execution_count": 32,
   "metadata": {},
   "outputs": [
    {
     "name": "stdout",
     "output_type": "stream",
     "text": [
      "[ - - - Epoch 0 - - - ]\n",
      "* Waiting for 0 training processes to finish...\n",
      "* Averaging models...\n"
     ]
    },
    {
     "ename": "IndexError",
     "evalue": "list index out of range",
     "output_type": "error",
     "traceback": [
      "\u001b[1;31m---------------------------------------------------------------------------\u001b[0m",
      "\u001b[1;31mIndexError\u001b[0m                                Traceback (most recent call last)",
      "\u001b[1;32m<ipython-input-32-f0978be6d8e5>\u001b[0m in \u001b[0;36m<module>\u001b[1;34m\u001b[0m\n\u001b[0;32m     49\u001b[0m         \u001b[0mprint\u001b[0m\u001b[1;33m(\u001b[0m\u001b[1;34m\"[ - - - Epoch {} - - - ]\"\u001b[0m\u001b[1;33m.\u001b[0m\u001b[0mformat\u001b[0m\u001b[1;33m(\u001b[0m\u001b[0mt\u001b[0m\u001b[1;33m)\u001b[0m\u001b[1;33m)\u001b[0m\u001b[1;33m\u001b[0m\u001b[1;33m\u001b[0m\u001b[0m\n\u001b[0;32m     50\u001b[0m         \u001b[1;33m[\u001b[0m\u001b[0mcomm\u001b[0m\u001b[1;33m.\u001b[0m\u001b[0msend\u001b[0m\u001b[1;33m(\u001b[0m\u001b[0mmodel\u001b[0m\u001b[1;33m.\u001b[0m\u001b[0mstate_dict\u001b[0m\u001b[1;33m(\u001b[0m\u001b[1;33m)\u001b[0m\u001b[1;33m,\u001b[0m \u001b[0mk\u001b[0m\u001b[1;33m)\u001b[0m \u001b[1;32mfor\u001b[0m \u001b[0mk\u001b[0m \u001b[1;32min\u001b[0m \u001b[0mrange\u001b[0m\u001b[1;33m(\u001b[0m\u001b[1;36m1\u001b[0m\u001b[1;33m,\u001b[0m\u001b[0msize\u001b[0m\u001b[1;33m)\u001b[0m\u001b[1;33m]\u001b[0m\u001b[1;33m\u001b[0m\u001b[1;33m\u001b[0m\u001b[0m\n\u001b[1;32m---> 51\u001b[1;33m         \u001b[0mmaster_process\u001b[0m\u001b[1;33m(\u001b[0m\u001b[0mmodel\u001b[0m\u001b[1;33m,\u001b[0m \u001b[0mcomm\u001b[0m\u001b[1;33m,\u001b[0m \u001b[0mrank\u001b[0m\u001b[1;33m,\u001b[0m \u001b[0msize\u001b[0m\u001b[1;33m)\u001b[0m\u001b[1;33m\u001b[0m\u001b[1;33m\u001b[0m\u001b[0m\n\u001b[0m\u001b[0;32m     52\u001b[0m \u001b[1;32melse\u001b[0m\u001b[1;33m:\u001b[0m\u001b[1;33m\u001b[0m\u001b[1;33m\u001b[0m\u001b[0m\n\u001b[0;32m     53\u001b[0m     \u001b[1;32mfor\u001b[0m \u001b[0mt\u001b[0m \u001b[1;32min\u001b[0m \u001b[0mrange\u001b[0m\u001b[1;33m(\u001b[0m\u001b[0mEPOCHS\u001b[0m\u001b[1;33m)\u001b[0m\u001b[1;33m:\u001b[0m\u001b[1;33m\u001b[0m\u001b[1;33m\u001b[0m\u001b[0m\n",
      "\u001b[1;32m<ipython-input-32-f0978be6d8e5>\u001b[0m in \u001b[0;36mmaster_process\u001b[1;34m(model, comm, rank, size)\u001b[0m\n\u001b[0;32m     22\u001b[0m     \u001b[0mprint\u001b[0m\u001b[1;33m(\u001b[0m\u001b[1;34m\"* Averaging models...\"\u001b[0m\u001b[1;33m)\u001b[0m\u001b[1;33m\u001b[0m\u001b[1;33m\u001b[0m\u001b[0m\n\u001b[0;32m     23\u001b[0m     \u001b[0mavg_state_dict\u001b[0m \u001b[1;33m=\u001b[0m \u001b[0mOrderedDict\u001b[0m\u001b[1;33m(\u001b[0m\u001b[1;33m)\u001b[0m\u001b[1;33m\u001b[0m\u001b[1;33m\u001b[0m\u001b[0m\n\u001b[1;32m---> 24\u001b[1;33m     \u001b[1;32mfor\u001b[0m \u001b[0mkey\u001b[0m \u001b[1;32min\u001b[0m \u001b[0mstate_dicts\u001b[0m\u001b[1;33m[\u001b[0m\u001b[1;36m0\u001b[0m\u001b[1;33m]\u001b[0m\u001b[1;33m.\u001b[0m\u001b[0mkeys\u001b[0m\u001b[1;33m(\u001b[0m\u001b[1;33m)\u001b[0m\u001b[1;33m:\u001b[0m\u001b[1;33m\u001b[0m\u001b[1;33m\u001b[0m\u001b[0m\n\u001b[0m\u001b[0;32m     25\u001b[0m         \u001b[0mavg_state_dict\u001b[0m\u001b[1;33m[\u001b[0m\u001b[0mkey\u001b[0m\u001b[1;33m]\u001b[0m \u001b[1;33m=\u001b[0m \u001b[0msum\u001b[0m\u001b[1;33m(\u001b[0m\u001b[1;33m[\u001b[0m\u001b[0msd\u001b[0m\u001b[1;33m[\u001b[0m\u001b[0mkey\u001b[0m\u001b[1;33m]\u001b[0m \u001b[1;32mfor\u001b[0m \u001b[0msd\u001b[0m \u001b[1;32min\u001b[0m \u001b[0mstate_dicts\u001b[0m\u001b[1;33m]\u001b[0m\u001b[1;33m)\u001b[0m \u001b[1;33m/\u001b[0m \u001b[0mfloat\u001b[0m\u001b[1;33m(\u001b[0m\u001b[0msize\u001b[0m\u001b[1;33m-\u001b[0m\u001b[1;36m1\u001b[0m\u001b[1;33m)\u001b[0m\u001b[1;33m\u001b[0m\u001b[1;33m\u001b[0m\u001b[0m\n\u001b[0;32m     26\u001b[0m     \u001b[0mmodel\u001b[0m\u001b[1;33m.\u001b[0m\u001b[0mload_state_dict\u001b[0m\u001b[1;33m(\u001b[0m\u001b[0mavg_state_dict\u001b[0m\u001b[1;33m)\u001b[0m\u001b[1;33m\u001b[0m\u001b[1;33m\u001b[0m\u001b[0m\n",
      "\u001b[1;31mIndexError\u001b[0m: list index out of range"
     ]
    }
   ],
   "source": [
    "\n",
    "def worker_process(model, comm, rank, size):\n",
    "    \"\"\"Define the training process for a single epoch.\"\"\"\n",
    "    loss_fn = nn.CrossEntropyLoss()\n",
    "    opt = torch.optim.SGD(model.parameters(), lr=LR)\n",
    "    for k, (xs, ys) in enumerate(trainloader):\n",
    "        opt.zero_grad()\n",
    "        loss_fn(model(xs), ys).backward()\n",
    "        opt.step()\n",
    "    comm.send(model.state_dict(), 0)\n",
    "\n",
    "\n",
    "def master_process(model, comm, rank, size):\n",
    "    \"\"\"Wait until all state-dicts received; then average results and perform validation.\"\"\"\n",
    "    #wait for all worker processes to return a state dict\n",
    "     \n",
    "    print(\"* Waiting for {0} training processes to finish...\".format(size-1))\n",
    "    state_dicts = []\n",
    "    for p in range(size-1):\n",
    "        state_dicts.append(comm.recv())\n",
    "        print(\"(Received a trained model from process {0} of {1} workers)\".format(p+1, size-1))\n",
    "     \n",
    "    print(\"* Averaging models...\")\n",
    "    avg_state_dict = OrderedDict()\n",
    "    for key in state_dicts[0].keys():\n",
    "        avg_state_dict[key] = sum([sd[key] for sd in state_dicts]) / float(size-1)\n",
    "    model.load_state_dict(avg_state_dict)\n",
    "    model.eval()\n",
    "    with torch.no_grad():\n",
    "        validation_losses = []\n",
    "        validation_loader = DataLoader(trainset, batch_size=BATCH, shuffle=True)\n",
    "        loss_fn = nn.CrossEntropyLoss()\n",
    "        for x, y in validation_loader:\n",
    "            validation_losses.append(loss_fn(model(x), y).item())\n",
    "        print(\"* Mean validation loss of averaged model: {}\".format(np.mean(validation_losses)))\n",
    "\n",
    "\n",
    "\n",
    "\"\"\"a distributed training job.\"\"\"\n",
    "\n",
    "comm = MPI.COMM_WORLD\n",
    "rank = comm.Get_rank()\n",
    "size = comm.Get_size()\n",
    "torch.manual_seed(rank)\n",
    "if rank == 0:\n",
    "    # build a model\n",
    "    model=Net()\n",
    "    # loop over some number of epochs:\n",
    "    for t in range(EPOCHS):\n",
    "        print(\"[ - - - Epoch {} - - - ]\".format(t))\n",
    "        [comm.send(model.state_dict(), k) for k in range(1,size)]\n",
    "        master_process(model, comm, rank, size)\n",
    "else:\n",
    "    for t in range(EPOCHS):\n",
    "        model = Net()\n",
    "        model.load_state_dict(comm.recv())\n",
    "        worker_process(model, comm, rank, size)"
   ]
  },
  {
   "cell_type": "markdown",
   "metadata": {},
   "source": [
    "In above code, master-worker architecture and worker is used. Each worker trains a copy of a convolutional neural network model over an epoch through the training set, and sends the trained model's state dict back to the master server. Master server then averages the weights together and then runs a validation loop. This is considered to be one distributed epoch. \n",
    "\n"
   ]
  },
  {
   "cell_type": "raw",
   "metadata": {},
   "source": [
    "Above script is executed using the anaconda prompt using the command 'mpiexec -n 2 python -m mpi4py scalable_analytics2.py' and it give below output:\n",
    "\n",
    "C:\\Users\\kaila\\Anaconda3\\lib\\site-packages\\torch\\cuda\\__init__.py:52: UserWarning: CUDA initialization: Found no NVIDIA driver on your system. Please check that you have an NVIDIA GPU and installed a driver from http://www.nvidia.com/Download/index.aspx (Triggered internally at  ..\\c10\\cuda\\CUDAFunctions.cpp:100.)\n",
    "  return torch._C._cuda_getDeviceCount() > 0\n",
    "train dict dict_keys(['annotations', 'categories', 'images', 'info', 'licenses', 'institutions'])\n",
    "Epoch: 0 | Minibatch: 0 | Loss: 1.1159\n",
    "Epoch: 1 | Minibatch: 0 | Loss: 2.8752\n",
    "torch.Size([10, 16, 53, 53])\n",
    "Epoch: 0 | Minibatch: 0 | Loss: 2.3227\n",
    "torch.Size([10, 16, 53, 53])\n",
    "Epoch: 1 | Minibatch: 0 | Loss: 2.2191\n",
    "Finished Training\n",
    "torch.Size([10, 16, 53, 53])\n",
    "torch.Size([10, 16, 53, 53])\n",
    "\n",
    "C:\\Users\\kaila\\Anaconda3\\lib\\site-packages\\torch\\cuda\\__init__.py:52: UserWarning: CUDA initialization: Found no NVIDIA driver on your system. Please check that you have an NVIDIA GPU and installed a driver from http://www.nvidia.com/Download/index.aspx (Triggered internally at  ..\\c10\\cuda\\CUDAFunctions.cpp:100.)\n",
    "  return torch._C._cuda_getDeviceCount() > 0\n",
    "train dict dict_keys(['annotations', 'categories', 'images', 'info', 'licenses', 'institutions'])\n",
    "Epoch: 0 | Minibatch: 0 | Loss: 0.6101\n",
    "Epoch: 1 | Minibatch: 0 | Loss: 8.8618\n",
    "torch.Size([10, 16, 53, 53])\n",
    "Epoch: 0 | Minibatch: 0 | Loss: 2.2797\n",
    "torch.Size([10, 16, 53, 53])\n",
    "Epoch: 1 | Minibatch: 0 | Loss: 2.2571\n",
    "Finished Training\n",
    "[ - - - Epoch 0 - - - ]\n",
    "* Waiting for 1 training processes to finish...\n",
    "(Received a trained model from process 1 of 1 workers)\n",
    "* Averaging models...\n",
    "torch.Size([10, 16, 53, 53])\n",
    "* Mean validation loss of averaged model: 2.1998627185821533\n",
    "[ - - - Epoch 1 - - - ]\n",
    "* Waiting for 1 training processes to finish...\n",
    "(Received a trained model from process 1 of 1 workers)\n",
    "* Averaging models...\n",
    "torch.Size([10, 16, 53, 53])\n",
    "* Mean validation loss of averaged model: 2.071991443634033\n"
   ]
  },
  {
   "cell_type": "markdown",
   "metadata": {},
   "source": [
    "<a class=\"anchor\" id=\"pipeline1\"></a>\n",
    "#### Pipelined prdiction: "
   ]
  },
  {
   "cell_type": "markdown",
   "metadata": {},
   "source": [
    "Below code performs pipelined prediction is such a way that node 0 loads all images and produce pillow images. node 1 resize them and transform them into NumPy arrays. node 2 will be used for prdiction."
   ]
  },
  {
   "cell_type": "code",
   "execution_count": 33,
   "metadata": {},
   "outputs": [
    {
     "name": "stdout",
     "output_type": "stream",
     "text": [
      "Node 0 sends images/000/01/404873.jpg\n"
     ]
    },
    {
     "ename": "Exception",
     "evalue": "Invalid rank, error stack:\nMPI_Send(buf=0x0000015A8E8AE060, count=2040212, MPI_BYTE, dest=1, tag=0, MPI_COMM_WORLD) failed\nInvalid rank has value 1 but must be nonnegative and less than 1",
     "output_type": "error",
     "traceback": [
      "\u001b[1;31m---------------------------------------------------------------------------\u001b[0m",
      "\u001b[1;31mException\u001b[0m                                 Traceback (most recent call last)",
      "\u001b[1;32m<ipython-input-33-e04782f96594>\u001b[0m in \u001b[0;36m<module>\u001b[1;34m\u001b[0m\n\u001b[0;32m     63\u001b[0m \u001b[1;33m\u001b[0m\u001b[0m\n\u001b[0;32m     64\u001b[0m \u001b[1;32mif\u001b[0m \u001b[0mrank\u001b[0m \u001b[1;33m==\u001b[0m \u001b[1;36m0\u001b[0m\u001b[1;33m:\u001b[0m\u001b[1;33m\u001b[0m\u001b[1;33m\u001b[0m\u001b[0m\n\u001b[1;32m---> 65\u001b[1;33m     \u001b[0mnode0\u001b[0m\u001b[1;33m(\u001b[0m\u001b[1;33m)\u001b[0m\u001b[1;33m\u001b[0m\u001b[1;33m\u001b[0m\u001b[0m\n\u001b[0m\u001b[0;32m     66\u001b[0m \u001b[1;32melif\u001b[0m \u001b[0mrank\u001b[0m \u001b[1;33m==\u001b[0m \u001b[1;36m1\u001b[0m\u001b[1;33m:\u001b[0m\u001b[1;33m\u001b[0m\u001b[1;33m\u001b[0m\u001b[0m\n\u001b[0;32m     67\u001b[0m     \u001b[0mnode1\u001b[0m\u001b[1;33m(\u001b[0m\u001b[1;33m)\u001b[0m\u001b[1;33m\u001b[0m\u001b[1;33m\u001b[0m\u001b[0m\n",
      "\u001b[1;32m<ipython-input-33-e04782f96594>\u001b[0m in \u001b[0;36mnode0\u001b[1;34m()\u001b[0m\n\u001b[0;32m     20\u001b[0m         \u001b[0mprint\u001b[0m\u001b[1;33m(\u001b[0m\u001b[1;34m'Node 0 sends'\u001b[0m\u001b[1;33m,\u001b[0m \u001b[0mf\u001b[0m\u001b[1;33m)\u001b[0m\u001b[1;33m\u001b[0m\u001b[1;33m\u001b[0m\u001b[0m\n\u001b[0;32m     21\u001b[0m         \u001b[0msys\u001b[0m\u001b[1;33m.\u001b[0m\u001b[0mstdout\u001b[0m\u001b[1;33m.\u001b[0m\u001b[0mflush\u001b[0m\u001b[1;33m(\u001b[0m\u001b[1;33m)\u001b[0m\u001b[1;33m\u001b[0m\u001b[1;33m\u001b[0m\u001b[0m\n\u001b[1;32m---> 22\u001b[1;33m         \u001b[0mcomm\u001b[0m\u001b[1;33m.\u001b[0m\u001b[0msend\u001b[0m\u001b[1;33m(\u001b[0m\u001b[1;33m(\u001b[0m\u001b[0mimage\u001b[0m\u001b[1;33m,\u001b[0m \u001b[0mf\u001b[0m\u001b[1;33m)\u001b[0m\u001b[1;33m,\u001b[0m \u001b[0mdest\u001b[0m\u001b[1;33m=\u001b[0m\u001b[1;36m1\u001b[0m\u001b[1;33m)\u001b[0m\u001b[1;33m\u001b[0m\u001b[1;33m\u001b[0m\u001b[0m\n\u001b[0m\u001b[0;32m     23\u001b[0m \u001b[1;33m\u001b[0m\u001b[0m\n\u001b[0;32m     24\u001b[0m     \u001b[1;31m# Tell Node 1 that we are done\u001b[0m\u001b[1;33m\u001b[0m\u001b[1;33m\u001b[0m\u001b[1;33m\u001b[0m\u001b[0m\n",
      "\u001b[1;32mmpi4py/MPI/Comm.pyx\u001b[0m in \u001b[0;36mmpi4py.MPI.Comm.send\u001b[1;34m()\u001b[0m\n",
      "\u001b[1;32mmpi4py/MPI/msgpickle.pxi\u001b[0m in \u001b[0;36mmpi4py.MPI.PyMPI_send\u001b[1;34m()\u001b[0m\n",
      "\u001b[1;31mException\u001b[0m: Invalid rank, error stack:\nMPI_Send(buf=0x0000015A8E8AE060, count=2040212, MPI_BYTE, dest=1, tag=0, MPI_COMM_WORLD) failed\nInvalid rank has value 1 but must be nonnegative and less than 1"
     ]
    }
   ],
   "source": [
    "comm = MPI.COMM_WORLD\n",
    "rank = comm.Get_rank()\n",
    "size = comm.Get_size() # number workers\n",
    "\n",
    "#if size != 3:\n",
    "    #print(\"Need three processes\")\n",
    "    #exit()\n",
    "\n",
    "#filenames = ['helene.jpg', 'denis.jpeg', 'kirk.jpeg'] #all_filenames\n",
    "#filenames = ['helene.jpg', 'denis.jpeg', 'kirk.jpeg']\n",
    "#print(filenames)\n",
    " \n",
    "def node0():\n",
    "     \n",
    "    for f in all_filenames:\n",
    "        # Open image\n",
    "        image = PIL.Image.open(train_images_dir + f)\n",
    "\n",
    "        # Send it to Node 1\n",
    "        print('Node 0 sends', f)\n",
    "        sys.stdout.flush()\n",
    "        comm.send((image, f), dest=1)\n",
    "\n",
    "    # Tell Node 1 that we are done\n",
    "    comm.send((None, None), dest=1)\n",
    "\n",
    "def node1():\n",
    "    while True:\n",
    "        image, filename = comm.recv(source=0)\n",
    "\n",
    "        if image is None:\n",
    "            break\n",
    "        # Blur image\n",
    "        image = image.resize((500, 500))                  # Resize the image to 500x500 pixels to be faster\n",
    "        image = np.array(image)   \n",
    "         \n",
    "        # Send it to Node 2\n",
    "        print('Node 1 resized', filename)\n",
    "        sys.stdout.flush()\n",
    "        comm.send((image, filename), dest=2)\n",
    "        \n",
    "    # Tell Node 2 that we are done    \n",
    "    comm.send((None, None), dest=2)\n",
    "    \n",
    "def node2():\n",
    "    image, filename = comm.recv(source=1)\n",
    "    print('Node 2 saves', filename)\n",
    "    prediction = []\n",
    "    with torch.no_grad():\n",
    "        model.eval()\n",
    "        for i, (img, fname) in enumerate(testloader):\n",
    "            print(i)\n",
    "            img = img.to(DEVICE)\n",
    "            output = model(img)\n",
    "            p = torch.exp(output)        \n",
    "            _, topClass = p.topk(1, dim=1)\n",
    "        \n",
    "            for pred in topClass:\n",
    "                prediction.append(pred.item())\n",
    "    print(prediction)\n",
    "     \n",
    "        \n",
    "    \n",
    "if rank == 0:\n",
    "    node0()\n",
    "elif rank == 1:\n",
    "    node1()\n",
    "else:\n",
    "    node2()\n",
    "            \n"
   ]
  },
  {
   "cell_type": "raw",
   "metadata": {},
   "source": [
    "In the above script node 0 opens the image and node 1 resizes it. node 2 performs the prediction task. This script is executed using anaconda prompt with the command: mpiexec -n 3 python -m mpi4py scalable_analytics3.py and it is giving below output:\n",
    "\n",
    "train dict dict_keys(['annotations', 'categories', 'images', 'info', 'licenses', 'institutions'])\n",
    "Epoch: 0 | Minibatch: 0 | Loss: 0.7579\n",
    "Epoch: 1 | Minibatch: 0 | Loss: 3.2747\n",
    "torch.Size([10, 16, 53, 53])\n",
    "Epoch: 0 | Minibatch: 0 | Loss: 2.3418\n",
    "torch.Size([10, 16, 53, 53])\n",
    "Epoch: 1 | Minibatch: 0 | Loss: 2.3428\n",
    "Finished Training\n",
    "Node 0 sends images/000/01/404873.jpg\n",
    "Node 0 sends images/000/01/1515603.jpg\n",
    "\n",
    "train dict dict_keys(['annotations', 'categories', 'images', 'info', 'licenses', 'institutions'])\n",
    "Epoch: 0 | Minibatch: 0 | Loss: 1.6849\n",
    "Epoch: 1 | Minibatch: 0 | Loss: 2.1869\n",
    "torch.Size([10, 16, 53, 53])\n",
    "Epoch: 0 | Minibatch: 0 | Loss: 2.1838\n",
    "torch.Size([10, 16, 53, 53])\n",
    "Epoch: 1 | Minibatch: 0 | Loss: 2.1400\n",
    "Finished Training\n",
    "Node 1 resized images/000/01/404873.jpg\n",
    "Node 0 sends images/000/00/1433074.jpg\n",
    "Node 1 resized images/000/01/1515603.jpg\n",
    "\n",
    "C:\\Users\\kaila\\Anaconda3\\lib\\site-packages\\torch\\cuda\\__init__.py:52: UserWarning: CUDA initialization: Found no NVIDIA driver on your system. Please check that you have an NVIDIA GPU and installed a driver from http://www.nvidia.com/Download/index.aspx (Triggered internally at  ..\\c10\\cuda\\CUDAFunctions.cpp:100.)\n",
    "  return torch._C._cuda_getDeviceCount() > 0\n",
    "train dict dict_keys(['annotations', 'categories', 'images', 'info', 'licenses', 'institutions'])\n",
    "Epoch: 0 | Minibatch: 0 | Loss: 0.7124\n",
    "Epoch: 1 | Minibatch: 0 | Loss: 8.1247\n",
    "torch.Size([10, 16, 53, 53])\n",
    "Epoch: 0 | Minibatch: 0 | Loss: 2.3193\n",
    "torch.Size([10, 16, 53, 53])\n",
    "Epoch: 1 | Minibatch: 0 | Loss: 2.2905\n",
    "Finished Training\n",
    "Node 2 saves images/000/01/404873.jpg\n",
    "0\n",
    "1\n",
    "2\n",
    "3\n",
    "4\n",
    "[0, 0, 0, 0, 0]\n"
   ]
  },
  {
   "cell_type": "raw",
   "metadata": {},
   "source": [
    "When the script is executed using: mpiexec -np 3 kernprof -l -v scalable_analytics3.py,  its giving below results: \n",
    "\n",
    "\n",
    "train dict dict_keys(['annotations', 'categories', 'images', 'info', 'licenses', 'institutions'])\n",
    "10\n",
    "Epoch: 0 | Minibatch: 0 | Loss: 0.9122\n",
    "Epoch: 1 | Minibatch: 0 | Loss: 3.3732\n",
    "torch.Size([10, 16, 53, 53])\n",
    "Epoch: 0 | Minibatch: 0 | Loss: 2.3748\n",
    "torch.Size([10, 16, 53, 53])\n",
    "Epoch: 1 | Minibatch: 0 | Loss: 2.3462\n",
    "Finished Training\n",
    "Node 0 sends images/000/01/404873.jpg\n",
    "Node 0 sends images/000/01/1515603.jpg\n",
    "train dict dict_keys(['annotations', 'categories', 'images', 'info', 'licenses', 'institutions'])\n",
    "10\n",
    "Epoch: 0 | Minibatch: 0 | Loss: 0.6103\n",
    "Epoch: 1 | Minibatch: 0 | Loss: 0.6326\n",
    "torch.Size([10, 16, 53, 53])\n",
    "Epoch: 0 | Minibatch: 0 | Loss: 2.3319\n",
    "torch.Size([10, 16, 53, 53])\n",
    "Epoch: 1 | Minibatch: 0 | Loss: 2.3078\n",
    "Finished Training\n",
    "Node 1 resized images/000/01/404873.jpg\n",
    "Node 0 sends images/000/00/1433074.jpg\n",
    "Node 1 resized images/000/01/1515603.jpg\n",
    "C:\\Users\\kaila\\Anaconda3\\lib\\site-packages\\torch\\cuda\\__init__.py:52: UserWarning: CUDA initialization: Found no NVIDIA driver on your system. Please check that you have an NVIDIA GPU and installed a driver from http://www.nvidia.com/Download/index.aspx (Triggered internally at  ..\\c10\\cuda\\CUDAFunctions.cpp:100.)\n",
    "  return torch._C._cuda_getDeviceCount() > 0\n",
    "train dict dict_keys(['annotations', 'categories', 'images', 'info', 'licenses', 'institutions'])\n",
    "10\n",
    "Epoch: 0 | Minibatch: 0 | Loss: 1.1798\n",
    "Epoch: 1 | Minibatch: 0 | Loss: 2.5061\n",
    "torch.Size([10, 16, 53, 53])\n",
    "Epoch: 0 | Minibatch: 0 | Loss: 2.2857\n",
    "torch.Size([10, 16, 53, 53])\n",
    "Epoch: 1 | Minibatch: 0 | Loss: 2.2653\n",
    "Finished Training\n",
    "Node 2 saves images/000/01/404873.jpg\n",
    "0\n",
    "1\n",
    "2\n",
    "3\n",
    "4\n",
    "[0, 0, 0, 0, 0]\n",
    "Wrote profile results to scalable_analytics3.py.lprof\n",
    "Timer unit: 1e-07 s\n",
    "\n",
    "\n",
    "Total time: 0.757814 s\n",
    "File: scalable_analytics3.py\n",
    "Function: node2 at line 244\n",
    "\n",
    "Line #      Hits         Time  Per Hit   % Time  Line Contents\n",
    "==============================================================\n",
    "   244                                           @profile\n",
    "   245                                           def node2():\n",
    "   246         1    1729516.0 1729516.0     22.8      image, filename = comm.recv(source=1)\n",
    "   247         1        246.0    246.0      0.0      print('Node 2 saves', filename)\n",
    "   248         1         13.0     13.0      0.0      prediction = []\n",
    "   249         1        262.0    262.0      0.0      with torch.no_grad():\n",
    "   250         1      18466.0  18466.0      0.2          model.eval()\n",
    "   251         6     876783.0 146130.5     11.6          for i, (img, fname) in enumerate(testloader):\n",
    "   252         5        781.0    156.2      0.0              print(i)\n",
    "   253         5        394.0     78.8      0.0              img = img.to(DEVICE)\n",
    "   254         5    4946325.0 989265.0     65.3              output = model(img)\n",
    "   255         5       1264.0    252.8      0.0              p = torch.exp(output)\n",
    "   256         5       1912.0    382.4      0.0              _, topClass = p.topk(1, dim=1)\n",
    "   257\n",
    "   258        10       1584.0    158.4      0.0              for pred in topClass:\n",
    "   259         5        434.0     86.8      0.0                  prediction.append(pred.item())\n",
    "   260         1        158.0    158.0      0.0      print(prediction)\n"
   ]
  },
  {
   "cell_type": "markdown",
   "metadata": {},
   "source": [
    "<a class=\"anchor\" id=\"pipeline2\"></a>\n",
    "#### Pipelined prediction 2"
   ]
  },
  {
   "cell_type": "markdown",
   "metadata": {},
   "source": [
    "Below code shows the pipelined prediction in which node 0 send the images to all other nodes and rest of the nodes performs prediction task. In this case, all nodes perform resize of image and transformation of images into NumPy arrays along with prediction.\n"
   ]
  },
  {
   "cell_type": "code",
   "execution_count": 34,
   "metadata": {},
   "outputs": [
    {
     "name": "stdout",
     "output_type": "stream",
     "text": [
      "I am Node 0 and I got 10 images to process\n",
      "I am Node 0 and I have opened all my images\n",
      "0\n",
      "torch.Size([1, 16, 53, 53])\n",
      "1\n",
      "torch.Size([1, 16, 53, 53])\n",
      "2\n",
      "torch.Size([1, 16, 53, 53])\n",
      "3\n",
      "torch.Size([1, 16, 53, 53])\n",
      "4\n",
      "torch.Size([1, 16, 53, 53])\n",
      "5\n",
      "torch.Size([1, 16, 53, 53])\n",
      "6\n",
      "torch.Size([1, 16, 53, 53])\n",
      "7\n",
      "torch.Size([1, 16, 53, 53])\n",
      "8\n",
      "torch.Size([1, 16, 53, 53])\n",
      "9\n",
      "torch.Size([1, 16, 53, 53])\n",
      "[0, 0, 0, 0, 0, 0, 0, 0, 0, 0]\n"
     ]
    }
   ],
   "source": [
    "comm = MPI.COMM_WORLD\n",
    "rank = comm.Get_rank()\n",
    "size = comm.Get_size() # number workers\n",
    "\n",
    "#if size != 3:\n",
    "    #print(\"Need three processes\")\n",
    "    #exit()\n",
    "\n",
    "#filenames = ['helene.jpg', 'denis.jpeg', 'kirk.jpeg'] #all_filenames\n",
    "#filenames = ['helene.jpg', 'denis.jpeg', 'kirk.jpeg']\n",
    "#print(filenames)\n",
    "filenames_to_scatter = None\n",
    "\n",
    "if rank == 0:\n",
    "     \n",
    "     \n",
    "    # Split them among <size> workers (node 0 included)\n",
    "    elements_per_worker = len(all_filenames) // size\n",
    "    filenames_to_scatter = []\n",
    "    \n",
    "    for i in range(size):\n",
    "        # fr and to: define a range of filenames to give to the i-th worker\n",
    "        fr = i * elements_per_worker\n",
    "        to = fr + elements_per_worker\n",
    "        \n",
    "        if i == size-1:\n",
    "            # The last worker may have more images to process if <size> does not divide len(all_filenames)\n",
    "            to = len(all_filenames)\n",
    "        \n",
    "        filenames_to_scatter.append(all_filenames[fr:to])\n",
    "        \n",
    "my_filenames = comm.scatter(filenames_to_scatter, root=0)\n",
    "print('I am Node', rank, 'and I got', len(my_filenames), 'images to process')\n",
    " \n",
    "def node0():\n",
    "     \n",
    "    for i, filename in enumerate(my_filenames):\n",
    "            image = PIL.Image.open(train_images_dir + filename)        # Open the image\n",
    "            image = image.resize((500, 500))                  # Resize the image to 500x500 pixels to be faster\n",
    "            image = np.array(image)                           # Cast to a height,width,3 numpy array of uint8 values\n",
    "\n",
    "    print('I am Node', rank, 'and I have opened all my images')\n",
    "    prediction = []\n",
    "    with torch.no_grad():\n",
    "        model.eval()\n",
    "        for i, (img, fname) in enumerate(testloader):\n",
    "            print(i)\n",
    "            img = img.to(DEVICE)\n",
    "            output = model(img)\n",
    "            p = torch.exp(output)        \n",
    "            _, topClass = p.topk(1, dim=1)\n",
    "        \n",
    "            for pred in topClass:\n",
    "                prediction.append(pred.item())\n",
    "    print(prediction)    \n",
    "    \n",
    "\n",
    "def node1():\n",
    "    for i, filename in enumerate(my_filenames):\n",
    "            image = PIL.Image.open(train_images_dir + filename)        # Open the image\n",
    "            image = image.resize((500, 500))                  # Resize the image to 500x500 pixels to be faster\n",
    "            image = np.array(image)                           # Cast to a height,width,3 numpy array of uint8 values\n",
    "\n",
    "    print('I am Node', rank, 'and I have opened all my images')\n",
    "    prediction = []\n",
    "    with torch.no_grad():\n",
    "        model.eval()\n",
    "        for i, (img, fname) in enumerate(testloader):\n",
    "            print(i)\n",
    "            img = img.to(DEVICE)\n",
    "            output = model(img)\n",
    "            p = torch.exp(output)        \n",
    "            _, topClass = p.topk(1, dim=1)\n",
    "        \n",
    "            for pred in topClass:\n",
    "                prediction.append(pred.item())\n",
    "    print(prediction) \n",
    "    \n",
    "def node2():\n",
    "    for i, filename in enumerate(my_filenames):\n",
    "            image = PIL.Image.open(train_images_dir + filename)        # Open the image\n",
    "            image = image.resize((500, 500))                  # Resize the image to 500x500 pixels to be faster\n",
    "            image = np.array(image)                           # Cast to a height,width,3 numpy array of uint8 values\n",
    "\n",
    "    print('I am Node', rank, 'and I have opened all my images')\n",
    "    prediction = []\n",
    "    with torch.no_grad():\n",
    "        model.eval()\n",
    "        for i, (img, fname) in enumerate(testloader):\n",
    "            print(i)\n",
    "            img = img.to(DEVICE)\n",
    "            output = model(img)\n",
    "            p = torch.exp(output)        \n",
    "            _, topClass = p.topk(1, dim=1)\n",
    "        \n",
    "            for pred in topClass:\n",
    "                prediction.append(pred.item())\n",
    "    print(prediction) \n",
    "     \n",
    "        \n",
    "    \n",
    "if rank == 0:\n",
    "    node0()\n",
    "elif rank == 1:\n",
    "    node1()\n",
    "else:\n",
    "    node2()\n",
    "            \n"
   ]
  },
  {
   "cell_type": "raw",
   "metadata": {},
   "source": [
    "Above script is executed with the command mpiexec -n 3 python -m mpi4py scalable_analytics4.py command in the anaconda command prompt. It give following output:\n",
    "\n",
    "\n",
    "C:\\Users\\kaila\\Anaconda3\\lib\\site-packages\\torch\\cuda\\__init__.py:52: UserWarning: CUDA initialization: Found no NVIDIA driver on your system. Please check that you have an NVIDIA GPU and installed a driver from http://www.nvidia.com/Download/index.aspx (Triggered internally at  ..\\c10\\cuda\\CUDAFunctions.cpp:100.)\n",
    "  return torch._C._cuda_getDeviceCount() > 0\n",
    "train dict dict_keys(['annotations', 'categories', 'images', 'info', 'licenses', 'institutions'])\n",
    "Epoch: 0 | Minibatch: 0 | Loss: 0.8798\n",
    "Epoch: 1 | Minibatch: 0 | Loss: 2.7830\n",
    "torch.Size([10, 16, 53, 53])\n",
    "Epoch: 0 | Minibatch: 0 | Loss: 2.3832\n",
    "torch.Size([10, 16, 53, 53])\n",
    "Epoch: 1 | Minibatch: 0 | Loss: 2.3781\n",
    "Finished Training\n",
    "I am Node 0 and I got 3 images to process\n",
    "I am Node 0 and I have opened all my images\n",
    "0\n",
    "1\n",
    "2\n",
    "3\n",
    "4\n",
    "[0, 0, 0, 0, 0]\n",
    "C:\\Users\\kaila\\Anaconda3\\lib\\site-packages\\torch\\cuda\\__init__.py:52: UserWarning: CUDA initialization: Found no NVIDIA driver on your system. Please check that you have an NVIDIA GPU and installed a driver from http://www.nvidia.com/Download/index.aspx (Triggered internally at  ..\\c10\\cuda\\CUDAFunctions.cpp:100.)\n",
    "  return torch._C._cuda_getDeviceCount() > 0\n",
    "train dict dict_keys(['annotations', 'categories', 'images', 'info', 'licenses', 'institutions'])\n",
    "Epoch: 0 | Minibatch: 0 | Loss: 0.7017\n",
    "Epoch: 1 | Minibatch: 0 | Loss: 2.1906\n",
    "torch.Size([10, 16, 53, 53])\n",
    "Epoch: 0 | Minibatch: 0 | Loss: 2.3148\n",
    "torch.Size([10, 16, 53, 53])\n",
    "Epoch: 1 | Minibatch: 0 | Loss: 2.2753\n",
    "Finished Training\n",
    "I am Node 1 and I got 3 images to process\n",
    "I am Node 1 and I have opened all my images\n",
    "0\n",
    "1\n",
    "2\n",
    "3\n",
    "4\n",
    "[0, 0, 0, 0, 0]\n",
    "C:\\Users\\kaila\\Anaconda3\\lib\\site-packages\\torch\\cuda\\__init__.py:52: UserWarning: CUDA initialization: Found no NVIDIA driver on your system. Please check that you have an NVIDIA GPU and installed a driver from http://www.nvidia.com/Download/index.aspx (Triggered internally at  ..\\c10\\cuda\\CUDAFunctions.cpp:100.)\n",
    "  return torch._C._cuda_getDeviceCount() > 0\n",
    "train dict dict_keys(['annotations', 'categories', 'images', 'info', 'licenses', 'institutions'])\n",
    "Epoch: 0 | Minibatch: 0 | Loss: 0.6844\n",
    "Epoch: 1 | Minibatch: 0 | Loss: 3.2243\n",
    "torch.Size([10, 16, 53, 53])\n",
    "Epoch: 0 | Minibatch: 0 | Loss: 2.2636\n",
    "torch.Size([10, 16, 53, 53])\n",
    "Epoch: 1 | Minibatch: 0 | Loss: 2.1875\n",
    "Finished Training\n",
    "I am Node 2 and I got 4 images to process\n",
    "I am Node 2 and I have opened all my images\n",
    "0\n",
    "1\n",
    "2\n",
    "3\n",
    "4\n",
    "[0, 0, 0, 0, 0]"
   ]
  },
  {
   "cell_type": "markdown",
   "metadata": {},
   "source": [
    "<a class=\"anchor\" id=\"pipeline3\"></a>\n",
    "#### Pipelined prediction 3"
   ]
  },
  {
   "cell_type": "markdown",
   "metadata": {},
   "source": [
    "In this case, node 0 scatters the images over other nodes. node 0 load all the images and produce Pillow images, Node 1 could resize them and transform them into NumPy arrays. node 2 and 3 performs prediction task."
   ]
  },
  {
   "cell_type": "code",
   "execution_count": 35,
   "metadata": {},
   "outputs": [
    {
     "name": "stdout",
     "output_type": "stream",
     "text": [
      "I am Node 0 and I got 10 images to process\n",
      "Node 0 sends images/000/01/404873.jpg\n"
     ]
    },
    {
     "ename": "Exception",
     "evalue": "Invalid rank, error stack:\nMPI_Send(buf=0x0000015A91F3D060, count=2040212, MPI_BYTE, dest=1, tag=0, MPI_COMM_WORLD) failed\nInvalid rank has value 1 but must be nonnegative and less than 1",
     "output_type": "error",
     "traceback": [
      "\u001b[1;31m---------------------------------------------------------------------------\u001b[0m",
      "\u001b[1;31mException\u001b[0m                                 Traceback (most recent call last)",
      "\u001b[1;32m<ipython-input-35-f2d54da74c45>\u001b[0m in \u001b[0;36m<module>\u001b[1;34m\u001b[0m\n\u001b[0;32m     94\u001b[0m \u001b[1;33m\u001b[0m\u001b[0m\n\u001b[0;32m     95\u001b[0m \u001b[1;32mif\u001b[0m \u001b[0mrank\u001b[0m \u001b[1;33m==\u001b[0m \u001b[1;36m0\u001b[0m\u001b[1;33m:\u001b[0m\u001b[1;33m\u001b[0m\u001b[1;33m\u001b[0m\u001b[0m\n\u001b[1;32m---> 96\u001b[1;33m     \u001b[0mnode0\u001b[0m\u001b[1;33m(\u001b[0m\u001b[1;33m)\u001b[0m\u001b[1;33m\u001b[0m\u001b[1;33m\u001b[0m\u001b[0m\n\u001b[0m\u001b[0;32m     97\u001b[0m \u001b[1;32melif\u001b[0m \u001b[0mrank\u001b[0m \u001b[1;33m==\u001b[0m \u001b[1;36m1\u001b[0m\u001b[1;33m:\u001b[0m\u001b[1;33m\u001b[0m\u001b[1;33m\u001b[0m\u001b[0m\n\u001b[0;32m     98\u001b[0m     \u001b[0mnode1\u001b[0m\u001b[1;33m(\u001b[0m\u001b[1;33m)\u001b[0m\u001b[1;33m\u001b[0m\u001b[1;33m\u001b[0m\u001b[0m\n",
      "\u001b[1;32m<ipython-input-35-f2d54da74c45>\u001b[0m in \u001b[0;36mnode0\u001b[1;34m()\u001b[0m\n\u001b[0;32m     34\u001b[0m         \u001b[0mprint\u001b[0m\u001b[1;33m(\u001b[0m\u001b[1;34m'Node 0 sends'\u001b[0m\u001b[1;33m,\u001b[0m \u001b[0mf\u001b[0m\u001b[1;33m)\u001b[0m\u001b[1;33m\u001b[0m\u001b[1;33m\u001b[0m\u001b[0m\n\u001b[0;32m     35\u001b[0m         \u001b[0msys\u001b[0m\u001b[1;33m.\u001b[0m\u001b[0mstdout\u001b[0m\u001b[1;33m.\u001b[0m\u001b[0mflush\u001b[0m\u001b[1;33m(\u001b[0m\u001b[1;33m)\u001b[0m\u001b[1;33m\u001b[0m\u001b[1;33m\u001b[0m\u001b[0m\n\u001b[1;32m---> 36\u001b[1;33m         \u001b[0mcomm\u001b[0m\u001b[1;33m.\u001b[0m\u001b[0msend\u001b[0m\u001b[1;33m(\u001b[0m\u001b[1;33m(\u001b[0m\u001b[0mimage\u001b[0m\u001b[1;33m,\u001b[0m \u001b[0mf\u001b[0m\u001b[1;33m)\u001b[0m\u001b[1;33m,\u001b[0m \u001b[0mdest\u001b[0m\u001b[1;33m=\u001b[0m\u001b[1;36m1\u001b[0m\u001b[1;33m)\u001b[0m\u001b[1;33m\u001b[0m\u001b[1;33m\u001b[0m\u001b[0m\n\u001b[0m\u001b[0;32m     37\u001b[0m \u001b[1;33m\u001b[0m\u001b[0m\n\u001b[0;32m     38\u001b[0m     \u001b[1;31m# Tell Node 1 that we are done\u001b[0m\u001b[1;33m\u001b[0m\u001b[1;33m\u001b[0m\u001b[1;33m\u001b[0m\u001b[0m\n",
      "\u001b[1;32mmpi4py/MPI/Comm.pyx\u001b[0m in \u001b[0;36mmpi4py.MPI.Comm.send\u001b[1;34m()\u001b[0m\n",
      "\u001b[1;32mmpi4py/MPI/msgpickle.pxi\u001b[0m in \u001b[0;36mmpi4py.MPI.PyMPI_send\u001b[1;34m()\u001b[0m\n",
      "\u001b[1;31mException\u001b[0m: Invalid rank, error stack:\nMPI_Send(buf=0x0000015A91F3D060, count=2040212, MPI_BYTE, dest=1, tag=0, MPI_COMM_WORLD) failed\nInvalid rank has value 1 but must be nonnegative and less than 1"
     ]
    }
   ],
   "source": [
    "comm = MPI.COMM_WORLD\n",
    "rank = comm.Get_rank()\n",
    "size = comm.Get_size() # number workers\n",
    "\n",
    "\n",
    "filenames_to_scatter = None\n",
    "\n",
    "if rank == 0:\n",
    "     \n",
    "     \n",
    "    # Split them among <size> workers (node 0 included)\n",
    "    elements_per_worker = len(all_filenames) // size\n",
    "    filenames_to_scatter = []\n",
    "    \n",
    "    for i in range(size):\n",
    "        # fr and to: define a range of filenames to give to the i-th worker\n",
    "        fr = i * elements_per_worker\n",
    "        to = fr + elements_per_worker\n",
    "        \n",
    "        if i == size-1:\n",
    "            # The last worker may have more images to process if <size> does not divide len(all_filenames)\n",
    "            to = len(all_filenames)\n",
    "        \n",
    "        filenames_to_scatter.append(all_filenames[fr:to])\n",
    "        \n",
    "my_filenames = comm.scatter(filenames_to_scatter, root=0)\n",
    "print('I am Node', rank, 'and I got', len(my_filenames), 'images to process') \n",
    "def node0():\n",
    "    for f in all_filenames:\n",
    "        # Open image\n",
    "        image = PIL.Image.open(train_images_dir + f)\n",
    "\n",
    "        # Send it to Node 1\n",
    "        print('Node 0 sends', f)\n",
    "        sys.stdout.flush()\n",
    "        comm.send((image, f), dest=1)\n",
    "\n",
    "    # Tell Node 1 that we are done\n",
    "    comm.send((None, None), dest=1)\n",
    "\n",
    "     \n",
    "    \n",
    "def node1():\n",
    "    while True:\n",
    "        image, filename = comm.recv(source=0)\n",
    "\n",
    "        if image is None:\n",
    "            break\n",
    "        # Blur image\n",
    "        image = image.resize((500, 500))                  # Resize the image to 500x500 pixels to be faster\n",
    "        image = np.array(image)   \n",
    "         \n",
    "        # Send it to Node 2\n",
    "        print('Node 1 resized', filename)\n",
    "        sys.stdout.flush()\n",
    "        comm.send((image, filename), dest=2)\n",
    "        \n",
    "    # Tell Node 2 that we are done    \n",
    "    comm.send((None, None), dest=2)\n",
    "    \n",
    "def node2():\n",
    "    image, filename = comm.recv(source=0)\n",
    "    print('Node 2 saves', filename)\n",
    "    prediction = []\n",
    "    with torch.no_grad():\n",
    "        model.eval()\n",
    "        for i, (img, fname) in enumerate(testloader):\n",
    "            print(i)\n",
    "            img = img.to(DEVICE)\n",
    "            output = model(img)\n",
    "            p = torch.exp(output)        \n",
    "            _, topClass = p.topk(1, dim=1)\n",
    "        \n",
    "            for pred in topClass:\n",
    "                prediction.append(pred.item())\n",
    "    print(prediction)\n",
    "     \n",
    "def node3():\n",
    "    image, filename = comm.recv(source=0)\n",
    "    print('Node 3 saves', filename)\n",
    "    prediction = []\n",
    "    with torch.no_grad():\n",
    "        model.eval()\n",
    "        for i, (img, fname) in enumerate(testloader):\n",
    "            print(i)\n",
    "            img = img.to(DEVICE)\n",
    "            output = model(img)\n",
    "            p = torch.exp(output)        \n",
    "            _, topClass = p.topk(1, dim=1)\n",
    "        \n",
    "            for pred in topClass:\n",
    "                prediction.append(pred.item())\n",
    "    print(prediction)        \n",
    "    \n",
    "if rank == 0:\n",
    "    node0()\n",
    "elif rank == 1:\n",
    "    node1()\n",
    "elif rank == 2:\n",
    "    node2()\n",
    "else:\n",
    "    node3()\n",
    "            "
   ]
  },
  {
   "cell_type": "raw",
   "metadata": {},
   "source": [
    "Above script is executed with the command mpiexec -n 3 python -m mpi4py scalable_analytics5.py in the anaconda command prompt. It give following output:\n",
    "\n",
    "\n",
    "train dict dict_keys(['annotations', 'categories', 'images', 'info', 'licenses', 'institutions'])\n",
    "10\n",
    "Epoch: 0 | Minibatch: 0 | Loss: 0.9147\n",
    "Epoch: 1 | Minibatch: 0 | Loss: 3.0677\n",
    "torch.Size([10, 16, 53, 53])\n",
    "Epoch: 0 | Minibatch: 0 | Loss: 2.3237\n",
    "torch.Size([10, 16, 53, 53])\n",
    "Epoch: 1 | Minibatch: 0 | Loss: 2.2583\n",
    "Finished Training\n",
    "I am Node 0 and I got 3 images to process\n",
    "Node 0 sends images/000/01/404873.jpg\n",
    "Node 0 sends images/000/01/1515603.jpg\n",
    "train dict dict_keys(['annotations', 'categories', 'images', 'info', 'licenses', 'institutions'])\n",
    "10\n",
    "Epoch: 0 | Minibatch: 0 | Loss: 0.7324\n",
    "Epoch: 1 | Minibatch: 0 | Loss: 2.6362\n",
    "torch.Size([10, 16, 53, 53])\n",
    "Epoch: 0 | Minibatch: 0 | Loss: 2.2006\n",
    "torch.Size([10, 16, 53, 53])\n",
    "Epoch: 1 | Minibatch: 0 | Loss: 2.0961\n",
    "Finished Training\n",
    "I am Node 1 and I got 3 images to process\n",
    "Node 1 resized images/000/01/404873.jpg"
   ]
  },
  {
   "cell_type": "markdown",
   "metadata": {},
   "source": [
    "<a class=\"anchor\" id=\"other_nn\"></a>\n",
    "### other neural network and optimizer"
   ]
  },
  {
   "cell_type": "markdown",
   "metadata": {},
   "source": [
    "In this below task, a pretrained model ResNet 50 is loaded and also the Adam optimizer is used. In this case, nn.ReLU() and nn.Dropout(0.2) is also used for model. ReLU is a piecewise linear function that will output the input directly if it is positive, otherwise, it will output zero. The nn.Dropout is a class which takes in the dropout rate as a parameter. Dropout rate is the probability a neuron being deactivated.  We can apply dropout after any non-output layer.  "
   ]
  },
  {
   "cell_type": "code",
   "execution_count": 36,
   "metadata": {},
   "outputs": [
    {
     "name": "stdout",
     "output_type": "stream",
     "text": [
      "ResNet(\n",
      "  (conv1): Conv2d(3, 64, kernel_size=(7, 7), stride=(2, 2), padding=(3, 3), bias=False)\n",
      "  (bn1): BatchNorm2d(64, eps=1e-05, momentum=0.1, affine=True, track_running_stats=True)\n",
      "  (relu): ReLU(inplace=True)\n",
      "  (maxpool): MaxPool2d(kernel_size=3, stride=2, padding=1, dilation=1, ceil_mode=False)\n",
      "  (layer1): Sequential(\n",
      "    (0): Bottleneck(\n",
      "      (conv1): Conv2d(64, 64, kernel_size=(1, 1), stride=(1, 1), bias=False)\n",
      "      (bn1): BatchNorm2d(64, eps=1e-05, momentum=0.1, affine=True, track_running_stats=True)\n",
      "      (conv2): Conv2d(64, 64, kernel_size=(3, 3), stride=(1, 1), padding=(1, 1), bias=False)\n",
      "      (bn2): BatchNorm2d(64, eps=1e-05, momentum=0.1, affine=True, track_running_stats=True)\n",
      "      (conv3): Conv2d(64, 256, kernel_size=(1, 1), stride=(1, 1), bias=False)\n",
      "      (bn3): BatchNorm2d(256, eps=1e-05, momentum=0.1, affine=True, track_running_stats=True)\n",
      "      (relu): ReLU(inplace=True)\n",
      "      (downsample): Sequential(\n",
      "        (0): Conv2d(64, 256, kernel_size=(1, 1), stride=(1, 1), bias=False)\n",
      "        (1): BatchNorm2d(256, eps=1e-05, momentum=0.1, affine=True, track_running_stats=True)\n",
      "      )\n",
      "    )\n",
      "    (1): Bottleneck(\n",
      "      (conv1): Conv2d(256, 64, kernel_size=(1, 1), stride=(1, 1), bias=False)\n",
      "      (bn1): BatchNorm2d(64, eps=1e-05, momentum=0.1, affine=True, track_running_stats=True)\n",
      "      (conv2): Conv2d(64, 64, kernel_size=(3, 3), stride=(1, 1), padding=(1, 1), bias=False)\n",
      "      (bn2): BatchNorm2d(64, eps=1e-05, momentum=0.1, affine=True, track_running_stats=True)\n",
      "      (conv3): Conv2d(64, 256, kernel_size=(1, 1), stride=(1, 1), bias=False)\n",
      "      (bn3): BatchNorm2d(256, eps=1e-05, momentum=0.1, affine=True, track_running_stats=True)\n",
      "      (relu): ReLU(inplace=True)\n",
      "    )\n",
      "    (2): Bottleneck(\n",
      "      (conv1): Conv2d(256, 64, kernel_size=(1, 1), stride=(1, 1), bias=False)\n",
      "      (bn1): BatchNorm2d(64, eps=1e-05, momentum=0.1, affine=True, track_running_stats=True)\n",
      "      (conv2): Conv2d(64, 64, kernel_size=(3, 3), stride=(1, 1), padding=(1, 1), bias=False)\n",
      "      (bn2): BatchNorm2d(64, eps=1e-05, momentum=0.1, affine=True, track_running_stats=True)\n",
      "      (conv3): Conv2d(64, 256, kernel_size=(1, 1), stride=(1, 1), bias=False)\n",
      "      (bn3): BatchNorm2d(256, eps=1e-05, momentum=0.1, affine=True, track_running_stats=True)\n",
      "      (relu): ReLU(inplace=True)\n",
      "    )\n",
      "  )\n",
      "  (layer2): Sequential(\n",
      "    (0): Bottleneck(\n",
      "      (conv1): Conv2d(256, 128, kernel_size=(1, 1), stride=(1, 1), bias=False)\n",
      "      (bn1): BatchNorm2d(128, eps=1e-05, momentum=0.1, affine=True, track_running_stats=True)\n",
      "      (conv2): Conv2d(128, 128, kernel_size=(3, 3), stride=(2, 2), padding=(1, 1), bias=False)\n",
      "      (bn2): BatchNorm2d(128, eps=1e-05, momentum=0.1, affine=True, track_running_stats=True)\n",
      "      (conv3): Conv2d(128, 512, kernel_size=(1, 1), stride=(1, 1), bias=False)\n",
      "      (bn3): BatchNorm2d(512, eps=1e-05, momentum=0.1, affine=True, track_running_stats=True)\n",
      "      (relu): ReLU(inplace=True)\n",
      "      (downsample): Sequential(\n",
      "        (0): Conv2d(256, 512, kernel_size=(1, 1), stride=(2, 2), bias=False)\n",
      "        (1): BatchNorm2d(512, eps=1e-05, momentum=0.1, affine=True, track_running_stats=True)\n",
      "      )\n",
      "    )\n",
      "    (1): Bottleneck(\n",
      "      (conv1): Conv2d(512, 128, kernel_size=(1, 1), stride=(1, 1), bias=False)\n",
      "      (bn1): BatchNorm2d(128, eps=1e-05, momentum=0.1, affine=True, track_running_stats=True)\n",
      "      (conv2): Conv2d(128, 128, kernel_size=(3, 3), stride=(1, 1), padding=(1, 1), bias=False)\n",
      "      (bn2): BatchNorm2d(128, eps=1e-05, momentum=0.1, affine=True, track_running_stats=True)\n",
      "      (conv3): Conv2d(128, 512, kernel_size=(1, 1), stride=(1, 1), bias=False)\n",
      "      (bn3): BatchNorm2d(512, eps=1e-05, momentum=0.1, affine=True, track_running_stats=True)\n",
      "      (relu): ReLU(inplace=True)\n",
      "    )\n",
      "    (2): Bottleneck(\n",
      "      (conv1): Conv2d(512, 128, kernel_size=(1, 1), stride=(1, 1), bias=False)\n",
      "      (bn1): BatchNorm2d(128, eps=1e-05, momentum=0.1, affine=True, track_running_stats=True)\n",
      "      (conv2): Conv2d(128, 128, kernel_size=(3, 3), stride=(1, 1), padding=(1, 1), bias=False)\n",
      "      (bn2): BatchNorm2d(128, eps=1e-05, momentum=0.1, affine=True, track_running_stats=True)\n",
      "      (conv3): Conv2d(128, 512, kernel_size=(1, 1), stride=(1, 1), bias=False)\n",
      "      (bn3): BatchNorm2d(512, eps=1e-05, momentum=0.1, affine=True, track_running_stats=True)\n",
      "      (relu): ReLU(inplace=True)\n",
      "    )\n",
      "    (3): Bottleneck(\n",
      "      (conv1): Conv2d(512, 128, kernel_size=(1, 1), stride=(1, 1), bias=False)\n",
      "      (bn1): BatchNorm2d(128, eps=1e-05, momentum=0.1, affine=True, track_running_stats=True)\n",
      "      (conv2): Conv2d(128, 128, kernel_size=(3, 3), stride=(1, 1), padding=(1, 1), bias=False)\n",
      "      (bn2): BatchNorm2d(128, eps=1e-05, momentum=0.1, affine=True, track_running_stats=True)\n",
      "      (conv3): Conv2d(128, 512, kernel_size=(1, 1), stride=(1, 1), bias=False)\n",
      "      (bn3): BatchNorm2d(512, eps=1e-05, momentum=0.1, affine=True, track_running_stats=True)\n",
      "      (relu): ReLU(inplace=True)\n",
      "    )\n",
      "  )\n",
      "  (layer3): Sequential(\n",
      "    (0): Bottleneck(\n",
      "      (conv1): Conv2d(512, 256, kernel_size=(1, 1), stride=(1, 1), bias=False)\n",
      "      (bn1): BatchNorm2d(256, eps=1e-05, momentum=0.1, affine=True, track_running_stats=True)\n",
      "      (conv2): Conv2d(256, 256, kernel_size=(3, 3), stride=(2, 2), padding=(1, 1), bias=False)\n",
      "      (bn2): BatchNorm2d(256, eps=1e-05, momentum=0.1, affine=True, track_running_stats=True)\n",
      "      (conv3): Conv2d(256, 1024, kernel_size=(1, 1), stride=(1, 1), bias=False)\n",
      "      (bn3): BatchNorm2d(1024, eps=1e-05, momentum=0.1, affine=True, track_running_stats=True)\n",
      "      (relu): ReLU(inplace=True)\n",
      "      (downsample): Sequential(\n",
      "        (0): Conv2d(512, 1024, kernel_size=(1, 1), stride=(2, 2), bias=False)\n",
      "        (1): BatchNorm2d(1024, eps=1e-05, momentum=0.1, affine=True, track_running_stats=True)\n",
      "      )\n",
      "    )\n",
      "    (1): Bottleneck(\n",
      "      (conv1): Conv2d(1024, 256, kernel_size=(1, 1), stride=(1, 1), bias=False)\n",
      "      (bn1): BatchNorm2d(256, eps=1e-05, momentum=0.1, affine=True, track_running_stats=True)\n",
      "      (conv2): Conv2d(256, 256, kernel_size=(3, 3), stride=(1, 1), padding=(1, 1), bias=False)\n",
      "      (bn2): BatchNorm2d(256, eps=1e-05, momentum=0.1, affine=True, track_running_stats=True)\n",
      "      (conv3): Conv2d(256, 1024, kernel_size=(1, 1), stride=(1, 1), bias=False)\n",
      "      (bn3): BatchNorm2d(1024, eps=1e-05, momentum=0.1, affine=True, track_running_stats=True)\n",
      "      (relu): ReLU(inplace=True)\n",
      "    )\n",
      "    (2): Bottleneck(\n",
      "      (conv1): Conv2d(1024, 256, kernel_size=(1, 1), stride=(1, 1), bias=False)\n",
      "      (bn1): BatchNorm2d(256, eps=1e-05, momentum=0.1, affine=True, track_running_stats=True)\n",
      "      (conv2): Conv2d(256, 256, kernel_size=(3, 3), stride=(1, 1), padding=(1, 1), bias=False)\n",
      "      (bn2): BatchNorm2d(256, eps=1e-05, momentum=0.1, affine=True, track_running_stats=True)\n",
      "      (conv3): Conv2d(256, 1024, kernel_size=(1, 1), stride=(1, 1), bias=False)\n",
      "      (bn3): BatchNorm2d(1024, eps=1e-05, momentum=0.1, affine=True, track_running_stats=True)\n",
      "      (relu): ReLU(inplace=True)\n",
      "    )\n",
      "    (3): Bottleneck(\n",
      "      (conv1): Conv2d(1024, 256, kernel_size=(1, 1), stride=(1, 1), bias=False)\n",
      "      (bn1): BatchNorm2d(256, eps=1e-05, momentum=0.1, affine=True, track_running_stats=True)\n",
      "      (conv2): Conv2d(256, 256, kernel_size=(3, 3), stride=(1, 1), padding=(1, 1), bias=False)\n",
      "      (bn2): BatchNorm2d(256, eps=1e-05, momentum=0.1, affine=True, track_running_stats=True)\n",
      "      (conv3): Conv2d(256, 1024, kernel_size=(1, 1), stride=(1, 1), bias=False)\n",
      "      (bn3): BatchNorm2d(1024, eps=1e-05, momentum=0.1, affine=True, track_running_stats=True)\n",
      "      (relu): ReLU(inplace=True)\n",
      "    )\n",
      "    (4): Bottleneck(\n",
      "      (conv1): Conv2d(1024, 256, kernel_size=(1, 1), stride=(1, 1), bias=False)\n",
      "      (bn1): BatchNorm2d(256, eps=1e-05, momentum=0.1, affine=True, track_running_stats=True)\n",
      "      (conv2): Conv2d(256, 256, kernel_size=(3, 3), stride=(1, 1), padding=(1, 1), bias=False)\n",
      "      (bn2): BatchNorm2d(256, eps=1e-05, momentum=0.1, affine=True, track_running_stats=True)\n",
      "      (conv3): Conv2d(256, 1024, kernel_size=(1, 1), stride=(1, 1), bias=False)\n",
      "      (bn3): BatchNorm2d(1024, eps=1e-05, momentum=0.1, affine=True, track_running_stats=True)\n",
      "      (relu): ReLU(inplace=True)\n",
      "    )\n",
      "    (5): Bottleneck(\n",
      "      (conv1): Conv2d(1024, 256, kernel_size=(1, 1), stride=(1, 1), bias=False)\n",
      "      (bn1): BatchNorm2d(256, eps=1e-05, momentum=0.1, affine=True, track_running_stats=True)\n",
      "      (conv2): Conv2d(256, 256, kernel_size=(3, 3), stride=(1, 1), padding=(1, 1), bias=False)\n",
      "      (bn2): BatchNorm2d(256, eps=1e-05, momentum=0.1, affine=True, track_running_stats=True)\n",
      "      (conv3): Conv2d(256, 1024, kernel_size=(1, 1), stride=(1, 1), bias=False)\n",
      "      (bn3): BatchNorm2d(1024, eps=1e-05, momentum=0.1, affine=True, track_running_stats=True)\n",
      "      (relu): ReLU(inplace=True)\n",
      "    )\n",
      "  )\n",
      "  (layer4): Sequential(\n",
      "    (0): Bottleneck(\n",
      "      (conv1): Conv2d(1024, 512, kernel_size=(1, 1), stride=(1, 1), bias=False)\n",
      "      (bn1): BatchNorm2d(512, eps=1e-05, momentum=0.1, affine=True, track_running_stats=True)\n",
      "      (conv2): Conv2d(512, 512, kernel_size=(3, 3), stride=(2, 2), padding=(1, 1), bias=False)\n",
      "      (bn2): BatchNorm2d(512, eps=1e-05, momentum=0.1, affine=True, track_running_stats=True)\n",
      "      (conv3): Conv2d(512, 2048, kernel_size=(1, 1), stride=(1, 1), bias=False)\n",
      "      (bn3): BatchNorm2d(2048, eps=1e-05, momentum=0.1, affine=True, track_running_stats=True)\n",
      "      (relu): ReLU(inplace=True)\n",
      "      (downsample): Sequential(\n",
      "        (0): Conv2d(1024, 2048, kernel_size=(1, 1), stride=(2, 2), bias=False)\n",
      "        (1): BatchNorm2d(2048, eps=1e-05, momentum=0.1, affine=True, track_running_stats=True)\n",
      "      )\n",
      "    )\n",
      "    (1): Bottleneck(\n",
      "      (conv1): Conv2d(2048, 512, kernel_size=(1, 1), stride=(1, 1), bias=False)\n",
      "      (bn1): BatchNorm2d(512, eps=1e-05, momentum=0.1, affine=True, track_running_stats=True)\n",
      "      (conv2): Conv2d(512, 512, kernel_size=(3, 3), stride=(1, 1), padding=(1, 1), bias=False)\n",
      "      (bn2): BatchNorm2d(512, eps=1e-05, momentum=0.1, affine=True, track_running_stats=True)\n",
      "      (conv3): Conv2d(512, 2048, kernel_size=(1, 1), stride=(1, 1), bias=False)\n",
      "      (bn3): BatchNorm2d(2048, eps=1e-05, momentum=0.1, affine=True, track_running_stats=True)\n",
      "      (relu): ReLU(inplace=True)\n",
      "    )\n",
      "    (2): Bottleneck(\n",
      "      (conv1): Conv2d(2048, 512, kernel_size=(1, 1), stride=(1, 1), bias=False)\n",
      "      (bn1): BatchNorm2d(512, eps=1e-05, momentum=0.1, affine=True, track_running_stats=True)\n",
      "      (conv2): Conv2d(512, 512, kernel_size=(3, 3), stride=(1, 1), padding=(1, 1), bias=False)\n",
      "      (bn2): BatchNorm2d(512, eps=1e-05, momentum=0.1, affine=True, track_running_stats=True)\n",
      "      (conv3): Conv2d(512, 2048, kernel_size=(1, 1), stride=(1, 1), bias=False)\n",
      "      (bn3): BatchNorm2d(2048, eps=1e-05, momentum=0.1, affine=True, track_running_stats=True)\n",
      "      (relu): ReLU(inplace=True)\n",
      "    )\n",
      "  )\n",
      "  (avgpool): AdaptiveAvgPool2d(output_size=(1, 1))\n",
      "  (fc): Linear(in_features=2048, out_features=1000, bias=True)\n",
      ")\n"
     ]
    }
   ],
   "source": [
    "device = torch.device(\"cuda\" if torch.cuda.is_available() \n",
    "                                  else \"cpu\")\n",
    "model = models.resnet50(pretrained=True)\n",
    "print(model)"
   ]
  },
  {
   "cell_type": "code",
   "execution_count": 37,
   "metadata": {},
   "outputs": [
    {
     "data": {
      "text/plain": [
       "ResNet(\n",
       "  (conv1): Conv2d(3, 64, kernel_size=(7, 7), stride=(2, 2), padding=(3, 3), bias=False)\n",
       "  (bn1): BatchNorm2d(64, eps=1e-05, momentum=0.1, affine=True, track_running_stats=True)\n",
       "  (relu): ReLU(inplace=True)\n",
       "  (maxpool): MaxPool2d(kernel_size=3, stride=2, padding=1, dilation=1, ceil_mode=False)\n",
       "  (layer1): Sequential(\n",
       "    (0): Bottleneck(\n",
       "      (conv1): Conv2d(64, 64, kernel_size=(1, 1), stride=(1, 1), bias=False)\n",
       "      (bn1): BatchNorm2d(64, eps=1e-05, momentum=0.1, affine=True, track_running_stats=True)\n",
       "      (conv2): Conv2d(64, 64, kernel_size=(3, 3), stride=(1, 1), padding=(1, 1), bias=False)\n",
       "      (bn2): BatchNorm2d(64, eps=1e-05, momentum=0.1, affine=True, track_running_stats=True)\n",
       "      (conv3): Conv2d(64, 256, kernel_size=(1, 1), stride=(1, 1), bias=False)\n",
       "      (bn3): BatchNorm2d(256, eps=1e-05, momentum=0.1, affine=True, track_running_stats=True)\n",
       "      (relu): ReLU(inplace=True)\n",
       "      (downsample): Sequential(\n",
       "        (0): Conv2d(64, 256, kernel_size=(1, 1), stride=(1, 1), bias=False)\n",
       "        (1): BatchNorm2d(256, eps=1e-05, momentum=0.1, affine=True, track_running_stats=True)\n",
       "      )\n",
       "    )\n",
       "    (1): Bottleneck(\n",
       "      (conv1): Conv2d(256, 64, kernel_size=(1, 1), stride=(1, 1), bias=False)\n",
       "      (bn1): BatchNorm2d(64, eps=1e-05, momentum=0.1, affine=True, track_running_stats=True)\n",
       "      (conv2): Conv2d(64, 64, kernel_size=(3, 3), stride=(1, 1), padding=(1, 1), bias=False)\n",
       "      (bn2): BatchNorm2d(64, eps=1e-05, momentum=0.1, affine=True, track_running_stats=True)\n",
       "      (conv3): Conv2d(64, 256, kernel_size=(1, 1), stride=(1, 1), bias=False)\n",
       "      (bn3): BatchNorm2d(256, eps=1e-05, momentum=0.1, affine=True, track_running_stats=True)\n",
       "      (relu): ReLU(inplace=True)\n",
       "    )\n",
       "    (2): Bottleneck(\n",
       "      (conv1): Conv2d(256, 64, kernel_size=(1, 1), stride=(1, 1), bias=False)\n",
       "      (bn1): BatchNorm2d(64, eps=1e-05, momentum=0.1, affine=True, track_running_stats=True)\n",
       "      (conv2): Conv2d(64, 64, kernel_size=(3, 3), stride=(1, 1), padding=(1, 1), bias=False)\n",
       "      (bn2): BatchNorm2d(64, eps=1e-05, momentum=0.1, affine=True, track_running_stats=True)\n",
       "      (conv3): Conv2d(64, 256, kernel_size=(1, 1), stride=(1, 1), bias=False)\n",
       "      (bn3): BatchNorm2d(256, eps=1e-05, momentum=0.1, affine=True, track_running_stats=True)\n",
       "      (relu): ReLU(inplace=True)\n",
       "    )\n",
       "  )\n",
       "  (layer2): Sequential(\n",
       "    (0): Bottleneck(\n",
       "      (conv1): Conv2d(256, 128, kernel_size=(1, 1), stride=(1, 1), bias=False)\n",
       "      (bn1): BatchNorm2d(128, eps=1e-05, momentum=0.1, affine=True, track_running_stats=True)\n",
       "      (conv2): Conv2d(128, 128, kernel_size=(3, 3), stride=(2, 2), padding=(1, 1), bias=False)\n",
       "      (bn2): BatchNorm2d(128, eps=1e-05, momentum=0.1, affine=True, track_running_stats=True)\n",
       "      (conv3): Conv2d(128, 512, kernel_size=(1, 1), stride=(1, 1), bias=False)\n",
       "      (bn3): BatchNorm2d(512, eps=1e-05, momentum=0.1, affine=True, track_running_stats=True)\n",
       "      (relu): ReLU(inplace=True)\n",
       "      (downsample): Sequential(\n",
       "        (0): Conv2d(256, 512, kernel_size=(1, 1), stride=(2, 2), bias=False)\n",
       "        (1): BatchNorm2d(512, eps=1e-05, momentum=0.1, affine=True, track_running_stats=True)\n",
       "      )\n",
       "    )\n",
       "    (1): Bottleneck(\n",
       "      (conv1): Conv2d(512, 128, kernel_size=(1, 1), stride=(1, 1), bias=False)\n",
       "      (bn1): BatchNorm2d(128, eps=1e-05, momentum=0.1, affine=True, track_running_stats=True)\n",
       "      (conv2): Conv2d(128, 128, kernel_size=(3, 3), stride=(1, 1), padding=(1, 1), bias=False)\n",
       "      (bn2): BatchNorm2d(128, eps=1e-05, momentum=0.1, affine=True, track_running_stats=True)\n",
       "      (conv3): Conv2d(128, 512, kernel_size=(1, 1), stride=(1, 1), bias=False)\n",
       "      (bn3): BatchNorm2d(512, eps=1e-05, momentum=0.1, affine=True, track_running_stats=True)\n",
       "      (relu): ReLU(inplace=True)\n",
       "    )\n",
       "    (2): Bottleneck(\n",
       "      (conv1): Conv2d(512, 128, kernel_size=(1, 1), stride=(1, 1), bias=False)\n",
       "      (bn1): BatchNorm2d(128, eps=1e-05, momentum=0.1, affine=True, track_running_stats=True)\n",
       "      (conv2): Conv2d(128, 128, kernel_size=(3, 3), stride=(1, 1), padding=(1, 1), bias=False)\n",
       "      (bn2): BatchNorm2d(128, eps=1e-05, momentum=0.1, affine=True, track_running_stats=True)\n",
       "      (conv3): Conv2d(128, 512, kernel_size=(1, 1), stride=(1, 1), bias=False)\n",
       "      (bn3): BatchNorm2d(512, eps=1e-05, momentum=0.1, affine=True, track_running_stats=True)\n",
       "      (relu): ReLU(inplace=True)\n",
       "    )\n",
       "    (3): Bottleneck(\n",
       "      (conv1): Conv2d(512, 128, kernel_size=(1, 1), stride=(1, 1), bias=False)\n",
       "      (bn1): BatchNorm2d(128, eps=1e-05, momentum=0.1, affine=True, track_running_stats=True)\n",
       "      (conv2): Conv2d(128, 128, kernel_size=(3, 3), stride=(1, 1), padding=(1, 1), bias=False)\n",
       "      (bn2): BatchNorm2d(128, eps=1e-05, momentum=0.1, affine=True, track_running_stats=True)\n",
       "      (conv3): Conv2d(128, 512, kernel_size=(1, 1), stride=(1, 1), bias=False)\n",
       "      (bn3): BatchNorm2d(512, eps=1e-05, momentum=0.1, affine=True, track_running_stats=True)\n",
       "      (relu): ReLU(inplace=True)\n",
       "    )\n",
       "  )\n",
       "  (layer3): Sequential(\n",
       "    (0): Bottleneck(\n",
       "      (conv1): Conv2d(512, 256, kernel_size=(1, 1), stride=(1, 1), bias=False)\n",
       "      (bn1): BatchNorm2d(256, eps=1e-05, momentum=0.1, affine=True, track_running_stats=True)\n",
       "      (conv2): Conv2d(256, 256, kernel_size=(3, 3), stride=(2, 2), padding=(1, 1), bias=False)\n",
       "      (bn2): BatchNorm2d(256, eps=1e-05, momentum=0.1, affine=True, track_running_stats=True)\n",
       "      (conv3): Conv2d(256, 1024, kernel_size=(1, 1), stride=(1, 1), bias=False)\n",
       "      (bn3): BatchNorm2d(1024, eps=1e-05, momentum=0.1, affine=True, track_running_stats=True)\n",
       "      (relu): ReLU(inplace=True)\n",
       "      (downsample): Sequential(\n",
       "        (0): Conv2d(512, 1024, kernel_size=(1, 1), stride=(2, 2), bias=False)\n",
       "        (1): BatchNorm2d(1024, eps=1e-05, momentum=0.1, affine=True, track_running_stats=True)\n",
       "      )\n",
       "    )\n",
       "    (1): Bottleneck(\n",
       "      (conv1): Conv2d(1024, 256, kernel_size=(1, 1), stride=(1, 1), bias=False)\n",
       "      (bn1): BatchNorm2d(256, eps=1e-05, momentum=0.1, affine=True, track_running_stats=True)\n",
       "      (conv2): Conv2d(256, 256, kernel_size=(3, 3), stride=(1, 1), padding=(1, 1), bias=False)\n",
       "      (bn2): BatchNorm2d(256, eps=1e-05, momentum=0.1, affine=True, track_running_stats=True)\n",
       "      (conv3): Conv2d(256, 1024, kernel_size=(1, 1), stride=(1, 1), bias=False)\n",
       "      (bn3): BatchNorm2d(1024, eps=1e-05, momentum=0.1, affine=True, track_running_stats=True)\n",
       "      (relu): ReLU(inplace=True)\n",
       "    )\n",
       "    (2): Bottleneck(\n",
       "      (conv1): Conv2d(1024, 256, kernel_size=(1, 1), stride=(1, 1), bias=False)\n",
       "      (bn1): BatchNorm2d(256, eps=1e-05, momentum=0.1, affine=True, track_running_stats=True)\n",
       "      (conv2): Conv2d(256, 256, kernel_size=(3, 3), stride=(1, 1), padding=(1, 1), bias=False)\n",
       "      (bn2): BatchNorm2d(256, eps=1e-05, momentum=0.1, affine=True, track_running_stats=True)\n",
       "      (conv3): Conv2d(256, 1024, kernel_size=(1, 1), stride=(1, 1), bias=False)\n",
       "      (bn3): BatchNorm2d(1024, eps=1e-05, momentum=0.1, affine=True, track_running_stats=True)\n",
       "      (relu): ReLU(inplace=True)\n",
       "    )\n",
       "    (3): Bottleneck(\n",
       "      (conv1): Conv2d(1024, 256, kernel_size=(1, 1), stride=(1, 1), bias=False)\n",
       "      (bn1): BatchNorm2d(256, eps=1e-05, momentum=0.1, affine=True, track_running_stats=True)\n",
       "      (conv2): Conv2d(256, 256, kernel_size=(3, 3), stride=(1, 1), padding=(1, 1), bias=False)\n",
       "      (bn2): BatchNorm2d(256, eps=1e-05, momentum=0.1, affine=True, track_running_stats=True)\n",
       "      (conv3): Conv2d(256, 1024, kernel_size=(1, 1), stride=(1, 1), bias=False)\n",
       "      (bn3): BatchNorm2d(1024, eps=1e-05, momentum=0.1, affine=True, track_running_stats=True)\n",
       "      (relu): ReLU(inplace=True)\n",
       "    )\n",
       "    (4): Bottleneck(\n",
       "      (conv1): Conv2d(1024, 256, kernel_size=(1, 1), stride=(1, 1), bias=False)\n",
       "      (bn1): BatchNorm2d(256, eps=1e-05, momentum=0.1, affine=True, track_running_stats=True)\n",
       "      (conv2): Conv2d(256, 256, kernel_size=(3, 3), stride=(1, 1), padding=(1, 1), bias=False)\n",
       "      (bn2): BatchNorm2d(256, eps=1e-05, momentum=0.1, affine=True, track_running_stats=True)\n",
       "      (conv3): Conv2d(256, 1024, kernel_size=(1, 1), stride=(1, 1), bias=False)\n",
       "      (bn3): BatchNorm2d(1024, eps=1e-05, momentum=0.1, affine=True, track_running_stats=True)\n",
       "      (relu): ReLU(inplace=True)\n",
       "    )\n",
       "    (5): Bottleneck(\n",
       "      (conv1): Conv2d(1024, 256, kernel_size=(1, 1), stride=(1, 1), bias=False)\n",
       "      (bn1): BatchNorm2d(256, eps=1e-05, momentum=0.1, affine=True, track_running_stats=True)\n",
       "      (conv2): Conv2d(256, 256, kernel_size=(3, 3), stride=(1, 1), padding=(1, 1), bias=False)\n",
       "      (bn2): BatchNorm2d(256, eps=1e-05, momentum=0.1, affine=True, track_running_stats=True)\n",
       "      (conv3): Conv2d(256, 1024, kernel_size=(1, 1), stride=(1, 1), bias=False)\n",
       "      (bn3): BatchNorm2d(1024, eps=1e-05, momentum=0.1, affine=True, track_running_stats=True)\n",
       "      (relu): ReLU(inplace=True)\n",
       "    )\n",
       "  )\n",
       "  (layer4): Sequential(\n",
       "    (0): Bottleneck(\n",
       "      (conv1): Conv2d(1024, 512, kernel_size=(1, 1), stride=(1, 1), bias=False)\n",
       "      (bn1): BatchNorm2d(512, eps=1e-05, momentum=0.1, affine=True, track_running_stats=True)\n",
       "      (conv2): Conv2d(512, 512, kernel_size=(3, 3), stride=(2, 2), padding=(1, 1), bias=False)\n",
       "      (bn2): BatchNorm2d(512, eps=1e-05, momentum=0.1, affine=True, track_running_stats=True)\n",
       "      (conv3): Conv2d(512, 2048, kernel_size=(1, 1), stride=(1, 1), bias=False)\n",
       "      (bn3): BatchNorm2d(2048, eps=1e-05, momentum=0.1, affine=True, track_running_stats=True)\n",
       "      (relu): ReLU(inplace=True)\n",
       "      (downsample): Sequential(\n",
       "        (0): Conv2d(1024, 2048, kernel_size=(1, 1), stride=(2, 2), bias=False)\n",
       "        (1): BatchNorm2d(2048, eps=1e-05, momentum=0.1, affine=True, track_running_stats=True)\n",
       "      )\n",
       "    )\n",
       "    (1): Bottleneck(\n",
       "      (conv1): Conv2d(2048, 512, kernel_size=(1, 1), stride=(1, 1), bias=False)\n",
       "      (bn1): BatchNorm2d(512, eps=1e-05, momentum=0.1, affine=True, track_running_stats=True)\n",
       "      (conv2): Conv2d(512, 512, kernel_size=(3, 3), stride=(1, 1), padding=(1, 1), bias=False)\n",
       "      (bn2): BatchNorm2d(512, eps=1e-05, momentum=0.1, affine=True, track_running_stats=True)\n",
       "      (conv3): Conv2d(512, 2048, kernel_size=(1, 1), stride=(1, 1), bias=False)\n",
       "      (bn3): BatchNorm2d(2048, eps=1e-05, momentum=0.1, affine=True, track_running_stats=True)\n",
       "      (relu): ReLU(inplace=True)\n",
       "    )\n",
       "    (2): Bottleneck(\n",
       "      (conv1): Conv2d(2048, 512, kernel_size=(1, 1), stride=(1, 1), bias=False)\n",
       "      (bn1): BatchNorm2d(512, eps=1e-05, momentum=0.1, affine=True, track_running_stats=True)\n",
       "      (conv2): Conv2d(512, 512, kernel_size=(3, 3), stride=(1, 1), padding=(1, 1), bias=False)\n",
       "      (bn2): BatchNorm2d(512, eps=1e-05, momentum=0.1, affine=True, track_running_stats=True)\n",
       "      (conv3): Conv2d(512, 2048, kernel_size=(1, 1), stride=(1, 1), bias=False)\n",
       "      (bn3): BatchNorm2d(2048, eps=1e-05, momentum=0.1, affine=True, track_running_stats=True)\n",
       "      (relu): ReLU(inplace=True)\n",
       "    )\n",
       "  )\n",
       "  (avgpool): AdaptiveAvgPool2d(output_size=(1, 1))\n",
       "  (fc): Sequential(\n",
       "    (0): Linear(in_features=2048, out_features=512, bias=True)\n",
       "    (1): ReLU()\n",
       "    (2): Dropout(p=0.2, inplace=False)\n",
       "    (3): Linear(in_features=512, out_features=10, bias=True)\n",
       "    (4): LogSoftmax(dim=1)\n",
       "  )\n",
       ")"
      ]
     },
     "execution_count": 37,
     "metadata": {},
     "output_type": "execute_result"
    }
   ],
   "source": [
    "for param in model.parameters():\n",
    "    param.requires_grad = False\n",
    "    \n",
    "model.fc = nn.Sequential(nn.Linear(2048, 512),\n",
    "                                 nn.ReLU(),\n",
    "                                 nn.Dropout(0.2),\n",
    "                                 nn.Linear(512, 10),\n",
    "                                 nn.LogSoftmax(dim=1))\n",
    "criterion = nn.NLLLoss()\n",
    "optimizer = optim.Adam(model.fc.parameters(), lr=0.003)\n",
    "model.to(device)"
   ]
  },
  {
   "cell_type": "markdown",
   "metadata": {},
   "source": [
    "Here, Adam optimizer and learning rate of 0.003 is used."
   ]
  },
  {
   "cell_type": "code",
   "execution_count": 38,
   "metadata": {},
   "outputs": [
    {
     "name": "stdout",
     "output_type": "stream",
     "text": [
      "Epoch: 0 | Loss: 2.3162\n",
      "Epoch: 1 | Loss: 1.8104\n"
     ]
    }
   ],
   "source": [
    "# training loop\n",
    "steps = 0\n",
    "running_loss = 0\n",
    "train_losses, test_losses = [], []\n",
    "for epoch in range(EPOCHS):\n",
    "    tr_loss = 0.0\n",
    "\n",
    "    model = model.train()\n",
    "\n",
    "    for i, (images, labels) in enumerate(trainloader):        \n",
    "        #images = images.reshape(-1,224 * 224).to(DEVICE)\n",
    "        steps += 1\n",
    "        images = images.to(DEVICE)\n",
    "        labels = labels.to(DEVICE) \n",
    "        #forward pass\n",
    "        outputs = model(images.float())       \n",
    "        loss = criterion(outputs, labels)\n",
    "        #backward pass\n",
    "        optimizer.zero_grad()\n",
    "        loss.backward()\n",
    "        optimizer.step()\n",
    "\n",
    "        tr_loss += loss.detach().item()\n",
    "        \n",
    "        \n",
    "        test_loss = 0\n",
    "        accuracy = 0\n",
    "        \n",
    "        \n",
    "        #model.eval()\n",
    "        with torch.no_grad():\n",
    "            for i, (img, labels) in enumerate(testloader):\n",
    "                img = img.to(DEVICE)\n",
    "                logps = model(img)\n",
    "                \n",
    "                #batch_loss = criterion(logps, fname)\n",
    "                #test_loss += batch_loss.item()\n",
    "                    \n",
    "                ps = torch.exp(logps)\n",
    "                top_p, top_class = ps.topk(1, dim=1)\n",
    "                \n",
    "                \n",
    "        \n",
    "                for pred in top_class:\n",
    "                    prediction.append(pred.item())\n",
    "                 \n",
    "                \n",
    "             \n",
    "    \n",
    "    model.eval()\n",
    "    print('Epoch: %d | Loss: %.4f'%(epoch, tr_loss))"
   ]
  },
  {
   "cell_type": "markdown",
   "metadata": {},
   "source": [
    "In this case loss is minimum compared to previous training with other optimizer and different parameters."
   ]
  },
  {
   "cell_type": "code",
   "execution_count": 43,
   "metadata": {},
   "outputs": [
    {
     "name": "stdout",
     "output_type": "stream",
     "text": [
      "[1, 1, 1, 1, 1, 1, 1, 1, 1, 1]\n"
     ]
    }
   ],
   "source": [
    "prediction = []\n",
    "with torch.no_grad():\n",
    "    model.eval()\n",
    "    for i, (img, fname) in enumerate(testloader):  \n",
    "        img = img.to(DEVICE)\n",
    "        output = model(img)\n",
    "        p = torch.exp(output)        \n",
    "        _, topClass = p.topk(1, dim=1)\n",
    "        \n",
    "        for pred in topClass:\n",
    "            prediction.append(pred.item())\n",
    "print(prediction)"
   ]
  },
  {
   "cell_type": "code",
   "execution_count": null,
   "metadata": {},
   "outputs": [],
   "source": []
  },
  {
   "cell_type": "code",
   "execution_count": 40,
   "metadata": {},
   "outputs": [],
   "source": [
    "trainset = GetData(train_images_dir, X_Train, Y_Train, Transform)\n",
    "train_loader = torch.utils.data.DataLoader(trainset,\n",
    "                                             batch_size=100,\n",
    "                                                shuffle=True,\n",
    "                                                num_workers=0,\n",
    "                                                )"
   ]
  },
  {
   "cell_type": "code",
   "execution_count": 41,
   "metadata": {},
   "outputs": [
    {
     "name": "stdout",
     "output_type": "stream",
     "text": [
      "Epoch: 0 | Loss: 1.0335\n",
      "Epoch: 1 | Loss: 0.8820\n"
     ]
    }
   ],
   "source": [
    "# training loop\n",
    "\n",
    "for epoch in range(EPOCHS):\n",
    "    tr_loss = 0.0\n",
    "\n",
    "    model = model.train()\n",
    "\n",
    "    for i, (images, labels) in enumerate(train_loader):  \n",
    "    #for i, data in enumerate(trainloader, 0):\n",
    "        # get the inputs; data is a list of [inputs, labels]\n",
    "        #images, labels = data\n",
    "        #images = images.reshape(-1,224 * 224).to(DEVICE)\n",
    "        images = images.to(DEVICE)\n",
    "        labels = labels.to(DEVICE) \n",
    "        #forward pass\n",
    "        outputs = model(images.float())       \n",
    "        loss = criterion(outputs, labels)\n",
    "        #backward pass\n",
    "        optimizer.zero_grad()\n",
    "        loss.backward()\n",
    "        optimizer.step()\n",
    "\n",
    "        tr_loss += loss.detach().item()\n",
    "    \n",
    "    model.eval()\n",
    "    print('Epoch: %d | Loss: %.4f'%(epoch, tr_loss))"
   ]
  },
  {
   "cell_type": "code",
   "execution_count": null,
   "metadata": {},
   "outputs": [],
   "source": []
  },
  {
   "cell_type": "raw",
   "metadata": {},
   "source": [
    "Refernces:\n",
    "\n",
    "1) https://github.com/paultsw/mnist_mpi\n",
    "2) https://towardsdatascience.com/how-to-train-an-image-classifier-in-pytorch-and-use-it-to-perform-basic-inference-on-single-images-99465a1e9bf5"
   ]
  },
  {
   "cell_type": "code",
   "execution_count": null,
   "metadata": {},
   "outputs": [],
   "source": []
  }
 ],
 "metadata": {
  "kernelspec": {
   "display_name": "Python 3",
   "language": "python",
   "name": "python3"
  },
  "language_info": {
   "codemirror_mode": {
    "name": "ipython",
    "version": 3
   },
   "file_extension": ".py",
   "mimetype": "text/x-python",
   "name": "python",
   "nbconvert_exporter": "python",
   "pygments_lexer": "ipython3",
   "version": "3.7.4"
  }
 },
 "nbformat": 4,
 "nbformat_minor": 2
}
