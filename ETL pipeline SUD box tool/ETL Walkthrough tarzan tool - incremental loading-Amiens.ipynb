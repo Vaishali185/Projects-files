{
 "cells": [
  {
   "cell_type": "markdown",
   "metadata": {},
   "source": [
    "# SUD tarzan tool: ETL Walkthrough incremental loading"
   ]
  },
  {
   "cell_type": "markdown",
   "metadata": {},
   "source": [
    "## Outline\n",
    " \n",
    "> This notebook provides a comprehensive overview of ETL process behind the SUD Box Rejects Analysis dashboard. The notebook covers the part of the process related to generation of of the following tables behind the dashboard:\n",
    " * SUD_BOX_TOTALS\n",
    " * SUD_BOX_REJECT\n",
    " * SUD_BOX_CAUSE_REJECTS_DIM\n",
    " * SUD_BOX_LINE_RECIPE_DIM\n",
    "\n",
    "\n"
   ]
  },
  {
   "cell_type": "markdown",
   "metadata": {
    "ExecuteTime": {
     "end_time": "2022-05-25T11:42:27.920883Z",
     "start_time": "2022-05-25T11:42:27.913119Z"
    }
   },
   "source": [
    "## Questions\n",
    "1."
   ]
  },
  {
   "cell_type": "markdown",
   "metadata": {},
   "source": [
    "## Setup\n",
    "\n"
   ]
  },
  {
   "cell_type": "markdown",
   "metadata": {
    "ExecuteTime": {
     "end_time": "2022-05-25T11:43:26.114965Z",
     "start_time": "2022-05-25T11:43:26.109738Z"
    }
   },
   "source": [
    "### Imports"
   ]
  },
  {
   "cell_type": "code",
   "execution_count": 1,
   "metadata": {
    "ExecuteTime": {
     "end_time": "2023-04-17T08:44:36.847151Z",
     "start_time": "2023-04-17T08:44:35.619601Z"
    }
   },
   "outputs": [],
   "source": [
    "\n",
    "import pandas as pd\n",
    "import pyodbc as pyodbc\n",
    "\n",
    "import logging\n",
    "import queries\n",
    "\n",
    "import sys\n",
    "import os\n",
    "import logging\n",
    "import sys\n",
    "import argparse\n",
    "import pytz\n",
    "from os.path import join, split \n",
    "\n",
    "from datetime import datetime, timedelta\n",
    "from tomlkit import parse, dumps, loads\n",
    "from typing import List, Tuple\n",
    "\n",
    "import historian\n",
    "\n",
    "\n",
    "from sud_tools import *\n",
    "from sud_utils import *\n",
    "from tool_utils import *\n",
    "\n"
   ]
  },
  {
   "cell_type": "markdown",
   "metadata": {},
   "source": [
    "### Reading in the configuration file\n",
    "\n",
    "The configuration file contains all parameters required for the orchestration of the ETL process. This data is stored in toml file, path to which is provided as a parameter of an ETL job. In case if a configuration file is not provided the *ValueError* is raised."
   ]
  },
  {
   "cell_type": "code",
   "execution_count": 2,
   "metadata": {
    "ExecuteTime": {
     "end_time": "2023-04-17T08:44:36.981969Z",
     "start_time": "2023-04-17T08:44:36.916496Z"
    }
   },
   "outputs": [],
   "source": [
    "cfg_file_nm = 'etl_config_temp.toml'\n",
    "cfg_file_path = join(os.getcwd(), cfg_file_nm)\n",
    "# checking if config file exists\n",
    "if not os.path.isfile(cfg_file_path):\n",
    "    raise ValueError(f'No config file was found at: {cfg_file_path}')\n",
    "else:\n",
    "    # reading in the config file\n",
    "    cfg = loads(open(cfg_file_path).read())"
   ]
  },
  {
   "cell_type": "markdown",
   "metadata": {},
   "source": [
    "# main ETL"
   ]
  },
  {
   "cell_type": "markdown",
   "metadata": {},
   "source": [
    "## Configuration"
   ]
  },
  {
   "cell_type": "markdown",
   "metadata": {},
   "source": [
    "### Configuration setting and getting all tag lists\n",
    "\n",
    "In this section all configuration parameters required for the orchestration of the ETL are getting initialized with the values provided in the configuration file. The ETL process is carried out for each SUD site seperatly, thus following 2 sections outline General and Site specific configuration settings for the ETL.\n",
    "1. General Configuration\n",
    "2. Site Specific Configuration"
   ]
  },
  {
   "cell_type": "markdown",
   "metadata": {},
   "source": [
    "1. General configuration:\n",
    "\n",
    "\n",
    "General configuration includes parameters related to job (e.g. identifier, name), logs (path to logs), datalab db connection parameters and Power BI refresh parameters as shown in below sections."
   ]
  },
  {
   "cell_type": "markdown",
   "metadata": {},
   "source": [
    "### Setting up the connection to DatalabDB"
   ]
  },
  {
   "cell_type": "code",
   "execution_count": 3,
   "metadata": {
    "ExecuteTime": {
     "end_time": "2023-04-17T08:44:58.670821Z",
     "start_time": "2023-04-17T08:44:58.628797Z"
    }
   },
   "outputs": [
    {
     "name": "stdout",
     "output_type": "stream",
     "text": [
      "Datalab connection parameters: Server=azpg-sqlserver-fhcenganalyticsdatalab.database.windows.net; Database=DatalabDB; Driver=ODBC Driver 17 for SQL Server;\n"
     ]
    }
   ],
   "source": [
    "# datalab integration\n",
    "datalab_cfg = cfg['datalab_db'].copy()\n",
    "\n",
    "# setting up run configuration with parameters from cfg file\n",
    "datalab_db_conn = get_mssql_conn_string(**datalab_cfg['connection'])\n",
    "datalab_db_access_url = r\"{}\".format(datalab_cfg['access_token_url']['access_token_url'])\n",
    "datalab_db_access_token = get_azure_sql_db_access_token(datalab_db_access_url)\n",
    "\n",
    "\n",
    "box_rejects_table_nm = datalab_cfg['output_tables']['box_rejects_table_nm']\n",
    "box_production_table_nm = datalab_cfg['output_tables']['box_production_table_nm']\n",
    "box_reject_cause_table_nm = datalab_cfg['output_tables']['box_reject_cause_table_nm']\n",
    "box_line_recipe_table_nm = datalab_cfg['output_tables']['box_line_recipe_table_nm']\n",
    "\n",
    "rejects_agg_freq = datalab_cfg['output_tables']['agg_freq']\n",
    "totals_agg_freq = datalab_cfg['output_tables']['totals_agg_freq']\n",
    "\n",
    "pbi_refresh_url = cfg['powerbi']['api_url']\n",
    "pbi_refresh_app = cfg['powerbi']['app_name']\n",
    "\n",
    "print(f'Datalab connection parameters: {datalab_db_conn}')"
   ]
  },
  {
   "cell_type": "code",
   "execution_count": 4,
   "metadata": {
    "ExecuteTime": {
     "end_time": "2023-04-17T08:44:59.478519Z",
     "start_time": "2023-04-17T08:44:59.470694Z"
    }
   },
   "outputs": [
    {
     "name": "stdout",
     "output_type": "stream",
     "text": [
      "job_id: 41, job_nm: Box_tool: ami\n"
     ]
    }
   ],
   "source": [
    "site_cd = 'ami' # change the code to run initial loading for other site\n",
    "job_id = 10*cfg['job']['id'] + cfg['sites'][site_cd]['job_id_offset']\n",
    "job_nm = ': '.join((cfg['job']['name'], site_cd))\n",
    "job_summary_table_nm = cfg['job']['job_summary_table_nm']\n",
    "\n",
    "print(f'job_id: {job_id}, job_nm: {job_nm}')"
   ]
  },
  {
   "cell_type": "markdown",
   "metadata": {},
   "source": [
    "### Fetching the tag list information\n"
   ]
  },
  {
   "cell_type": "code",
   "execution_count": 5,
   "metadata": {
    "ExecuteTime": {
     "end_time": "2023-04-17T08:45:01.005112Z",
     "start_time": "2023-04-17T08:45:00.941582Z"
    }
   },
   "outputs": [
    {
     "name": "stdout",
     "output_type": "stream",
     "text": [
      "Path to tag list table: F:\\Ecosystem Non-OneDrive\\Development Area\\MVP048 SUD Box tool\\Data\\Input\\tag_list.xlsx\n",
      "Shape of the tags list table: (270, 3)\n"
     ]
    }
   ],
   "source": [
    "# reading the tag list file\n",
    "tags_list_path = cfg['job']['path_to_tags_list']\n",
    "print(f'Path to tag list table: {tags_list_path}')\n",
    "\n",
    "# cheking if the logs folder exist\n",
    "if not os.path.exists(tags_list_path):\n",
    "    print(f'INFO: Didn not find logs folder at {tags_list_path}.')\n",
    "    raise ValueError('Was not able to file tags list. Aborting...')\n",
    "else:\n",
    "    tags_list_df = pd.read_excel(tags_list_path)\n",
    "    print(f'Shape of the tags list table: {tags_list_df.shape}')"
   ]
  },
  {
   "cell_type": "code",
   "execution_count": 6,
   "metadata": {
    "ExecuteTime": {
     "end_time": "2023-04-17T08:45:01.484907Z",
     "start_time": "2023-04-17T08:45:01.384064Z"
    }
   },
   "outputs": [
    {
     "data": {
      "text/html": [
       "<div>\n",
       "<style scoped>\n",
       "    .dataframe tbody tr th:only-of-type {\n",
       "        vertical-align: middle;\n",
       "    }\n",
       "\n",
       "    .dataframe tbody tr th {\n",
       "        vertical-align: top;\n",
       "    }\n",
       "\n",
       "    .dataframe thead th {\n",
       "        text-align: right;\n",
       "    }\n",
       "</style>\n",
       "<table border=\"1\" class=\"dataframe\">\n",
       "  <thead>\n",
       "    <tr style=\"text-align: right;\">\n",
       "      <th></th>\n",
       "      <th>TagName</th>\n",
       "      <th>site</th>\n",
       "      <th>enabled</th>\n",
       "    </tr>\n",
       "  </thead>\n",
       "  <tbody>\n",
       "    <tr>\n",
       "      <th>0</th>\n",
       "      <td>LXXX_Cover_General_ExtractedCartons_Total_Coun...</td>\n",
       "      <td>Urlati</td>\n",
       "      <td>1</td>\n",
       "    </tr>\n",
       "    <tr>\n",
       "      <th>1</th>\n",
       "      <td>LXXX_Cover_General_ProducedCovers_Total_Counte...</td>\n",
       "      <td>Urlati</td>\n",
       "      <td>1</td>\n",
       "    </tr>\n",
       "    <tr>\n",
       "      <th>2</th>\n",
       "      <td>LXXX_Cover_General_RejectedCovers_0_Counter_Ac...</td>\n",
       "      <td>Urlati</td>\n",
       "      <td>1</td>\n",
       "    </tr>\n",
       "    <tr>\n",
       "      <th>3</th>\n",
       "      <td>LXXX_Cover_Reshipper_good_inserted_n</td>\n",
       "      <td>Urlati</td>\n",
       "      <td>0</td>\n",
       "    </tr>\n",
       "    <tr>\n",
       "      <th>4</th>\n",
       "      <td>LXXX_Cover_Reshipper_bad_rejected_n</td>\n",
       "      <td>Urlati</td>\n",
       "      <td>0</td>\n",
       "    </tr>\n",
       "  </tbody>\n",
       "</table>\n",
       "</div>"
      ],
      "text/plain": [
       "                                             TagName    site  enabled\n",
       "0  LXXX_Cover_General_ExtractedCartons_Total_Coun...  Urlati        1\n",
       "1  LXXX_Cover_General_ProducedCovers_Total_Counte...  Urlati        1\n",
       "2  LXXX_Cover_General_RejectedCovers_0_Counter_Ac...  Urlati        1\n",
       "3               LXXX_Cover_Reshipper_good_inserted_n  Urlati        0\n",
       "4                LXXX_Cover_Reshipper_bad_rejected_n  Urlati        0"
      ]
     },
     "execution_count": 6,
     "metadata": {},
     "output_type": "execute_result"
    }
   ],
   "source": [
    "tags_list_df.head()"
   ]
  },
  {
   "cell_type": "markdown",
   "metadata": {},
   "source": [
    "### Site Specific Configuration\n",
    "\n",
    "Site specific configuration will include the parameters for getting site and line specific information from configuration file. This is shown in below subsections.\n"
   ]
  },
  {
   "cell_type": "code",
   "execution_count": 7,
   "metadata": {
    "ExecuteTime": {
     "end_time": "2023-04-17T08:45:04.633391Z",
     "start_time": "2023-04-17T08:45:04.623626Z"
    }
   },
   "outputs": [],
   "source": [
    "site_cfg = cfg['sites'][site_cd].copy()\n",
    "\n",
    "site_name = site_cfg['site_name']\n",
    "site_enabled = site_cfg['enabled']\n",
    "\n",
    "\n",
    "site_history_buffer_days = site_cfg['history_buffer_days']\n",
    "\n",
    "site_servers = site_cfg['servers'].copy()\n",
    "site_lines = site_cfg['lines']['lines']\n",
    "site_lines_agile = site_cfg['lines']['lines_agile']\n",
    "site_lines_dim = site_cfg['lines']['lines_dim']\n",
    "line_maping_dict = dict(zip(site_lines, site_lines_dim))\n",
    "\n",
    "site_historian_tags = site_cfg['tags'].copy()\n",
    "\n",
    "site_tz = site_servers['timezone']\n",
    "site_dttm_format = site_servers['dttm_format']\n",
    "site_historian_source = site_servers['historian']['source']\n",
    "site_history_depth = site_servers['historian']['history_depth_days']\n",
    "site_days_to_retake = site_history_depth + site_history_buffer_days\n",
    "\n"
   ]
  },
  {
   "cell_type": "code",
   "execution_count": 8,
   "metadata": {
    "ExecuteTime": {
     "end_time": "2023-04-17T08:45:04.947950Z",
     "start_time": "2023-04-17T08:45:04.942992Z"
    }
   },
   "outputs": [
    {
     "data": {
      "text/plain": [
       "['SUAM-31 Packing']"
      ]
     },
     "execution_count": 8,
     "metadata": {},
     "output_type": "execute_result"
    }
   ],
   "source": [
    "site_lines_dim"
   ]
  },
  {
   "cell_type": "code",
   "execution_count": 9,
   "metadata": {
    "ExecuteTime": {
     "end_time": "2023-04-17T08:45:05.483102Z",
     "start_time": "2023-04-17T08:45:05.476271Z"
    }
   },
   "outputs": [
    {
     "data": {
      "text/plain": [
       "['L313']"
      ]
     },
     "execution_count": 9,
     "metadata": {},
     "output_type": "execute_result"
    }
   ],
   "source": [
    "site_lines"
   ]
  },
  {
   "cell_type": "code",
   "execution_count": 10,
   "metadata": {
    "ExecuteTime": {
     "end_time": "2023-04-17T08:45:05.963611Z",
     "start_time": "2023-04-17T08:45:05.955808Z"
    }
   },
   "outputs": [
    {
     "data": {
      "text/plain": [
       "{'L313': 'SUAM-31 Packing'}"
      ]
     },
     "execution_count": 10,
     "metadata": {},
     "output_type": "execute_result"
    }
   ],
   "source": [
    "line_maping_dict"
   ]
  },
  {
   "cell_type": "code",
   "execution_count": 11,
   "metadata": {
    "ExecuteTime": {
     "end_time": "2023-04-17T08:45:06.697109Z",
     "start_time": "2023-04-17T08:45:06.689287Z"
    }
   },
   "outputs": [
    {
     "name": "stdout",
     "output_type": "stream",
     "text": [
      "Site name: Amiens\n",
      "Site enabled: True\n",
      "Site lines: ['L313']\n",
      "Site lines dimension: ['SUAM-31 Packing']\n",
      "Site lines agile: ['L313']\n",
      "Site historian source: proficy\n"
     ]
    }
   ],
   "source": [
    "print(f'Site name: {site_name}')\n",
    "print(f'Site enabled: {site_enabled}')\n",
    "print(f'Site lines: {site_lines}')\n",
    "print(f'Site lines dimension: {site_lines_dim}')\n",
    "print(f'Site lines agile: {site_lines_agile}')\n",
    "print(f'Site historian source: {site_historian_source}')\n"
   ]
  },
  {
   "cell_type": "markdown",
   "metadata": {},
   "source": [
    "### Reading in the SUD Site and Line dimention tables"
   ]
  },
  {
   "cell_type": "code",
   "execution_count": 12,
   "metadata": {
    "ExecuteTime": {
     "end_time": "2023-04-17T08:45:10.476773Z",
     "start_time": "2023-04-17T08:45:10.294129Z"
    }
   },
   "outputs": [
    {
     "name": "stdout",
     "output_type": "stream",
     "text": [
      "SUD sites dimention table loaded, shape: (5, 10)\n",
      "SUD lines dimention table loaded, shape: (72, 13)\n",
      "SUD reject cause dimention table loaded, shape: (99, 7)\n",
      "SUD line recipe dimention table loaded, shape: (20, 5)\n"
     ]
    }
   ],
   "source": [
    "query_to_execute = \"SELECT * FROM SUD_SITES\"\n",
    "sites_dim_df = pd.read_sql(sql=query_to_execute, con=get_db_connection(datalab_db_conn, datalab_db_access_token))\n",
    "print(f'SUD sites dimention table loaded, shape: {sites_dim_df.shape}')\n",
    "\n",
    "query_to_execute = \"SELECT * FROM SUD_LINES\"\n",
    "lines_dim_df = pd.read_sql(sql=query_to_execute, con=get_db_connection(datalab_db_conn, datalab_db_access_token))\n",
    "print(f'SUD lines dimention table loaded, shape: {lines_dim_df.shape}')\n",
    "\n",
    "query_to_execute = \"SELECT * FROM SUD_BOX_CAUSE_REJECTS_DIM\"\n",
    "reject_cause_dim_df = pd.read_sql(sql=query_to_execute, con=get_db_connection(datalab_db_conn, datalab_db_access_token))\n",
    "print(f'SUD reject cause dimention table loaded, shape: {reject_cause_dim_df.shape}')\n",
    "\n",
    "query_to_execute = \"SELECT * FROM SUD_BOX_LINE_RECIPE_DIM\"\n",
    "line_recipe_dim_df = pd.read_sql(sql=query_to_execute, con=get_db_connection(datalab_db_conn, datalab_db_access_token))\n",
    "print(f'SUD line recipe dimention table loaded, shape: {line_recipe_dim_df.shape}')\n",
    "\n"
   ]
  },
  {
   "cell_type": "markdown",
   "metadata": {},
   "source": [
    "### Getting list of all tags and extracting data for all tags"
   ]
  },
  {
   "cell_type": "code",
   "execution_count": 13,
   "metadata": {
    "ExecuteTime": {
     "end_time": "2023-04-17T08:45:12.662597Z",
     "start_time": "2023-04-17T08:45:12.649899Z"
    }
   },
   "outputs": [
    {
     "data": {
      "text/plain": [
       "['Cover_General_ExtractedCartons_Total_Counter_Actual_n',\n",
       " 'Cover_General_ProducedCovers_Total_Counter_Actual_n',\n",
       " 'Cover_General_RejectedCovers_0_Counter_Actual_n',\n",
       " 'Cover_TransportBelt_CheckExternal_0_0_Rejected_n',\n",
       " 'Cover_TransportBelt_CheckInternal_0_0_Rejected_n']"
      ]
     },
     "execution_count": 13,
     "metadata": {},
     "output_type": "execute_result"
    }
   ],
   "source": [
    "select_mask = (tags_list_df['site'] == site_name) & (tags_list_df['enabled'] == 1)\n",
    "site_tags = tags_list_df.loc[select_mask, 'TagName'].unique()\n",
    "site_tags = ['_'.join(t.split('_')[1:]) for t in site_tags]\n",
    "site_tags[:5]"
   ]
  },
  {
   "cell_type": "code",
   "execution_count": 14,
   "metadata": {
    "ExecuteTime": {
     "end_time": "2023-04-17T08:45:12.989763Z",
     "start_time": "2023-04-17T08:45:12.982942Z"
    }
   },
   "outputs": [
    {
     "name": "stdout",
     "output_type": "stream",
     "text": [
      "119\n"
     ]
    }
   ],
   "source": [
    "print(len(site_tags))"
   ]
  },
  {
   "cell_type": "code",
   "execution_count": 15,
   "metadata": {
    "ExecuteTime": {
     "end_time": "2023-04-17T08:45:13.831685Z",
     "start_time": "2023-04-17T08:45:13.824832Z"
    }
   },
   "outputs": [
    {
     "name": "stdout",
     "output_type": "stream",
     "text": [
      "# Tags to be extracted: 119\n"
     ]
    }
   ],
   "source": [
    "all_tag_list = get_tags_list(lines=site_lines, sensors=site_tags, sep='_', \n",
    "                             topic=site_servers['historian']['proficy']['topic'])\n",
    "print(f'# Tags to be extracted: {len(all_tag_list)}')\n"
   ]
  },
  {
   "cell_type": "markdown",
   "metadata": {},
   "source": [
    "## ETL SUD_BOX_REJECTS table\n",
    "**TODO:**\n",
    "* Add incremantal loading of reject cause dimention table\n",
    "* Add incremental loading of the line recipe dimention table"
   ]
  },
  {
   "cell_type": "markdown",
   "metadata": {},
   "source": [
    "### Generating List  of Tags to Extract"
   ]
  },
  {
   "cell_type": "code",
   "execution_count": 16,
   "metadata": {
    "ExecuteTime": {
     "end_time": "2023-04-17T08:45:16.408110Z",
     "start_time": "2023-04-17T08:45:16.399317Z"
    }
   },
   "outputs": [
    {
     "data": {
      "text/plain": [
       "['Cover_TransportBelt_CheckExternal_0_0_Rejected_n',\n",
       " 'Cover_TransportBelt_CheckInternal_0_0_Rejected_n',\n",
       " 'Cover_TransportBelt_RobotTrack_Skipped_0_Rejected_n',\n",
       " 'Cover_Forming_PatchErectionCheck_Bad_Counter_Rejected_n',\n",
       " 'Cover_Forming_PatchErectionCheck_BadAngle_Counter_Rejected_n']"
      ]
     },
     "execution_count": 16,
     "metadata": {},
     "output_type": "execute_result"
    }
   ],
   "source": [
    "#reject_tags = reject_cause_df.loc[:, 'tag_nm'].unique()\n",
    "reject_tags = reject_cause_dim_df.loc[:, 'tag_nm'].unique().tolist()\n",
    "reject_tags[:5]"
   ]
  },
  {
   "cell_type": "code",
   "execution_count": 17,
   "metadata": {
    "ExecuteTime": {
     "end_time": "2023-04-17T08:45:16.689382Z",
     "start_time": "2023-04-17T08:45:16.682553Z"
    }
   },
   "outputs": [
    {
     "name": "stdout",
     "output_type": "stream",
     "text": [
      "99\n"
     ]
    }
   ],
   "source": [
    "print(len(reject_tags))"
   ]
  },
  {
   "cell_type": "code",
   "execution_count": null,
   "metadata": {
    "ExecuteTime": {
     "end_time": "2023-04-07T13:00:53.911249Z",
     "start_time": "2023-04-07T13:00:53.889632Z"
    }
   },
   "outputs": [],
   "source": []
  },
  {
   "cell_type": "code",
   "execution_count": 18,
   "metadata": {
    "ExecuteTime": {
     "end_time": "2023-04-17T08:45:19.049999Z",
     "start_time": "2023-04-17T08:45:19.041221Z"
    }
   },
   "outputs": [
    {
     "data": {
      "text/plain": [
       "('AMI-SUDHIS-01.L313_Cover_TransportBelt_CheckExternal_0_0_Rejected_n',\n",
       " 'AMI-SUDHIS-01.L313_Cover_TransportBelt_CheckInternal_0_0_Rejected_n',\n",
       " 'AMI-SUDHIS-01.L313_Cover_TransportBelt_RobotTrack_Skipped_0_Rejected_n',\n",
       " 'AMI-SUDHIS-01.L313_Cover_Forming_PatchErectionCheck_Bad_Counter_Rejected_n',\n",
       " 'AMI-SUDHIS-01.L313_Cover_Forming_PatchErectionCheck_BadAngle_Counter_Rejected_n')"
      ]
     },
     "execution_count": 18,
     "metadata": {},
     "output_type": "execute_result"
    }
   ],
   "source": [
    "#reject cause tags to extract data\n",
    "reject_cause_tags = get_tags_list(lines=site_lines, sensors=reject_tags,sep='_', topic=site_servers['historian']['proficy']['topic'])\n",
    "reject_cause_tags[:5]"
   ]
  },
  {
   "cell_type": "code",
   "execution_count": 19,
   "metadata": {
    "ExecuteTime": {
     "end_time": "2023-04-17T08:45:19.447538Z",
     "start_time": "2023-04-17T08:45:19.437754Z"
    }
   },
   "outputs": [
    {
     "data": {
      "text/plain": [
       "['AMI-SUDHIS-01.L313_Base_Machine_RejectedBases_Station3_Counter_Actual_n']"
      ]
     },
     "execution_count": 19,
     "metadata": {},
     "output_type": "execute_result"
    }
   ],
   "source": [
    "# Base_Machine_RejectedBases_Station3_Counter to be used in fix for \"Other rejects\" tag\n",
    "base_station3_reject_tag = [t for t in all_tag_list if '_'.join(t.split('_')[1:]) in site_historian_tags['tag_station']]\n",
    "base_station3_reject_tag"
   ]
  },
  {
   "cell_type": "markdown",
   "metadata": {},
   "source": [
    "### Extracting data for Rejects per cause"
   ]
  },
  {
   "cell_type": "code",
   "execution_count": 20,
   "metadata": {
    "ExecuteTime": {
     "end_time": "2023-04-17T08:45:21.982946Z",
     "start_time": "2023-04-17T08:45:21.977091Z"
    }
   },
   "outputs": [],
   "source": [
    "historian.use_context('REST',\n",
    "            client_id='historian_public_rest_api',\n",
    "            client_password='publicapisecret',\n",
    "            app_id='sudanalytics.im',\n",
    "            app_password='phoenix2021SUD', # change to environmental variable\n",
    "            port=site_servers['historian']['proficy']['port'],\n",
    "            verify_certificate=True\n",
    "        )"
   ]
  },
  {
   "cell_type": "markdown",
   "metadata": {},
   "source": [
    "#### Define extract window"
   ]
  },
  {
   "cell_type": "code",
   "execution_count": 21,
   "metadata": {
    "ExecuteTime": {
     "end_time": "2023-04-17T08:45:25.370963Z",
     "start_time": "2023-04-17T08:45:25.349475Z"
    }
   },
   "outputs": [
    {
     "name": "stdout",
     "output_type": "stream",
     "text": [
      "Extracting data between: 2023-04-07 05:30:00 and 2023-04-17 08:45:25.367050\n"
     ]
    }
   ],
   "source": [
    "# define extract window\n",
    "last_run_df = get_last_run_df(table_nm=box_rejects_table_nm,\n",
    "                        db_conn=get_db_connection(datalab_db_conn, datalab_db_access_token),\n",
    "                        job_nm=job_nm)\n",
    "\n",
    "if not last_run_df.empty:\n",
    "    last_available_dttm = last_run_df['last_dttm_available'][0]\n",
    "    last_available_id = last_run_df['last_id_available'][0]\n",
    "else:\n",
    "    last_available_dttm = None\n",
    "    last_available_id = None\n",
    "\n",
    "start_dttm = datetime.now() if last_available_dttm is None else last_available_dttm\n",
    "start_dttm = start_dttm - timedelta(days=site_days_to_retake)\n",
    "start_time = start_dttm\n",
    "end_time = datetime.now()\n",
    "print(f'Extracting data between: {start_time} and {end_time}')\n",
    "\n",
    "        "
   ]
  },
  {
   "cell_type": "markdown",
   "metadata": {},
   "source": [
    "## T2 historian tags"
   ]
  },
  {
   "cell_type": "code",
   "execution_count": 22,
   "metadata": {
    "ExecuteTime": {
     "end_time": "2023-04-17T08:45:37.181886Z",
     "start_time": "2023-04-17T08:45:26.844749Z"
    }
   },
   "outputs": [],
   "source": [
    "\n",
    "all_ami_T2_tags = historian.get_tag_names(site_servers['historian']['proficy']['server_name'])\n",
    "all_ami_T2_tags = list(all_ami_T2_tags.keys())\n",
    "all_ami_T2_tags_df = pd.DataFrame({'tag_nm':all_ami_T2_tags})"
   ]
  },
  {
   "cell_type": "code",
   "execution_count": null,
   "metadata": {
    "ExecuteTime": {
     "end_time": "2023-04-17T08:45:37.441641Z",
     "start_time": "2023-04-17T08:45:32.065Z"
    }
   },
   "outputs": [],
   "source": [
    "absent_tags = [t for t in all_tag_list if t not in all_ami_T2_tags]\n",
    "print(len(absent_tags), len(all_tag_list))\n",
    "absent_tags\n",
    "\n"
   ]
  },
  {
   "cell_type": "code",
   "execution_count": 26,
   "metadata": {
    "ExecuteTime": {
     "end_time": "2023-04-17T08:47:18.461435Z",
     "start_time": "2023-04-17T08:46:15.273877Z"
    }
   },
   "outputs": [
    {
     "name": "stdout",
     "output_type": "stream",
     "text": [
      "Shape of data extract: (20760, 2)\n"
     ]
    }
   ],
   "source": [
    "extracts = []\n",
    "for line in site_lines:\n",
    "    logging.info(f'Extracting cause rejects counters for line {line}')\n",
    "    # extracting checkweigher tag\n",
    "    #checkweigher_tags_to_extract = [t for t in all_tag_list if ('BoxCheckweigher' in t or '')]\n",
    "    checkweigher_tags_to_extract = [t for t in all_tag_list if ('BoxCheckweigher' in t or 'PR_Data_State' in t) and line in t ]\n",
    "    #checkweigher_tags_to_extract = checkweigher_tags_to_extract + ['URL-PACK.L13_Base_General_PR_Data_State_Actual_n']\n",
    "\n",
    "\n",
    "    checkweigher_extract_df = historian.get_tag_values(\n",
    "                site_servers['historian']['proficy']['server_name'],\n",
    "                start_time=start_time,\n",
    "                end_time=end_time,\n",
    "                filter_name=checkweigher_tags_to_extract\n",
    "                )\n",
    "    logging.info(f'Shape of data extract: {checkweigher_extract_df.shape}')\n",
    "    checkweigher_extract_df = checkweigher_extract_df.reset_index()\n",
    "    checkweigher_extract_df = checkweigher_extract_df.assign(Value = pd.to_numeric(checkweigher_extract_df['Value']))\n",
    "\n",
    "    checkweigher_extract_df = checkweigher_extract_df.sort_values(['Value','Timestamp'], ascending = True)\n",
    "\n",
    "    mask_status = checkweigher_extract_df['Tag'].str.contains('Base_General_PR_Data_State_Actual_n')\n",
    "    checkweigher_extract_df = checkweigher_extract_df.assign(status = np.where(mask_status, checkweigher_extract_df['Value'], np.nan))\n",
    "\n",
    "    checkweigher_extract_df = checkweigher_extract_df.sort_values(by=['Timestamp'])\n",
    "    checkweigher_extract_df = checkweigher_extract_df.assign(status = checkweigher_extract_df['status'].ffill())\n",
    "    checkweigher_extract_df = checkweigher_extract_df.loc[~mask_status]\n",
    "    group_by=['Tag']\n",
    "    checkweigher_extract_df = checkweigher_extract_df.assign(rejects_qty = checkweigher_extract_df.groupby(group_by)['Value'].diff().values)\n",
    "    #mask_sm =(checkweigher_extract_df['rejects_qty'] >=10) & (checkweigher_extract_df['status'] == 1) \n",
    "    mask_sm =(checkweigher_extract_df['rejects_qty'] >=10) & ((checkweigher_extract_df['status'] == 1) | (checkweigher_extract_df['status'] == 2) | (checkweigher_extract_df['status'] == 3) | (checkweigher_extract_df['status'] == 4) ) \n",
    "\n",
    "    checkweigher_extract_df = checkweigher_extract_df.loc[~mask_sm]\n",
    "    logging.info(f'Shape of after spikes: {checkweigher_extract_df.shape}')\n",
    "    checkweigher_extract_df = checkweigher_extract_df[['Tag','Timestamp','Value','Quality']]\n",
    "    reject_cause_tags = [t for t in reject_cause_tags if t not in checkweigher_tags_to_extract]\n",
    "\n",
    "    tags_to_extr = [t for t in list(reject_cause_tags) + base_station3_reject_tag if line in t and t not in checkweigher_tags_to_extract]\n",
    "\n",
    "    historian_extract_df = historian.get_tag_values(\n",
    "                        site_servers['historian']['proficy']['server_name'],\n",
    "                        start_time=start_time,\n",
    "                        end_time=end_time,\n",
    "                        filter_name=tuple(tags_to_extr))\n",
    "    logging.info(f'Shape of data extract: {historian_extract_df.shape}')\n",
    "    #extracts.append(historian_extract_df.reset_index())\n",
    "    historian_extract_df = historian_extract_df.reset_index()\n",
    "    extract_df = pd.concat([historian_extract_df, checkweigher_extract_df], ignore_index=True, sort=False)\n",
    "    extracts.append(extract_df)\n",
    "\n",
    "#reject_historian_extract_df = pd.concat(extracts, ignore_index=True, sort=False).set_index(['Tag', 'Timestamp'])\n",
    "reject_historian_extract_df = pd.concat(extracts, ignore_index=True, sort=False).set_index(['Tag', 'Timestamp'])\n",
    "\n",
    "\n",
    "print(f'Shape of data extract: {reject_historian_extract_df.shape}')\n"
   ]
  },
  {
   "cell_type": "code",
   "execution_count": 27,
   "metadata": {
    "ExecuteTime": {
     "end_time": "2023-04-17T08:47:18.481995Z",
     "start_time": "2023-04-17T08:47:18.464412Z"
    }
   },
   "outputs": [
    {
     "data": {
      "text/html": [
       "<div>\n",
       "<style scoped>\n",
       "    .dataframe tbody tr th:only-of-type {\n",
       "        vertical-align: middle;\n",
       "    }\n",
       "\n",
       "    .dataframe tbody tr th {\n",
       "        vertical-align: top;\n",
       "    }\n",
       "\n",
       "    .dataframe thead th {\n",
       "        text-align: right;\n",
       "    }\n",
       "</style>\n",
       "<table border=\"1\" class=\"dataframe\">\n",
       "  <thead>\n",
       "    <tr style=\"text-align: right;\">\n",
       "      <th></th>\n",
       "      <th>Tag</th>\n",
       "      <th>Timestamp</th>\n",
       "      <th>Value</th>\n",
       "      <th>Quality</th>\n",
       "    </tr>\n",
       "  </thead>\n",
       "  <tbody>\n",
       "    <tr>\n",
       "      <th>12693</th>\n",
       "      <td>AMI-SUDHIS-01.L313_Upack_BoxCheckweigher_0_Zon...</td>\n",
       "      <td>2023-04-11 12:01:55.764000+00:00</td>\n",
       "      <td>17</td>\n",
       "      <td>3</td>\n",
       "    </tr>\n",
       "    <tr>\n",
       "      <th>12692</th>\n",
       "      <td>AMI-SUDHIS-01.L313_Upack_BoxCheckweigher_0_Zon...</td>\n",
       "      <td>2023-04-11 12:05:30.769000+00:00</td>\n",
       "      <td>24</td>\n",
       "      <td>3</td>\n",
       "    </tr>\n",
       "    <tr>\n",
       "      <th>12691</th>\n",
       "      <td>AMI-SUDHIS-01.L313_Upack_BoxCheckweigher_0_Zon...</td>\n",
       "      <td>2023-04-11 12:05:32.785000+00:00</td>\n",
       "      <td>32</td>\n",
       "      <td>3</td>\n",
       "    </tr>\n",
       "    <tr>\n",
       "      <th>12690</th>\n",
       "      <td>AMI-SUDHIS-01.L313_Upack_BoxCheckweigher_0_Zon...</td>\n",
       "      <td>2023-04-11 12:05:42.769000+00:00</td>\n",
       "      <td>33</td>\n",
       "      <td>3</td>\n",
       "    </tr>\n",
       "    <tr>\n",
       "      <th>12689</th>\n",
       "      <td>AMI-SUDHIS-01.L313_Upack_BoxCheckweigher_0_Zon...</td>\n",
       "      <td>2023-04-11 12:35:12.818000+00:00</td>\n",
       "      <td>35</td>\n",
       "      <td>3</td>\n",
       "    </tr>\n",
       "    <tr>\n",
       "      <th>...</th>\n",
       "      <td>...</td>\n",
       "      <td>...</td>\n",
       "      <td>...</td>\n",
       "      <td>...</td>\n",
       "    </tr>\n",
       "    <tr>\n",
       "      <th>219</th>\n",
       "      <td>AMI-SUDHIS-01.L313_Upack_BoxCheckweigher_0_Zon...</td>\n",
       "      <td>2023-04-17 08:40:44.843000+00:00</td>\n",
       "      <td>10169</td>\n",
       "      <td>3</td>\n",
       "    </tr>\n",
       "    <tr>\n",
       "      <th>218</th>\n",
       "      <td>AMI-SUDHIS-01.L313_Upack_BoxCheckweigher_0_Zon...</td>\n",
       "      <td>2023-04-17 08:42:47.829000+00:00</td>\n",
       "      <td>10170</td>\n",
       "      <td>3</td>\n",
       "    </tr>\n",
       "    <tr>\n",
       "      <th>217</th>\n",
       "      <td>AMI-SUDHIS-01.L313_Upack_BoxCheckweigher_0_Zon...</td>\n",
       "      <td>2023-04-17 08:42:48.829000+00:00</td>\n",
       "      <td>10177</td>\n",
       "      <td>3</td>\n",
       "    </tr>\n",
       "    <tr>\n",
       "      <th>13321</th>\n",
       "      <td>AMI-SUDHIS-01.L313_Upack_BoxCheckweigher_0_Ext...</td>\n",
       "      <td>2023-04-17 08:42:48.829000+00:00</td>\n",
       "      <td>16</td>\n",
       "      <td>3</td>\n",
       "    </tr>\n",
       "    <tr>\n",
       "      <th>13320</th>\n",
       "      <td>AMI-SUDHIS-01.L313_Upack_BoxCheckweigher_0_Ext...</td>\n",
       "      <td>2023-04-17 08:43:18.830000+00:00</td>\n",
       "      <td>18</td>\n",
       "      <td>3</td>\n",
       "    </tr>\n",
       "  </tbody>\n",
       "</table>\n",
       "<p>11365 rows × 4 columns</p>\n",
       "</div>"
      ],
      "text/plain": [
       "                                                     Tag  \\\n",
       "12693  AMI-SUDHIS-01.L313_Upack_BoxCheckweigher_0_Zon...   \n",
       "12692  AMI-SUDHIS-01.L313_Upack_BoxCheckweigher_0_Zon...   \n",
       "12691  AMI-SUDHIS-01.L313_Upack_BoxCheckweigher_0_Zon...   \n",
       "12690  AMI-SUDHIS-01.L313_Upack_BoxCheckweigher_0_Zon...   \n",
       "12689  AMI-SUDHIS-01.L313_Upack_BoxCheckweigher_0_Zon...   \n",
       "...                                                  ...   \n",
       "219    AMI-SUDHIS-01.L313_Upack_BoxCheckweigher_0_Zon...   \n",
       "218    AMI-SUDHIS-01.L313_Upack_BoxCheckweigher_0_Zon...   \n",
       "217    AMI-SUDHIS-01.L313_Upack_BoxCheckweigher_0_Zon...   \n",
       "13321  AMI-SUDHIS-01.L313_Upack_BoxCheckweigher_0_Ext...   \n",
       "13320  AMI-SUDHIS-01.L313_Upack_BoxCheckweigher_0_Ext...   \n",
       "\n",
       "                             Timestamp  Value  Quality  \n",
       "12693 2023-04-11 12:01:55.764000+00:00     17        3  \n",
       "12692 2023-04-11 12:05:30.769000+00:00     24        3  \n",
       "12691 2023-04-11 12:05:32.785000+00:00     32        3  \n",
       "12690 2023-04-11 12:05:42.769000+00:00     33        3  \n",
       "12689 2023-04-11 12:35:12.818000+00:00     35        3  \n",
       "...                                ...    ...      ...  \n",
       "219   2023-04-17 08:40:44.843000+00:00  10169        3  \n",
       "218   2023-04-17 08:42:47.829000+00:00  10170        3  \n",
       "217   2023-04-17 08:42:48.829000+00:00  10177        3  \n",
       "13321 2023-04-17 08:42:48.829000+00:00     16        3  \n",
       "13320 2023-04-17 08:43:18.830000+00:00     18        3  \n",
       "\n",
       "[11365 rows x 4 columns]"
      ]
     },
     "execution_count": 27,
     "metadata": {},
     "output_type": "execute_result"
    }
   ],
   "source": [
    "checkweigher_extract_df"
   ]
  },
  {
   "cell_type": "markdown",
   "metadata": {},
   "source": [
    "#### Extract Line Recipe"
   ]
  },
  {
   "cell_type": "code",
   "execution_count": 28,
   "metadata": {
    "ExecuteTime": {
     "end_time": "2023-04-17T08:47:27.817923Z",
     "start_time": "2023-04-17T08:47:27.809100Z"
    }
   },
   "outputs": [
    {
     "data": {
      "text/plain": [
       "['AMI-SUDHIS-01.L313_Upack_LineRecipe']"
      ]
     },
     "execution_count": 28,
     "metadata": {},
     "output_type": "execute_result"
    }
   ],
   "source": [
    "line_recipe_tags = [t for t in all_tag_list if '_'.join(t.split('_')[1:]) in site_historian_tags['tags_index']]\n",
    "line_recipe_tags"
   ]
  },
  {
   "cell_type": "code",
   "execution_count": 29,
   "metadata": {
    "ExecuteTime": {
     "end_time": "2023-04-17T08:47:40.647384Z",
     "start_time": "2023-04-17T08:47:32.561554Z"
    }
   },
   "outputs": [
    {
     "name": "stdout",
     "output_type": "stream",
     "text": [
      "Shape of data extract: (13, 2)\n"
     ]
    }
   ],
   "source": [
    "historian_line_recipe_extract_df = historian.get_tag_values(\n",
    "                    site_servers['historian']['proficy']['server_name'],\n",
    "                    start_time=start_time - timedelta(days=20),\n",
    "                    end_time=end_time,\n",
    "                    filter_name=line_recipe_tags)\n",
    "print(f'Shape of data extract: {historian_line_recipe_extract_df.shape}')\n",
    "                "
   ]
  },
  {
   "cell_type": "code",
   "execution_count": 30,
   "metadata": {
    "ExecuteTime": {
     "end_time": "2023-04-17T08:47:41.018585Z",
     "start_time": "2023-04-17T08:47:40.649363Z"
    }
   },
   "outputs": [
    {
     "name": "stdout",
     "output_type": "stream",
     "text": [
      "TRANSFORM: Shape after addition of columns: (13, 6)\n",
      "(13, 4)\n"
     ]
    },
    {
     "data": {
      "text/html": [
       "<div>\n",
       "<style scoped>\n",
       "    .dataframe tbody tr th:only-of-type {\n",
       "        vertical-align: middle;\n",
       "    }\n",
       "\n",
       "    .dataframe tbody tr th {\n",
       "        vertical-align: top;\n",
       "    }\n",
       "\n",
       "    .dataframe thead th {\n",
       "        text-align: right;\n",
       "    }\n",
       "</style>\n",
       "<table border=\"1\" class=\"dataframe\">\n",
       "  <thead>\n",
       "    <tr style=\"text-align: right;\">\n",
       "      <th></th>\n",
       "      <th>DateTime</th>\n",
       "      <th>Value</th>\n",
       "      <th>line</th>\n",
       "      <th>site</th>\n",
       "    </tr>\n",
       "  </thead>\n",
       "  <tbody>\n",
       "    <tr>\n",
       "      <th>12</th>\n",
       "      <td>2023-04-06 18:07:28.513</td>\n",
       "      <td>21</td>\n",
       "      <td>L313</td>\n",
       "      <td>Amiens</td>\n",
       "    </tr>\n",
       "    <tr>\n",
       "      <th>11</th>\n",
       "      <td>2023-04-07 09:00:24.457</td>\n",
       "      <td>51</td>\n",
       "      <td>L313</td>\n",
       "      <td>Amiens</td>\n",
       "    </tr>\n",
       "    <tr>\n",
       "      <th>10</th>\n",
       "      <td>2023-04-12 08:26:28.074</td>\n",
       "      <td>57</td>\n",
       "      <td>L313</td>\n",
       "      <td>Amiens</td>\n",
       "    </tr>\n",
       "    <tr>\n",
       "      <th>9</th>\n",
       "      <td>2023-04-12 11:19:58.243</td>\n",
       "      <td>42</td>\n",
       "      <td>L313</td>\n",
       "      <td>Amiens</td>\n",
       "    </tr>\n",
       "    <tr>\n",
       "      <th>8</th>\n",
       "      <td>2023-04-13 03:20:37.272</td>\n",
       "      <td>51</td>\n",
       "      <td>L313</td>\n",
       "      <td>Amiens</td>\n",
       "    </tr>\n",
       "  </tbody>\n",
       "</table>\n",
       "</div>"
      ],
      "text/plain": [
       "                  DateTime  Value  line    site\n",
       "12 2023-04-06 18:07:28.513     21  L313  Amiens\n",
       "11 2023-04-07 09:00:24.457     51  L313  Amiens\n",
       "10 2023-04-12 08:26:28.074     57  L313  Amiens\n",
       "9  2023-04-12 11:19:58.243     42  L313  Amiens\n",
       "8  2023-04-13 03:20:37.272     51  L313  Amiens"
      ]
     },
     "execution_count": 30,
     "metadata": {},
     "output_type": "execute_result"
    }
   ],
   "source": [
    "line_recipe_status_df = put_to_wonderware_format(historian_line_recipe_extract_df, inplace=False)\n",
    "line_recipe_status_df = line_recipe_status_df.assign(DateTime = line_recipe_status_df['DateTime'].dt.tz_convert(site_tz).dt.tz_localize(None),\n",
    "                                                     Value = pd.to_numeric(line_recipe_status_df['Value']),\n",
    "                                                     Quality = pd.to_numeric(line_recipe_status_df['Quality']))\n",
    "line_recipe_status_df = add_site_line_tag(line_recipe_status_df, site=site_name)\n",
    "\n",
    "keep_mask = line_recipe_status_df['Quality'] == 3\n",
    "line_recipe_status_df = line_recipe_status_df.loc[keep_mask].drop(columns=['Quality', 'tag'])\n",
    "print(line_recipe_status_df.shape)\n",
    "line_recipe_status_df.head()"
   ]
  },
  {
   "cell_type": "markdown",
   "metadata": {},
   "source": [
    "#### Extract Agile flag"
   ]
  },
  {
   "cell_type": "code",
   "execution_count": 31,
   "metadata": {
    "ExecuteTime": {
     "end_time": "2023-04-17T08:47:41.030236Z",
     "start_time": "2023-04-17T08:47:41.022447Z"
    }
   },
   "outputs": [
    {
     "data": {
      "text/plain": [
       "['AMI-SUDHIS-01.L313_Upack_Primary_General_Speed_AgileControl_State_ON']"
      ]
     },
     "execution_count": 31,
     "metadata": {},
     "output_type": "execute_result"
    }
   ],
   "source": [
    "agile_tags = [t for t in all_tag_list if '_'.join(t.split('.')[1].split('_')[1:]) in site_historian_tags['tags_agile']]\n",
    "agile_tags"
   ]
  },
  {
   "cell_type": "code",
   "execution_count": 32,
   "metadata": {
    "ExecuteTime": {
     "end_time": "2023-04-17T08:47:54.580567Z",
     "start_time": "2023-04-17T08:47:46.076710Z"
    }
   },
   "outputs": [
    {
     "name": "stdout",
     "output_type": "stream",
     "text": [
      "Shape of agile flag extract: (0, 2)\n"
     ]
    }
   ],
   "source": [
    "agile_extract_df = historian.get_tag_values(site_servers['historian']['proficy']['server_name'], \n",
    "                                            start_time=start_time - timedelta(days=10),\n",
    "                                            end_time=end_time,\n",
    "                                            filter_name=agile_tags)\n",
    "print(f'Shape of agile flag extract: {agile_extract_df.shape}')"
   ]
  },
  {
   "cell_type": "code",
   "execution_count": 33,
   "metadata": {
    "ExecuteTime": {
     "end_time": "2023-04-17T08:47:54.593656Z",
     "start_time": "2023-04-17T08:47:54.583510Z"
    }
   },
   "outputs": [],
   "source": [
    "if agile_extract_df.shape[0] > 0:\n",
    "    agile_data_available = True\n",
    "\n",
    "    agile_status_df = put_to_wonderware_format(agile_extract_df, inplace=False)\n",
    "    agile_status_df = agile_status_df.assign(DateTime = agile_status_df['DateTime'].dt.tz_convert(site_tz).dt.tz_localize(None),\n",
    "                                            Value = pd.to_numeric(agile_status_df['Value']),\n",
    "                                            Quality = pd.to_numeric(agile_status_df['Quality']))\n",
    "    agile_status_df = add_site_line_tag(agile_status_df, site=site_name)\n",
    "    \n",
    "    keep_mask = agile_status_df['Quality'] == 3\n",
    "    agile_status_df = agile_status_df.loc[keep_mask].drop(columns=['Quality', 'tag'])\n",
    "else:\n",
    "    agile_data_available = False "
   ]
  },
  {
   "cell_type": "markdown",
   "metadata": {},
   "source": [
    "#### Extract Line State"
   ]
  },
  {
   "cell_type": "code",
   "execution_count": 34,
   "metadata": {
    "ExecuteTime": {
     "end_time": "2023-04-17T08:47:55.486882Z",
     "start_time": "2023-04-17T08:47:55.477186Z"
    }
   },
   "outputs": [
    {
     "name": "stdout",
     "output_type": "stream",
     "text": [
      "Extracting data starting from: 20230402 00:00:00\n",
      "Extracting data with: \n",
      "    SELECT ls.line_state_id\n",
      "        ,ls.start_time\n",
      "        ,ls.end_time\n",
      "        ,l.line\n",
      "        ,s.site\n",
      "    FROM SUD_LINE_STATE as ls\n",
      "    INNER JOIN SUD_LINES as l \n",
      "        ON ls.line_id = l.line_id \n",
      "    INNER JOIN SUD_SITES as s\n",
      "        ON ls.site_id = s.site_id\n",
      "    WHERE ls.start_time >= '20230402 00:00:00'\n",
      "    AND l.line in ('SUAM-31 Packing')\n",
      "\n"
     ]
    }
   ],
   "source": [
    "extract_dttm = datetime.strftime(start_time.date() - timedelta(days=5), '%Y%m%d %H:%M:%S')\n",
    "print(f'Extracting data starting from: {extract_dttm}')\n",
    "line_query = f\"('{site_lines_dim[0]}')\" if len(site_lines) == 1 else tuple(site_lines_dim)\n",
    "query_to_execute = queries.EXTRACT_LINE_STATE.format(extract_dttm, line_query )\n",
    "print(f'Extracting data with: {query_to_execute}')"
   ]
  },
  {
   "cell_type": "code",
   "execution_count": 35,
   "metadata": {
    "ExecuteTime": {
     "end_time": "2023-04-17T08:47:58.496012Z",
     "start_time": "2023-04-17T08:47:58.488195Z"
    }
   },
   "outputs": [
    {
     "data": {
      "text/plain": [
       "['SUAM-31 Packing']"
      ]
     },
     "execution_count": 35,
     "metadata": {},
     "output_type": "execute_result"
    }
   ],
   "source": [
    "site_lines_dim"
   ]
  },
  {
   "cell_type": "code",
   "execution_count": 36,
   "metadata": {
    "ExecuteTime": {
     "end_time": "2023-04-17T08:48:02.523789Z",
     "start_time": "2023-04-17T08:47:59.200177Z"
    }
   },
   "outputs": [
    {
     "name": "stdout",
     "output_type": "stream",
     "text": [
      "Line state was extracted, shape: (3674, 5)\n"
     ]
    }
   ],
   "source": [
    "line_state_map_df = pd.read_sql(sql=query_to_execute, con=get_db_connection(datalab_db_conn, datalab_db_access_token))\n",
    "print(f'Line state was extracted, shape: {line_state_map_df.shape}')\n"
   ]
  },
  {
   "cell_type": "code",
   "execution_count": 37,
   "metadata": {
    "ExecuteTime": {
     "end_time": "2023-04-17T08:48:02.564796Z",
     "start_time": "2023-04-17T08:48:02.527675Z"
    }
   },
   "outputs": [
    {
     "data": {
      "text/html": [
       "<div>\n",
       "<style scoped>\n",
       "    .dataframe tbody tr th:only-of-type {\n",
       "        vertical-align: middle;\n",
       "    }\n",
       "\n",
       "    .dataframe tbody tr th {\n",
       "        vertical-align: top;\n",
       "    }\n",
       "\n",
       "    .dataframe thead th {\n",
       "        text-align: right;\n",
       "    }\n",
       "</style>\n",
       "<table border=\"1\" class=\"dataframe\">\n",
       "  <thead>\n",
       "    <tr style=\"text-align: right;\">\n",
       "      <th></th>\n",
       "      <th>line_state_id</th>\n",
       "      <th>line</th>\n",
       "      <th>site</th>\n",
       "      <th>DateTime</th>\n",
       "    </tr>\n",
       "  </thead>\n",
       "  <tbody>\n",
       "    <tr>\n",
       "      <th>0</th>\n",
       "      <td>2099141/0</td>\n",
       "      <td>SUAM-31 Packing</td>\n",
       "      <td>Amiens</td>\n",
       "      <td>2023-04-02 06:00:00</td>\n",
       "    </tr>\n",
       "    <tr>\n",
       "      <th>1</th>\n",
       "      <td>2099141/0</td>\n",
       "      <td>SUAM-31 Packing</td>\n",
       "      <td>Amiens</td>\n",
       "      <td>2023-04-02 14:00:00</td>\n",
       "    </tr>\n",
       "    <tr>\n",
       "      <th>2</th>\n",
       "      <td>2099159/0</td>\n",
       "      <td>SUAM-31 Packing</td>\n",
       "      <td>Amiens</td>\n",
       "      <td>2023-04-02 14:00:00</td>\n",
       "    </tr>\n",
       "    <tr>\n",
       "      <th>3</th>\n",
       "      <td>2099159/0</td>\n",
       "      <td>SUAM-31 Packing</td>\n",
       "      <td>Amiens</td>\n",
       "      <td>2023-04-02 22:00:00</td>\n",
       "    </tr>\n",
       "    <tr>\n",
       "      <th>4</th>\n",
       "      <td>2099192/0</td>\n",
       "      <td>SUAM-31 Packing</td>\n",
       "      <td>Amiens</td>\n",
       "      <td>2023-04-02 22:00:00</td>\n",
       "    </tr>\n",
       "  </tbody>\n",
       "</table>\n",
       "</div>"
      ],
      "text/plain": [
       "  line_state_id             line    site            DateTime\n",
       "0     2099141/0  SUAM-31 Packing  Amiens 2023-04-02 06:00:00\n",
       "1     2099141/0  SUAM-31 Packing  Amiens 2023-04-02 14:00:00\n",
       "2     2099159/0  SUAM-31 Packing  Amiens 2023-04-02 14:00:00\n",
       "3     2099159/0  SUAM-31 Packing  Amiens 2023-04-02 22:00:00\n",
       "4     2099192/0  SUAM-31 Packing  Amiens 2023-04-02 22:00:00"
      ]
     },
     "execution_count": 37,
     "metadata": {},
     "output_type": "execute_result"
    }
   ],
   "source": [
    "index_cols = ['line_state_id', 'line', 'site']\n",
    "line_state_map_df = (line_state_map_df\n",
    "                                    .set_index(index_cols)\n",
    "                                    .stack()\n",
    "                                    .to_frame('DateTime')\n",
    "                                    .reset_index()\n",
    "                                    .drop(columns=[f'level_{len(index_cols)}'])\n",
    "                                    )\n",
    "        \n",
    "line_state_map_df.head()            "
   ]
  },
  {
   "cell_type": "markdown",
   "metadata": {},
   "source": [
    "### Transformations for SUD_BOX_REJECTS"
   ]
  },
  {
   "cell_type": "code",
   "execution_count": 38,
   "metadata": {
    "ExecuteTime": {
     "end_time": "2023-04-17T08:48:03.853021Z",
     "start_time": "2023-04-17T08:48:03.487752Z"
    }
   },
   "outputs": [
    {
     "name": "stdout",
     "output_type": "stream",
     "text": [
      "TRANSFORM: Shape of original extracted data: (20760, 3)\n",
      "TRANSFORM: Step 1 - Removing cases where the counter values were not logged (NaNs) or negative\n",
      "TRANSFORM: # removed records 0\n",
      "TRANSFORM: Shape after step: (20760, 3)\n",
      "TRANSFORM: Step 2 - Removing cases where the counter was not changing\n",
      "TRANSFORM: # removed records 0\n",
      "TRANSFORM: Shape after step: (20760, 5)\n",
      "TRANSFORM: Step 3 - Removing cases where the counter reports zero\n",
      "TRANSFORM: # removed records 651\n",
      "TRANSFORM: Shape after step: (20109, 5)\n",
      "TRANSFORM: Shape after addition of columns: (20109, 5)\n",
      "(20109, 5)\n"
     ]
    },
    {
     "data": {
      "text/html": [
       "<div>\n",
       "<style scoped>\n",
       "    .dataframe tbody tr th:only-of-type {\n",
       "        vertical-align: middle;\n",
       "    }\n",
       "\n",
       "    .dataframe tbody tr th {\n",
       "        vertical-align: top;\n",
       "    }\n",
       "\n",
       "    .dataframe thead th {\n",
       "        text-align: right;\n",
       "    }\n",
       "</style>\n",
       "<table border=\"1\" class=\"dataframe\">\n",
       "  <thead>\n",
       "    <tr style=\"text-align: right;\">\n",
       "      <th></th>\n",
       "      <th>DateTime</th>\n",
       "      <th>rejects_qty</th>\n",
       "      <th>line</th>\n",
       "      <th>tag</th>\n",
       "      <th>site</th>\n",
       "    </tr>\n",
       "  </thead>\n",
       "  <tbody>\n",
       "    <tr>\n",
       "      <th>5572</th>\n",
       "      <td>2023-04-11 14:58:33.800</td>\n",
       "      <td>1.0</td>\n",
       "      <td>L313</td>\n",
       "      <td>Base_Checkweigher_Base _2Dcheck_TimeOut_Reject...</td>\n",
       "      <td>Amiens</td>\n",
       "    </tr>\n",
       "    <tr>\n",
       "      <th>5571</th>\n",
       "      <td>2023-04-11 14:58:36.800</td>\n",
       "      <td>1.0</td>\n",
       "      <td>L313</td>\n",
       "      <td>Base_Checkweigher_Base _2Dcheck_TimeOut_Reject...</td>\n",
       "      <td>Amiens</td>\n",
       "    </tr>\n",
       "    <tr>\n",
       "      <th>5569</th>\n",
       "      <td>2023-04-11 22:03:49.259</td>\n",
       "      <td>1.0</td>\n",
       "      <td>L313</td>\n",
       "      <td>Base_Checkweigher_Base _2Dcheck_TimeOut_Reject...</td>\n",
       "      <td>Amiens</td>\n",
       "    </tr>\n",
       "    <tr>\n",
       "      <th>5568</th>\n",
       "      <td>2023-04-12 06:15:50.798</td>\n",
       "      <td>1.0</td>\n",
       "      <td>L313</td>\n",
       "      <td>Base_Checkweigher_Base _2Dcheck_TimeOut_Reject...</td>\n",
       "      <td>Amiens</td>\n",
       "    </tr>\n",
       "    <tr>\n",
       "      <th>5566</th>\n",
       "      <td>2023-04-12 14:13:40.324</td>\n",
       "      <td>1.0</td>\n",
       "      <td>L313</td>\n",
       "      <td>Base_Checkweigher_Base _2Dcheck_TimeOut_Reject...</td>\n",
       "      <td>Amiens</td>\n",
       "    </tr>\n",
       "  </tbody>\n",
       "</table>\n",
       "</div>"
      ],
      "text/plain": [
       "                    DateTime  rejects_qty  line  \\\n",
       "5572 2023-04-11 14:58:33.800          1.0  L313   \n",
       "5571 2023-04-11 14:58:36.800          1.0  L313   \n",
       "5569 2023-04-11 22:03:49.259          1.0  L313   \n",
       "5568 2023-04-12 06:15:50.798          1.0  L313   \n",
       "5566 2023-04-12 14:13:40.324          1.0  L313   \n",
       "\n",
       "                                                    tag    site  \n",
       "5572  Base_Checkweigher_Base _2Dcheck_TimeOut_Reject...  Amiens  \n",
       "5571  Base_Checkweigher_Base _2Dcheck_TimeOut_Reject...  Amiens  \n",
       "5569  Base_Checkweigher_Base _2Dcheck_TimeOut_Reject...  Amiens  \n",
       "5568  Base_Checkweigher_Base _2Dcheck_TimeOut_Reject...  Amiens  \n",
       "5566  Base_Checkweigher_Base _2Dcheck_TimeOut_Reject...  Amiens  "
      ]
     },
     "execution_count": 38,
     "metadata": {},
     "output_type": "execute_result"
    }
   ],
   "source": [
    "# process historian extract \n",
    "box_rejects_df = transform_counters_extract(reject_historian_extract_df, site_name=site_name, local_tz=site_tz)\n",
    "print(box_rejects_df.shape)\n",
    "box_rejects_df.head()"
   ]
  },
  {
   "cell_type": "code",
   "execution_count": 39,
   "metadata": {
    "ExecuteTime": {
     "end_time": "2023-04-17T08:48:07.245339Z",
     "start_time": "2023-04-17T08:48:07.233315Z"
    }
   },
   "outputs": [
    {
     "data": {
      "text/plain": [
       "['Base_Checkweigher_Base _2Dcheck_TimeOut_Rejected_n',\n",
       " 'Base_Checkweigher_Base_2Dcheck_NotRead_Rejected_n',\n",
       " 'Base_Checkweigher_Cover_2Dcheck_NotRead_Rejected_n',\n",
       " 'Base_Checkweigher_Cover_2Dcheck_TimeOut_Rejected_n',\n",
       " 'Base_Checkweigher_Tamper_2Dcheck_MisMatch_Rejected_n',\n",
       " 'Base_Checkweigher_Tamper_2Dcheck_NotRead_Rejected_n',\n",
       " 'Base_Checkweigher_Tamper_2Dcheck_TimeOut_Rejected_n',\n",
       " 'Base_Checkweigher_Washcount_Check_NotPresent_Rejected_n',\n",
       " 'Base_Checkweigher_Washcount_Check_WrongPosition_Rejected_n',\n",
       " 'Base_Filling_Ishida_Channel1_CycleNotConfirmed_Rejected_n',\n",
       " 'Base_Filling_Ishida_Channel1_WrongDoseDumped_Rejected_n',\n",
       " 'Base_Filling_Ishida_Channel2_CycleNotConfirmed_Rejected_n',\n",
       " 'Base_Filling_Ishida_Channel2_WrongDoseDumped_Rejected_n',\n",
       " 'Base_Filling_Ishida_Channel3_CycleNotConfirmed_Rejected_n',\n",
       " 'Base_Filling_Ishida_Channel3_WrongDoseDumped_Rejected_n',\n",
       " 'Base_Filling_Ishida_Channel4_CycleNotConfirmed_Rejected_n',\n",
       " 'Base_Filling_Ishida_Channel4_WrongDoseDumped_Rejected_n',\n",
       " 'Base_FlapCheck_LowerInternalFlap_BrokenOrMissing_NOK_Rejected_n',\n",
       " 'Base_FlapCheck_UpperExternalFlap_BrokenOrMissing_NOK_Rejected_n',\n",
       " 'Base_FlapCheck_UpperInternalFlap_BrokenOrMissing_NOK_Rejected_n',\n",
       " 'Base_Forming_Base_Backflap_Open_Rejected_n',\n",
       " 'Base_Forming_Glue_Dry_Bad_Rejected_n',\n",
       " 'Base_Machine_Base_Presence_On_Tucking_Wheel_After_Abort_Rejected_n',\n",
       " 'Base_Machine_Holder_Not_free_iTrak_Exit_Counter_Rejected_n',\n",
       " 'Base_Machine_RejectedBases_Station3_Counter_Actual_n',\n",
       " 'Base_Merging_00_CoverNotPresentOnBase_Rejected_n',\n",
       " 'Base_Merging_Base_0_NotPresent_Rejected_n',\n",
       " 'Base_Merging_LaserPrinter0Fail_Rejected_n',\n",
       " 'Base_Merging_MergingEngage_cover_Notpresent_Rejected_n',\n",
       " 'Base_Merging_MergingInspection_DS_NOK_Rejected_n',\n",
       " 'Base_Merging_MergingInspection_OS_NOK_Rejected_n',\n",
       " 'Base_Merging_Merging_External_Check_Rejected_n',\n",
       " 'Base_Merging_base_Cover_NotPresent_ Rejected_n',\n",
       " 'Base_Merging_base_Merging_Deviation_Rejected_n',\n",
       " 'Cover_Former1_ExternalGlueCamera_Bad_0_Rejected_n',\n",
       " 'Cover_Former1_ExternalGlueCamera_NoFeedback_0_Rejected_n',\n",
       " 'Cover_Former1_External_CoverNotSeenBeforeGlue_0_Rejected_n',\n",
       " 'Cover_Former1_InternalGlueCamera_Bad_0_Rejected_n',\n",
       " 'Cover_Former1_InternalGlueCamera_NoFeedback_0_Rejected_n',\n",
       " 'Cover_Former1_Internal_CoverNotSeenBeforeGlue_0_Rejected_n',\n",
       " 'Cover_Former1_RobotHead1_FlapCheck1_0_Rejected_n',\n",
       " 'Cover_Former1_RobotHead1_FlapCheck2_0_Rejected_n',\n",
       " 'Cover_Former1_RobotHead2_FlapCheck2_0_Rejected_n',\n",
       " 'Cover_Former1_RobotHead3_FlapCheck1_0_Rejected_n',\n",
       " 'Cover_Former1_RobotHead3_FlapCheck2_0_Rejected_n',\n",
       " 'Cover_Former1_RobotHead4_FlapCheck1_0_Rejected_n',\n",
       " 'Cover_Former1_RobotHead4_FlapCheck2_0_Rejected_n',\n",
       " 'Cover_Former2_ExternalGlueCamera_Bad_0_Rejected_n',\n",
       " 'Cover_Former2_External_CoverNotSeenBeforeGlue_0_Rejected_n',\n",
       " 'Cover_Former2_Glue_Dry_0_Rejected_n',\n",
       " 'Cover_Former2_InternalGlueCamera_Bad_0_Rejected_n',\n",
       " 'Cover_Former2_InternalGlueCamera_NoFeedback_0_Rejected_n',\n",
       " 'Cover_Former2_Internal_CoverNotSeenBeforeGlue_0_Rejected_n',\n",
       " 'Cover_Former2_RobotHead1_FlapCheck1_0_Rejected_n',\n",
       " 'Cover_Former2_RobotHead1_FlapCheck2_0_Rejected_n',\n",
       " 'Cover_Former2_RobotHead2_FlapCheck1_0_Rejected_n',\n",
       " 'Cover_Former2_RobotHead2_FlapCheck2_0_Rejected_n',\n",
       " 'Cover_Former2_RobotHead3_FlapCheck1_0_Rejected_n',\n",
       " 'Cover_Former2_RobotHead3_FlapCheck2_0_Rejected_n',\n",
       " 'Cover_Former2_RobotHead4_FlapCheck1_0_Rejected_n',\n",
       " 'Cover_Forming_PatchErectionCheck_BadAngle_Counter_Rejected_n',\n",
       " 'Cover_Forming_PatchErectionCheck_BadHeight_Counter_Rejected_n',\n",
       " 'Cover_Forming_PatchErectionCheck_Bad_on_Empty_Counter_Rejected_n',\n",
       " 'Cover_TransportBelt_CheckExternal_0_0_Rejected_n',\n",
       " 'Cover_TransportBelt_CheckInternal_0_0_Rejected_n',\n",
       " 'Cover_TransportBelt_HoleFlap_0_Check_Rejected_n',\n",
       " 'Secondary_FC11_Dataman_Reads_Result_Bad_n',\n",
       " 'Secondary_FC11_Dataman_Reads_Result_Mismatch_n',\n",
       " 'Secondary_FC11_Minibea_Reads_Result_Bad_n',\n",
       " 'Secondary_FC11_Minibea_Reads_Result_Mismatch_n',\n",
       " 'Upack_BoxCheckweigher_0_Extra_Rejected_n',\n",
       " 'Upack_BoxCheckweigher_0_Zone_0_Rejected_n',\n",
       " 'Upack_BoxCheckweigher_0_Zone_1_NotRejected_n',\n",
       " 'Upack_BoxCheckweigher_0_Zone_2_NotRejected_n',\n",
       " 'Upack_BoxCheckweigher_0_Zone_3_Rejected_n',\n",
       " 'Upack_BoxCheckweigher_0_Zone_4_Rejected_n',\n",
       " 'Upack_CaseCheckweigher_Reject_ExternalReason_0Rejected_n',\n",
       " 'Upack_CaseCheckweigher_Reject_Weight_NOKRejected_n',\n",
       " 'Upack_OLCP_1DCheck_0_NOKRejected_n']"
      ]
     },
     "execution_count": 39,
     "metadata": {},
     "output_type": "execute_result"
    }
   ],
   "source": [
    "tag_ = box_rejects_df.tag.unique().tolist()\n",
    "tag_"
   ]
  },
  {
   "cell_type": "markdown",
   "metadata": {},
   "source": [
    "#### Mapping to line recipe"
   ]
  },
  {
   "cell_type": "code",
   "execution_count": 40,
   "metadata": {
    "ExecuteTime": {
     "end_time": "2023-04-17T08:48:16.440422Z",
     "start_time": "2023-04-17T08:48:16.378905Z"
    }
   },
   "outputs": [
    {
     "name": "stdout",
     "output_type": "stream",
     "text": [
      "(20109, 6)\n"
     ]
    },
    {
     "data": {
      "text/html": [
       "<div>\n",
       "<style scoped>\n",
       "    .dataframe tbody tr th:only-of-type {\n",
       "        vertical-align: middle;\n",
       "    }\n",
       "\n",
       "    .dataframe tbody tr th {\n",
       "        vertical-align: top;\n",
       "    }\n",
       "\n",
       "    .dataframe thead th {\n",
       "        text-align: right;\n",
       "    }\n",
       "</style>\n",
       "<table border=\"1\" class=\"dataframe\">\n",
       "  <thead>\n",
       "    <tr style=\"text-align: right;\">\n",
       "      <th></th>\n",
       "      <th>DateTime</th>\n",
       "      <th>rejects_qty</th>\n",
       "      <th>line</th>\n",
       "      <th>tag</th>\n",
       "      <th>site</th>\n",
       "      <th>recipe_id</th>\n",
       "    </tr>\n",
       "  </thead>\n",
       "  <tbody>\n",
       "    <tr>\n",
       "      <th>4445</th>\n",
       "      <td>2023-04-07 07:30:00.236</td>\n",
       "      <td>2184.0</td>\n",
       "      <td>L313</td>\n",
       "      <td>Cover_Forming_PatchErectionCheck_BadHeight_Cou...</td>\n",
       "      <td>Amiens</td>\n",
       "      <td>21.0</td>\n",
       "    </tr>\n",
       "    <tr>\n",
       "      <th>4446</th>\n",
       "      <td>2023-04-07 07:30:03.236</td>\n",
       "      <td>2.0</td>\n",
       "      <td>L313</td>\n",
       "      <td>Cover_Forming_PatchErectionCheck_BadHeight_Cou...</td>\n",
       "      <td>Amiens</td>\n",
       "      <td>21.0</td>\n",
       "    </tr>\n",
       "    <tr>\n",
       "      <th>4447</th>\n",
       "      <td>2023-04-07 07:30:04.236</td>\n",
       "      <td>1.0</td>\n",
       "      <td>L313</td>\n",
       "      <td>Cover_Forming_PatchErectionCheck_BadHeight_Cou...</td>\n",
       "      <td>Amiens</td>\n",
       "      <td>21.0</td>\n",
       "    </tr>\n",
       "    <tr>\n",
       "      <th>4448</th>\n",
       "      <td>2023-04-07 07:30:08.236</td>\n",
       "      <td>2.0</td>\n",
       "      <td>L313</td>\n",
       "      <td>Cover_Forming_PatchErectionCheck_BadHeight_Cou...</td>\n",
       "      <td>Amiens</td>\n",
       "      <td>21.0</td>\n",
       "    </tr>\n",
       "    <tr>\n",
       "      <th>4449</th>\n",
       "      <td>2023-04-07 07:31:06.233</td>\n",
       "      <td>1.0</td>\n",
       "      <td>L313</td>\n",
       "      <td>Cover_Forming_PatchErectionCheck_BadHeight_Cou...</td>\n",
       "      <td>Amiens</td>\n",
       "      <td>21.0</td>\n",
       "    </tr>\n",
       "  </tbody>\n",
       "</table>\n",
       "</div>"
      ],
      "text/plain": [
       "                    DateTime  rejects_qty  line  \\\n",
       "4445 2023-04-07 07:30:00.236       2184.0  L313   \n",
       "4446 2023-04-07 07:30:03.236          2.0  L313   \n",
       "4447 2023-04-07 07:30:04.236          1.0  L313   \n",
       "4448 2023-04-07 07:30:08.236          2.0  L313   \n",
       "4449 2023-04-07 07:31:06.233          1.0  L313   \n",
       "\n",
       "                                                    tag    site  recipe_id  \n",
       "4445  Cover_Forming_PatchErectionCheck_BadHeight_Cou...  Amiens       21.0  \n",
       "4446  Cover_Forming_PatchErectionCheck_BadHeight_Cou...  Amiens       21.0  \n",
       "4447  Cover_Forming_PatchErectionCheck_BadHeight_Cou...  Amiens       21.0  \n",
       "4448  Cover_Forming_PatchErectionCheck_BadHeight_Cou...  Amiens       21.0  \n",
       "4449  Cover_Forming_PatchErectionCheck_BadHeight_Cou...  Amiens       21.0  "
      ]
     },
     "execution_count": 40,
     "metadata": {},
     "output_type": "execute_result"
    }
   ],
   "source": [
    "## add line recipe\n",
    "box_rejects_df = add_dim_key_time(fact_df=box_rejects_df, \n",
    "                                  dim_df=line_recipe_status_df.rename(columns={'Value':'recipe_id'}), \n",
    "                                  dim_id='recipe_id', fact_dttm='DateTime', dim_dttm='DateTime', \n",
    "                                  group_by=['site', 'line'])\n",
    "print(box_rejects_df.shape)\n",
    "box_rejects_df.head()"
   ]
  },
  {
   "cell_type": "markdown",
   "metadata": {},
   "source": [
    "#### Mapping to Agile flag"
   ]
  },
  {
   "cell_type": "code",
   "execution_count": 41,
   "metadata": {
    "ExecuteTime": {
     "end_time": "2023-04-17T08:48:20.802207Z",
     "start_time": "2023-04-17T08:48:20.772858Z"
    }
   },
   "outputs": [
    {
     "name": "stdout",
     "output_type": "stream",
     "text": [
      "(20109, 7)\n"
     ]
    },
    {
     "data": {
      "text/html": [
       "<div>\n",
       "<style scoped>\n",
       "    .dataframe tbody tr th:only-of-type {\n",
       "        vertical-align: middle;\n",
       "    }\n",
       "\n",
       "    .dataframe tbody tr th {\n",
       "        vertical-align: top;\n",
       "    }\n",
       "\n",
       "    .dataframe thead th {\n",
       "        text-align: right;\n",
       "    }\n",
       "</style>\n",
       "<table border=\"1\" class=\"dataframe\">\n",
       "  <thead>\n",
       "    <tr style=\"text-align: right;\">\n",
       "      <th></th>\n",
       "      <th>DateTime</th>\n",
       "      <th>rejects_qty</th>\n",
       "      <th>line</th>\n",
       "      <th>tag</th>\n",
       "      <th>site</th>\n",
       "      <th>recipe_id</th>\n",
       "      <th>agile_flag</th>\n",
       "    </tr>\n",
       "  </thead>\n",
       "  <tbody>\n",
       "    <tr>\n",
       "      <th>4445</th>\n",
       "      <td>2023-04-07 07:30:00.236</td>\n",
       "      <td>2184.0</td>\n",
       "      <td>L313</td>\n",
       "      <td>Cover_Forming_PatchErectionCheck_BadHeight_Cou...</td>\n",
       "      <td>Amiens</td>\n",
       "      <td>21.0</td>\n",
       "      <td>0</td>\n",
       "    </tr>\n",
       "    <tr>\n",
       "      <th>4446</th>\n",
       "      <td>2023-04-07 07:30:03.236</td>\n",
       "      <td>2.0</td>\n",
       "      <td>L313</td>\n",
       "      <td>Cover_Forming_PatchErectionCheck_BadHeight_Cou...</td>\n",
       "      <td>Amiens</td>\n",
       "      <td>21.0</td>\n",
       "      <td>0</td>\n",
       "    </tr>\n",
       "    <tr>\n",
       "      <th>4447</th>\n",
       "      <td>2023-04-07 07:30:04.236</td>\n",
       "      <td>1.0</td>\n",
       "      <td>L313</td>\n",
       "      <td>Cover_Forming_PatchErectionCheck_BadHeight_Cou...</td>\n",
       "      <td>Amiens</td>\n",
       "      <td>21.0</td>\n",
       "      <td>0</td>\n",
       "    </tr>\n",
       "    <tr>\n",
       "      <th>4448</th>\n",
       "      <td>2023-04-07 07:30:08.236</td>\n",
       "      <td>2.0</td>\n",
       "      <td>L313</td>\n",
       "      <td>Cover_Forming_PatchErectionCheck_BadHeight_Cou...</td>\n",
       "      <td>Amiens</td>\n",
       "      <td>21.0</td>\n",
       "      <td>0</td>\n",
       "    </tr>\n",
       "    <tr>\n",
       "      <th>4449</th>\n",
       "      <td>2023-04-07 07:31:06.233</td>\n",
       "      <td>1.0</td>\n",
       "      <td>L313</td>\n",
       "      <td>Cover_Forming_PatchErectionCheck_BadHeight_Cou...</td>\n",
       "      <td>Amiens</td>\n",
       "      <td>21.0</td>\n",
       "      <td>0</td>\n",
       "    </tr>\n",
       "  </tbody>\n",
       "</table>\n",
       "</div>"
      ],
      "text/plain": [
       "                    DateTime  rejects_qty  line  \\\n",
       "4445 2023-04-07 07:30:00.236       2184.0  L313   \n",
       "4446 2023-04-07 07:30:03.236          2.0  L313   \n",
       "4447 2023-04-07 07:30:04.236          1.0  L313   \n",
       "4448 2023-04-07 07:30:08.236          2.0  L313   \n",
       "4449 2023-04-07 07:31:06.233          1.0  L313   \n",
       "\n",
       "                                                    tag    site  recipe_id  \\\n",
       "4445  Cover_Forming_PatchErectionCheck_BadHeight_Cou...  Amiens       21.0   \n",
       "4446  Cover_Forming_PatchErectionCheck_BadHeight_Cou...  Amiens       21.0   \n",
       "4447  Cover_Forming_PatchErectionCheck_BadHeight_Cou...  Amiens       21.0   \n",
       "4448  Cover_Forming_PatchErectionCheck_BadHeight_Cou...  Amiens       21.0   \n",
       "4449  Cover_Forming_PatchErectionCheck_BadHeight_Cou...  Amiens       21.0   \n",
       "\n",
       "      agile_flag  \n",
       "4445           0  \n",
       "4446           0  \n",
       "4447           0  \n",
       "4448           0  \n",
       "4449           0  "
      ]
     },
     "execution_count": 41,
     "metadata": {},
     "output_type": "execute_result"
    }
   ],
   "source": [
    "if agile_data_available:\n",
    "    # add agile flag\n",
    "    box_rejects_df = add_dim_key_time(fact_df=box_rejects_df, \n",
    "                                      dim_df=agile_status_df.rename(columns={'Value':'agile_flag'}), \n",
    "                                      dim_id='agile_flag', fact_dttm='DateTime', dim_dttm='DateTime', \n",
    "                                      group_by=['site', 'line'])\n",
    "    box_rejects_df = box_rejects_df.assign(agile_flag = box_rejects_df['agile_flag'].fillna(0))\n",
    "else:\n",
    "    box_rejects_df = box_rejects_df.assign(agile_flag = 0)\n",
    "\n",
    "print(box_rejects_df.shape)\n",
    "box_rejects_df.head()"
   ]
  },
  {
   "cell_type": "markdown",
   "metadata": {},
   "source": [
    "#### Mapping to Line State"
   ]
  },
  {
   "cell_type": "code",
   "execution_count": 42,
   "metadata": {
    "ExecuteTime": {
     "end_time": "2023-04-17T08:48:23.827863Z",
     "start_time": "2023-04-17T08:48:23.723373Z"
    }
   },
   "outputs": [
    {
     "name": "stdout",
     "output_type": "stream",
     "text": [
      "(20109, 8)\n"
     ]
    },
    {
     "data": {
      "text/html": [
       "<div>\n",
       "<style scoped>\n",
       "    .dataframe tbody tr th:only-of-type {\n",
       "        vertical-align: middle;\n",
       "    }\n",
       "\n",
       "    .dataframe tbody tr th {\n",
       "        vertical-align: top;\n",
       "    }\n",
       "\n",
       "    .dataframe thead th {\n",
       "        text-align: right;\n",
       "    }\n",
       "</style>\n",
       "<table border=\"1\" class=\"dataframe\">\n",
       "  <thead>\n",
       "    <tr style=\"text-align: right;\">\n",
       "      <th></th>\n",
       "      <th>DateTime</th>\n",
       "      <th>rejects_qty</th>\n",
       "      <th>line</th>\n",
       "      <th>tag</th>\n",
       "      <th>site</th>\n",
       "      <th>recipe_id</th>\n",
       "      <th>agile_flag</th>\n",
       "      <th>line_state_id</th>\n",
       "    </tr>\n",
       "  </thead>\n",
       "  <tbody>\n",
       "    <tr>\n",
       "      <th>0</th>\n",
       "      <td>2023-04-07 07:30:00.236</td>\n",
       "      <td>2184.0</td>\n",
       "      <td>SUAM-31 Packing</td>\n",
       "      <td>Cover_Forming_PatchErectionCheck_BadHeight_Cou...</td>\n",
       "      <td>Amiens</td>\n",
       "      <td>21.0</td>\n",
       "      <td>0.0</td>\n",
       "      <td>2099894/19</td>\n",
       "    </tr>\n",
       "    <tr>\n",
       "      <th>1</th>\n",
       "      <td>2023-04-07 07:30:03.236</td>\n",
       "      <td>2.0</td>\n",
       "      <td>SUAM-31 Packing</td>\n",
       "      <td>Cover_Forming_PatchErectionCheck_BadHeight_Cou...</td>\n",
       "      <td>Amiens</td>\n",
       "      <td>21.0</td>\n",
       "      <td>0.0</td>\n",
       "      <td>2099894/19</td>\n",
       "    </tr>\n",
       "    <tr>\n",
       "      <th>2</th>\n",
       "      <td>2023-04-07 07:30:04.236</td>\n",
       "      <td>1.0</td>\n",
       "      <td>SUAM-31 Packing</td>\n",
       "      <td>Cover_Forming_PatchErectionCheck_BadHeight_Cou...</td>\n",
       "      <td>Amiens</td>\n",
       "      <td>21.0</td>\n",
       "      <td>0.0</td>\n",
       "      <td>2099894/19</td>\n",
       "    </tr>\n",
       "    <tr>\n",
       "      <th>3</th>\n",
       "      <td>2023-04-07 07:30:08.236</td>\n",
       "      <td>2.0</td>\n",
       "      <td>SUAM-31 Packing</td>\n",
       "      <td>Cover_Forming_PatchErectionCheck_BadHeight_Cou...</td>\n",
       "      <td>Amiens</td>\n",
       "      <td>21.0</td>\n",
       "      <td>0.0</td>\n",
       "      <td>2099894/19</td>\n",
       "    </tr>\n",
       "    <tr>\n",
       "      <th>4</th>\n",
       "      <td>2023-04-07 07:31:06.233</td>\n",
       "      <td>1.0</td>\n",
       "      <td>SUAM-31 Packing</td>\n",
       "      <td>Cover_Forming_PatchErectionCheck_BadHeight_Cou...</td>\n",
       "      <td>Amiens</td>\n",
       "      <td>21.0</td>\n",
       "      <td>0.0</td>\n",
       "      <td>2099894/19</td>\n",
       "    </tr>\n",
       "  </tbody>\n",
       "</table>\n",
       "</div>"
      ],
      "text/plain": [
       "                 DateTime  rejects_qty             line  \\\n",
       "0 2023-04-07 07:30:00.236       2184.0  SUAM-31 Packing   \n",
       "1 2023-04-07 07:30:03.236          2.0  SUAM-31 Packing   \n",
       "2 2023-04-07 07:30:04.236          1.0  SUAM-31 Packing   \n",
       "3 2023-04-07 07:30:08.236          2.0  SUAM-31 Packing   \n",
       "4 2023-04-07 07:31:06.233          1.0  SUAM-31 Packing   \n",
       "\n",
       "                                                 tag    site  recipe_id  \\\n",
       "0  Cover_Forming_PatchErectionCheck_BadHeight_Cou...  Amiens       21.0   \n",
       "1  Cover_Forming_PatchErectionCheck_BadHeight_Cou...  Amiens       21.0   \n",
       "2  Cover_Forming_PatchErectionCheck_BadHeight_Cou...  Amiens       21.0   \n",
       "3  Cover_Forming_PatchErectionCheck_BadHeight_Cou...  Amiens       21.0   \n",
       "4  Cover_Forming_PatchErectionCheck_BadHeight_Cou...  Amiens       21.0   \n",
       "\n",
       "   agile_flag line_state_id  \n",
       "0         0.0    2099894/19  \n",
       "1         0.0    2099894/19  \n",
       "2         0.0    2099894/19  \n",
       "3         0.0    2099894/19  \n",
       "4         0.0    2099894/19  "
      ]
     },
     "execution_count": 42,
     "metadata": {},
     "output_type": "execute_result"
    }
   ],
   "source": [
    " ## add line state\n",
    "box_rejects_df = add_dim_key_time(fact_df=box_rejects_df.assign(line = box_rejects_df['line'].map(line_maping_dict)), \n",
    "                                  dim_df=line_state_map_df, \n",
    "                                  dim_id='line_state_id', \n",
    "                                  fact_dttm='DateTime', dim_dttm='DateTime', \n",
    "                                  group_by=['site', 'line'])\n",
    "print(box_rejects_df.shape)\n",
    "box_rejects_df.head()"
   ]
  },
  {
   "cell_type": "markdown",
   "metadata": {},
   "source": [
    "#### Aggregating data"
   ]
  },
  {
   "cell_type": "code",
   "execution_count": 43,
   "metadata": {
    "ExecuteTime": {
     "end_time": "2023-04-17T08:48:28.222898Z",
     "start_time": "2023-04-17T08:48:28.141854Z"
    }
   },
   "outputs": [
    {
     "name": "stdout",
     "output_type": "stream",
     "text": [
      "(4546, 9)\n"
     ]
    },
    {
     "data": {
      "text/html": [
       "<div>\n",
       "<style scoped>\n",
       "    .dataframe tbody tr th:only-of-type {\n",
       "        vertical-align: middle;\n",
       "    }\n",
       "\n",
       "    .dataframe tbody tr th {\n",
       "        vertical-align: top;\n",
       "    }\n",
       "\n",
       "    .dataframe thead th {\n",
       "        text-align: right;\n",
       "    }\n",
       "</style>\n",
       "<table border=\"1\" class=\"dataframe\">\n",
       "  <thead>\n",
       "    <tr style=\"text-align: right;\">\n",
       "      <th></th>\n",
       "      <th>site</th>\n",
       "      <th>line</th>\n",
       "      <th>DateTimeMin</th>\n",
       "      <th>tag</th>\n",
       "      <th>agile_flag</th>\n",
       "      <th>recipe_id</th>\n",
       "      <th>line_state_id</th>\n",
       "      <th>rejects_qty</th>\n",
       "      <th>DateTime</th>\n",
       "    </tr>\n",
       "  </thead>\n",
       "  <tbody>\n",
       "    <tr>\n",
       "      <th>0</th>\n",
       "      <td>Amiens</td>\n",
       "      <td>SUAM-31 Packing</td>\n",
       "      <td>2023-04-07 07:30:00</td>\n",
       "      <td>Cover_Forming_PatchErectionCheck_BadAngle_Coun...</td>\n",
       "      <td>0.0</td>\n",
       "      <td>21.0</td>\n",
       "      <td>2099894/31</td>\n",
       "      <td>25.0</td>\n",
       "      <td>2023-04-07 07:59:27.262</td>\n",
       "    </tr>\n",
       "    <tr>\n",
       "      <th>1</th>\n",
       "      <td>Amiens</td>\n",
       "      <td>SUAM-31 Packing</td>\n",
       "      <td>2023-04-07 07:30:00</td>\n",
       "      <td>Cover_Forming_PatchErectionCheck_BadAngle_Coun...</td>\n",
       "      <td>0.0</td>\n",
       "      <td>21.0</td>\n",
       "      <td>2099894/32</td>\n",
       "      <td>2.0</td>\n",
       "      <td>2023-04-07 07:59:51.263</td>\n",
       "    </tr>\n",
       "    <tr>\n",
       "      <th>2</th>\n",
       "      <td>Amiens</td>\n",
       "      <td>SUAM-31 Packing</td>\n",
       "      <td>2023-04-07 07:30:00</td>\n",
       "      <td>Cover_Forming_PatchErectionCheck_BadHeight_Cou...</td>\n",
       "      <td>0.0</td>\n",
       "      <td>21.0</td>\n",
       "      <td>2099894/19</td>\n",
       "      <td>2195.0</td>\n",
       "      <td>2023-04-07 07:30:00.236</td>\n",
       "    </tr>\n",
       "    <tr>\n",
       "      <th>3</th>\n",
       "      <td>Amiens</td>\n",
       "      <td>SUAM-31 Packing</td>\n",
       "      <td>2023-04-07 07:30:00</td>\n",
       "      <td>Cover_Forming_PatchErectionCheck_BadHeight_Cou...</td>\n",
       "      <td>0.0</td>\n",
       "      <td>21.0</td>\n",
       "      <td>2099894/20</td>\n",
       "      <td>12.0</td>\n",
       "      <td>2023-04-07 07:40:09.249</td>\n",
       "    </tr>\n",
       "    <tr>\n",
       "      <th>4</th>\n",
       "      <td>Amiens</td>\n",
       "      <td>SUAM-31 Packing</td>\n",
       "      <td>2023-04-07 07:30:00</td>\n",
       "      <td>Cover_Forming_PatchErectionCheck_BadHeight_Cou...</td>\n",
       "      <td>0.0</td>\n",
       "      <td>21.0</td>\n",
       "      <td>2099894/21</td>\n",
       "      <td>35.0</td>\n",
       "      <td>2023-04-07 07:40:30.247</td>\n",
       "    </tr>\n",
       "  </tbody>\n",
       "</table>\n",
       "</div>"
      ],
      "text/plain": [
       "     site             line         DateTimeMin  \\\n",
       "0  Amiens  SUAM-31 Packing 2023-04-07 07:30:00   \n",
       "1  Amiens  SUAM-31 Packing 2023-04-07 07:30:00   \n",
       "2  Amiens  SUAM-31 Packing 2023-04-07 07:30:00   \n",
       "3  Amiens  SUAM-31 Packing 2023-04-07 07:30:00   \n",
       "4  Amiens  SUAM-31 Packing 2023-04-07 07:30:00   \n",
       "\n",
       "                                                 tag  agile_flag  recipe_id  \\\n",
       "0  Cover_Forming_PatchErectionCheck_BadAngle_Coun...         0.0       21.0   \n",
       "1  Cover_Forming_PatchErectionCheck_BadAngle_Coun...         0.0       21.0   \n",
       "2  Cover_Forming_PatchErectionCheck_BadHeight_Cou...         0.0       21.0   \n",
       "3  Cover_Forming_PatchErectionCheck_BadHeight_Cou...         0.0       21.0   \n",
       "4  Cover_Forming_PatchErectionCheck_BadHeight_Cou...         0.0       21.0   \n",
       "\n",
       "  line_state_id  rejects_qty                DateTime  \n",
       "0    2099894/31         25.0 2023-04-07 07:59:27.262  \n",
       "1    2099894/32          2.0 2023-04-07 07:59:51.263  \n",
       "2    2099894/19       2195.0 2023-04-07 07:30:00.236  \n",
       "3    2099894/20         12.0 2023-04-07 07:40:09.249  \n",
       "4    2099894/21         35.0 2023-04-07 07:40:30.247  "
      ]
     },
     "execution_count": 43,
     "metadata": {},
     "output_type": "execute_result"
    }
   ],
   "source": [
    "## aggregating\n",
    "box_rejects_df = box_rejects_df.assign(DateTimeMin = box_rejects_df['DateTime'].dt.floor(rejects_agg_freq))\n",
    "\n",
    "groupby_cols = ['site', 'line', 'DateTimeMin', 'tag', \n",
    "                'agile_flag', 'recipe_id', 'line_state_id']\n",
    "agg_dict = {'rejects_qty':'sum', 'DateTime':'min'}\n",
    "\n",
    "box_rejects_agg_df = box_rejects_df.groupby(groupby_cols).agg(agg_dict).reset_index()\n",
    "print(box_rejects_agg_df.shape)\n",
    "box_rejects_agg_df.head()\n"
   ]
  },
  {
   "cell_type": "markdown",
   "metadata": {},
   "source": [
    "####  Fixing \"Other Rejects\" Counter"
   ]
  },
  {
   "cell_type": "code",
   "execution_count": 44,
   "metadata": {
    "ExecuteTime": {
     "end_time": "2023-04-17T08:48:30.542609Z",
     "start_time": "2023-04-17T08:48:30.468310Z"
    }
   },
   "outputs": [
    {
     "name": "stdout",
     "output_type": "stream",
     "text": [
      "(4546, 9)\n",
      "(166, 8)\n"
     ]
    }
   ],
   "source": [
    "print(box_rejects_agg_df.shape)\n",
    "box_rejects_fix_df = get_other_rejects_tag_fixed(box_rejects_agg_df)\n",
    "print(box_rejects_fix_df.shape)"
   ]
  },
  {
   "cell_type": "code",
   "execution_count": 45,
   "metadata": {
    "ExecuteTime": {
     "end_time": "2023-04-17T08:48:33.670800Z",
     "start_time": "2023-04-17T08:48:33.663911Z"
    }
   },
   "outputs": [
    {
     "data": {
      "text/plain": [
       "['Base_Machine_RejectedBases_Station3_Counter_Actual_n']"
      ]
     },
     "execution_count": 45,
     "metadata": {},
     "output_type": "execute_result"
    }
   ],
   "source": [
    "site_historian_tags['tag_station']"
   ]
  },
  {
   "cell_type": "code",
   "execution_count": 46,
   "metadata": {
    "ExecuteTime": {
     "end_time": "2023-04-17T08:48:34.115153Z",
     "start_time": "2023-04-17T08:48:34.091725Z"
    }
   },
   "outputs": [
    {
     "name": "stdout",
     "output_type": "stream",
     "text": [
      "(4546, 9)\n",
      "(4410, 9)\n",
      "(4410, 10)\n"
     ]
    }
   ],
   "source": [
    "print(box_rejects_agg_df.shape)\n",
    "box_rejects_agg_df = box_rejects_agg_df.loc[~box_rejects_agg_df['tag'].isin(site_historian_tags['tag_station'])]\n",
    "print(box_rejects_agg_df.shape)\n",
    "box_rejects_agg_df = box_rejects_agg_df.merge(box_rejects_fix_df, how='left', on=groupby_cols)\n",
    "print(box_rejects_agg_df.shape)"
   ]
  },
  {
   "cell_type": "code",
   "execution_count": 47,
   "metadata": {
    "ExecuteTime": {
     "end_time": "2023-04-17T08:48:36.339081Z",
     "start_time": "2023-04-17T08:48:36.305816Z"
    }
   },
   "outputs": [
    {
     "name": "stdout",
     "output_type": "stream",
     "text": [
      "(4410, 9)\n"
     ]
    },
    {
     "data": {
      "text/html": [
       "<div>\n",
       "<style scoped>\n",
       "    .dataframe tbody tr th:only-of-type {\n",
       "        vertical-align: middle;\n",
       "    }\n",
       "\n",
       "    .dataframe tbody tr th {\n",
       "        vertical-align: top;\n",
       "    }\n",
       "\n",
       "    .dataframe thead th {\n",
       "        text-align: right;\n",
       "    }\n",
       "</style>\n",
       "<table border=\"1\" class=\"dataframe\">\n",
       "  <thead>\n",
       "    <tr style=\"text-align: right;\">\n",
       "      <th></th>\n",
       "      <th>site</th>\n",
       "      <th>line</th>\n",
       "      <th>DateTimeMin</th>\n",
       "      <th>tag</th>\n",
       "      <th>agile_flag</th>\n",
       "      <th>recipe_id</th>\n",
       "      <th>line_state_id</th>\n",
       "      <th>rejects_qty</th>\n",
       "      <th>DateTime</th>\n",
       "    </tr>\n",
       "  </thead>\n",
       "  <tbody>\n",
       "    <tr>\n",
       "      <th>0</th>\n",
       "      <td>Amiens</td>\n",
       "      <td>SUAM-31 Packing</td>\n",
       "      <td>2023-04-07 07:30:00</td>\n",
       "      <td>Cover_Forming_PatchErectionCheck_BadAngle_Coun...</td>\n",
       "      <td>0.0</td>\n",
       "      <td>21.0</td>\n",
       "      <td>2099894/31</td>\n",
       "      <td>25.0</td>\n",
       "      <td>2023-04-07 07:59:27.262</td>\n",
       "    </tr>\n",
       "    <tr>\n",
       "      <th>1</th>\n",
       "      <td>Amiens</td>\n",
       "      <td>SUAM-31 Packing</td>\n",
       "      <td>2023-04-07 07:30:00</td>\n",
       "      <td>Cover_Forming_PatchErectionCheck_BadAngle_Coun...</td>\n",
       "      <td>0.0</td>\n",
       "      <td>21.0</td>\n",
       "      <td>2099894/32</td>\n",
       "      <td>2.0</td>\n",
       "      <td>2023-04-07 07:59:51.263</td>\n",
       "    </tr>\n",
       "    <tr>\n",
       "      <th>2</th>\n",
       "      <td>Amiens</td>\n",
       "      <td>SUAM-31 Packing</td>\n",
       "      <td>2023-04-07 07:30:00</td>\n",
       "      <td>Cover_Forming_PatchErectionCheck_BadHeight_Cou...</td>\n",
       "      <td>0.0</td>\n",
       "      <td>21.0</td>\n",
       "      <td>2099894/19</td>\n",
       "      <td>2195.0</td>\n",
       "      <td>2023-04-07 07:30:00.236</td>\n",
       "    </tr>\n",
       "    <tr>\n",
       "      <th>3</th>\n",
       "      <td>Amiens</td>\n",
       "      <td>SUAM-31 Packing</td>\n",
       "      <td>2023-04-07 07:30:00</td>\n",
       "      <td>Cover_Forming_PatchErectionCheck_BadHeight_Cou...</td>\n",
       "      <td>0.0</td>\n",
       "      <td>21.0</td>\n",
       "      <td>2099894/20</td>\n",
       "      <td>12.0</td>\n",
       "      <td>2023-04-07 07:40:09.249</td>\n",
       "    </tr>\n",
       "    <tr>\n",
       "      <th>4</th>\n",
       "      <td>Amiens</td>\n",
       "      <td>SUAM-31 Packing</td>\n",
       "      <td>2023-04-07 07:30:00</td>\n",
       "      <td>Cover_Forming_PatchErectionCheck_BadHeight_Cou...</td>\n",
       "      <td>0.0</td>\n",
       "      <td>21.0</td>\n",
       "      <td>2099894/21</td>\n",
       "      <td>35.0</td>\n",
       "      <td>2023-04-07 07:40:30.247</td>\n",
       "    </tr>\n",
       "  </tbody>\n",
       "</table>\n",
       "</div>"
      ],
      "text/plain": [
       "     site             line         DateTimeMin  \\\n",
       "0  Amiens  SUAM-31 Packing 2023-04-07 07:30:00   \n",
       "1  Amiens  SUAM-31 Packing 2023-04-07 07:30:00   \n",
       "2  Amiens  SUAM-31 Packing 2023-04-07 07:30:00   \n",
       "3  Amiens  SUAM-31 Packing 2023-04-07 07:30:00   \n",
       "4  Amiens  SUAM-31 Packing 2023-04-07 07:30:00   \n",
       "\n",
       "                                                 tag  agile_flag  recipe_id  \\\n",
       "0  Cover_Forming_PatchErectionCheck_BadAngle_Coun...         0.0       21.0   \n",
       "1  Cover_Forming_PatchErectionCheck_BadAngle_Coun...         0.0       21.0   \n",
       "2  Cover_Forming_PatchErectionCheck_BadHeight_Cou...         0.0       21.0   \n",
       "3  Cover_Forming_PatchErectionCheck_BadHeight_Cou...         0.0       21.0   \n",
       "4  Cover_Forming_PatchErectionCheck_BadHeight_Cou...         0.0       21.0   \n",
       "\n",
       "  line_state_id  rejects_qty                DateTime  \n",
       "0    2099894/31         25.0 2023-04-07 07:59:27.262  \n",
       "1    2099894/32          2.0 2023-04-07 07:59:51.263  \n",
       "2    2099894/19       2195.0 2023-04-07 07:30:00.236  \n",
       "3    2099894/20         12.0 2023-04-07 07:40:09.249  \n",
       "4    2099894/21         35.0 2023-04-07 07:40:30.247  "
      ]
     },
     "execution_count": 47,
     "metadata": {},
     "output_type": "execute_result"
    }
   ],
   "source": [
    "if site_cd == 'url':\n",
    "    adjust_mask = ((box_rejects_agg_df['tag'] == 'Upack_BoxCheckweigher_0_Extra_Rejected_n') & \n",
    "                    (box_rejects_agg_df['DateTimeMin'] >= '2022-07-14') # date when the tags were fixed in historian\n",
    "                    )\n",
    "else:\n",
    "    adjust_mask = box_rejects_agg_df['tag'] == 'Upack_BoxCheckweigher_0_Extra_Rejected_n'\n",
    "\n",
    "box_rejects_agg_df = (box_rejects_agg_df\n",
    "                        .assign(rejects_qty = np.where(adjust_mask, box_rejects_agg_df['new_rejects_qty'], box_rejects_agg_df['rejects_qty']))\n",
    "                        .drop(columns=['new_rejects_qty'])\n",
    "            )\n",
    "\n",
    "print(box_rejects_agg_df.shape)\n",
    "box_rejects_agg_df.head()"
   ]
  },
  {
   "cell_type": "code",
   "execution_count": 48,
   "metadata": {
    "ExecuteTime": {
     "end_time": "2023-04-17T08:48:40.365815Z",
     "start_time": "2023-04-17T08:48:40.324779Z"
    }
   },
   "outputs": [
    {
     "name": "stdout",
     "output_type": "stream",
     "text": [
      "Shape of resulting box rejects data: (3453, 9)\n"
     ]
    }
   ],
   "source": [
    "\n",
    "# renaming columns\n",
    "rename_dict = {'DateTimeMin':'datetime', \n",
    "                'DateTime':'start_time'}\n",
    "box_rejects_agg_df = (box_rejects_agg_df\n",
    "                                        .merge(lines_dim_df[['line_id', 'line']], on='line', how='inner')\n",
    "                                        .merge(sites_dim_df[['site_id', 'site']], on='site', how='inner')\n",
    "                                        .merge(reject_cause_dim_df[['reject_cause_id', 'tag_nm']], left_on='tag', right_on='tag_nm', how='inner')\n",
    "                                        .drop(columns=['site', 'line', 'tag', 'tag_nm'])\n",
    "                                        .rename(columns=rename_dict)\n",
    "                                    )\n",
    "print(f'Shape of resulting box rejects data: {box_rejects_agg_df.shape}')\n",
    "                "
   ]
  },
  {
   "cell_type": "code",
   "execution_count": 49,
   "metadata": {
    "ExecuteTime": {
     "end_time": "2023-04-17T08:48:41.847431Z",
     "start_time": "2023-04-17T08:48:41.832799Z"
    }
   },
   "outputs": [
    {
     "data": {
      "text/plain": [
       "line_state_id      False\n",
       "recipe_id          False\n",
       "line_id            False\n",
       "site_id            False\n",
       "reject_cause_id    False\n",
       "dtype: bool"
      ]
     },
     "execution_count": 49,
     "metadata": {},
     "output_type": "execute_result"
    }
   ],
   "source": [
    "box_rejects_agg_df[['line_state_id','recipe_id','line_id','site_id','reject_cause_id']].isnull().any()"
   ]
  },
  {
   "cell_type": "markdown",
   "metadata": {},
   "source": [
    "## ETL for generating SUD_BOX_TOTALS table"
   ]
  },
  {
   "cell_type": "markdown",
   "metadata": {},
   "source": [
    "#### Generating list of tags to extract"
   ]
  },
  {
   "cell_type": "code",
   "execution_count": 50,
   "metadata": {
    "ExecuteTime": {
     "end_time": "2023-04-17T08:49:00.411948Z",
     "start_time": "2023-04-17T08:49:00.401202Z"
    }
   },
   "outputs": [
    {
     "data": {
      "text/plain": [
       "['Cover_General_ExtractedCartons_Total_Counter_Actual_n',\n",
       " 'Cover_General_ProducedCovers_Total_Counter_Actual_n',\n",
       " 'Base_Machine_ExtractedCartons_0_Counter_Actual_n',\n",
       " 'Base_Machine_ProducedBases_0_Counter_Actual_n',\n",
       " 'Base_Machine_RejectedBases_Station1_Counter_Actual_n',\n",
       " 'Base_Machine_RejectedBases_Station2_Counter_Actual_n',\n",
       " 'Base_Machine_RejectedBases_Station3_Counter_Actual_n',\n",
       " 'Base_Machine_RejectedBases_Total_NOT_Extracted_Betw_Holders_n',\n",
       " 'Cover_General_RejectedCovers_0_Counter_Actual_n',\n",
       " 'Upack_Produced_Case_At_Spiral_n']"
      ]
     },
     "execution_count": 50,
     "metadata": {},
     "output_type": "execute_result"
    }
   ],
   "source": [
    "tags_total = [t for t in site_historian_tags['tags_total']]\n",
    "tags_total"
   ]
  },
  {
   "cell_type": "code",
   "execution_count": 51,
   "metadata": {
    "ExecuteTime": {
     "end_time": "2023-04-17T08:49:02.997203Z",
     "start_time": "2023-04-17T08:49:02.988383Z"
    }
   },
   "outputs": [
    {
     "data": {
      "text/plain": [
       "('AMI-SUDHIS-01.L313_Cover_General_ExtractedCartons_Total_Counter_Actual_n',\n",
       " 'AMI-SUDHIS-01.L313_Cover_General_ProducedCovers_Total_Counter_Actual_n',\n",
       " 'AMI-SUDHIS-01.L313_Base_Machine_ExtractedCartons_0_Counter_Actual_n',\n",
       " 'AMI-SUDHIS-01.L313_Base_Machine_ProducedBases_0_Counter_Actual_n',\n",
       " 'AMI-SUDHIS-01.L313_Base_Machine_RejectedBases_Station1_Counter_Actual_n',\n",
       " 'AMI-SUDHIS-01.L313_Base_Machine_RejectedBases_Station2_Counter_Actual_n',\n",
       " 'AMI-SUDHIS-01.L313_Base_Machine_RejectedBases_Station3_Counter_Actual_n',\n",
       " 'AMI-SUDHIS-01.L313_Base_Machine_RejectedBases_Total_NOT_Extracted_Betw_Holders_n',\n",
       " 'AMI-SUDHIS-01.L313_Cover_General_RejectedCovers_0_Counter_Actual_n',\n",
       " 'AMI-SUDHIS-01.L313_Upack_Produced_Case_At_Spiral_n')"
      ]
     },
     "execution_count": 51,
     "metadata": {},
     "output_type": "execute_result"
    }
   ],
   "source": [
    "reject_total_tags = get_tags_list(lines=site_lines, sensors=tags_total, sep='_', topic=site_servers['historian']['proficy']['topic'])\n",
    "reject_total_tags"
   ]
  },
  {
   "cell_type": "markdown",
   "metadata": {},
   "source": [
    "### Extracting data for SUD_BOX_TOTALS"
   ]
  },
  {
   "cell_type": "markdown",
   "metadata": {},
   "source": [
    "#### Defining Extract window"
   ]
  },
  {
   "cell_type": "code",
   "execution_count": 52,
   "metadata": {
    "ExecuteTime": {
     "end_time": "2023-04-17T08:49:12.934746Z",
     "start_time": "2023-04-17T08:49:12.913397Z"
    }
   },
   "outputs": [
    {
     "name": "stdout",
     "output_type": "stream",
     "text": [
      "Extracting data between: 2023-04-07 05:30:00 and 2023-04-17 08:49:12.930853\n"
     ]
    }
   ],
   "source": [
    "# define extract window\n",
    "last_run_df = get_last_run_df(table_nm=box_production_table_nm,\n",
    "                        db_conn=get_db_connection(datalab_db_conn, datalab_db_access_token),\n",
    "                        job_nm=job_nm)\n",
    "\n",
    "if not last_run_df.empty:\n",
    "    last_available_dttm = last_run_df['last_dttm_available'][0]\n",
    "    last_available_id = last_run_df['last_id_available'][0]\n",
    "else:\n",
    "    last_available_dttm = None\n",
    "    last_available_id = None\n",
    "\n",
    "start_dttm = datetime.now() if last_available_dttm is None else last_available_dttm\n",
    "start_dttm = start_dttm - timedelta(days=site_days_to_retake)\n",
    "start_time = start_dttm\n",
    "end_time = datetime.now()\n",
    "print(f'Extracting data between: {start_time} and {end_time}')\n",
    "\n",
    "        "
   ]
  },
  {
   "cell_type": "code",
   "execution_count": 53,
   "metadata": {
    "ExecuteTime": {
     "end_time": "2023-04-17T08:49:25.800427Z",
     "start_time": "2023-04-17T08:49:25.794579Z"
    }
   },
   "outputs": [],
   "source": [
    "# start_time = datetime(2022, 12, 29)\n",
    "# end_time = datetime.now()\n",
    "# print(f'Extracting data between: {start_time} and {end_time}')\n"
   ]
  },
  {
   "cell_type": "markdown",
   "metadata": {},
   "source": [
    "#### Extracting Produced/Extracted/Total Rejected Counters"
   ]
  },
  {
   "cell_type": "code",
   "execution_count": 54,
   "metadata": {
    "ExecuteTime": {
     "end_time": "2023-04-17T08:49:27.613901Z",
     "start_time": "2023-04-17T08:49:27.606313Z"
    }
   },
   "outputs": [
    {
     "data": {
      "text/plain": [
       "('AMI-SUDHIS-01.L313_Cover_General_ExtractedCartons_Total_Counter_Actual_n',\n",
       " 'AMI-SUDHIS-01.L313_Cover_General_ProducedCovers_Total_Counter_Actual_n',\n",
       " 'AMI-SUDHIS-01.L313_Base_Machine_ExtractedCartons_0_Counter_Actual_n',\n",
       " 'AMI-SUDHIS-01.L313_Base_Machine_ProducedBases_0_Counter_Actual_n',\n",
       " 'AMI-SUDHIS-01.L313_Base_Machine_RejectedBases_Station1_Counter_Actual_n',\n",
       " 'AMI-SUDHIS-01.L313_Base_Machine_RejectedBases_Station2_Counter_Actual_n',\n",
       " 'AMI-SUDHIS-01.L313_Base_Machine_RejectedBases_Station3_Counter_Actual_n',\n",
       " 'AMI-SUDHIS-01.L313_Base_Machine_RejectedBases_Total_NOT_Extracted_Betw_Holders_n',\n",
       " 'AMI-SUDHIS-01.L313_Cover_General_RejectedCovers_0_Counter_Actual_n',\n",
       " 'AMI-SUDHIS-01.L313_Upack_Produced_Case_At_Spiral_n')"
      ]
     },
     "execution_count": 54,
     "metadata": {},
     "output_type": "execute_result"
    }
   ],
   "source": [
    "reject_total_tags\n",
    "\n",
    "\n"
   ]
  },
  {
   "cell_type": "code",
   "execution_count": 55,
   "metadata": {
    "ExecuteTime": {
     "end_time": "2023-04-17T08:50:01.513358Z",
     "start_time": "2023-04-17T08:49:30.271600Z"
    }
   },
   "outputs": [
    {
     "name": "stdout",
     "output_type": "stream",
     "text": [
      "Shape of data extract: (108893, 2)\n"
     ]
    }
   ],
   "source": [
    "total_historian_extract_df = historian.get_tag_values(\n",
    "                    site_servers['historian']['proficy']['server_name'],\n",
    "                    start_time=start_time,\n",
    "                    end_time=end_time,\n",
    "                    filter_name=reject_total_tags)\n",
    "print(f'Shape of data extract: {total_historian_extract_df.shape}')"
   ]
  },
  {
   "cell_type": "code",
   "execution_count": 56,
   "metadata": {
    "ExecuteTime": {
     "end_time": "2023-04-17T08:50:01.522089Z",
     "start_time": "2023-04-17T08:50:01.516239Z"
    }
   },
   "outputs": [],
   "source": [
    "## for L27"
   ]
  },
  {
   "cell_type": "code",
   "execution_count": 57,
   "metadata": {
    "ExecuteTime": {
     "end_time": "2023-04-17T08:50:01.554392Z",
     "start_time": "2023-04-17T08:50:01.526057Z"
    }
   },
   "outputs": [],
   "source": [
    "#.str.split('.', n=1, expand=True)[1] 'L343' in t\n",
    "# tags_to_extract_total_L27 = [t for t in reject_total_tags if 'L273' in t]\n",
    "# tags_to_extract_total_L27"
   ]
  },
  {
   "cell_type": "code",
   "execution_count": 58,
   "metadata": {
    "ExecuteTime": {
     "end_time": "2023-04-17T08:50:01.588587Z",
     "start_time": "2023-04-17T08:50:01.557283Z"
    }
   },
   "outputs": [],
   "source": [
    "# print(end_time)"
   ]
  },
  {
   "cell_type": "code",
   "execution_count": 59,
   "metadata": {
    "ExecuteTime": {
     "end_time": "2023-04-17T08:50:01.619764Z",
     "start_time": "2023-04-17T08:50:01.591419Z"
    }
   },
   "outputs": [],
   "source": [
    "# total_historian_extract_df_L27_first_chunck = historian.get_tag_values(\n",
    "#                     site_servers['historian']['proficy']['server_name'],\n",
    "#                     start_time=start_time,\n",
    "#                     end_time=end_time,\n",
    "#                     filter_name=tags_to_extract_total_L27)\n",
    "# print(f'Shape of data extract: {total_historian_extract_df_L27_second_chunck.shape}')"
   ]
  },
  {
   "cell_type": "markdown",
   "metadata": {},
   "source": [
    "### Transformations for SUD_BOX_TOTALS"
   ]
  },
  {
   "cell_type": "code",
   "execution_count": 60,
   "metadata": {
    "ExecuteTime": {
     "end_time": "2023-04-17T08:50:25.670258Z",
     "start_time": "2023-04-17T08:50:24.096772Z"
    }
   },
   "outputs": [
    {
     "name": "stdout",
     "output_type": "stream",
     "text": [
      "TRANSFORM: Shape of original extracted data: (108893, 3)\n",
      "TRANSFORM: Step 1 - Removing cases where the counter values were not logged (NaNs) or negative\n",
      "TRANSFORM: # removed records 0\n",
      "TRANSFORM: Shape after step: (108893, 3)\n",
      "TRANSFORM: Step 2 - Removing cases where the counter was not changing\n",
      "TRANSFORM: # removed records 0\n",
      "TRANSFORM: Shape after step: (108893, 5)\n",
      "TRANSFORM: Step 3 - Removing cases where the counter reports zero\n",
      "TRANSFORM: # removed records 73\n",
      "TRANSFORM: Shape after step: (108820, 5)\n",
      "TRANSFORM: Shape after addition of columns: (108820, 5)\n"
     ]
    },
    {
     "data": {
      "text/html": [
       "<div>\n",
       "<style scoped>\n",
       "    .dataframe tbody tr th:only-of-type {\n",
       "        vertical-align: middle;\n",
       "    }\n",
       "\n",
       "    .dataframe tbody tr th {\n",
       "        vertical-align: top;\n",
       "    }\n",
       "\n",
       "    .dataframe thead th {\n",
       "        text-align: right;\n",
       "    }\n",
       "</style>\n",
       "<table border=\"1\" class=\"dataframe\">\n",
       "  <thead>\n",
       "    <tr style=\"text-align: right;\">\n",
       "      <th></th>\n",
       "      <th>DateTime</th>\n",
       "      <th>rejects_qty</th>\n",
       "      <th>line</th>\n",
       "      <th>tag</th>\n",
       "      <th>site</th>\n",
       "    </tr>\n",
       "  </thead>\n",
       "  <tbody>\n",
       "    <tr>\n",
       "      <th>64113</th>\n",
       "      <td>2023-04-14 11:55:07.274</td>\n",
       "      <td>9610.0</td>\n",
       "      <td>L313</td>\n",
       "      <td>Base_Machine_ExtractedCartons_0_Counter_Actual_n</td>\n",
       "      <td>Amiens</td>\n",
       "    </tr>\n",
       "    <tr>\n",
       "      <th>64112</th>\n",
       "      <td>2023-04-14 11:55:08.274</td>\n",
       "      <td>2.0</td>\n",
       "      <td>L313</td>\n",
       "      <td>Base_Machine_ExtractedCartons_0_Counter_Actual_n</td>\n",
       "      <td>Amiens</td>\n",
       "    </tr>\n",
       "    <tr>\n",
       "      <th>64111</th>\n",
       "      <td>2023-04-14 11:55:09.274</td>\n",
       "      <td>2.0</td>\n",
       "      <td>L313</td>\n",
       "      <td>Base_Machine_ExtractedCartons_0_Counter_Actual_n</td>\n",
       "      <td>Amiens</td>\n",
       "    </tr>\n",
       "    <tr>\n",
       "      <th>64110</th>\n",
       "      <td>2023-04-14 11:55:10.274</td>\n",
       "      <td>3.0</td>\n",
       "      <td>L313</td>\n",
       "      <td>Base_Machine_ExtractedCartons_0_Counter_Actual_n</td>\n",
       "      <td>Amiens</td>\n",
       "    </tr>\n",
       "    <tr>\n",
       "      <th>64109</th>\n",
       "      <td>2023-04-14 11:55:11.274</td>\n",
       "      <td>2.0</td>\n",
       "      <td>L313</td>\n",
       "      <td>Base_Machine_ExtractedCartons_0_Counter_Actual_n</td>\n",
       "      <td>Amiens</td>\n",
       "    </tr>\n",
       "    <tr>\n",
       "      <th>...</th>\n",
       "      <td>...</td>\n",
       "      <td>...</td>\n",
       "      <td>...</td>\n",
       "      <td>...</td>\n",
       "      <td>...</td>\n",
       "    </tr>\n",
       "    <tr>\n",
       "      <th>92261</th>\n",
       "      <td>2023-04-17 10:37:57.764</td>\n",
       "      <td>1.0</td>\n",
       "      <td>L313</td>\n",
       "      <td>Upack_Produced_Case_At_Spiral_n</td>\n",
       "      <td>Amiens</td>\n",
       "    </tr>\n",
       "    <tr>\n",
       "      <th>92260</th>\n",
       "      <td>2023-04-17 10:38:10.811</td>\n",
       "      <td>1.0</td>\n",
       "      <td>L313</td>\n",
       "      <td>Upack_Produced_Case_At_Spiral_n</td>\n",
       "      <td>Amiens</td>\n",
       "    </tr>\n",
       "    <tr>\n",
       "      <th>92259</th>\n",
       "      <td>2023-04-17 10:38:19.825</td>\n",
       "      <td>1.0</td>\n",
       "      <td>L313</td>\n",
       "      <td>Upack_Produced_Case_At_Spiral_n</td>\n",
       "      <td>Amiens</td>\n",
       "    </tr>\n",
       "    <tr>\n",
       "      <th>92258</th>\n",
       "      <td>2023-04-17 10:44:19.873</td>\n",
       "      <td>1.0</td>\n",
       "      <td>L313</td>\n",
       "      <td>Upack_Produced_Case_At_Spiral_n</td>\n",
       "      <td>Amiens</td>\n",
       "    </tr>\n",
       "    <tr>\n",
       "      <th>92257</th>\n",
       "      <td>2023-04-17 10:44:28.811</td>\n",
       "      <td>1.0</td>\n",
       "      <td>L313</td>\n",
       "      <td>Upack_Produced_Case_At_Spiral_n</td>\n",
       "      <td>Amiens</td>\n",
       "    </tr>\n",
       "  </tbody>\n",
       "</table>\n",
       "<p>108820 rows × 5 columns</p>\n",
       "</div>"
      ],
      "text/plain": [
       "                     DateTime  rejects_qty  line  \\\n",
       "64113 2023-04-14 11:55:07.274       9610.0  L313   \n",
       "64112 2023-04-14 11:55:08.274          2.0  L313   \n",
       "64111 2023-04-14 11:55:09.274          2.0  L313   \n",
       "64110 2023-04-14 11:55:10.274          3.0  L313   \n",
       "64109 2023-04-14 11:55:11.274          2.0  L313   \n",
       "...                       ...          ...   ...   \n",
       "92261 2023-04-17 10:37:57.764          1.0  L313   \n",
       "92260 2023-04-17 10:38:10.811          1.0  L313   \n",
       "92259 2023-04-17 10:38:19.825          1.0  L313   \n",
       "92258 2023-04-17 10:44:19.873          1.0  L313   \n",
       "92257 2023-04-17 10:44:28.811          1.0  L313   \n",
       "\n",
       "                                                    tag    site  \n",
       "64113  Base_Machine_ExtractedCartons_0_Counter_Actual_n  Amiens  \n",
       "64112  Base_Machine_ExtractedCartons_0_Counter_Actual_n  Amiens  \n",
       "64111  Base_Machine_ExtractedCartons_0_Counter_Actual_n  Amiens  \n",
       "64110  Base_Machine_ExtractedCartons_0_Counter_Actual_n  Amiens  \n",
       "64109  Base_Machine_ExtractedCartons_0_Counter_Actual_n  Amiens  \n",
       "...                                                 ...     ...  \n",
       "92261                   Upack_Produced_Case_At_Spiral_n  Amiens  \n",
       "92260                   Upack_Produced_Case_At_Spiral_n  Amiens  \n",
       "92259                   Upack_Produced_Case_At_Spiral_n  Amiens  \n",
       "92258                   Upack_Produced_Case_At_Spiral_n  Amiens  \n",
       "92257                   Upack_Produced_Case_At_Spiral_n  Amiens  \n",
       "\n",
       "[108820 rows x 5 columns]"
      ]
     },
     "execution_count": 60,
     "metadata": {},
     "output_type": "execute_result"
    }
   ],
   "source": [
    "# process historian extract \n",
    "box_totals_df = transform_counters_extract(total_historian_extract_df, site_name=site_name, local_tz=site_tz)\n",
    "box_totals_df"
   ]
  },
  {
   "cell_type": "code",
   "execution_count": 61,
   "metadata": {
    "ExecuteTime": {
     "end_time": "2023-04-17T08:50:25.846022Z",
     "start_time": "2023-04-17T08:50:25.820634Z"
    }
   },
   "outputs": [
    {
     "data": {
      "text/plain": [
       "array(['Base_Machine_ExtractedCartons_0_Counter_Actual_n',\n",
       "       'Base_Machine_ProducedBases_0_Counter_Actual_n',\n",
       "       'Base_Machine_RejectedBases_Station1_Counter_Actual_n',\n",
       "       'Base_Machine_RejectedBases_Station2_Counter_Actual_n',\n",
       "       'Base_Machine_RejectedBases_Station3_Counter_Actual_n',\n",
       "       'Base_Machine_RejectedBases_Total_NOT_Extracted_Betw_Holders_n',\n",
       "       'Cover_General_ExtractedCartons_Total_Counter_Actual_n',\n",
       "       'Cover_General_ProducedCovers_Total_Counter_Actual_n',\n",
       "       'Cover_General_RejectedCovers_0_Counter_Actual_n',\n",
       "       'Upack_Produced_Case_At_Spiral_n'], dtype=object)"
      ]
     },
     "execution_count": 61,
     "metadata": {},
     "output_type": "execute_result"
    }
   ],
   "source": [
    "box_totals_df.tag.unique()"
   ]
  },
  {
   "cell_type": "markdown",
   "metadata": {
    "ExecuteTime": {
     "end_time": "2022-06-09T10:43:18.447415Z",
     "start_time": "2022-06-09T10:43:18.443443Z"
    }
   },
   "source": [
    "#### Mapping to Line Recipe"
   ]
  },
  {
   "cell_type": "code",
   "execution_count": 62,
   "metadata": {
    "ExecuteTime": {
     "end_time": "2023-04-17T08:50:30.032969Z",
     "start_time": "2023-04-17T08:50:30.014425Z"
    }
   },
   "outputs": [
    {
     "data": {
      "text/html": [
       "<div>\n",
       "<style scoped>\n",
       "    .dataframe tbody tr th:only-of-type {\n",
       "        vertical-align: middle;\n",
       "    }\n",
       "\n",
       "    .dataframe tbody tr th {\n",
       "        vertical-align: top;\n",
       "    }\n",
       "\n",
       "    .dataframe thead th {\n",
       "        text-align: right;\n",
       "    }\n",
       "</style>\n",
       "<table border=\"1\" class=\"dataframe\">\n",
       "  <thead>\n",
       "    <tr style=\"text-align: right;\">\n",
       "      <th></th>\n",
       "      <th>DateTime</th>\n",
       "      <th>Value</th>\n",
       "      <th>line</th>\n",
       "      <th>site</th>\n",
       "    </tr>\n",
       "  </thead>\n",
       "  <tbody>\n",
       "    <tr>\n",
       "      <th>12</th>\n",
       "      <td>2023-04-06 18:07:28.513</td>\n",
       "      <td>21</td>\n",
       "      <td>L313</td>\n",
       "      <td>Amiens</td>\n",
       "    </tr>\n",
       "    <tr>\n",
       "      <th>11</th>\n",
       "      <td>2023-04-07 09:00:24.457</td>\n",
       "      <td>51</td>\n",
       "      <td>L313</td>\n",
       "      <td>Amiens</td>\n",
       "    </tr>\n",
       "    <tr>\n",
       "      <th>10</th>\n",
       "      <td>2023-04-12 08:26:28.074</td>\n",
       "      <td>57</td>\n",
       "      <td>L313</td>\n",
       "      <td>Amiens</td>\n",
       "    </tr>\n",
       "    <tr>\n",
       "      <th>9</th>\n",
       "      <td>2023-04-12 11:19:58.243</td>\n",
       "      <td>42</td>\n",
       "      <td>L313</td>\n",
       "      <td>Amiens</td>\n",
       "    </tr>\n",
       "    <tr>\n",
       "      <th>8</th>\n",
       "      <td>2023-04-13 03:20:37.272</td>\n",
       "      <td>51</td>\n",
       "      <td>L313</td>\n",
       "      <td>Amiens</td>\n",
       "    </tr>\n",
       "    <tr>\n",
       "      <th>7</th>\n",
       "      <td>2023-04-13 09:32:37.665</td>\n",
       "      <td>52</td>\n",
       "      <td>L313</td>\n",
       "      <td>Amiens</td>\n",
       "    </tr>\n",
       "    <tr>\n",
       "      <th>6</th>\n",
       "      <td>2023-04-13 13:08:32.900</td>\n",
       "      <td>22</td>\n",
       "      <td>L313</td>\n",
       "      <td>Amiens</td>\n",
       "    </tr>\n",
       "    <tr>\n",
       "      <th>5</th>\n",
       "      <td>2023-04-13 18:29:55.246</td>\n",
       "      <td>21</td>\n",
       "      <td>L313</td>\n",
       "      <td>Amiens</td>\n",
       "    </tr>\n",
       "    <tr>\n",
       "      <th>4</th>\n",
       "      <td>2023-04-14 05:33:58.979</td>\n",
       "      <td>37</td>\n",
       "      <td>L313</td>\n",
       "      <td>Amiens</td>\n",
       "    </tr>\n",
       "    <tr>\n",
       "      <th>3</th>\n",
       "      <td>2023-04-14 12:47:43.448</td>\n",
       "      <td>25</td>\n",
       "      <td>L313</td>\n",
       "      <td>Amiens</td>\n",
       "    </tr>\n",
       "    <tr>\n",
       "      <th>2</th>\n",
       "      <td>2023-04-14 14:34:23.564</td>\n",
       "      <td>37</td>\n",
       "      <td>L313</td>\n",
       "      <td>Amiens</td>\n",
       "    </tr>\n",
       "    <tr>\n",
       "      <th>1</th>\n",
       "      <td>2023-04-15 03:40:47.408</td>\n",
       "      <td>21</td>\n",
       "      <td>L313</td>\n",
       "      <td>Amiens</td>\n",
       "    </tr>\n",
       "    <tr>\n",
       "      <th>0</th>\n",
       "      <td>2023-04-17 07:19:56.713</td>\n",
       "      <td>51</td>\n",
       "      <td>L313</td>\n",
       "      <td>Amiens</td>\n",
       "    </tr>\n",
       "  </tbody>\n",
       "</table>\n",
       "</div>"
      ],
      "text/plain": [
       "                  DateTime  Value  line    site\n",
       "12 2023-04-06 18:07:28.513     21  L313  Amiens\n",
       "11 2023-04-07 09:00:24.457     51  L313  Amiens\n",
       "10 2023-04-12 08:26:28.074     57  L313  Amiens\n",
       "9  2023-04-12 11:19:58.243     42  L313  Amiens\n",
       "8  2023-04-13 03:20:37.272     51  L313  Amiens\n",
       "7  2023-04-13 09:32:37.665     52  L313  Amiens\n",
       "6  2023-04-13 13:08:32.900     22  L313  Amiens\n",
       "5  2023-04-13 18:29:55.246     21  L313  Amiens\n",
       "4  2023-04-14 05:33:58.979     37  L313  Amiens\n",
       "3  2023-04-14 12:47:43.448     25  L313  Amiens\n",
       "2  2023-04-14 14:34:23.564     37  L313  Amiens\n",
       "1  2023-04-15 03:40:47.408     21  L313  Amiens\n",
       "0  2023-04-17 07:19:56.713     51  L313  Amiens"
      ]
     },
     "execution_count": 62,
     "metadata": {},
     "output_type": "execute_result"
    }
   ],
   "source": [
    "line_recipe_status_df"
   ]
  },
  {
   "cell_type": "code",
   "execution_count": 63,
   "metadata": {
    "ExecuteTime": {
     "end_time": "2023-04-17T08:50:31.184465Z",
     "start_time": "2023-04-17T08:50:30.956921Z"
    },
    "scrolled": true
   },
   "outputs": [
    {
     "name": "stdout",
     "output_type": "stream",
     "text": [
      "(108820, 6)\n"
     ]
    },
    {
     "data": {
      "text/html": [
       "<div>\n",
       "<style scoped>\n",
       "    .dataframe tbody tr th:only-of-type {\n",
       "        vertical-align: middle;\n",
       "    }\n",
       "\n",
       "    .dataframe tbody tr th {\n",
       "        vertical-align: top;\n",
       "    }\n",
       "\n",
       "    .dataframe thead th {\n",
       "        text-align: right;\n",
       "    }\n",
       "</style>\n",
       "<table border=\"1\" class=\"dataframe\">\n",
       "  <thead>\n",
       "    <tr style=\"text-align: right;\">\n",
       "      <th></th>\n",
       "      <th>DateTime</th>\n",
       "      <th>rejects_qty</th>\n",
       "      <th>line</th>\n",
       "      <th>tag</th>\n",
       "      <th>site</th>\n",
       "      <th>recipe_id</th>\n",
       "    </tr>\n",
       "  </thead>\n",
       "  <tbody>\n",
       "    <tr>\n",
       "      <th>53230</th>\n",
       "      <td>2023-04-11 14:39:27.786</td>\n",
       "      <td>1.0</td>\n",
       "      <td>L313</td>\n",
       "      <td>Base_Machine_RejectedBases_Station3_Counter_Ac...</td>\n",
       "      <td>Amiens</td>\n",
       "      <td>51.0</td>\n",
       "    </tr>\n",
       "    <tr>\n",
       "      <th>53231</th>\n",
       "      <td>2023-04-11 14:39:28.771</td>\n",
       "      <td>1.0</td>\n",
       "      <td>L313</td>\n",
       "      <td>Base_Machine_RejectedBases_Station3_Counter_Ac...</td>\n",
       "      <td>Amiens</td>\n",
       "      <td>51.0</td>\n",
       "    </tr>\n",
       "    <tr>\n",
       "      <th>53232</th>\n",
       "      <td>2023-04-11 14:39:29.786</td>\n",
       "      <td>1.0</td>\n",
       "      <td>L313</td>\n",
       "      <td>Base_Machine_RejectedBases_Station3_Counter_Ac...</td>\n",
       "      <td>Amiens</td>\n",
       "      <td>51.0</td>\n",
       "    </tr>\n",
       "    <tr>\n",
       "      <th>53233</th>\n",
       "      <td>2023-04-11 14:39:30.786</td>\n",
       "      <td>1.0</td>\n",
       "      <td>L313</td>\n",
       "      <td>Base_Machine_RejectedBases_Station3_Counter_Ac...</td>\n",
       "      <td>Amiens</td>\n",
       "      <td>51.0</td>\n",
       "    </tr>\n",
       "    <tr>\n",
       "      <th>53234</th>\n",
       "      <td>2023-04-11 14:46:05.799</td>\n",
       "      <td>1.0</td>\n",
       "      <td>L313</td>\n",
       "      <td>Base_Machine_RejectedBases_Station3_Counter_Ac...</td>\n",
       "      <td>Amiens</td>\n",
       "      <td>51.0</td>\n",
       "    </tr>\n",
       "  </tbody>\n",
       "</table>\n",
       "</div>"
      ],
      "text/plain": [
       "                     DateTime  rejects_qty  line  \\\n",
       "53230 2023-04-11 14:39:27.786          1.0  L313   \n",
       "53231 2023-04-11 14:39:28.771          1.0  L313   \n",
       "53232 2023-04-11 14:39:29.786          1.0  L313   \n",
       "53233 2023-04-11 14:39:30.786          1.0  L313   \n",
       "53234 2023-04-11 14:46:05.799          1.0  L313   \n",
       "\n",
       "                                                     tag    site  recipe_id  \n",
       "53230  Base_Machine_RejectedBases_Station3_Counter_Ac...  Amiens       51.0  \n",
       "53231  Base_Machine_RejectedBases_Station3_Counter_Ac...  Amiens       51.0  \n",
       "53232  Base_Machine_RejectedBases_Station3_Counter_Ac...  Amiens       51.0  \n",
       "53233  Base_Machine_RejectedBases_Station3_Counter_Ac...  Amiens       51.0  \n",
       "53234  Base_Machine_RejectedBases_Station3_Counter_Ac...  Amiens       51.0  "
      ]
     },
     "execution_count": 63,
     "metadata": {},
     "output_type": "execute_result"
    }
   ],
   "source": [
    "box_totals_df = add_dim_key_time(fact_df=box_totals_df, \n",
    "                                 dim_df=line_recipe_status_df.rename(columns={'Value':'recipe_id'}), \n",
    "                                 dim_id='recipe_id', fact_dttm='DateTime', dim_dttm='DateTime', \n",
    "                                 group_by=['site', 'line'])\n",
    "print(box_totals_df.shape)\n",
    "box_totals_df.head()"
   ]
  },
  {
   "cell_type": "markdown",
   "metadata": {},
   "source": [
    "#### Mapping to Agile flag"
   ]
  },
  {
   "cell_type": "code",
   "execution_count": 65,
   "metadata": {
    "ExecuteTime": {
     "end_time": "2023-04-17T08:51:17.732799Z",
     "start_time": "2023-04-17T08:51:17.705155Z"
    }
   },
   "outputs": [
    {
     "name": "stdout",
     "output_type": "stream",
     "text": [
      "(108820, 7)\n"
     ]
    },
    {
     "data": {
      "text/html": [
       "<div>\n",
       "<style scoped>\n",
       "    .dataframe tbody tr th:only-of-type {\n",
       "        vertical-align: middle;\n",
       "    }\n",
       "\n",
       "    .dataframe tbody tr th {\n",
       "        vertical-align: top;\n",
       "    }\n",
       "\n",
       "    .dataframe thead th {\n",
       "        text-align: right;\n",
       "    }\n",
       "</style>\n",
       "<table border=\"1\" class=\"dataframe\">\n",
       "  <thead>\n",
       "    <tr style=\"text-align: right;\">\n",
       "      <th></th>\n",
       "      <th>DateTime</th>\n",
       "      <th>rejects_qty</th>\n",
       "      <th>line</th>\n",
       "      <th>tag</th>\n",
       "      <th>site</th>\n",
       "      <th>recipe_id</th>\n",
       "      <th>agile_flag</th>\n",
       "    </tr>\n",
       "  </thead>\n",
       "  <tbody>\n",
       "    <tr>\n",
       "      <th>53230</th>\n",
       "      <td>2023-04-11 14:39:27.786</td>\n",
       "      <td>1.0</td>\n",
       "      <td>L313</td>\n",
       "      <td>Base_Machine_RejectedBases_Station3_Counter_Ac...</td>\n",
       "      <td>Amiens</td>\n",
       "      <td>51.0</td>\n",
       "      <td>0</td>\n",
       "    </tr>\n",
       "    <tr>\n",
       "      <th>53231</th>\n",
       "      <td>2023-04-11 14:39:28.771</td>\n",
       "      <td>1.0</td>\n",
       "      <td>L313</td>\n",
       "      <td>Base_Machine_RejectedBases_Station3_Counter_Ac...</td>\n",
       "      <td>Amiens</td>\n",
       "      <td>51.0</td>\n",
       "      <td>0</td>\n",
       "    </tr>\n",
       "    <tr>\n",
       "      <th>53232</th>\n",
       "      <td>2023-04-11 14:39:29.786</td>\n",
       "      <td>1.0</td>\n",
       "      <td>L313</td>\n",
       "      <td>Base_Machine_RejectedBases_Station3_Counter_Ac...</td>\n",
       "      <td>Amiens</td>\n",
       "      <td>51.0</td>\n",
       "      <td>0</td>\n",
       "    </tr>\n",
       "    <tr>\n",
       "      <th>53233</th>\n",
       "      <td>2023-04-11 14:39:30.786</td>\n",
       "      <td>1.0</td>\n",
       "      <td>L313</td>\n",
       "      <td>Base_Machine_RejectedBases_Station3_Counter_Ac...</td>\n",
       "      <td>Amiens</td>\n",
       "      <td>51.0</td>\n",
       "      <td>0</td>\n",
       "    </tr>\n",
       "    <tr>\n",
       "      <th>53234</th>\n",
       "      <td>2023-04-11 14:46:05.799</td>\n",
       "      <td>1.0</td>\n",
       "      <td>L313</td>\n",
       "      <td>Base_Machine_RejectedBases_Station3_Counter_Ac...</td>\n",
       "      <td>Amiens</td>\n",
       "      <td>51.0</td>\n",
       "      <td>0</td>\n",
       "    </tr>\n",
       "  </tbody>\n",
       "</table>\n",
       "</div>"
      ],
      "text/plain": [
       "                     DateTime  rejects_qty  line  \\\n",
       "53230 2023-04-11 14:39:27.786          1.0  L313   \n",
       "53231 2023-04-11 14:39:28.771          1.0  L313   \n",
       "53232 2023-04-11 14:39:29.786          1.0  L313   \n",
       "53233 2023-04-11 14:39:30.786          1.0  L313   \n",
       "53234 2023-04-11 14:46:05.799          1.0  L313   \n",
       "\n",
       "                                                     tag    site  recipe_id  \\\n",
       "53230  Base_Machine_RejectedBases_Station3_Counter_Ac...  Amiens       51.0   \n",
       "53231  Base_Machine_RejectedBases_Station3_Counter_Ac...  Amiens       51.0   \n",
       "53232  Base_Machine_RejectedBases_Station3_Counter_Ac...  Amiens       51.0   \n",
       "53233  Base_Machine_RejectedBases_Station3_Counter_Ac...  Amiens       51.0   \n",
       "53234  Base_Machine_RejectedBases_Station3_Counter_Ac...  Amiens       51.0   \n",
       "\n",
       "       agile_flag  \n",
       "53230           0  \n",
       "53231           0  \n",
       "53232           0  \n",
       "53233           0  \n",
       "53234           0  "
      ]
     },
     "execution_count": 65,
     "metadata": {},
     "output_type": "execute_result"
    }
   ],
   "source": [
    "if agile_data_available:\n",
    "    # add agile flag\n",
    "    box_totals_df = add_dim_key_time(fact_df=box_totals_df, \n",
    "                                      dim_df=agile_status_df.rename(columns={'Value':'agile_flag'}), \n",
    "                                      dim_id='agile_flag', fact_dttm='DateTime', dim_dttm='DateTime', \n",
    "                                      group_by=['site', 'line'])\n",
    "    box_totals_df = box_totals_df.assign(agile_flag = box_totals_df['agile_flag'].fillna(0))\n",
    "else:\n",
    "    box_totals_df = box_totals_df.assign(agile_flag = 0)\n",
    "\n",
    "print(box_totals_df.shape)\n",
    "box_totals_df.head()"
   ]
  },
  {
   "cell_type": "markdown",
   "metadata": {},
   "source": [
    "#### Mapping to Line State"
   ]
  },
  {
   "cell_type": "code",
   "execution_count": 66,
   "metadata": {
    "ExecuteTime": {
     "end_time": "2023-04-17T08:51:22.622659Z",
     "start_time": "2023-04-17T08:51:22.323798Z"
    }
   },
   "outputs": [
    {
     "name": "stdout",
     "output_type": "stream",
     "text": [
      "(108820, 8)\n"
     ]
    },
    {
     "data": {
      "text/html": [
       "<div>\n",
       "<style scoped>\n",
       "    .dataframe tbody tr th:only-of-type {\n",
       "        vertical-align: middle;\n",
       "    }\n",
       "\n",
       "    .dataframe tbody tr th {\n",
       "        vertical-align: top;\n",
       "    }\n",
       "\n",
       "    .dataframe thead th {\n",
       "        text-align: right;\n",
       "    }\n",
       "</style>\n",
       "<table border=\"1\" class=\"dataframe\">\n",
       "  <thead>\n",
       "    <tr style=\"text-align: right;\">\n",
       "      <th></th>\n",
       "      <th>DateTime</th>\n",
       "      <th>rejects_qty</th>\n",
       "      <th>line</th>\n",
       "      <th>tag</th>\n",
       "      <th>site</th>\n",
       "      <th>recipe_id</th>\n",
       "      <th>agile_flag</th>\n",
       "      <th>line_state_id</th>\n",
       "    </tr>\n",
       "  </thead>\n",
       "  <tbody>\n",
       "    <tr>\n",
       "      <th>0</th>\n",
       "      <td>2023-04-11 14:39:27.786</td>\n",
       "      <td>1.0</td>\n",
       "      <td>SUAM-31 Packing</td>\n",
       "      <td>Base_Machine_RejectedBases_Station3_Counter_Ac...</td>\n",
       "      <td>Amiens</td>\n",
       "      <td>51.0</td>\n",
       "      <td>0.0</td>\n",
       "      <td>2100485/15</td>\n",
       "    </tr>\n",
       "    <tr>\n",
       "      <th>1</th>\n",
       "      <td>2023-04-11 14:39:28.771</td>\n",
       "      <td>1.0</td>\n",
       "      <td>SUAM-31 Packing</td>\n",
       "      <td>Base_Machine_RejectedBases_Station3_Counter_Ac...</td>\n",
       "      <td>Amiens</td>\n",
       "      <td>51.0</td>\n",
       "      <td>0.0</td>\n",
       "      <td>2100485/15</td>\n",
       "    </tr>\n",
       "    <tr>\n",
       "      <th>2</th>\n",
       "      <td>2023-04-11 14:39:29.786</td>\n",
       "      <td>1.0</td>\n",
       "      <td>SUAM-31 Packing</td>\n",
       "      <td>Base_Machine_RejectedBases_Station3_Counter_Ac...</td>\n",
       "      <td>Amiens</td>\n",
       "      <td>51.0</td>\n",
       "      <td>0.0</td>\n",
       "      <td>2100485/15</td>\n",
       "    </tr>\n",
       "    <tr>\n",
       "      <th>3</th>\n",
       "      <td>2023-04-11 14:39:30.786</td>\n",
       "      <td>1.0</td>\n",
       "      <td>SUAM-31 Packing</td>\n",
       "      <td>Base_Machine_RejectedBases_Station3_Counter_Ac...</td>\n",
       "      <td>Amiens</td>\n",
       "      <td>51.0</td>\n",
       "      <td>0.0</td>\n",
       "      <td>2100485/15</td>\n",
       "    </tr>\n",
       "    <tr>\n",
       "      <th>4</th>\n",
       "      <td>2023-04-11 14:46:05.799</td>\n",
       "      <td>1.0</td>\n",
       "      <td>SUAM-31 Packing</td>\n",
       "      <td>Base_Machine_RejectedBases_Station3_Counter_Ac...</td>\n",
       "      <td>Amiens</td>\n",
       "      <td>51.0</td>\n",
       "      <td>0.0</td>\n",
       "      <td>2100485/17</td>\n",
       "    </tr>\n",
       "  </tbody>\n",
       "</table>\n",
       "</div>"
      ],
      "text/plain": [
       "                 DateTime  rejects_qty             line  \\\n",
       "0 2023-04-11 14:39:27.786          1.0  SUAM-31 Packing   \n",
       "1 2023-04-11 14:39:28.771          1.0  SUAM-31 Packing   \n",
       "2 2023-04-11 14:39:29.786          1.0  SUAM-31 Packing   \n",
       "3 2023-04-11 14:39:30.786          1.0  SUAM-31 Packing   \n",
       "4 2023-04-11 14:46:05.799          1.0  SUAM-31 Packing   \n",
       "\n",
       "                                                 tag    site  recipe_id  \\\n",
       "0  Base_Machine_RejectedBases_Station3_Counter_Ac...  Amiens       51.0   \n",
       "1  Base_Machine_RejectedBases_Station3_Counter_Ac...  Amiens       51.0   \n",
       "2  Base_Machine_RejectedBases_Station3_Counter_Ac...  Amiens       51.0   \n",
       "3  Base_Machine_RejectedBases_Station3_Counter_Ac...  Amiens       51.0   \n",
       "4  Base_Machine_RejectedBases_Station3_Counter_Ac...  Amiens       51.0   \n",
       "\n",
       "   agile_flag line_state_id  \n",
       "0         0.0    2100485/15  \n",
       "1         0.0    2100485/15  \n",
       "2         0.0    2100485/15  \n",
       "3         0.0    2100485/15  \n",
       "4         0.0    2100485/17  "
      ]
     },
     "execution_count": 66,
     "metadata": {},
     "output_type": "execute_result"
    }
   ],
   "source": [
    "## add line state\n",
    "box_totals_df = add_dim_key_time(fact_df=box_totals_df.assign(line = box_totals_df['line'].map(line_maping_dict)), \n",
    "                                dim_df=line_state_map_df, \n",
    "                                dim_id='line_state_id', fact_dttm='DateTime', dim_dttm='DateTime', \n",
    "                                group_by=['site', 'line'])\n",
    "print(box_totals_df.shape)\n",
    "box_totals_df.head()"
   ]
  },
  {
   "cell_type": "code",
   "execution_count": 67,
   "metadata": {
    "ExecuteTime": {
     "end_time": "2023-04-17T08:51:24.790866Z",
     "start_time": "2023-04-17T08:51:24.781204Z"
    }
   },
   "outputs": [
    {
     "data": {
      "text/plain": [
       "Index(['DateTime', 'rejects_qty', 'line', 'tag', 'site', 'recipe_id',\n",
       "       'agile_flag', 'line_state_id'],\n",
       "      dtype='object')"
      ]
     },
     "execution_count": 67,
     "metadata": {},
     "output_type": "execute_result"
    }
   ],
   "source": [
    "box_totals_df.columns"
   ]
  },
  {
   "cell_type": "markdown",
   "metadata": {},
   "source": [
    "#### Aggregating"
   ]
  },
  {
   "cell_type": "code",
   "execution_count": 68,
   "metadata": {
    "ExecuteTime": {
     "end_time": "2023-04-17T08:51:35.976651Z",
     "start_time": "2023-04-17T08:51:35.826273Z"
    }
   },
   "outputs": [
    {
     "data": {
      "text/html": [
       "<div>\n",
       "<style scoped>\n",
       "    .dataframe tbody tr th:only-of-type {\n",
       "        vertical-align: middle;\n",
       "    }\n",
       "\n",
       "    .dataframe tbody tr th {\n",
       "        vertical-align: top;\n",
       "    }\n",
       "\n",
       "    .dataframe thead th {\n",
       "        text-align: right;\n",
       "    }\n",
       "</style>\n",
       "<table border=\"1\" class=\"dataframe\">\n",
       "  <thead>\n",
       "    <tr style=\"text-align: right;\">\n",
       "      <th></th>\n",
       "      <th>site</th>\n",
       "      <th>line</th>\n",
       "      <th>DateTimeMin</th>\n",
       "      <th>tag</th>\n",
       "      <th>agile_flag</th>\n",
       "      <th>recipe_id</th>\n",
       "      <th>line_state_id</th>\n",
       "      <th>rejects_qty</th>\n",
       "      <th>DateTime</th>\n",
       "    </tr>\n",
       "  </thead>\n",
       "  <tbody>\n",
       "    <tr>\n",
       "      <th>0</th>\n",
       "      <td>Amiens</td>\n",
       "      <td>SUAM-31 Packing</td>\n",
       "      <td>2023-04-11 14:30:00</td>\n",
       "      <td>Base_Machine_RejectedBases_Station3_Counter_Ac...</td>\n",
       "      <td>0.0</td>\n",
       "      <td>51.0</td>\n",
       "      <td>2100485/15</td>\n",
       "      <td>4.0</td>\n",
       "      <td>2023-04-11 14:39:27.786</td>\n",
       "    </tr>\n",
       "    <tr>\n",
       "      <th>1</th>\n",
       "      <td>Amiens</td>\n",
       "      <td>SUAM-31 Packing</td>\n",
       "      <td>2023-04-11 14:30:00</td>\n",
       "      <td>Base_Machine_RejectedBases_Station3_Counter_Ac...</td>\n",
       "      <td>0.0</td>\n",
       "      <td>51.0</td>\n",
       "      <td>2100485/17</td>\n",
       "      <td>2.0</td>\n",
       "      <td>2023-04-11 14:46:05.799</td>\n",
       "    </tr>\n",
       "    <tr>\n",
       "      <th>2</th>\n",
       "      <td>Amiens</td>\n",
       "      <td>SUAM-31 Packing</td>\n",
       "      <td>2023-04-11 14:30:00</td>\n",
       "      <td>Base_Machine_RejectedBases_Station3_Counter_Ac...</td>\n",
       "      <td>0.0</td>\n",
       "      <td>51.0</td>\n",
       "      <td>2100485/23</td>\n",
       "      <td>3.0</td>\n",
       "      <td>2023-04-11 14:58:33.800</td>\n",
       "    </tr>\n",
       "    <tr>\n",
       "      <th>3</th>\n",
       "      <td>Amiens</td>\n",
       "      <td>SUAM-31 Packing</td>\n",
       "      <td>2023-04-11 17:30:00</td>\n",
       "      <td>Base_Machine_RejectedBases_Station3_Counter_Ac...</td>\n",
       "      <td>0.0</td>\n",
       "      <td>51.0</td>\n",
       "      <td>2100485/57</td>\n",
       "      <td>2.0</td>\n",
       "      <td>2023-04-11 17:50:16.991</td>\n",
       "    </tr>\n",
       "    <tr>\n",
       "      <th>4</th>\n",
       "      <td>Amiens</td>\n",
       "      <td>SUAM-31 Packing</td>\n",
       "      <td>2023-04-11 18:00:00</td>\n",
       "      <td>Base_Machine_RejectedBases_Station3_Counter_Ac...</td>\n",
       "      <td>0.0</td>\n",
       "      <td>51.0</td>\n",
       "      <td>2100485/73</td>\n",
       "      <td>1.0</td>\n",
       "      <td>2023-04-11 18:16:54.012</td>\n",
       "    </tr>\n",
       "  </tbody>\n",
       "</table>\n",
       "</div>"
      ],
      "text/plain": [
       "     site             line         DateTimeMin  \\\n",
       "0  Amiens  SUAM-31 Packing 2023-04-11 14:30:00   \n",
       "1  Amiens  SUAM-31 Packing 2023-04-11 14:30:00   \n",
       "2  Amiens  SUAM-31 Packing 2023-04-11 14:30:00   \n",
       "3  Amiens  SUAM-31 Packing 2023-04-11 17:30:00   \n",
       "4  Amiens  SUAM-31 Packing 2023-04-11 18:00:00   \n",
       "\n",
       "                                                 tag  agile_flag  recipe_id  \\\n",
       "0  Base_Machine_RejectedBases_Station3_Counter_Ac...         0.0       51.0   \n",
       "1  Base_Machine_RejectedBases_Station3_Counter_Ac...         0.0       51.0   \n",
       "2  Base_Machine_RejectedBases_Station3_Counter_Ac...         0.0       51.0   \n",
       "3  Base_Machine_RejectedBases_Station3_Counter_Ac...         0.0       51.0   \n",
       "4  Base_Machine_RejectedBases_Station3_Counter_Ac...         0.0       51.0   \n",
       "\n",
       "  line_state_id  rejects_qty                DateTime  \n",
       "0    2100485/15          4.0 2023-04-11 14:39:27.786  \n",
       "1    2100485/17          2.0 2023-04-11 14:46:05.799  \n",
       "2    2100485/23          3.0 2023-04-11 14:58:33.800  \n",
       "3    2100485/57          2.0 2023-04-11 17:50:16.991  \n",
       "4    2100485/73          1.0 2023-04-11 18:16:54.012  "
      ]
     },
     "execution_count": 68,
     "metadata": {},
     "output_type": "execute_result"
    }
   ],
   "source": [
    "## aggregating\n",
    "box_totals_df = box_totals_df.assign(DateTimeMin = box_totals_df['DateTime'].dt.floor(totals_agg_freq))\n",
    "\n",
    "groupby_cols = ['site', 'line', 'DateTimeMin', 'tag', \n",
    "                'agile_flag', 'recipe_id', 'line_state_id']\n",
    "agg_dict = {'rejects_qty':'sum', 'DateTime':'min'}\n",
    "\n",
    "box_totals_agg_df = box_totals_df.groupby(groupby_cols).agg(agg_dict).reset_index()\n",
    "box_totals_agg_df = box_totals_agg_df.loc[box_totals_agg_df['rejects_qty'] != 0]\n",
    "box_totals_agg_df.head()\n",
    "\n"
   ]
  },
  {
   "cell_type": "code",
   "execution_count": 69,
   "metadata": {
    "ExecuteTime": {
     "end_time": "2023-04-17T08:51:39.700734Z",
     "start_time": "2023-04-17T08:51:39.653780Z"
    }
   },
   "outputs": [
    {
     "name": "stdout",
     "output_type": "stream",
     "text": [
      "(1551, 9)\n"
     ]
    },
    {
     "data": {
      "text/html": [
       "<div>\n",
       "<style scoped>\n",
       "    .dataframe tbody tr th:only-of-type {\n",
       "        vertical-align: middle;\n",
       "    }\n",
       "\n",
       "    .dataframe tbody tr th {\n",
       "        vertical-align: top;\n",
       "    }\n",
       "\n",
       "    .dataframe thead th {\n",
       "        text-align: right;\n",
       "    }\n",
       "</style>\n",
       "<table border=\"1\" class=\"dataframe\">\n",
       "  <thead>\n",
       "    <tr style=\"text-align: right;\">\n",
       "      <th></th>\n",
       "      <th>datetime</th>\n",
       "      <th>tag</th>\n",
       "      <th>agile_flag</th>\n",
       "      <th>recipe_id</th>\n",
       "      <th>line_state_id</th>\n",
       "      <th>rejects_qty</th>\n",
       "      <th>start_time</th>\n",
       "      <th>line_id</th>\n",
       "      <th>site_id</th>\n",
       "    </tr>\n",
       "  </thead>\n",
       "  <tbody>\n",
       "    <tr>\n",
       "      <th>0</th>\n",
       "      <td>2023-04-11 14:30:00</td>\n",
       "      <td>Base_Machine_RejectedBases_Station3_Counter_Ac...</td>\n",
       "      <td>0.0</td>\n",
       "      <td>51.0</td>\n",
       "      <td>2100485/15</td>\n",
       "      <td>4.0</td>\n",
       "      <td>2023-04-11 14:39:27.786</td>\n",
       "      <td>10</td>\n",
       "      <td>1</td>\n",
       "    </tr>\n",
       "    <tr>\n",
       "      <th>1</th>\n",
       "      <td>2023-04-11 14:30:00</td>\n",
       "      <td>Base_Machine_RejectedBases_Station3_Counter_Ac...</td>\n",
       "      <td>0.0</td>\n",
       "      <td>51.0</td>\n",
       "      <td>2100485/17</td>\n",
       "      <td>2.0</td>\n",
       "      <td>2023-04-11 14:46:05.799</td>\n",
       "      <td>10</td>\n",
       "      <td>1</td>\n",
       "    </tr>\n",
       "    <tr>\n",
       "      <th>2</th>\n",
       "      <td>2023-04-11 14:30:00</td>\n",
       "      <td>Base_Machine_RejectedBases_Station3_Counter_Ac...</td>\n",
       "      <td>0.0</td>\n",
       "      <td>51.0</td>\n",
       "      <td>2100485/23</td>\n",
       "      <td>3.0</td>\n",
       "      <td>2023-04-11 14:58:33.800</td>\n",
       "      <td>10</td>\n",
       "      <td>1</td>\n",
       "    </tr>\n",
       "    <tr>\n",
       "      <th>3</th>\n",
       "      <td>2023-04-11 17:30:00</td>\n",
       "      <td>Base_Machine_RejectedBases_Station3_Counter_Ac...</td>\n",
       "      <td>0.0</td>\n",
       "      <td>51.0</td>\n",
       "      <td>2100485/57</td>\n",
       "      <td>2.0</td>\n",
       "      <td>2023-04-11 17:50:16.991</td>\n",
       "      <td>10</td>\n",
       "      <td>1</td>\n",
       "    </tr>\n",
       "    <tr>\n",
       "      <th>4</th>\n",
       "      <td>2023-04-11 18:00:00</td>\n",
       "      <td>Base_Machine_RejectedBases_Station3_Counter_Ac...</td>\n",
       "      <td>0.0</td>\n",
       "      <td>51.0</td>\n",
       "      <td>2100485/73</td>\n",
       "      <td>1.0</td>\n",
       "      <td>2023-04-11 18:16:54.012</td>\n",
       "      <td>10</td>\n",
       "      <td>1</td>\n",
       "    </tr>\n",
       "  </tbody>\n",
       "</table>\n",
       "</div>"
      ],
      "text/plain": [
       "             datetime                                                tag  \\\n",
       "0 2023-04-11 14:30:00  Base_Machine_RejectedBases_Station3_Counter_Ac...   \n",
       "1 2023-04-11 14:30:00  Base_Machine_RejectedBases_Station3_Counter_Ac...   \n",
       "2 2023-04-11 14:30:00  Base_Machine_RejectedBases_Station3_Counter_Ac...   \n",
       "3 2023-04-11 17:30:00  Base_Machine_RejectedBases_Station3_Counter_Ac...   \n",
       "4 2023-04-11 18:00:00  Base_Machine_RejectedBases_Station3_Counter_Ac...   \n",
       "\n",
       "   agile_flag  recipe_id line_state_id  rejects_qty              start_time  \\\n",
       "0         0.0       51.0    2100485/15          4.0 2023-04-11 14:39:27.786   \n",
       "1         0.0       51.0    2100485/17          2.0 2023-04-11 14:46:05.799   \n",
       "2         0.0       51.0    2100485/23          3.0 2023-04-11 14:58:33.800   \n",
       "3         0.0       51.0    2100485/57          2.0 2023-04-11 17:50:16.991   \n",
       "4         0.0       51.0    2100485/73          1.0 2023-04-11 18:16:54.012   \n",
       "\n",
       "   line_id  site_id  \n",
       "0       10        1  \n",
       "1       10        1  \n",
       "2       10        1  \n",
       "3       10        1  \n",
       "4       10        1  "
      ]
     },
     "execution_count": 69,
     "metadata": {},
     "output_type": "execute_result"
    }
   ],
   "source": [
    "# renaming columns\n",
    "rename_dict = {'DateTimeMin':'datetime', 'DateTime':'start_time'}\n",
    "\n",
    "box_totals_agg_df = (box_totals_agg_df\n",
    "                                    .merge(lines_dim_df[['line_id', 'line']], on = 'line', how='inner')\n",
    "                                    .merge(sites_dim_df[['site_id', 'site']], on = 'site', how='inner')\n",
    "                                    .drop(columns=['site', 'line'])\n",
    "                                    .rename(columns=rename_dict)\n",
    "                                )\n",
    "print(box_totals_agg_df.shape)\n",
    "box_totals_agg_df.head()"
   ]
  },
  {
   "cell_type": "code",
   "execution_count": 70,
   "metadata": {
    "ExecuteTime": {
     "end_time": "2023-04-17T08:51:58.476173Z",
     "start_time": "2023-04-17T08:51:58.408833Z"
    }
   },
   "outputs": [
    {
     "name": "stdout",
     "output_type": "stream",
     "text": [
      "(1305, 17)\n"
     ]
    },
    {
     "data": {
      "text/html": [
       "<div>\n",
       "<style scoped>\n",
       "    .dataframe tbody tr th:only-of-type {\n",
       "        vertical-align: middle;\n",
       "    }\n",
       "\n",
       "    .dataframe tbody tr th {\n",
       "        vertical-align: top;\n",
       "    }\n",
       "\n",
       "    .dataframe thead th {\n",
       "        text-align: right;\n",
       "    }\n",
       "</style>\n",
       "<table border=\"1\" class=\"dataframe\">\n",
       "  <thead>\n",
       "    <tr style=\"text-align: right;\">\n",
       "      <th></th>\n",
       "      <th>site_id</th>\n",
       "      <th>line_id</th>\n",
       "      <th>datetime</th>\n",
       "      <th>recipe_id</th>\n",
       "      <th>agile_flag</th>\n",
       "      <th>line_state_id</th>\n",
       "      <th>start_time</th>\n",
       "      <th>Base_Machine_ExtractedCartons_0_Counter_Actual_n</th>\n",
       "      <th>Base_Machine_ProducedBases_0_Counter_Actual_n</th>\n",
       "      <th>Base_Machine_RejectedBases_Station1_Counter_Actual_n</th>\n",
       "      <th>Base_Machine_RejectedBases_Station2_Counter_Actual_n</th>\n",
       "      <th>Base_Machine_RejectedBases_Station3_Counter_Actual_n</th>\n",
       "      <th>Base_Machine_RejectedBases_Total_NOT_Extracted_Betw_Holders_n</th>\n",
       "      <th>Cover_General_ExtractedCartons_Total_Counter_Actual_n</th>\n",
       "      <th>Cover_General_ProducedCovers_Total_Counter_Actual_n</th>\n",
       "      <th>Cover_General_RejectedCovers_0_Counter_Actual_n</th>\n",
       "      <th>Upack_Produced_Case_At_Spiral_n</th>\n",
       "    </tr>\n",
       "  </thead>\n",
       "  <tbody>\n",
       "    <tr>\n",
       "      <th>0</th>\n",
       "      <td>1</td>\n",
       "      <td>10</td>\n",
       "      <td>2023-04-11 14:30:00</td>\n",
       "      <td>51.0</td>\n",
       "      <td>0.0</td>\n",
       "      <td>2100485/15</td>\n",
       "      <td>2023-04-11 14:39:27.786</td>\n",
       "      <td>0.0</td>\n",
       "      <td>0.0</td>\n",
       "      <td>0.0</td>\n",
       "      <td>0.0</td>\n",
       "      <td>4.0</td>\n",
       "      <td>0.0</td>\n",
       "      <td>0.0</td>\n",
       "      <td>0.0</td>\n",
       "      <td>0.0</td>\n",
       "      <td>0.0</td>\n",
       "    </tr>\n",
       "    <tr>\n",
       "      <th>1</th>\n",
       "      <td>1</td>\n",
       "      <td>10</td>\n",
       "      <td>2023-04-11 14:30:00</td>\n",
       "      <td>51.0</td>\n",
       "      <td>0.0</td>\n",
       "      <td>2100485/17</td>\n",
       "      <td>2023-04-11 14:46:05.799</td>\n",
       "      <td>0.0</td>\n",
       "      <td>0.0</td>\n",
       "      <td>0.0</td>\n",
       "      <td>0.0</td>\n",
       "      <td>2.0</td>\n",
       "      <td>0.0</td>\n",
       "      <td>0.0</td>\n",
       "      <td>0.0</td>\n",
       "      <td>0.0</td>\n",
       "      <td>0.0</td>\n",
       "    </tr>\n",
       "    <tr>\n",
       "      <th>2</th>\n",
       "      <td>1</td>\n",
       "      <td>10</td>\n",
       "      <td>2023-04-11 14:30:00</td>\n",
       "      <td>51.0</td>\n",
       "      <td>0.0</td>\n",
       "      <td>2100485/23</td>\n",
       "      <td>2023-04-11 14:58:33.800</td>\n",
       "      <td>0.0</td>\n",
       "      <td>0.0</td>\n",
       "      <td>0.0</td>\n",
       "      <td>0.0</td>\n",
       "      <td>3.0</td>\n",
       "      <td>0.0</td>\n",
       "      <td>0.0</td>\n",
       "      <td>0.0</td>\n",
       "      <td>0.0</td>\n",
       "      <td>0.0</td>\n",
       "    </tr>\n",
       "    <tr>\n",
       "      <th>3</th>\n",
       "      <td>1</td>\n",
       "      <td>10</td>\n",
       "      <td>2023-04-11 17:30:00</td>\n",
       "      <td>51.0</td>\n",
       "      <td>0.0</td>\n",
       "      <td>2100485/57</td>\n",
       "      <td>2023-04-11 17:50:16.991</td>\n",
       "      <td>0.0</td>\n",
       "      <td>0.0</td>\n",
       "      <td>0.0</td>\n",
       "      <td>0.0</td>\n",
       "      <td>2.0</td>\n",
       "      <td>0.0</td>\n",
       "      <td>0.0</td>\n",
       "      <td>0.0</td>\n",
       "      <td>0.0</td>\n",
       "      <td>0.0</td>\n",
       "    </tr>\n",
       "    <tr>\n",
       "      <th>4</th>\n",
       "      <td>1</td>\n",
       "      <td>10</td>\n",
       "      <td>2023-04-11 18:00:00</td>\n",
       "      <td>51.0</td>\n",
       "      <td>0.0</td>\n",
       "      <td>2100485/73</td>\n",
       "      <td>2023-04-11 18:16:54.012</td>\n",
       "      <td>0.0</td>\n",
       "      <td>0.0</td>\n",
       "      <td>0.0</td>\n",
       "      <td>0.0</td>\n",
       "      <td>1.0</td>\n",
       "      <td>0.0</td>\n",
       "      <td>0.0</td>\n",
       "      <td>0.0</td>\n",
       "      <td>0.0</td>\n",
       "      <td>0.0</td>\n",
       "    </tr>\n",
       "  </tbody>\n",
       "</table>\n",
       "</div>"
      ],
      "text/plain": [
       "   site_id  line_id            datetime  recipe_id  agile_flag line_state_id  \\\n",
       "0        1       10 2023-04-11 14:30:00       51.0         0.0    2100485/15   \n",
       "1        1       10 2023-04-11 14:30:00       51.0         0.0    2100485/17   \n",
       "2        1       10 2023-04-11 14:30:00       51.0         0.0    2100485/23   \n",
       "3        1       10 2023-04-11 17:30:00       51.0         0.0    2100485/57   \n",
       "4        1       10 2023-04-11 18:00:00       51.0         0.0    2100485/73   \n",
       "\n",
       "               start_time  Base_Machine_ExtractedCartons_0_Counter_Actual_n  \\\n",
       "0 2023-04-11 14:39:27.786                                               0.0   \n",
       "1 2023-04-11 14:46:05.799                                               0.0   \n",
       "2 2023-04-11 14:58:33.800                                               0.0   \n",
       "3 2023-04-11 17:50:16.991                                               0.0   \n",
       "4 2023-04-11 18:16:54.012                                               0.0   \n",
       "\n",
       "   Base_Machine_ProducedBases_0_Counter_Actual_n  \\\n",
       "0                                            0.0   \n",
       "1                                            0.0   \n",
       "2                                            0.0   \n",
       "3                                            0.0   \n",
       "4                                            0.0   \n",
       "\n",
       "   Base_Machine_RejectedBases_Station1_Counter_Actual_n  \\\n",
       "0                                                0.0      \n",
       "1                                                0.0      \n",
       "2                                                0.0      \n",
       "3                                                0.0      \n",
       "4                                                0.0      \n",
       "\n",
       "   Base_Machine_RejectedBases_Station2_Counter_Actual_n  \\\n",
       "0                                                0.0      \n",
       "1                                                0.0      \n",
       "2                                                0.0      \n",
       "3                                                0.0      \n",
       "4                                                0.0      \n",
       "\n",
       "   Base_Machine_RejectedBases_Station3_Counter_Actual_n  \\\n",
       "0                                                4.0      \n",
       "1                                                2.0      \n",
       "2                                                3.0      \n",
       "3                                                2.0      \n",
       "4                                                1.0      \n",
       "\n",
       "   Base_Machine_RejectedBases_Total_NOT_Extracted_Betw_Holders_n  \\\n",
       "0                                                0.0               \n",
       "1                                                0.0               \n",
       "2                                                0.0               \n",
       "3                                                0.0               \n",
       "4                                                0.0               \n",
       "\n",
       "   Cover_General_ExtractedCartons_Total_Counter_Actual_n  \\\n",
       "0                                                0.0       \n",
       "1                                                0.0       \n",
       "2                                                0.0       \n",
       "3                                                0.0       \n",
       "4                                                0.0       \n",
       "\n",
       "   Cover_General_ProducedCovers_Total_Counter_Actual_n  \\\n",
       "0                                                0.0     \n",
       "1                                                0.0     \n",
       "2                                                0.0     \n",
       "3                                                0.0     \n",
       "4                                                0.0     \n",
       "\n",
       "   Cover_General_RejectedCovers_0_Counter_Actual_n  \\\n",
       "0                                              0.0   \n",
       "1                                              0.0   \n",
       "2                                              0.0   \n",
       "3                                              0.0   \n",
       "4                                              0.0   \n",
       "\n",
       "   Upack_Produced_Case_At_Spiral_n  \n",
       "0                              0.0  \n",
       "1                              0.0  \n",
       "2                              0.0  \n",
       "3                              0.0  \n",
       "4                              0.0  "
      ]
     },
     "execution_count": 70,
     "metadata": {},
     "output_type": "execute_result"
    }
   ],
   "source": [
    "## transposing\n",
    "box_totals_agg_df = transpose_data_frame(data_frame=box_totals_agg_df,\n",
    "                                          rows=['site_id', 'line_id', 'datetime', \n",
    "                                                'recipe_id', 'agile_flag',\n",
    "                                                'line_state_id', 'start_time'],\n",
    "                                          transpose_on='tag')\n",
    "print(box_totals_agg_df.shape)\n",
    "box_totals_agg_df.head()"
   ]
  },
  {
   "cell_type": "code",
   "execution_count": 71,
   "metadata": {
    "ExecuteTime": {
     "end_time": "2023-04-17T08:52:00.810416Z",
     "start_time": "2023-04-17T08:52:00.800652Z"
    }
   },
   "outputs": [
    {
     "data": {
      "text/plain": [
       "Index(['site_id', 'line_id', 'datetime', 'recipe_id', 'agile_flag',\n",
       "       'line_state_id', 'start_time',\n",
       "       'Base_Machine_ExtractedCartons_0_Counter_Actual_n',\n",
       "       'Base_Machine_ProducedBases_0_Counter_Actual_n',\n",
       "       'Base_Machine_RejectedBases_Station1_Counter_Actual_n',\n",
       "       'Base_Machine_RejectedBases_Station2_Counter_Actual_n',\n",
       "       'Base_Machine_RejectedBases_Station3_Counter_Actual_n',\n",
       "       'Base_Machine_RejectedBases_Total_NOT_Extracted_Betw_Holders_n',\n",
       "       'Cover_General_ExtractedCartons_Total_Counter_Actual_n',\n",
       "       'Cover_General_ProducedCovers_Total_Counter_Actual_n',\n",
       "       'Cover_General_RejectedCovers_0_Counter_Actual_n',\n",
       "       'Upack_Produced_Case_At_Spiral_n'],\n",
       "      dtype='object')"
      ]
     },
     "execution_count": 71,
     "metadata": {},
     "output_type": "execute_result"
    }
   ],
   "source": [
    "box_totals_agg_df.columns"
   ]
  },
  {
   "cell_type": "code",
   "execution_count": null,
   "metadata": {},
   "outputs": [],
   "source": []
  },
  {
   "cell_type": "code",
   "execution_count": null,
   "metadata": {},
   "outputs": [],
   "source": []
  },
  {
   "cell_type": "code",
   "execution_count": 72,
   "metadata": {
    "ExecuteTime": {
     "end_time": "2023-04-17T08:52:04.799191Z",
     "start_time": "2023-04-17T08:52:04.737663Z"
    }
   },
   "outputs": [
    {
     "name": "stdout",
     "output_type": "stream",
     "text": [
      "(447, 17)\n"
     ]
    },
    {
     "data": {
      "text/html": [
       "<div>\n",
       "<style scoped>\n",
       "    .dataframe tbody tr th:only-of-type {\n",
       "        vertical-align: middle;\n",
       "    }\n",
       "\n",
       "    .dataframe tbody tr th {\n",
       "        vertical-align: top;\n",
       "    }\n",
       "\n",
       "    .dataframe thead th {\n",
       "        text-align: right;\n",
       "    }\n",
       "</style>\n",
       "<table border=\"1\" class=\"dataframe\">\n",
       "  <thead>\n",
       "    <tr style=\"text-align: right;\">\n",
       "      <th></th>\n",
       "      <th>site_id</th>\n",
       "      <th>line_id</th>\n",
       "      <th>datetime</th>\n",
       "      <th>recipe_id</th>\n",
       "      <th>agile_flag</th>\n",
       "      <th>line_state_id</th>\n",
       "      <th>Base_Machine_ExtractedCartons_0_Counter_Actual_n</th>\n",
       "      <th>Base_Machine_ProducedBases_0_Counter_Actual_n</th>\n",
       "      <th>Cover_General_ExtractedCartons_Total_Counter_Actual_n</th>\n",
       "      <th>Cover_General_ProducedCovers_Total_Counter_Actual_n</th>\n",
       "      <th>Base_Machine_RejectedBases_Station1_Counter_Actual_n</th>\n",
       "      <th>Base_Machine_RejectedBases_Station2_Counter_Actual_n</th>\n",
       "      <th>Base_Machine_RejectedBases_Station3_Counter_Actual_n</th>\n",
       "      <th>Base_Machine_RejectedBases_Total_NOT_Extracted_Betw_Holders_n</th>\n",
       "      <th>Cover_General_RejectedCovers_0_Counter_Actual_n</th>\n",
       "      <th>Upack_Produced_Case_At_Spiral_n</th>\n",
       "      <th>start_time</th>\n",
       "    </tr>\n",
       "  </thead>\n",
       "  <tbody>\n",
       "    <tr>\n",
       "      <th>0</th>\n",
       "      <td>1</td>\n",
       "      <td>10</td>\n",
       "      <td>2023-04-11 14:30:00</td>\n",
       "      <td>51.0</td>\n",
       "      <td>0.0</td>\n",
       "      <td>2100485/15</td>\n",
       "      <td>0.0</td>\n",
       "      <td>0.0</td>\n",
       "      <td>0.0</td>\n",
       "      <td>0.0</td>\n",
       "      <td>0.0</td>\n",
       "      <td>0.0</td>\n",
       "      <td>4.0</td>\n",
       "      <td>0.0</td>\n",
       "      <td>0.0</td>\n",
       "      <td>0.0</td>\n",
       "      <td>2023-04-11 14:39:27.786</td>\n",
       "    </tr>\n",
       "    <tr>\n",
       "      <th>1</th>\n",
       "      <td>1</td>\n",
       "      <td>10</td>\n",
       "      <td>2023-04-11 14:30:00</td>\n",
       "      <td>51.0</td>\n",
       "      <td>0.0</td>\n",
       "      <td>2100485/17</td>\n",
       "      <td>0.0</td>\n",
       "      <td>0.0</td>\n",
       "      <td>0.0</td>\n",
       "      <td>0.0</td>\n",
       "      <td>0.0</td>\n",
       "      <td>0.0</td>\n",
       "      <td>2.0</td>\n",
       "      <td>0.0</td>\n",
       "      <td>0.0</td>\n",
       "      <td>0.0</td>\n",
       "      <td>2023-04-11 14:46:05.799</td>\n",
       "    </tr>\n",
       "    <tr>\n",
       "      <th>2</th>\n",
       "      <td>1</td>\n",
       "      <td>10</td>\n",
       "      <td>2023-04-11 14:30:00</td>\n",
       "      <td>51.0</td>\n",
       "      <td>0.0</td>\n",
       "      <td>2100485/23</td>\n",
       "      <td>0.0</td>\n",
       "      <td>0.0</td>\n",
       "      <td>0.0</td>\n",
       "      <td>0.0</td>\n",
       "      <td>0.0</td>\n",
       "      <td>0.0</td>\n",
       "      <td>3.0</td>\n",
       "      <td>0.0</td>\n",
       "      <td>0.0</td>\n",
       "      <td>0.0</td>\n",
       "      <td>2023-04-11 14:58:33.800</td>\n",
       "    </tr>\n",
       "    <tr>\n",
       "      <th>3</th>\n",
       "      <td>1</td>\n",
       "      <td>10</td>\n",
       "      <td>2023-04-11 17:30:00</td>\n",
       "      <td>51.0</td>\n",
       "      <td>0.0</td>\n",
       "      <td>2100485/57</td>\n",
       "      <td>0.0</td>\n",
       "      <td>0.0</td>\n",
       "      <td>0.0</td>\n",
       "      <td>0.0</td>\n",
       "      <td>0.0</td>\n",
       "      <td>0.0</td>\n",
       "      <td>2.0</td>\n",
       "      <td>0.0</td>\n",
       "      <td>0.0</td>\n",
       "      <td>0.0</td>\n",
       "      <td>2023-04-11 17:50:16.991</td>\n",
       "    </tr>\n",
       "    <tr>\n",
       "      <th>4</th>\n",
       "      <td>1</td>\n",
       "      <td>10</td>\n",
       "      <td>2023-04-11 18:00:00</td>\n",
       "      <td>51.0</td>\n",
       "      <td>0.0</td>\n",
       "      <td>2100485/73</td>\n",
       "      <td>0.0</td>\n",
       "      <td>0.0</td>\n",
       "      <td>0.0</td>\n",
       "      <td>0.0</td>\n",
       "      <td>0.0</td>\n",
       "      <td>0.0</td>\n",
       "      <td>1.0</td>\n",
       "      <td>0.0</td>\n",
       "      <td>0.0</td>\n",
       "      <td>0.0</td>\n",
       "      <td>2023-04-11 18:16:54.012</td>\n",
       "    </tr>\n",
       "  </tbody>\n",
       "</table>\n",
       "</div>"
      ],
      "text/plain": [
       "   site_id  line_id            datetime  recipe_id  agile_flag line_state_id  \\\n",
       "0        1       10 2023-04-11 14:30:00       51.0         0.0    2100485/15   \n",
       "1        1       10 2023-04-11 14:30:00       51.0         0.0    2100485/17   \n",
       "2        1       10 2023-04-11 14:30:00       51.0         0.0    2100485/23   \n",
       "3        1       10 2023-04-11 17:30:00       51.0         0.0    2100485/57   \n",
       "4        1       10 2023-04-11 18:00:00       51.0         0.0    2100485/73   \n",
       "\n",
       "   Base_Machine_ExtractedCartons_0_Counter_Actual_n  \\\n",
       "0                                               0.0   \n",
       "1                                               0.0   \n",
       "2                                               0.0   \n",
       "3                                               0.0   \n",
       "4                                               0.0   \n",
       "\n",
       "   Base_Machine_ProducedBases_0_Counter_Actual_n  \\\n",
       "0                                            0.0   \n",
       "1                                            0.0   \n",
       "2                                            0.0   \n",
       "3                                            0.0   \n",
       "4                                            0.0   \n",
       "\n",
       "   Cover_General_ExtractedCartons_Total_Counter_Actual_n  \\\n",
       "0                                                0.0       \n",
       "1                                                0.0       \n",
       "2                                                0.0       \n",
       "3                                                0.0       \n",
       "4                                                0.0       \n",
       "\n",
       "   Cover_General_ProducedCovers_Total_Counter_Actual_n  \\\n",
       "0                                                0.0     \n",
       "1                                                0.0     \n",
       "2                                                0.0     \n",
       "3                                                0.0     \n",
       "4                                                0.0     \n",
       "\n",
       "   Base_Machine_RejectedBases_Station1_Counter_Actual_n  \\\n",
       "0                                                0.0      \n",
       "1                                                0.0      \n",
       "2                                                0.0      \n",
       "3                                                0.0      \n",
       "4                                                0.0      \n",
       "\n",
       "   Base_Machine_RejectedBases_Station2_Counter_Actual_n  \\\n",
       "0                                                0.0      \n",
       "1                                                0.0      \n",
       "2                                                0.0      \n",
       "3                                                0.0      \n",
       "4                                                0.0      \n",
       "\n",
       "   Base_Machine_RejectedBases_Station3_Counter_Actual_n  \\\n",
       "0                                                4.0      \n",
       "1                                                2.0      \n",
       "2                                                3.0      \n",
       "3                                                2.0      \n",
       "4                                                1.0      \n",
       "\n",
       "   Base_Machine_RejectedBases_Total_NOT_Extracted_Betw_Holders_n  \\\n",
       "0                                                0.0               \n",
       "1                                                0.0               \n",
       "2                                                0.0               \n",
       "3                                                0.0               \n",
       "4                                                0.0               \n",
       "\n",
       "   Cover_General_RejectedCovers_0_Counter_Actual_n  \\\n",
       "0                                              0.0   \n",
       "1                                              0.0   \n",
       "2                                              0.0   \n",
       "3                                              0.0   \n",
       "4                                              0.0   \n",
       "\n",
       "   Upack_Produced_Case_At_Spiral_n              start_time  \n",
       "0                              0.0 2023-04-11 14:39:27.786  \n",
       "1                              0.0 2023-04-11 14:46:05.799  \n",
       "2                              0.0 2023-04-11 14:58:33.800  \n",
       "3                              0.0 2023-04-11 17:50:16.991  \n",
       "4                              0.0 2023-04-11 18:16:54.012  "
      ]
     },
     "execution_count": 72,
     "metadata": {},
     "output_type": "execute_result"
    }
   ],
   "source": [
    "## aggregating\n",
    "\n",
    "groupby_cols = ['site_id', 'line_id', 'datetime', \n",
    "                'recipe_id', 'agile_flag','line_state_id']\n",
    "agg_dict = {'Base_Machine_ExtractedCartons_0_Counter_Actual_n':'sum', \n",
    "            'Base_Machine_ProducedBases_0_Counter_Actual_n':'sum',\n",
    "            'Cover_General_ExtractedCartons_Total_Counter_Actual_n':'sum',\n",
    "            'Cover_General_ProducedCovers_Total_Counter_Actual_n':'sum',\n",
    "            'Base_Machine_RejectedBases_Station1_Counter_Actual_n':'sum',\n",
    "            'Base_Machine_RejectedBases_Station2_Counter_Actual_n':'sum',\n",
    "            'Base_Machine_RejectedBases_Station3_Counter_Actual_n':'sum',\n",
    "            'Base_Machine_RejectedBases_Total_NOT_Extracted_Betw_Holders_n':'sum',\n",
    "            'Cover_General_RejectedCovers_0_Counter_Actual_n':'sum',\n",
    "            'Upack_Produced_Case_At_Spiral_n':'sum',\n",
    "            'start_time':'min'}\n",
    "\n",
    "box_totals_agg_df = box_totals_agg_df.groupby(groupby_cols).agg(agg_dict).reset_index()\n",
    "print(box_totals_agg_df.shape)\n",
    "box_totals_agg_df.head()\n"
   ]
  },
  {
   "cell_type": "code",
   "execution_count": 73,
   "metadata": {
    "ExecuteTime": {
     "end_time": "2023-04-17T08:52:10.977624Z",
     "start_time": "2023-04-17T08:52:10.973694Z"
    }
   },
   "outputs": [],
   "source": [
    "# if site_cd == 'ami':\n",
    "#             agg_dict['Upack_Produced_Case_At_Spiral_n'] = 'sum'\n",
    "# elif site_cd =='url':\n",
    "#     agg_dict['UPack_For_Proficy_Produced_Cases'] = 'sum'\n",
    "# else:\n",
    "#     pass\n",
    "\n"
   ]
  },
  {
   "cell_type": "code",
   "execution_count": 74,
   "metadata": {
    "ExecuteTime": {
     "end_time": "2023-04-17T08:52:12.381081Z",
     "start_time": "2023-04-17T08:52:12.377154Z"
    }
   },
   "outputs": [],
   "source": [
    "\n",
    "# box_totals_agg_df = box_totals_agg_df.groupby(groupby_cols).agg(agg_dict).reset_index()\n",
    "# print(f'Shape after aggregating box totals data: {box_totals_agg_df.shape}') "
   ]
  },
  {
   "cell_type": "code",
   "execution_count": 75,
   "metadata": {
    "ExecuteTime": {
     "end_time": "2023-04-17T08:52:14.427193Z",
     "start_time": "2023-04-17T08:52:14.414465Z"
    }
   },
   "outputs": [],
   "source": [
    "\n",
    "# box_totals_agg_df = box_totals_agg_df.groupby(groupby_cols).agg(agg_dict).reset_index()\n",
    "# print(f'Shape after aggregating box totals data: {box_totals_agg_df.shape}')   \n",
    "\n",
    "if site_cd == 'ami':\n",
    "    box_totals_agg_df = box_totals_agg_df.rename(columns = {'Upack_Produced_Case_At_Spiral_n':'UPack_For_Proficy_Produced_Cases'})\n",
    "    ordered_columns = [c for c in box_totals_agg_df.columns if c!='start_time'] + ['start_time']\n",
    "    box_totals_agg_df = box_totals_agg_df[ordered_columns]\n"
   ]
  },
  {
   "cell_type": "code",
   "execution_count": 76,
   "metadata": {
    "ExecuteTime": {
     "end_time": "2023-04-17T08:52:15.222232Z",
     "start_time": "2023-04-17T08:52:15.217303Z"
    }
   },
   "outputs": [],
   "source": [
    "#box_totals_agg_df_L34 = box_totals_agg_df[ordered_columns]\n",
    "#box_totals_agg_df_L34"
   ]
  },
  {
   "cell_type": "code",
   "execution_count": 77,
   "metadata": {
    "ExecuteTime": {
     "end_time": "2023-04-17T08:52:15.748627Z",
     "start_time": "2023-04-17T08:52:15.743735Z"
    }
   },
   "outputs": [],
   "source": [
    "#box_totals_agg_df_L27_second_chunk = box_totals_agg_df[ordered_columns]\n",
    "#box_totals_agg_df_L27_second_chunk"
   ]
  },
  {
   "cell_type": "code",
   "execution_count": 78,
   "metadata": {
    "ExecuteTime": {
     "end_time": "2023-04-17T08:52:15.987916Z",
     "start_time": "2023-04-17T08:52:15.983989Z"
    }
   },
   "outputs": [],
   "source": [
    "#box_totals_agg_df_L27_second_chunk.to_excel('..\\Data\\incremental_loading\\second_chunk.xlsx', index=False)"
   ]
  },
  {
   "cell_type": "code",
   "execution_count": 79,
   "metadata": {
    "ExecuteTime": {
     "end_time": "2023-04-17T08:52:16.219405Z",
     "start_time": "2023-04-17T08:52:16.214474Z"
    }
   },
   "outputs": [],
   "source": [
    "# box_totals_agg_df_L27_first_chunk = box_totals_agg_df[ordered_columns]\n",
    "# box_totals_agg_df_L27_first_chunk"
   ]
  },
  {
   "cell_type": "code",
   "execution_count": 80,
   "metadata": {
    "ExecuteTime": {
     "end_time": "2023-04-17T08:52:18.496909Z",
     "start_time": "2023-04-17T08:52:18.493971Z"
    }
   },
   "outputs": [],
   "source": [
    "# box_totals_agg_df_L27_first_chunk"
   ]
  },
  {
   "cell_type": "code",
   "execution_count": 81,
   "metadata": {
    "ExecuteTime": {
     "end_time": "2023-04-17T08:52:18.649281Z",
     "start_time": "2023-04-17T08:52:18.644362Z"
    }
   },
   "outputs": [],
   "source": [
    "#box_totals_agg_df_L27_first_chunk.to_csv('..\\Data\\incremental_loading\\Firstchunk.csv')"
   ]
  },
  {
   "cell_type": "code",
   "execution_count": 82,
   "metadata": {
    "ExecuteTime": {
     "end_time": "2023-04-17T08:52:18.791009Z",
     "start_time": "2023-04-17T08:52:18.787967Z"
    }
   },
   "outputs": [],
   "source": [
    "#box_totals_agg_df_L27_first_chunk.to_excel('..\\Data\\incremental_loading\\First_chunk.xlsx', index=False)"
   ]
  },
  {
   "cell_type": "code",
   "execution_count": 83,
   "metadata": {
    "ExecuteTime": {
     "end_time": "2023-04-17T08:52:18.939372Z",
     "start_time": "2023-04-17T08:52:18.935437Z"
    }
   },
   "outputs": [],
   "source": [
    "#box_totals_agg_dfn_ = pd.concat([box_totals_agg_df_L27_first_chunk,box_totals_agg_df_L27_second_chunk], ignore_index = True)\n",
    "#box_totals_agg_dfn_"
   ]
  },
  {
   "cell_type": "code",
   "execution_count": 84,
   "metadata": {
    "ExecuteTime": {
     "end_time": "2023-04-17T08:52:19.106344Z",
     "start_time": "2023-04-17T08:52:19.101446Z"
    }
   },
   "outputs": [],
   "source": [
    "#box_totals_agg_dfn_.shape"
   ]
  },
  {
   "cell_type": "code",
   "execution_count": 85,
   "metadata": {
    "ExecuteTime": {
     "end_time": "2023-04-17T08:52:19.429627Z",
     "start_time": "2023-04-17T08:52:19.424762Z"
    }
   },
   "outputs": [],
   "source": [
    "#box_totals_agg_dfn_ = box_totals_agg_dfn_.drop_duplicates(subset=['site_id', 'line_id', 'datetime', 'recipe_id', 'line_state_id'], keep = 'last')\n",
    "\n"
   ]
  },
  {
   "cell_type": "code",
   "execution_count": 86,
   "metadata": {
    "ExecuteTime": {
     "end_time": "2023-04-17T08:52:19.699163Z",
     "start_time": "2023-04-17T08:52:19.693302Z"
    }
   },
   "outputs": [],
   "source": [
    "#box_totals_agg_dfn_.shape"
   ]
  },
  {
   "cell_type": "code",
   "execution_count": 87,
   "metadata": {
    "ExecuteTime": {
     "end_time": "2023-04-17T08:52:20.421946Z",
     "start_time": "2023-04-17T08:52:20.417037Z"
    }
   },
   "outputs": [],
   "source": [
    "#loading"
   ]
  },
  {
   "cell_type": "code",
   "execution_count": null,
   "metadata": {},
   "outputs": [],
   "source": []
  },
  {
   "cell_type": "code",
   "execution_count": 88,
   "metadata": {
    "ExecuteTime": {
     "end_time": "2023-04-17T08:52:26.085668Z",
     "start_time": "2023-04-17T08:52:26.078824Z"
    },
    "scrolled": true
   },
   "outputs": [
    {
     "name": "stdout",
     "output_type": "stream",
     "text": [
      "2023-04-10 05:30:00\n"
     ]
    }
   ],
   "source": [
    "truncate_date = start_time + timedelta(days=site_history_buffer_days)\n",
    "print(truncate_date)"
   ]
  },
  {
   "cell_type": "code",
   "execution_count": 69,
   "metadata": {
    "ExecuteTime": {
     "end_time": "2022-12-19T15:41:22.112435Z",
     "start_time": "2022-12-19T15:41:22.107550Z"
    }
   },
   "outputs": [
    {
     "name": "stdout",
     "output_type": "stream",
     "text": [
      "2022-12-09 13:00:00\n"
     ]
    }
   ],
   "source": [
    "#truncate_date = start_time\n",
    "#print(truncate_date)"
   ]
  },
  {
   "cell_type": "code",
   "execution_count": 70,
   "metadata": {
    "ExecuteTime": {
     "end_time": "2022-12-19T15:42:44.346780Z",
     "start_time": "2022-12-19T15:42:44.337011Z"
    }
   },
   "outputs": [
    {
     "name": "stdout",
     "output_type": "stream",
     "text": [
      "Truncating after 2022-12-09 13:00:00. Shape of truncated box rejects data: (4929, 17)\n"
     ]
    }
   ],
   "source": [
    "site_sud_id = sites_dim_df.loc[sites_dim_df['site'] == site_name, 'site_id'].iloc[0]\n",
    "box_totals_agg_df = box_totals_agg_df.loc[box_totals_agg_df['datetime'] >= truncate_date]\n",
    "print(f'Truncating after {truncate_date}. Shape of truncated box rejects data: {box_totals_agg_df.shape}')\n"
   ]
  },
  {
   "cell_type": "code",
   "execution_count": 71,
   "metadata": {
    "ExecuteTime": {
     "end_time": "2022-12-19T15:43:28.695434Z",
     "start_time": "2022-12-19T15:43:28.689238Z"
    }
   },
   "outputs": [
    {
     "name": "stdout",
     "output_type": "stream",
     "text": [
      " \n",
      "    delete from SUD_BOX_TOTALS\n",
      "    where site_id = 1 and datetime >= '2022-12-09 13:00:00'\n",
      "\n"
     ]
    }
   ],
   "source": [
    "truncate_query = queries.TRUNCATE_REJECTS_TABLE.format(box_production_table_nm, site_sud_id, truncate_date)\n",
    "print(truncate_query)"
   ]
  },
  {
   "cell_type": "code",
   "execution_count": 72,
   "metadata": {
    "ExecuteTime": {
     "end_time": "2022-12-19T15:44:08.070444Z",
     "start_time": "2022-12-19T15:44:02.381627Z"
    }
   },
   "outputs": [],
   "source": [
    "execute_db_query(conn_string=datalab_db_conn, query=truncate_query, access_token=datalab_db_access_token)\n",
    "insert_df_to_mssql_db(df=box_totals_agg_df,\n",
    "                    db_conn=datalab_db_conn,\n",
    "                    db_table=box_production_table_nm,\n",
    "                    access_token=datalab_db_access_token)\n"
   ]
  },
  {
   "cell_type": "code",
   "execution_count": null,
   "metadata": {
    "ExecuteTime": {
     "start_time": "2023-03-09T16:02:23.596Z"
    }
   },
   "outputs": [],
   "source": [
    "#box_totals_agg_dfn_.shape"
   ]
  },
  {
   "cell_type": "code",
   "execution_count": null,
   "metadata": {},
   "outputs": [],
   "source": []
  },
  {
   "cell_type": "markdown",
   "metadata": {},
   "source": [
    "# Loading"
   ]
  },
  {
   "cell_type": "markdown",
   "metadata": {},
   "source": [
    "### Updating SUD_BOX_REJECTS table"
   ]
  },
  {
   "cell_type": "code",
   "execution_count": 113,
   "metadata": {
    "ExecuteTime": {
     "end_time": "2023-03-09T13:02:14.461768Z",
     "start_time": "2023-03-09T13:02:14.453973Z"
    }
   },
   "outputs": [
    {
     "name": "stdout",
     "output_type": "stream",
     "text": [
      "2023-01-01 06:00:00\n"
     ]
    }
   ],
   "source": [
    "truncate_date = start_time + timedelta(days=site_history_buffer_days)\n",
    "print(truncate_date)"
   ]
  },
  {
   "cell_type": "code",
   "execution_count": 104,
   "metadata": {
    "ExecuteTime": {
     "end_time": "2023-03-09T11:23:29.284816Z",
     "start_time": "2023-03-09T11:23:29.252588Z"
    }
   },
   "outputs": [
    {
     "name": "stdout",
     "output_type": "stream",
     "text": [
      "2023-02-01 06:00:00\n"
     ]
    }
   ],
   "source": [
    "#truncate_date = start_time + timedelta(days=site_history_buffer_days)\n",
    "truncate_date = start_time\n",
    "print(truncate_date)\n",
    "site_sud_id = sites_dim_df.loc[sites_dim_df['site'] == site_name, 'site_id'].iloc[0]\n",
    "box_rejects_agg_df = box_rejects_agg_df.loc[box_rejects_agg_df['datetime'] >= truncate_date]\n",
    "           "
   ]
  },
  {
   "cell_type": "code",
   "execution_count": 105,
   "metadata": {
    "ExecuteTime": {
     "end_time": "2023-03-09T11:23:36.347631Z",
     "start_time": "2023-03-09T11:23:36.338805Z"
    }
   },
   "outputs": [
    {
     "name": "stdout",
     "output_type": "stream",
     "text": [
      " \n",
      "    delete from SUD_BOX_REJECTS\n",
      "    where site_id = 1 and datetime >= '2023-02-01 06:00:00'\n",
      "\n"
     ]
    }
   ],
   "source": [
    "truncate_query = queries.TRUNCATE_REJECTS_TABLE.format(box_rejects_table_nm, site_sud_id, truncate_date)\n",
    "print(truncate_query)\n"
   ]
  },
  {
   "cell_type": "code",
   "execution_count": 107,
   "metadata": {
    "ExecuteTime": {
     "end_time": "2023-03-09T11:29:18.507350Z",
     "start_time": "2023-03-09T11:27:19.653330Z"
    }
   },
   "outputs": [],
   "source": [
    "execute_db_query(conn_string=datalab_db_conn, query=truncate_query, access_token=datalab_db_access_token)\n",
    "insert_df_to_mssql_db(df=box_rejects_agg_df,\n",
    "                      db_conn=datalab_db_conn,\n",
    "                      db_table=box_rejects_table_nm,\n",
    "                      access_token=datalab_db_access_token)"
   ]
  },
  {
   "cell_type": "code",
   "execution_count": 46,
   "metadata": {
    "ExecuteTime": {
     "end_time": "2023-01-11T14:39:13.697890Z",
     "start_time": "2023-01-11T14:37:52.645353Z"
    }
   },
   "outputs": [],
   "source": [
    "insert_df_to_mssql_db(df=box_rejects_agg_df_,\n",
    "                      db_conn=datalab_db_conn,\n",
    "                      db_table=box_rejects_table_nm,\n",
    "                      access_token=datalab_db_access_token)"
   ]
  },
  {
   "cell_type": "markdown",
   "metadata": {},
   "source": [
    "#### Updating ETL_RUN_SUMMARY table"
   ]
  },
  {
   "cell_type": "code",
   "execution_count": 83,
   "metadata": {
    "ExecuteTime": {
     "end_time": "2022-08-23T13:46:45.805205Z",
     "start_time": "2022-08-23T13:46:45.692556Z"
    }
   },
   "outputs": [],
   "source": [
    "\n",
    "# updating etl status table\n",
    "job_step_start_dttm = datetime.now()\n",
    "extract_overview_df = (box_rejects_agg_df.groupby(['site_id', 'line_id'])\n",
    "                                        .agg({'datetime':'max', 'line_state_id':'count'})\n",
    "                                        .reset_index()\n",
    "                                        .rename(columns={'line_state_id':'n_records', 'datetime':'start_time'}))\n",
    "new_last_available_dttm = extract_overview_df['start_time'].min()\n",
    "\n",
    "job_summary_record = get_run_summary_entry(job_id, job_nm, box_rejects_table_nm,\n",
    "                                            job_step_start_dttm, datetime.now(),\n",
    "                                            extract_overview_df['n_records'].sum(),\n",
    "                                            np.nan, 'start_time', \n",
    "                                            new_last_available_dttm, np.nan)\n",
    "\n",
    "\n",
    "insert_df_to_mssql_db(df=job_summary_record,\n",
    "                          db_conn=datalab_db_conn,\n",
    "                          db_table=job_summary_table_nm,\n",
    "                          access_token=datalab_db_access_token)"
   ]
  },
  {
   "cell_type": "markdown",
   "metadata": {},
   "source": [
    "### Updating SUD_BOX_TOTALS table"
   ]
  },
  {
   "cell_type": "code",
   "execution_count": 84,
   "metadata": {
    "ExecuteTime": {
     "end_time": "2022-08-23T13:46:57.344111Z",
     "start_time": "2022-08-23T13:46:57.333305Z"
    }
   },
   "outputs": [],
   "source": [
    "truncate_date = start_time + timedelta(days=site_history_buffer_days)\n",
    "site_sud_id = sites_dim_df.loc[sites_dim_df['site'] == site_name, 'site_id'].iloc[0]\n",
    "box_totals_agg_df = box_totals_agg_df.loc[box_totals_agg_df['datetime'] >= truncate_date]"
   ]
  },
  {
   "cell_type": "code",
   "execution_count": 85,
   "metadata": {
    "ExecuteTime": {
     "end_time": "2022-08-23T13:47:07.325622Z",
     "start_time": "2022-08-23T13:47:07.317815Z"
    }
   },
   "outputs": [
    {
     "name": "stdout",
     "output_type": "stream",
     "text": [
      " \n",
      "    delete from SUD_BOX_TOTALS\n",
      "    where site_id = 1 and datetime >= '2022-08-16 12:00:00'\n",
      "\n"
     ]
    }
   ],
   "source": [
    "truncate_query = queries.TRUNCATE_REJECTS_TABLE.format(box_production_table_nm, site_sud_id, truncate_date)\n",
    "print(truncate_query)\n"
   ]
  },
  {
   "cell_type": "code",
   "execution_count": 86,
   "metadata": {
    "ExecuteTime": {
     "end_time": "2022-08-23T13:47:12.792532Z",
     "start_time": "2022-08-23T13:47:11.104385Z"
    }
   },
   "outputs": [],
   "source": [
    "truncate_query = queries.TRUNCATE_REJECTS_TABLE.format(box_production_table_nm, site_sud_id, truncate_date)\n",
    "execute_db_query(conn_string=datalab_db_conn, query=truncate_query, access_token=datalab_db_access_token)\n",
    "insert_df_to_mssql_db(df=box_totals_agg_df,\n",
    "                    db_conn=datalab_db_conn,\n",
    "                    db_table=box_production_table_nm,\n",
    "                    access_token=datalab_db_access_token)\n"
   ]
  },
  {
   "cell_type": "markdown",
   "metadata": {},
   "source": [
    "### Updating SUD_ETL_RUN_SUMMARY table"
   ]
  },
  {
   "cell_type": "code",
   "execution_count": 87,
   "metadata": {
    "ExecuteTime": {
     "end_time": "2022-08-23T13:47:19.785916Z",
     "start_time": "2022-08-23T13:47:19.663872Z"
    }
   },
   "outputs": [],
   "source": [
    "\n",
    "# updating etl status table\n",
    "job_step_start_dttm = datetime.now()\n",
    "extract_overview_df = (box_totals_agg_df.groupby(['site_id', 'line_id'])\n",
    "                                        .agg({'datetime':'max', 'line_state_id':'count'})\n",
    "                                        .reset_index()\n",
    "                                        .rename(columns={'line_state_id':'n_records', 'datetime':'start_time'}))\n",
    "new_last_available_dttm = extract_overview_df['start_time'].min()\n",
    "\n",
    "job_summary_record = get_run_summary_entry(job_id, job_nm, box_production_table_nm,\n",
    "                                                            job_step_start_dttm, datetime.now(),\n",
    "                                                            extract_overview_df['n_records'].sum(),\n",
    "                                                            np.nan, 'start_time', \n",
    "                                                            new_last_available_dttm, np.nan)\n",
    "\n",
    "\n",
    "insert_df_to_mssql_db(df=job_summary_record,\n",
    "                          db_conn=datalab_db_conn,\n",
    "                          db_table=job_summary_table_nm,\n",
    "                          access_token=datalab_db_access_token)"
   ]
  },
  {
   "cell_type": "markdown",
   "metadata": {},
   "source": [
    "# checking data"
   ]
  },
  {
   "cell_type": "code",
   "execution_count": 47,
   "metadata": {
    "ExecuteTime": {
     "end_time": "2023-03-10T09:53:09.073473Z",
     "start_time": "2023-03-10T09:53:08.002770Z"
    }
   },
   "outputs": [
    {
     "name": "stdout",
     "output_type": "stream",
     "text": [
      "SUD sites dimention table loaded, shape: (50095, 17)\n"
     ]
    },
    {
     "data": {
      "text/html": [
       "<div>\n",
       "<style scoped>\n",
       "    .dataframe tbody tr th:only-of-type {\n",
       "        vertical-align: middle;\n",
       "    }\n",
       "\n",
       "    .dataframe tbody tr th {\n",
       "        vertical-align: top;\n",
       "    }\n",
       "\n",
       "    .dataframe thead th {\n",
       "        text-align: right;\n",
       "    }\n",
       "</style>\n",
       "<table border=\"1\" class=\"dataframe\">\n",
       "  <thead>\n",
       "    <tr style=\"text-align: right;\">\n",
       "      <th></th>\n",
       "      <th>site_id</th>\n",
       "      <th>line_id</th>\n",
       "      <th>datetime</th>\n",
       "      <th>recipe_id</th>\n",
       "      <th>agile_flag</th>\n",
       "      <th>line_state_id</th>\n",
       "      <th>Base_Machine_ExtractedCartons_0_Counter_Actual_n</th>\n",
       "      <th>Base_Machine_ProducedBases_0_Counter_Actual_n</th>\n",
       "      <th>Cover_General_ExtractedCartons_Total_Counter_Actual_n</th>\n",
       "      <th>Cover_General_ProducedCovers_Total_Counter_Actual_n</th>\n",
       "      <th>Base_Machine_RejectedBases_Station1_Counter_Actual_n</th>\n",
       "      <th>Base_Machine_RejectedBases_Station2_Counter_Actual_n</th>\n",
       "      <th>Base_Machine_RejectedBases_Station3_Counter_Actual_n</th>\n",
       "      <th>Base_Machine_RejectedBases_Total_NOT_Extracted_Betw_Holders_n</th>\n",
       "      <th>Cover_General_RejectedCovers_0_Counter_Actual_n</th>\n",
       "      <th>UPack_For_Proficy_Produced_Cases</th>\n",
       "      <th>start_time</th>\n",
       "    </tr>\n",
       "  </thead>\n",
       "  <tbody>\n",
       "    <tr>\n",
       "      <th>0</th>\n",
       "      <td>1</td>\n",
       "      <td>73</td>\n",
       "      <td>2023-01-05 16:00:00</td>\n",
       "      <td>42</td>\n",
       "      <td>0</td>\n",
       "      <td>F1F0C4D4-5E0A-43CD-B925-25C4CB87F9A9/7</td>\n",
       "      <td>0</td>\n",
       "      <td>0</td>\n",
       "      <td>21</td>\n",
       "      <td>7</td>\n",
       "      <td>0</td>\n",
       "      <td>0</td>\n",
       "      <td>0</td>\n",
       "      <td>0</td>\n",
       "      <td>0</td>\n",
       "      <td>23</td>\n",
       "      <td>2023-01-05 16:16:59.707</td>\n",
       "    </tr>\n",
       "    <tr>\n",
       "      <th>1</th>\n",
       "      <td>1</td>\n",
       "      <td>73</td>\n",
       "      <td>2023-02-20 08:30:00</td>\n",
       "      <td>16</td>\n",
       "      <td>0</td>\n",
       "      <td>84F72D37-3D02-488B-BCE6-5F0DD856CDC9/1</td>\n",
       "      <td>105</td>\n",
       "      <td>95</td>\n",
       "      <td>75</td>\n",
       "      <td>66</td>\n",
       "      <td>18</td>\n",
       "      <td>1</td>\n",
       "      <td>0</td>\n",
       "      <td>0</td>\n",
       "      <td>1</td>\n",
       "      <td>0</td>\n",
       "      <td>2023-02-20 08:59:07.477</td>\n",
       "    </tr>\n",
       "    <tr>\n",
       "      <th>2</th>\n",
       "      <td>1</td>\n",
       "      <td>73</td>\n",
       "      <td>2023-01-05 16:00:00</td>\n",
       "      <td>42</td>\n",
       "      <td>0</td>\n",
       "      <td>F1F0C4D4-5E0A-43CD-B925-25C4CB87F9A9/8</td>\n",
       "      <td>166</td>\n",
       "      <td>160</td>\n",
       "      <td>181</td>\n",
       "      <td>177</td>\n",
       "      <td>0</td>\n",
       "      <td>0</td>\n",
       "      <td>0</td>\n",
       "      <td>0</td>\n",
       "      <td>4</td>\n",
       "      <td>13</td>\n",
       "      <td>2023-01-05 16:17:56.667</td>\n",
       "    </tr>\n",
       "    <tr>\n",
       "      <th>3</th>\n",
       "      <td>1</td>\n",
       "      <td>73</td>\n",
       "      <td>2023-01-05 16:00:00</td>\n",
       "      <td>42</td>\n",
       "      <td>0</td>\n",
       "      <td>F1F0C4D4-5E0A-43CD-B925-25C4CB87F9A9/9</td>\n",
       "      <td>217</td>\n",
       "      <td>215</td>\n",
       "      <td>220</td>\n",
       "      <td>219</td>\n",
       "      <td>0</td>\n",
       "      <td>0</td>\n",
       "      <td>0</td>\n",
       "      <td>0</td>\n",
       "      <td>2</td>\n",
       "      <td>55</td>\n",
       "      <td>2023-01-05 16:19:50.663</td>\n",
       "    </tr>\n",
       "    <tr>\n",
       "      <th>4</th>\n",
       "      <td>1</td>\n",
       "      <td>73</td>\n",
       "      <td>2023-01-05 16:30:00</td>\n",
       "      <td>42</td>\n",
       "      <td>0</td>\n",
       "      <td>F1F0C4D4-5E0A-43CD-B925-25C4CB87F9A9/12</td>\n",
       "      <td>2104</td>\n",
       "      <td>2117</td>\n",
       "      <td>2097</td>\n",
       "      <td>2094</td>\n",
       "      <td>0</td>\n",
       "      <td>1</td>\n",
       "      <td>0</td>\n",
       "      <td>0</td>\n",
       "      <td>20</td>\n",
       "      <td>528</td>\n",
       "      <td>2023-01-05 16:30:00.650</td>\n",
       "    </tr>\n",
       "    <tr>\n",
       "      <th>...</th>\n",
       "      <td>...</td>\n",
       "      <td>...</td>\n",
       "      <td>...</td>\n",
       "      <td>...</td>\n",
       "      <td>...</td>\n",
       "      <td>...</td>\n",
       "      <td>...</td>\n",
       "      <td>...</td>\n",
       "      <td>...</td>\n",
       "      <td>...</td>\n",
       "      <td>...</td>\n",
       "      <td>...</td>\n",
       "      <td>...</td>\n",
       "      <td>...</td>\n",
       "      <td>...</td>\n",
       "      <td>...</td>\n",
       "      <td>...</td>\n",
       "    </tr>\n",
       "    <tr>\n",
       "      <th>50090</th>\n",
       "      <td>1</td>\n",
       "      <td>73</td>\n",
       "      <td>2023-02-20 08:00:00</td>\n",
       "      <td>42</td>\n",
       "      <td>0</td>\n",
       "      <td>7E37AD3A-31C6-4EF5-920D-17858791E039/0</td>\n",
       "      <td>63</td>\n",
       "      <td>70</td>\n",
       "      <td>62</td>\n",
       "      <td>62</td>\n",
       "      <td>0</td>\n",
       "      <td>0</td>\n",
       "      <td>0</td>\n",
       "      <td>0</td>\n",
       "      <td>0</td>\n",
       "      <td>18</td>\n",
       "      <td>2023-02-20 08:12:08.393</td>\n",
       "    </tr>\n",
       "    <tr>\n",
       "      <th>50091</th>\n",
       "      <td>1</td>\n",
       "      <td>73</td>\n",
       "      <td>2023-02-20 08:00:00</td>\n",
       "      <td>42</td>\n",
       "      <td>0</td>\n",
       "      <td>83C74D1C-D4DB-49EC-B777-B3A48B9F37C7/0</td>\n",
       "      <td>117</td>\n",
       "      <td>117</td>\n",
       "      <td>117</td>\n",
       "      <td>120</td>\n",
       "      <td>0</td>\n",
       "      <td>0</td>\n",
       "      <td>0</td>\n",
       "      <td>0</td>\n",
       "      <td>0</td>\n",
       "      <td>29</td>\n",
       "      <td>2023-02-20 08:28:55.310</td>\n",
       "    </tr>\n",
       "    <tr>\n",
       "      <th>50092</th>\n",
       "      <td>1</td>\n",
       "      <td>73</td>\n",
       "      <td>2023-02-20 08:30:00</td>\n",
       "      <td>16</td>\n",
       "      <td>0</td>\n",
       "      <td>4DA9F394-BDAA-45DF-9B32-3F9C08CE09CE/0</td>\n",
       "      <td>12</td>\n",
       "      <td>0</td>\n",
       "      <td>0</td>\n",
       "      <td>0</td>\n",
       "      <td>0</td>\n",
       "      <td>0</td>\n",
       "      <td>0</td>\n",
       "      <td>0</td>\n",
       "      <td>0</td>\n",
       "      <td>0</td>\n",
       "      <td>2023-02-20 08:57:03.480</td>\n",
       "    </tr>\n",
       "    <tr>\n",
       "      <th>50093</th>\n",
       "      <td>1</td>\n",
       "      <td>73</td>\n",
       "      <td>2023-02-20 08:30:00</td>\n",
       "      <td>16</td>\n",
       "      <td>0</td>\n",
       "      <td>4DA9F394-BDAA-45DF-9B32-3F9C08CE09CE/1</td>\n",
       "      <td>2</td>\n",
       "      <td>0</td>\n",
       "      <td>0</td>\n",
       "      <td>0</td>\n",
       "      <td>0</td>\n",
       "      <td>0</td>\n",
       "      <td>0</td>\n",
       "      <td>0</td>\n",
       "      <td>0</td>\n",
       "      <td>0</td>\n",
       "      <td>2023-02-20 08:57:08.467</td>\n",
       "    </tr>\n",
       "    <tr>\n",
       "      <th>50094</th>\n",
       "      <td>1</td>\n",
       "      <td>73</td>\n",
       "      <td>2023-02-20 08:30:00</td>\n",
       "      <td>16</td>\n",
       "      <td>0</td>\n",
       "      <td>5BB3F293-F2AB-4A70-9F4E-F8872078E1A3/1</td>\n",
       "      <td>0</td>\n",
       "      <td>9</td>\n",
       "      <td>0</td>\n",
       "      <td>0</td>\n",
       "      <td>0</td>\n",
       "      <td>0</td>\n",
       "      <td>0</td>\n",
       "      <td>0</td>\n",
       "      <td>0</td>\n",
       "      <td>0</td>\n",
       "      <td>2023-02-20 08:59:53.457</td>\n",
       "    </tr>\n",
       "  </tbody>\n",
       "</table>\n",
       "<p>50095 rows × 17 columns</p>\n",
       "</div>"
      ],
      "text/plain": [
       "       site_id  line_id            datetime  recipe_id  agile_flag  \\\n",
       "0            1       73 2023-01-05 16:00:00         42           0   \n",
       "1            1       73 2023-02-20 08:30:00         16           0   \n",
       "2            1       73 2023-01-05 16:00:00         42           0   \n",
       "3            1       73 2023-01-05 16:00:00         42           0   \n",
       "4            1       73 2023-01-05 16:30:00         42           0   \n",
       "...        ...      ...                 ...        ...         ...   \n",
       "50090        1       73 2023-02-20 08:00:00         42           0   \n",
       "50091        1       73 2023-02-20 08:00:00         42           0   \n",
       "50092        1       73 2023-02-20 08:30:00         16           0   \n",
       "50093        1       73 2023-02-20 08:30:00         16           0   \n",
       "50094        1       73 2023-02-20 08:30:00         16           0   \n",
       "\n",
       "                                 line_state_id  \\\n",
       "0       F1F0C4D4-5E0A-43CD-B925-25C4CB87F9A9/7   \n",
       "1       84F72D37-3D02-488B-BCE6-5F0DD856CDC9/1   \n",
       "2       F1F0C4D4-5E0A-43CD-B925-25C4CB87F9A9/8   \n",
       "3       F1F0C4D4-5E0A-43CD-B925-25C4CB87F9A9/9   \n",
       "4      F1F0C4D4-5E0A-43CD-B925-25C4CB87F9A9/12   \n",
       "...                                        ...   \n",
       "50090   7E37AD3A-31C6-4EF5-920D-17858791E039/0   \n",
       "50091   83C74D1C-D4DB-49EC-B777-B3A48B9F37C7/0   \n",
       "50092   4DA9F394-BDAA-45DF-9B32-3F9C08CE09CE/0   \n",
       "50093   4DA9F394-BDAA-45DF-9B32-3F9C08CE09CE/1   \n",
       "50094   5BB3F293-F2AB-4A70-9F4E-F8872078E1A3/1   \n",
       "\n",
       "       Base_Machine_ExtractedCartons_0_Counter_Actual_n  \\\n",
       "0                                                     0   \n",
       "1                                                   105   \n",
       "2                                                   166   \n",
       "3                                                   217   \n",
       "4                                                  2104   \n",
       "...                                                 ...   \n",
       "50090                                                63   \n",
       "50091                                               117   \n",
       "50092                                                12   \n",
       "50093                                                 2   \n",
       "50094                                                 0   \n",
       "\n",
       "       Base_Machine_ProducedBases_0_Counter_Actual_n  \\\n",
       "0                                                  0   \n",
       "1                                                 95   \n",
       "2                                                160   \n",
       "3                                                215   \n",
       "4                                               2117   \n",
       "...                                              ...   \n",
       "50090                                             70   \n",
       "50091                                            117   \n",
       "50092                                              0   \n",
       "50093                                              0   \n",
       "50094                                              9   \n",
       "\n",
       "       Cover_General_ExtractedCartons_Total_Counter_Actual_n  \\\n",
       "0                                                     21       \n",
       "1                                                     75       \n",
       "2                                                    181       \n",
       "3                                                    220       \n",
       "4                                                   2097       \n",
       "...                                                  ...       \n",
       "50090                                                 62       \n",
       "50091                                                117       \n",
       "50092                                                  0       \n",
       "50093                                                  0       \n",
       "50094                                                  0       \n",
       "\n",
       "       Cover_General_ProducedCovers_Total_Counter_Actual_n  \\\n",
       "0                                                      7     \n",
       "1                                                     66     \n",
       "2                                                    177     \n",
       "3                                                    219     \n",
       "4                                                   2094     \n",
       "...                                                  ...     \n",
       "50090                                                 62     \n",
       "50091                                                120     \n",
       "50092                                                  0     \n",
       "50093                                                  0     \n",
       "50094                                                  0     \n",
       "\n",
       "       Base_Machine_RejectedBases_Station1_Counter_Actual_n  \\\n",
       "0                                                      0      \n",
       "1                                                     18      \n",
       "2                                                      0      \n",
       "3                                                      0      \n",
       "4                                                      0      \n",
       "...                                                  ...      \n",
       "50090                                                  0      \n",
       "50091                                                  0      \n",
       "50092                                                  0      \n",
       "50093                                                  0      \n",
       "50094                                                  0      \n",
       "\n",
       "       Base_Machine_RejectedBases_Station2_Counter_Actual_n  \\\n",
       "0                                                      0      \n",
       "1                                                      1      \n",
       "2                                                      0      \n",
       "3                                                      0      \n",
       "4                                                      1      \n",
       "...                                                  ...      \n",
       "50090                                                  0      \n",
       "50091                                                  0      \n",
       "50092                                                  0      \n",
       "50093                                                  0      \n",
       "50094                                                  0      \n",
       "\n",
       "       Base_Machine_RejectedBases_Station3_Counter_Actual_n  \\\n",
       "0                                                      0      \n",
       "1                                                      0      \n",
       "2                                                      0      \n",
       "3                                                      0      \n",
       "4                                                      0      \n",
       "...                                                  ...      \n",
       "50090                                                  0      \n",
       "50091                                                  0      \n",
       "50092                                                  0      \n",
       "50093                                                  0      \n",
       "50094                                                  0      \n",
       "\n",
       "       Base_Machine_RejectedBases_Total_NOT_Extracted_Betw_Holders_n  \\\n",
       "0                                                      0               \n",
       "1                                                      0               \n",
       "2                                                      0               \n",
       "3                                                      0               \n",
       "4                                                      0               \n",
       "...                                                  ...               \n",
       "50090                                                  0               \n",
       "50091                                                  0               \n",
       "50092                                                  0               \n",
       "50093                                                  0               \n",
       "50094                                                  0               \n",
       "\n",
       "       Cover_General_RejectedCovers_0_Counter_Actual_n  \\\n",
       "0                                                    0   \n",
       "1                                                    1   \n",
       "2                                                    4   \n",
       "3                                                    2   \n",
       "4                                                   20   \n",
       "...                                                ...   \n",
       "50090                                                0   \n",
       "50091                                                0   \n",
       "50092                                                0   \n",
       "50093                                                0   \n",
       "50094                                                0   \n",
       "\n",
       "       UPack_For_Proficy_Produced_Cases              start_time  \n",
       "0                                    23 2023-01-05 16:16:59.707  \n",
       "1                                     0 2023-02-20 08:59:07.477  \n",
       "2                                    13 2023-01-05 16:17:56.667  \n",
       "3                                    55 2023-01-05 16:19:50.663  \n",
       "4                                   528 2023-01-05 16:30:00.650  \n",
       "...                                 ...                     ...  \n",
       "50090                                18 2023-02-20 08:12:08.393  \n",
       "50091                                29 2023-02-20 08:28:55.310  \n",
       "50092                                 0 2023-02-20 08:57:03.480  \n",
       "50093                                 0 2023-02-20 08:57:08.467  \n",
       "50094                                 0 2023-02-20 08:59:53.457  \n",
       "\n",
       "[50095 rows x 17 columns]"
      ]
     },
     "execution_count": 47,
     "metadata": {},
     "output_type": "execute_result"
    }
   ],
   "source": [
    "check_query = \"\"\"\n",
    "            select * from SUD_BOX_TOTALS where datetime  >= '2023-01-01'\n",
    "\"\"\"\n",
    "df = pd.read_sql(sql=check_query, con=get_db_connection(datalab_db_conn, datalab_db_access_token))\n",
    "print(f'SUD sites dimention table loaded, shape: {df.shape}')\n",
    "df"
   ]
  },
  {
   "cell_type": "code",
   "execution_count": 48,
   "metadata": {
    "ExecuteTime": {
     "end_time": "2023-03-10T09:53:09.421317Z",
     "start_time": "2023-03-10T09:53:09.383704Z"
    }
   },
   "outputs": [
    {
     "data": {
      "text/plain": [
       "False"
      ]
     },
     "execution_count": 48,
     "metadata": {},
     "output_type": "execute_result"
    }
   ],
   "source": [
    "df[['site_id', 'line_id','line_state_id','recipe_id','datetime']].duplicated().any()"
   ]
  },
  {
   "cell_type": "code",
   "execution_count": 49,
   "metadata": {
    "ExecuteTime": {
     "end_time": "2023-03-10T09:53:10.900467Z",
     "start_time": "2023-03-10T09:53:10.864586Z"
    }
   },
   "outputs": [
    {
     "data": {
      "text/plain": [
       "False"
      ]
     },
     "execution_count": 49,
     "metadata": {},
     "output_type": "execute_result"
    }
   ],
   "source": [
    "df[['recipe_id','line_state_id','datetime']].duplicated().any()"
   ]
  },
  {
   "cell_type": "code",
   "execution_count": null,
   "metadata": {},
   "outputs": [],
   "source": []
  },
  {
   "cell_type": "markdown",
   "metadata": {},
   "source": [
    "# manual reject"
   ]
  },
  {
   "cell_type": "code",
   "execution_count": 166,
   "metadata": {
    "ExecuteTime": {
     "end_time": "2023-03-10T16:08:00.238424Z",
     "start_time": "2023-03-10T16:08:00.230827Z"
    }
   },
   "outputs": [],
   "source": [
    "manual_reject_query = \"\"\"\n",
    "\n",
    "select bt.[site_id]\n",
    "      ,bt.[line_id]\n",
    "      ,bt.[datetime]\n",
    "      ,bt.[recipe_id]\n",
    "      ,bt.[agile_flag]\n",
    "      ,bt.[line_state_id]\n",
    "      ,bt.[Cover_General_ExtractedCartons_Total_Counter_Actual_n] as n_produced_covers\n",
    "      ,bt.[Base_Machine_ProducedBases_0_Counter_Actual_n] as n_packaged_packs\n",
    "      ,COALESCE(br.rejects_qty, 0) as n_rejects\n",
    "      ,bt.[Cover_General_ExtractedCartons_Total_Counter_Actual_n] - bt.[Base_Machine_ProducedBases_0_Counter_Actual_n] - COALESCE(br.rejects_qty, 0) as rejects_qty\n",
    "      ,104 as [reject_cause_id]\n",
    "  from [dbo].[SUD_BOX_TOTALS] as bt\n",
    "  left join (select                r.[site_id]\n",
    "                ,r.[line_id]\n",
    "                ,r.[datetime]\n",
    "                ,r.[recipe_id]\n",
    "                ,r.[agile_flag]\n",
    "                ,r.[line_state_id]\n",
    "                ,sum(r.[rejects_qty]) as rejects_qty\n",
    "             from [dbo].[SUD_BOX_REJECTS] as r\n",
    "             inner join [dbo].[SUD_BOX_CAUSE_REJECTS_DIM] as cr \n",
    "                on r.[reject_cause_id] = cr.[reject_cause_id]\n",
    "             where (cr.[type] = 'Cover')                or (cr.[type] = 'Cover+Base' and cr.[machine] = 'Mettler')                or (cr.[type] = 'Cover+Base' and cr.[machine] = 'Base machine')             group by [site_id]\n",
    "                ,[line_id]\n",
    "                ,[datetime]\n",
    "                ,[recipe_id]\n",
    "                ,[agile_flag]\n",
    "                ,[line_state_id]\n",
    "            ) as br\n",
    "on bt.[site_id] = br.[site_id] and   bt.[line_id] = br.[line_id] and   bt.[datetime] = br.[datetime] and   bt.[recipe_id] = br.[recipe_id] and   bt.[agile_flag] = br.[agile_flag] and   bt.[line_state_id] = br.[line_state_id]\n",
    "\n",
    "\n",
    "\"\"\""
   ]
  },
  {
   "cell_type": "code",
   "execution_count": 167,
   "metadata": {
    "ExecuteTime": {
     "end_time": "2023-03-10T16:08:05.587663Z",
     "start_time": "2023-03-10T16:08:02.724443Z"
    }
   },
   "outputs": [
    {
     "name": "stdout",
     "output_type": "stream",
     "text": [
      "SUD sites dimention table loaded, shape: (155617, 11)\n"
     ]
    }
   ],
   "source": [
    "df = pd.read_sql(sql=manual_reject_query, con=get_db_connection(datalab_db_conn, datalab_db_access_token))\n",
    "print(f'SUD sites dimention table loaded, shape: {df.shape}')"
   ]
  },
  {
   "cell_type": "code",
   "execution_count": 168,
   "metadata": {
    "ExecuteTime": {
     "end_time": "2023-03-10T16:08:05.618622Z",
     "start_time": "2023-03-10T16:08:05.591763Z"
    }
   },
   "outputs": [
    {
     "data": {
      "text/html": [
       "<div>\n",
       "<style scoped>\n",
       "    .dataframe tbody tr th:only-of-type {\n",
       "        vertical-align: middle;\n",
       "    }\n",
       "\n",
       "    .dataframe tbody tr th {\n",
       "        vertical-align: top;\n",
       "    }\n",
       "\n",
       "    .dataframe thead th {\n",
       "        text-align: right;\n",
       "    }\n",
       "</style>\n",
       "<table border=\"1\" class=\"dataframe\">\n",
       "  <thead>\n",
       "    <tr style=\"text-align: right;\">\n",
       "      <th></th>\n",
       "      <th>site_id</th>\n",
       "      <th>line_id</th>\n",
       "      <th>datetime</th>\n",
       "      <th>recipe_id</th>\n",
       "      <th>agile_flag</th>\n",
       "      <th>line_state_id</th>\n",
       "      <th>n_produced_covers</th>\n",
       "      <th>n_packaged_packs</th>\n",
       "      <th>n_rejects</th>\n",
       "      <th>rejects_qty</th>\n",
       "      <th>reject_cause_id</th>\n",
       "    </tr>\n",
       "  </thead>\n",
       "  <tbody>\n",
       "    <tr>\n",
       "      <th>0</th>\n",
       "      <td>1</td>\n",
       "      <td>20</td>\n",
       "      <td>2022-10-04 14:30:00</td>\n",
       "      <td>21</td>\n",
       "      <td>0</td>\n",
       "      <td>1462084/5</td>\n",
       "      <td>1589</td>\n",
       "      <td>1578</td>\n",
       "      <td>0</td>\n",
       "      <td>11</td>\n",
       "      <td>104</td>\n",
       "    </tr>\n",
       "    <tr>\n",
       "      <th>1</th>\n",
       "      <td>1</td>\n",
       "      <td>20</td>\n",
       "      <td>2022-10-04 14:30:00</td>\n",
       "      <td>21</td>\n",
       "      <td>0</td>\n",
       "      <td>1462084/6</td>\n",
       "      <td>0</td>\n",
       "      <td>2</td>\n",
       "      <td>0</td>\n",
       "      <td>-2</td>\n",
       "      <td>104</td>\n",
       "    </tr>\n",
       "    <tr>\n",
       "      <th>2</th>\n",
       "      <td>1</td>\n",
       "      <td>20</td>\n",
       "      <td>2022-10-04 15:30:00</td>\n",
       "      <td>21</td>\n",
       "      <td>0</td>\n",
       "      <td>1462084/11</td>\n",
       "      <td>689</td>\n",
       "      <td>669</td>\n",
       "      <td>0</td>\n",
       "      <td>20</td>\n",
       "      <td>104</td>\n",
       "    </tr>\n",
       "    <tr>\n",
       "      <th>3</th>\n",
       "      <td>1</td>\n",
       "      <td>20</td>\n",
       "      <td>2022-10-04 16:00:00</td>\n",
       "      <td>21</td>\n",
       "      <td>0</td>\n",
       "      <td>1462084/12</td>\n",
       "      <td>0</td>\n",
       "      <td>0</td>\n",
       "      <td>0</td>\n",
       "      <td>0</td>\n",
       "      <td>104</td>\n",
       "    </tr>\n",
       "    <tr>\n",
       "      <th>4</th>\n",
       "      <td>1</td>\n",
       "      <td>20</td>\n",
       "      <td>2022-10-04 16:30:00</td>\n",
       "      <td>21</td>\n",
       "      <td>0</td>\n",
       "      <td>1462084/20</td>\n",
       "      <td>28</td>\n",
       "      <td>7</td>\n",
       "      <td>0</td>\n",
       "      <td>21</td>\n",
       "      <td>104</td>\n",
       "    </tr>\n",
       "    <tr>\n",
       "      <th>...</th>\n",
       "      <td>...</td>\n",
       "      <td>...</td>\n",
       "      <td>...</td>\n",
       "      <td>...</td>\n",
       "      <td>...</td>\n",
       "      <td>...</td>\n",
       "      <td>...</td>\n",
       "      <td>...</td>\n",
       "      <td>...</td>\n",
       "      <td>...</td>\n",
       "      <td>...</td>\n",
       "    </tr>\n",
       "    <tr>\n",
       "      <th>155612</th>\n",
       "      <td>5</td>\n",
       "      <td>70</td>\n",
       "      <td>2023-03-10 12:00:00</td>\n",
       "      <td>41</td>\n",
       "      <td>0</td>\n",
       "      <td>253328/23</td>\n",
       "      <td>1643</td>\n",
       "      <td>1609</td>\n",
       "      <td>25</td>\n",
       "      <td>9</td>\n",
       "      <td>104</td>\n",
       "    </tr>\n",
       "    <tr>\n",
       "      <th>155613</th>\n",
       "      <td>5</td>\n",
       "      <td>70</td>\n",
       "      <td>2023-03-10 12:30:00</td>\n",
       "      <td>41</td>\n",
       "      <td>0</td>\n",
       "      <td>253328/33</td>\n",
       "      <td>1807</td>\n",
       "      <td>1824</td>\n",
       "      <td>27</td>\n",
       "      <td>-44</td>\n",
       "      <td>104</td>\n",
       "    </tr>\n",
       "    <tr>\n",
       "      <th>155614</th>\n",
       "      <td>5</td>\n",
       "      <td>70</td>\n",
       "      <td>2023-03-10 12:30:00</td>\n",
       "      <td>41</td>\n",
       "      <td>0</td>\n",
       "      <td>253328/37</td>\n",
       "      <td>338</td>\n",
       "      <td>321</td>\n",
       "      <td>22</td>\n",
       "      <td>-5</td>\n",
       "      <td>104</td>\n",
       "    </tr>\n",
       "    <tr>\n",
       "      <th>155615</th>\n",
       "      <td>5</td>\n",
       "      <td>70</td>\n",
       "      <td>2023-03-10 12:30:00</td>\n",
       "      <td>41</td>\n",
       "      <td>0</td>\n",
       "      <td>253328/41</td>\n",
       "      <td>64</td>\n",
       "      <td>26</td>\n",
       "      <td>3</td>\n",
       "      <td>35</td>\n",
       "      <td>104</td>\n",
       "    </tr>\n",
       "    <tr>\n",
       "      <th>155616</th>\n",
       "      <td>5</td>\n",
       "      <td>70</td>\n",
       "      <td>2023-03-10 13:00:00</td>\n",
       "      <td>41</td>\n",
       "      <td>0</td>\n",
       "      <td>253328/43</td>\n",
       "      <td>281</td>\n",
       "      <td>285</td>\n",
       "      <td>11</td>\n",
       "      <td>-15</td>\n",
       "      <td>104</td>\n",
       "    </tr>\n",
       "  </tbody>\n",
       "</table>\n",
       "<p>155617 rows × 11 columns</p>\n",
       "</div>"
      ],
      "text/plain": [
       "        site_id  line_id            datetime  recipe_id  agile_flag  \\\n",
       "0             1       20 2022-10-04 14:30:00         21           0   \n",
       "1             1       20 2022-10-04 14:30:00         21           0   \n",
       "2             1       20 2022-10-04 15:30:00         21           0   \n",
       "3             1       20 2022-10-04 16:00:00         21           0   \n",
       "4             1       20 2022-10-04 16:30:00         21           0   \n",
       "...         ...      ...                 ...        ...         ...   \n",
       "155612        5       70 2023-03-10 12:00:00         41           0   \n",
       "155613        5       70 2023-03-10 12:30:00         41           0   \n",
       "155614        5       70 2023-03-10 12:30:00         41           0   \n",
       "155615        5       70 2023-03-10 12:30:00         41           0   \n",
       "155616        5       70 2023-03-10 13:00:00         41           0   \n",
       "\n",
       "       line_state_id  n_produced_covers  n_packaged_packs  n_rejects  \\\n",
       "0          1462084/5               1589              1578          0   \n",
       "1          1462084/6                  0                 2          0   \n",
       "2         1462084/11                689               669          0   \n",
       "3         1462084/12                  0                 0          0   \n",
       "4         1462084/20                 28                 7          0   \n",
       "...              ...                ...               ...        ...   \n",
       "155612     253328/23               1643              1609         25   \n",
       "155613     253328/33               1807              1824         27   \n",
       "155614     253328/37                338               321         22   \n",
       "155615     253328/41                 64                26          3   \n",
       "155616     253328/43                281               285         11   \n",
       "\n",
       "        rejects_qty  reject_cause_id  \n",
       "0                11              104  \n",
       "1                -2              104  \n",
       "2                20              104  \n",
       "3                 0              104  \n",
       "4                21              104  \n",
       "...             ...              ...  \n",
       "155612            9              104  \n",
       "155613          -44              104  \n",
       "155614           -5              104  \n",
       "155615           35              104  \n",
       "155616          -15              104  \n",
       "\n",
       "[155617 rows x 11 columns]"
      ]
     },
     "execution_count": 168,
     "metadata": {},
     "output_type": "execute_result"
    }
   ],
   "source": [
    "df"
   ]
  },
  {
   "cell_type": "code",
   "execution_count": 169,
   "metadata": {
    "ExecuteTime": {
     "end_time": "2023-03-10T16:08:10.032084Z",
     "start_time": "2023-03-10T16:08:10.006714Z"
    }
   },
   "outputs": [
    {
     "data": {
      "text/plain": [
       "array([20, 23, 73, 70], dtype=int64)"
      ]
     },
     "execution_count": 169,
     "metadata": {},
     "output_type": "execute_result"
    }
   ],
   "source": [
    "df_ = df.loc[(df['rejects_qty'] < 0)]\n",
    "df_.line_id.unique()"
   ]
  },
  {
   "cell_type": "code",
   "execution_count": 170,
   "metadata": {
    "ExecuteTime": {
     "end_time": "2023-03-10T16:08:14.032655Z",
     "start_time": "2023-03-10T16:08:13.984651Z"
    }
   },
   "outputs": [
    {
     "data": {
      "text/html": [
       "<div>\n",
       "<style scoped>\n",
       "    .dataframe tbody tr th:only-of-type {\n",
       "        vertical-align: middle;\n",
       "    }\n",
       "\n",
       "    .dataframe tbody tr th {\n",
       "        vertical-align: top;\n",
       "    }\n",
       "\n",
       "    .dataframe thead th {\n",
       "        text-align: right;\n",
       "    }\n",
       "</style>\n",
       "<table border=\"1\" class=\"dataframe\">\n",
       "  <thead>\n",
       "    <tr style=\"text-align: right;\">\n",
       "      <th></th>\n",
       "      <th>site_id</th>\n",
       "      <th>line_id</th>\n",
       "      <th>datetime</th>\n",
       "      <th>recipe_id</th>\n",
       "      <th>agile_flag</th>\n",
       "      <th>line_state_id</th>\n",
       "      <th>n_produced_covers</th>\n",
       "      <th>n_packaged_packs</th>\n",
       "      <th>n_rejects</th>\n",
       "      <th>rejects_qty</th>\n",
       "      <th>reject_cause_id</th>\n",
       "    </tr>\n",
       "  </thead>\n",
       "  <tbody>\n",
       "    <tr>\n",
       "      <th>58303</th>\n",
       "      <td>1</td>\n",
       "      <td>23</td>\n",
       "      <td>2023-03-10 00:30:00</td>\n",
       "      <td>11</td>\n",
       "      <td>0</td>\n",
       "      <td>2095988/25</td>\n",
       "      <td>4140</td>\n",
       "      <td>4130</td>\n",
       "      <td>18</td>\n",
       "      <td>-8</td>\n",
       "      <td>104</td>\n",
       "    </tr>\n",
       "    <tr>\n",
       "      <th>58306</th>\n",
       "      <td>1</td>\n",
       "      <td>23</td>\n",
       "      <td>2023-03-10 02:30:00</td>\n",
       "      <td>11</td>\n",
       "      <td>0</td>\n",
       "      <td>2095988/37</td>\n",
       "      <td>3663</td>\n",
       "      <td>3635</td>\n",
       "      <td>38</td>\n",
       "      <td>-10</td>\n",
       "      <td>104</td>\n",
       "    </tr>\n",
       "    <tr>\n",
       "      <th>57230</th>\n",
       "      <td>1</td>\n",
       "      <td>23</td>\n",
       "      <td>2023-03-10 03:00:00</td>\n",
       "      <td>11</td>\n",
       "      <td>0</td>\n",
       "      <td>2095988/37</td>\n",
       "      <td>2971</td>\n",
       "      <td>2942</td>\n",
       "      <td>53</td>\n",
       "      <td>-24</td>\n",
       "      <td>104</td>\n",
       "    </tr>\n",
       "    <tr>\n",
       "      <th>58309</th>\n",
       "      <td>1</td>\n",
       "      <td>23</td>\n",
       "      <td>2023-03-10 05:00:00</td>\n",
       "      <td>11</td>\n",
       "      <td>0</td>\n",
       "      <td>2096025/15</td>\n",
       "      <td>3098</td>\n",
       "      <td>3098</td>\n",
       "      <td>6</td>\n",
       "      <td>-6</td>\n",
       "      <td>104</td>\n",
       "    </tr>\n",
       "    <tr>\n",
       "      <th>58310</th>\n",
       "      <td>1</td>\n",
       "      <td>23</td>\n",
       "      <td>2023-03-10 05:30:00</td>\n",
       "      <td>11</td>\n",
       "      <td>0</td>\n",
       "      <td>2096025/15</td>\n",
       "      <td>192</td>\n",
       "      <td>203</td>\n",
       "      <td>10</td>\n",
       "      <td>-21</td>\n",
       "      <td>104</td>\n",
       "    </tr>\n",
       "    <tr>\n",
       "      <th>57585</th>\n",
       "      <td>1</td>\n",
       "      <td>23</td>\n",
       "      <td>2023-03-10 06:00:00</td>\n",
       "      <td>41</td>\n",
       "      <td>0</td>\n",
       "      <td>2096055/13</td>\n",
       "      <td>17</td>\n",
       "      <td>17</td>\n",
       "      <td>1</td>\n",
       "      <td>-1</td>\n",
       "      <td>104</td>\n",
       "    </tr>\n",
       "    <tr>\n",
       "      <th>57586</th>\n",
       "      <td>1</td>\n",
       "      <td>23</td>\n",
       "      <td>2023-03-10 06:00:00</td>\n",
       "      <td>41</td>\n",
       "      <td>0</td>\n",
       "      <td>2096055/9</td>\n",
       "      <td>13</td>\n",
       "      <td>14</td>\n",
       "      <td>0</td>\n",
       "      <td>-1</td>\n",
       "      <td>104</td>\n",
       "    </tr>\n",
       "    <tr>\n",
       "      <th>55459</th>\n",
       "      <td>1</td>\n",
       "      <td>23</td>\n",
       "      <td>2023-03-10 06:30:00</td>\n",
       "      <td>41</td>\n",
       "      <td>0</td>\n",
       "      <td>2096055/40</td>\n",
       "      <td>40</td>\n",
       "      <td>40</td>\n",
       "      <td>2</td>\n",
       "      <td>-2</td>\n",
       "      <td>104</td>\n",
       "    </tr>\n",
       "    <tr>\n",
       "      <th>57587</th>\n",
       "      <td>1</td>\n",
       "      <td>23</td>\n",
       "      <td>2023-03-10 06:30:00</td>\n",
       "      <td>41</td>\n",
       "      <td>0</td>\n",
       "      <td>2096055/22</td>\n",
       "      <td>111</td>\n",
       "      <td>130</td>\n",
       "      <td>30</td>\n",
       "      <td>-49</td>\n",
       "      <td>104</td>\n",
       "    </tr>\n",
       "    <tr>\n",
       "      <th>57589</th>\n",
       "      <td>1</td>\n",
       "      <td>23</td>\n",
       "      <td>2023-03-10 07:00:00</td>\n",
       "      <td>41</td>\n",
       "      <td>0</td>\n",
       "      <td>2096055/50</td>\n",
       "      <td>410</td>\n",
       "      <td>400</td>\n",
       "      <td>29</td>\n",
       "      <td>-19</td>\n",
       "      <td>104</td>\n",
       "    </tr>\n",
       "    <tr>\n",
       "      <th>57590</th>\n",
       "      <td>1</td>\n",
       "      <td>23</td>\n",
       "      <td>2023-03-10 07:30:00</td>\n",
       "      <td>41</td>\n",
       "      <td>0</td>\n",
       "      <td>2096055/50</td>\n",
       "      <td>76</td>\n",
       "      <td>71</td>\n",
       "      <td>18</td>\n",
       "      <td>-13</td>\n",
       "      <td>104</td>\n",
       "    </tr>\n",
       "    <tr>\n",
       "      <th>58314</th>\n",
       "      <td>1</td>\n",
       "      <td>23</td>\n",
       "      <td>2023-03-10 07:30:00</td>\n",
       "      <td>41</td>\n",
       "      <td>0</td>\n",
       "      <td>2096055/52</td>\n",
       "      <td>20</td>\n",
       "      <td>16</td>\n",
       "      <td>8</td>\n",
       "      <td>-4</td>\n",
       "      <td>104</td>\n",
       "    </tr>\n",
       "    <tr>\n",
       "      <th>57592</th>\n",
       "      <td>1</td>\n",
       "      <td>23</td>\n",
       "      <td>2023-03-10 08:00:00</td>\n",
       "      <td>41</td>\n",
       "      <td>0</td>\n",
       "      <td>2096055/64</td>\n",
       "      <td>0</td>\n",
       "      <td>8</td>\n",
       "      <td>0</td>\n",
       "      <td>-8</td>\n",
       "      <td>104</td>\n",
       "    </tr>\n",
       "    <tr>\n",
       "      <th>57593</th>\n",
       "      <td>1</td>\n",
       "      <td>23</td>\n",
       "      <td>2023-03-10 08:30:00</td>\n",
       "      <td>41</td>\n",
       "      <td>0</td>\n",
       "      <td>2096055/66</td>\n",
       "      <td>545</td>\n",
       "      <td>529</td>\n",
       "      <td>65</td>\n",
       "      <td>-49</td>\n",
       "      <td>104</td>\n",
       "    </tr>\n",
       "    <tr>\n",
       "      <th>58316</th>\n",
       "      <td>1</td>\n",
       "      <td>23</td>\n",
       "      <td>2023-03-10 08:30:00</td>\n",
       "      <td>41</td>\n",
       "      <td>0</td>\n",
       "      <td>2096055/68</td>\n",
       "      <td>1502</td>\n",
       "      <td>1400</td>\n",
       "      <td>132</td>\n",
       "      <td>-30</td>\n",
       "      <td>104</td>\n",
       "    </tr>\n",
       "    <tr>\n",
       "      <th>55462</th>\n",
       "      <td>1</td>\n",
       "      <td>23</td>\n",
       "      <td>2023-03-10 09:00:00</td>\n",
       "      <td>41</td>\n",
       "      <td>0</td>\n",
       "      <td>2096055/78</td>\n",
       "      <td>719</td>\n",
       "      <td>663</td>\n",
       "      <td>60</td>\n",
       "      <td>-4</td>\n",
       "      <td>104</td>\n",
       "    </tr>\n",
       "    <tr>\n",
       "      <th>57594</th>\n",
       "      <td>1</td>\n",
       "      <td>23</td>\n",
       "      <td>2023-03-10 09:30:00</td>\n",
       "      <td>41</td>\n",
       "      <td>0</td>\n",
       "      <td>2096055/78</td>\n",
       "      <td>1319</td>\n",
       "      <td>1316</td>\n",
       "      <td>44</td>\n",
       "      <td>-41</td>\n",
       "      <td>104</td>\n",
       "    </tr>\n",
       "    <tr>\n",
       "      <th>55465</th>\n",
       "      <td>1</td>\n",
       "      <td>23</td>\n",
       "      <td>2023-03-10 11:30:00</td>\n",
       "      <td>41</td>\n",
       "      <td>0</td>\n",
       "      <td>2096055/91</td>\n",
       "      <td>2</td>\n",
       "      <td>6</td>\n",
       "      <td>0</td>\n",
       "      <td>-4</td>\n",
       "      <td>104</td>\n",
       "    </tr>\n",
       "    <tr>\n",
       "      <th>55466</th>\n",
       "      <td>1</td>\n",
       "      <td>23</td>\n",
       "      <td>2023-03-10 12:00:00</td>\n",
       "      <td>41</td>\n",
       "      <td>0</td>\n",
       "      <td>2096055/96</td>\n",
       "      <td>291</td>\n",
       "      <td>318</td>\n",
       "      <td>7</td>\n",
       "      <td>-34</td>\n",
       "      <td>104</td>\n",
       "    </tr>\n",
       "    <tr>\n",
       "      <th>55467</th>\n",
       "      <td>1</td>\n",
       "      <td>23</td>\n",
       "      <td>2023-03-10 12:30:00</td>\n",
       "      <td>41</td>\n",
       "      <td>0</td>\n",
       "      <td>2096055/98</td>\n",
       "      <td>1057</td>\n",
       "      <td>1079</td>\n",
       "      <td>28</td>\n",
       "      <td>-50</td>\n",
       "      <td>104</td>\n",
       "    </tr>\n",
       "  </tbody>\n",
       "</table>\n",
       "</div>"
      ],
      "text/plain": [
       "       site_id  line_id            datetime  recipe_id  agile_flag  \\\n",
       "58303        1       23 2023-03-10 00:30:00         11           0   \n",
       "58306        1       23 2023-03-10 02:30:00         11           0   \n",
       "57230        1       23 2023-03-10 03:00:00         11           0   \n",
       "58309        1       23 2023-03-10 05:00:00         11           0   \n",
       "58310        1       23 2023-03-10 05:30:00         11           0   \n",
       "57585        1       23 2023-03-10 06:00:00         41           0   \n",
       "57586        1       23 2023-03-10 06:00:00         41           0   \n",
       "55459        1       23 2023-03-10 06:30:00         41           0   \n",
       "57587        1       23 2023-03-10 06:30:00         41           0   \n",
       "57589        1       23 2023-03-10 07:00:00         41           0   \n",
       "57590        1       23 2023-03-10 07:30:00         41           0   \n",
       "58314        1       23 2023-03-10 07:30:00         41           0   \n",
       "57592        1       23 2023-03-10 08:00:00         41           0   \n",
       "57593        1       23 2023-03-10 08:30:00         41           0   \n",
       "58316        1       23 2023-03-10 08:30:00         41           0   \n",
       "55462        1       23 2023-03-10 09:00:00         41           0   \n",
       "57594        1       23 2023-03-10 09:30:00         41           0   \n",
       "55465        1       23 2023-03-10 11:30:00         41           0   \n",
       "55466        1       23 2023-03-10 12:00:00         41           0   \n",
       "55467        1       23 2023-03-10 12:30:00         41           0   \n",
       "\n",
       "      line_state_id  n_produced_covers  n_packaged_packs  n_rejects  \\\n",
       "58303    2095988/25               4140              4130         18   \n",
       "58306    2095988/37               3663              3635         38   \n",
       "57230    2095988/37               2971              2942         53   \n",
       "58309    2096025/15               3098              3098          6   \n",
       "58310    2096025/15                192               203         10   \n",
       "57585    2096055/13                 17                17          1   \n",
       "57586     2096055/9                 13                14          0   \n",
       "55459    2096055/40                 40                40          2   \n",
       "57587    2096055/22                111               130         30   \n",
       "57589    2096055/50                410               400         29   \n",
       "57590    2096055/50                 76                71         18   \n",
       "58314    2096055/52                 20                16          8   \n",
       "57592    2096055/64                  0                 8          0   \n",
       "57593    2096055/66                545               529         65   \n",
       "58316    2096055/68               1502              1400        132   \n",
       "55462    2096055/78                719               663         60   \n",
       "57594    2096055/78               1319              1316         44   \n",
       "55465    2096055/91                  2                 6          0   \n",
       "55466    2096055/96                291               318          7   \n",
       "55467    2096055/98               1057              1079         28   \n",
       "\n",
       "       rejects_qty  reject_cause_id  \n",
       "58303           -8              104  \n",
       "58306          -10              104  \n",
       "57230          -24              104  \n",
       "58309           -6              104  \n",
       "58310          -21              104  \n",
       "57585           -1              104  \n",
       "57586           -1              104  \n",
       "55459           -2              104  \n",
       "57587          -49              104  \n",
       "57589          -19              104  \n",
       "57590          -13              104  \n",
       "58314           -4              104  \n",
       "57592           -8              104  \n",
       "57593          -49              104  \n",
       "58316          -30              104  \n",
       "55462           -4              104  \n",
       "57594          -41              104  \n",
       "55465           -4              104  \n",
       "55466          -34              104  \n",
       "55467          -50              104  "
      ]
     },
     "execution_count": 170,
     "metadata": {},
     "output_type": "execute_result"
    }
   ],
   "source": [
    "df.loc[(df['rejects_qty'] < 0) & (df['datetime'] >= '2023-03-10') & (df['line_id'] == 23)].head(20).sort_values(by = ['datetime'])"
   ]
  },
  {
   "cell_type": "markdown",
   "metadata": {},
   "source": [
    "### for base"
   ]
  },
  {
   "cell_type": "code",
   "execution_count": 176,
   "metadata": {
    "ExecuteTime": {
     "end_time": "2023-03-10T21:29:50.764273Z",
     "start_time": "2023-03-10T21:29:50.757068Z"
    }
   },
   "outputs": [],
   "source": [
    "query_base =\"\"\"\n",
    "\n",
    "select bt.[site_id]\n",
    "      ,bt.[line_id]\n",
    "      ,bt.[datetime]\n",
    "      ,bt.[recipe_id]\n",
    "      ,bt.[agile_flag]\n",
    "      ,bt.[line_state_id]\n",
    "      ,bt.[Cover_General_ExtractedCartons_Total_Counter_Actual_n] as n_produced_covers\n",
    "      ,bt.[Base_Machine_ProducedBases_0_Counter_Actual_n] as n_packaged_packs\n",
    "      ,COALESCE(br.rejects_qty, 0) as n_rejects\n",
    "      ,bt.[Cover_General_ExtractedCartons_Total_Counter_Actual_n] - bt.[Base_Machine_ProducedBases_0_Counter_Actual_n] - COALESCE(br.rejects_qty, 0) as rejects_qty\n",
    "      ,998 as [reject_cause_id]\n",
    "  from [dbo].[SUD_BOX_TOTALS] as bt\n",
    "  left join (select                r.[site_id]\n",
    "                ,r.[line_id]\n",
    "                ,r.[datetime]\n",
    "                ,r.[recipe_id]\n",
    "                ,r.[agile_flag]\n",
    "                ,r.[line_state_id]\n",
    "                ,sum(r.[rejects_qty]) as rejects_qty\n",
    "             from [dbo].[SUD_BOX_REJECTS] as r\n",
    "             inner join [dbo].[SUD_BOX_CAUSE_REJECTS_DIM] as cr \n",
    "                on r.[reject_cause_id] = cr.[reject_cause_id]\n",
    "             where (cr.[type] = 'Cover')                or (cr.[type] = 'Cover+Base' and cr.[machine] = 'Mettler')                or (cr.[type] = 'Cover+Base' and cr.[machine] = 'Base machine')             group by [site_id]\n",
    "                ,[line_id]\n",
    "                ,[datetime]\n",
    "                ,[recipe_id]\n",
    "                ,[agile_flag]\n",
    "                ,[line_state_id]\n",
    "            ) as br\n",
    "on bt.[site_id] = br.[site_id] and   bt.[line_id] = br.[line_id] and   bt.[datetime] = br.[datetime] and   bt.[recipe_id] = br.[recipe_id] and   bt.[agile_flag] = br.[agile_flag] and   bt.[line_state_id] = br.[line_state_id]\n",
    "\"\"\""
   ]
  },
  {
   "cell_type": "code",
   "execution_count": 177,
   "metadata": {
    "ExecuteTime": {
     "end_time": "2023-03-10T21:29:54.868917Z",
     "start_time": "2023-03-10T21:29:52.362796Z"
    }
   },
   "outputs": [
    {
     "name": "stdout",
     "output_type": "stream",
     "text": [
      "SUD sites dimention table loaded, shape: (155939, 11)\n"
     ]
    }
   ],
   "source": [
    "df_base = pd.read_sql(sql=query_base, con=get_db_connection(datalab_db_conn, datalab_db_access_token))\n",
    "print(f'SUD sites dimention table loaded, shape: {df_base.shape}')"
   ]
  },
  {
   "cell_type": "code",
   "execution_count": 178,
   "metadata": {
    "ExecuteTime": {
     "end_time": "2023-03-10T21:29:57.139951Z",
     "start_time": "2023-03-10T21:29:57.110034Z"
    }
   },
   "outputs": [
    {
     "data": {
      "text/html": [
       "<div>\n",
       "<style scoped>\n",
       "    .dataframe tbody tr th:only-of-type {\n",
       "        vertical-align: middle;\n",
       "    }\n",
       "\n",
       "    .dataframe tbody tr th {\n",
       "        vertical-align: top;\n",
       "    }\n",
       "\n",
       "    .dataframe thead th {\n",
       "        text-align: right;\n",
       "    }\n",
       "</style>\n",
       "<table border=\"1\" class=\"dataframe\">\n",
       "  <thead>\n",
       "    <tr style=\"text-align: right;\">\n",
       "      <th></th>\n",
       "      <th>site_id</th>\n",
       "      <th>line_id</th>\n",
       "      <th>datetime</th>\n",
       "      <th>recipe_id</th>\n",
       "      <th>agile_flag</th>\n",
       "      <th>line_state_id</th>\n",
       "      <th>n_produced_covers</th>\n",
       "      <th>n_packaged_packs</th>\n",
       "      <th>n_rejects</th>\n",
       "      <th>rejects_qty</th>\n",
       "      <th>reject_cause_id</th>\n",
       "    </tr>\n",
       "  </thead>\n",
       "  <tbody>\n",
       "    <tr>\n",
       "      <th>0</th>\n",
       "      <td>1</td>\n",
       "      <td>20</td>\n",
       "      <td>2022-10-04 14:00:00</td>\n",
       "      <td>21</td>\n",
       "      <td>0</td>\n",
       "      <td>1462084/4</td>\n",
       "      <td>11</td>\n",
       "      <td>33</td>\n",
       "      <td>0</td>\n",
       "      <td>-22</td>\n",
       "      <td>998</td>\n",
       "    </tr>\n",
       "    <tr>\n",
       "      <th>1</th>\n",
       "      <td>1</td>\n",
       "      <td>20</td>\n",
       "      <td>2022-10-04 17:00:00</td>\n",
       "      <td>21</td>\n",
       "      <td>0</td>\n",
       "      <td>1462084/24</td>\n",
       "      <td>0</td>\n",
       "      <td>0</td>\n",
       "      <td>0</td>\n",
       "      <td>0</td>\n",
       "      <td>998</td>\n",
       "    </tr>\n",
       "    <tr>\n",
       "      <th>2</th>\n",
       "      <td>1</td>\n",
       "      <td>20</td>\n",
       "      <td>2022-10-04 17:30:00</td>\n",
       "      <td>21</td>\n",
       "      <td>0</td>\n",
       "      <td>1462084/33</td>\n",
       "      <td>136</td>\n",
       "      <td>127</td>\n",
       "      <td>0</td>\n",
       "      <td>9</td>\n",
       "      <td>998</td>\n",
       "    </tr>\n",
       "    <tr>\n",
       "      <th>3</th>\n",
       "      <td>1</td>\n",
       "      <td>20</td>\n",
       "      <td>2022-10-04 17:30:00</td>\n",
       "      <td>21</td>\n",
       "      <td>0</td>\n",
       "      <td>1462084/37</td>\n",
       "      <td>225</td>\n",
       "      <td>210</td>\n",
       "      <td>0</td>\n",
       "      <td>15</td>\n",
       "      <td>998</td>\n",
       "    </tr>\n",
       "    <tr>\n",
       "      <th>4</th>\n",
       "      <td>1</td>\n",
       "      <td>20</td>\n",
       "      <td>2022-10-04 17:30:00</td>\n",
       "      <td>21</td>\n",
       "      <td>0</td>\n",
       "      <td>1462084/41</td>\n",
       "      <td>731</td>\n",
       "      <td>683</td>\n",
       "      <td>0</td>\n",
       "      <td>48</td>\n",
       "      <td>998</td>\n",
       "    </tr>\n",
       "    <tr>\n",
       "      <th>...</th>\n",
       "      <td>...</td>\n",
       "      <td>...</td>\n",
       "      <td>...</td>\n",
       "      <td>...</td>\n",
       "      <td>...</td>\n",
       "      <td>...</td>\n",
       "      <td>...</td>\n",
       "      <td>...</td>\n",
       "      <td>...</td>\n",
       "      <td>...</td>\n",
       "      <td>...</td>\n",
       "    </tr>\n",
       "    <tr>\n",
       "      <th>155934</th>\n",
       "      <td>5</td>\n",
       "      <td>70</td>\n",
       "      <td>2023-03-10 15:30:00</td>\n",
       "      <td>41</td>\n",
       "      <td>0</td>\n",
       "      <td>253369/4</td>\n",
       "      <td>246</td>\n",
       "      <td>250</td>\n",
       "      <td>4</td>\n",
       "      <td>-8</td>\n",
       "      <td>998</td>\n",
       "    </tr>\n",
       "    <tr>\n",
       "      <th>155935</th>\n",
       "      <td>5</td>\n",
       "      <td>70</td>\n",
       "      <td>2023-03-10 16:30:00</td>\n",
       "      <td>51</td>\n",
       "      <td>0</td>\n",
       "      <td>253378/11</td>\n",
       "      <td>16</td>\n",
       "      <td>15</td>\n",
       "      <td>0</td>\n",
       "      <td>1</td>\n",
       "      <td>998</td>\n",
       "    </tr>\n",
       "    <tr>\n",
       "      <th>155936</th>\n",
       "      <td>5</td>\n",
       "      <td>70</td>\n",
       "      <td>2023-03-10 18:00:00</td>\n",
       "      <td>51</td>\n",
       "      <td>0</td>\n",
       "      <td>253378/16</td>\n",
       "      <td>647</td>\n",
       "      <td>648</td>\n",
       "      <td>6</td>\n",
       "      <td>-7</td>\n",
       "      <td>998</td>\n",
       "    </tr>\n",
       "    <tr>\n",
       "      <th>155937</th>\n",
       "      <td>5</td>\n",
       "      <td>70</td>\n",
       "      <td>2023-03-10 19:30:00</td>\n",
       "      <td>51</td>\n",
       "      <td>0</td>\n",
       "      <td>253378/18</td>\n",
       "      <td>3090</td>\n",
       "      <td>3029</td>\n",
       "      <td>71</td>\n",
       "      <td>-10</td>\n",
       "      <td>998</td>\n",
       "    </tr>\n",
       "    <tr>\n",
       "      <th>155938</th>\n",
       "      <td>5</td>\n",
       "      <td>70</td>\n",
       "      <td>2023-03-10 20:30:00</td>\n",
       "      <td>51</td>\n",
       "      <td>0</td>\n",
       "      <td>253378/29</td>\n",
       "      <td>5</td>\n",
       "      <td>0</td>\n",
       "      <td>0</td>\n",
       "      <td>5</td>\n",
       "      <td>998</td>\n",
       "    </tr>\n",
       "  </tbody>\n",
       "</table>\n",
       "<p>155939 rows × 11 columns</p>\n",
       "</div>"
      ],
      "text/plain": [
       "        site_id  line_id            datetime  recipe_id  agile_flag  \\\n",
       "0             1       20 2022-10-04 14:00:00         21           0   \n",
       "1             1       20 2022-10-04 17:00:00         21           0   \n",
       "2             1       20 2022-10-04 17:30:00         21           0   \n",
       "3             1       20 2022-10-04 17:30:00         21           0   \n",
       "4             1       20 2022-10-04 17:30:00         21           0   \n",
       "...         ...      ...                 ...        ...         ...   \n",
       "155934        5       70 2023-03-10 15:30:00         41           0   \n",
       "155935        5       70 2023-03-10 16:30:00         51           0   \n",
       "155936        5       70 2023-03-10 18:00:00         51           0   \n",
       "155937        5       70 2023-03-10 19:30:00         51           0   \n",
       "155938        5       70 2023-03-10 20:30:00         51           0   \n",
       "\n",
       "       line_state_id  n_produced_covers  n_packaged_packs  n_rejects  \\\n",
       "0          1462084/4                 11                33          0   \n",
       "1         1462084/24                  0                 0          0   \n",
       "2         1462084/33                136               127          0   \n",
       "3         1462084/37                225               210          0   \n",
       "4         1462084/41                731               683          0   \n",
       "...              ...                ...               ...        ...   \n",
       "155934      253369/4                246               250          4   \n",
       "155935     253378/11                 16                15          0   \n",
       "155936     253378/16                647               648          6   \n",
       "155937     253378/18               3090              3029         71   \n",
       "155938     253378/29                  5                 0          0   \n",
       "\n",
       "        rejects_qty  reject_cause_id  \n",
       "0               -22              998  \n",
       "1                 0              998  \n",
       "2                 9              998  \n",
       "3                15              998  \n",
       "4                48              998  \n",
       "...             ...              ...  \n",
       "155934           -8              998  \n",
       "155935            1              998  \n",
       "155936           -7              998  \n",
       "155937          -10              998  \n",
       "155938            5              998  \n",
       "\n",
       "[155939 rows x 11 columns]"
      ]
     },
     "execution_count": 178,
     "metadata": {},
     "output_type": "execute_result"
    }
   ],
   "source": [
    "df_base"
   ]
  },
  {
   "cell_type": "code",
   "execution_count": 179,
   "metadata": {
    "ExecuteTime": {
     "end_time": "2023-03-10T21:30:01.509530Z",
     "start_time": "2023-03-10T21:30:01.470477Z"
    }
   },
   "outputs": [
    {
     "data": {
      "text/html": [
       "<div>\n",
       "<style scoped>\n",
       "    .dataframe tbody tr th:only-of-type {\n",
       "        vertical-align: middle;\n",
       "    }\n",
       "\n",
       "    .dataframe tbody tr th {\n",
       "        vertical-align: top;\n",
       "    }\n",
       "\n",
       "    .dataframe thead th {\n",
       "        text-align: right;\n",
       "    }\n",
       "</style>\n",
       "<table border=\"1\" class=\"dataframe\">\n",
       "  <thead>\n",
       "    <tr style=\"text-align: right;\">\n",
       "      <th></th>\n",
       "      <th>site_id</th>\n",
       "      <th>line_id</th>\n",
       "      <th>datetime</th>\n",
       "      <th>recipe_id</th>\n",
       "      <th>agile_flag</th>\n",
       "      <th>line_state_id</th>\n",
       "      <th>n_produced_covers</th>\n",
       "      <th>n_packaged_packs</th>\n",
       "      <th>n_rejects</th>\n",
       "      <th>rejects_qty</th>\n",
       "      <th>reject_cause_id</th>\n",
       "    </tr>\n",
       "  </thead>\n",
       "  <tbody>\n",
       "    <tr>\n",
       "      <th>0</th>\n",
       "      <td>1</td>\n",
       "      <td>20</td>\n",
       "      <td>2022-10-04 14:00:00</td>\n",
       "      <td>21</td>\n",
       "      <td>0</td>\n",
       "      <td>1462084/4</td>\n",
       "      <td>11</td>\n",
       "      <td>33</td>\n",
       "      <td>0</td>\n",
       "      <td>-22</td>\n",
       "      <td>998</td>\n",
       "    </tr>\n",
       "    <tr>\n",
       "      <th>10</th>\n",
       "      <td>1</td>\n",
       "      <td>20</td>\n",
       "      <td>2022-10-04 22:30:00</td>\n",
       "      <td>37</td>\n",
       "      <td>0</td>\n",
       "      <td>1462102/1</td>\n",
       "      <td>11</td>\n",
       "      <td>21</td>\n",
       "      <td>0</td>\n",
       "      <td>-10</td>\n",
       "      <td>998</td>\n",
       "    </tr>\n",
       "    <tr>\n",
       "      <th>11</th>\n",
       "      <td>1</td>\n",
       "      <td>20</td>\n",
       "      <td>2022-10-04 23:00:00</td>\n",
       "      <td>37</td>\n",
       "      <td>0</td>\n",
       "      <td>1462102/1</td>\n",
       "      <td>10</td>\n",
       "      <td>18</td>\n",
       "      <td>0</td>\n",
       "      <td>-8</td>\n",
       "      <td>998</td>\n",
       "    </tr>\n",
       "    <tr>\n",
       "      <th>12</th>\n",
       "      <td>1</td>\n",
       "      <td>20</td>\n",
       "      <td>2022-10-05 00:00:00</td>\n",
       "      <td>37</td>\n",
       "      <td>0</td>\n",
       "      <td>1462102/9</td>\n",
       "      <td>130</td>\n",
       "      <td>136</td>\n",
       "      <td>0</td>\n",
       "      <td>-6</td>\n",
       "      <td>998</td>\n",
       "    </tr>\n",
       "    <tr>\n",
       "      <th>15</th>\n",
       "      <td>1</td>\n",
       "      <td>20</td>\n",
       "      <td>2022-10-05 02:00:00</td>\n",
       "      <td>37</td>\n",
       "      <td>0</td>\n",
       "      <td>1462102/29</td>\n",
       "      <td>271</td>\n",
       "      <td>283</td>\n",
       "      <td>0</td>\n",
       "      <td>-12</td>\n",
       "      <td>998</td>\n",
       "    </tr>\n",
       "    <tr>\n",
       "      <th>...</th>\n",
       "      <td>...</td>\n",
       "      <td>...</td>\n",
       "      <td>...</td>\n",
       "      <td>...</td>\n",
       "      <td>...</td>\n",
       "      <td>...</td>\n",
       "      <td>...</td>\n",
       "      <td>...</td>\n",
       "      <td>...</td>\n",
       "      <td>...</td>\n",
       "      <td>...</td>\n",
       "    </tr>\n",
       "    <tr>\n",
       "      <th>155925</th>\n",
       "      <td>5</td>\n",
       "      <td>70</td>\n",
       "      <td>2023-03-09 17:00:00</td>\n",
       "      <td>41</td>\n",
       "      <td>0</td>\n",
       "      <td>253209/34</td>\n",
       "      <td>369</td>\n",
       "      <td>378</td>\n",
       "      <td>5</td>\n",
       "      <td>-14</td>\n",
       "      <td>998</td>\n",
       "    </tr>\n",
       "    <tr>\n",
       "      <th>155929</th>\n",
       "      <td>5</td>\n",
       "      <td>70</td>\n",
       "      <td>2023-03-10 10:30:00</td>\n",
       "      <td>41</td>\n",
       "      <td>0</td>\n",
       "      <td>253328/1</td>\n",
       "      <td>36</td>\n",
       "      <td>35</td>\n",
       "      <td>27</td>\n",
       "      <td>-26</td>\n",
       "      <td>998</td>\n",
       "    </tr>\n",
       "    <tr>\n",
       "      <th>155934</th>\n",
       "      <td>5</td>\n",
       "      <td>70</td>\n",
       "      <td>2023-03-10 15:30:00</td>\n",
       "      <td>41</td>\n",
       "      <td>0</td>\n",
       "      <td>253369/4</td>\n",
       "      <td>246</td>\n",
       "      <td>250</td>\n",
       "      <td>4</td>\n",
       "      <td>-8</td>\n",
       "      <td>998</td>\n",
       "    </tr>\n",
       "    <tr>\n",
       "      <th>155936</th>\n",
       "      <td>5</td>\n",
       "      <td>70</td>\n",
       "      <td>2023-03-10 18:00:00</td>\n",
       "      <td>51</td>\n",
       "      <td>0</td>\n",
       "      <td>253378/16</td>\n",
       "      <td>647</td>\n",
       "      <td>648</td>\n",
       "      <td>6</td>\n",
       "      <td>-7</td>\n",
       "      <td>998</td>\n",
       "    </tr>\n",
       "    <tr>\n",
       "      <th>155937</th>\n",
       "      <td>5</td>\n",
       "      <td>70</td>\n",
       "      <td>2023-03-10 19:30:00</td>\n",
       "      <td>51</td>\n",
       "      <td>0</td>\n",
       "      <td>253378/18</td>\n",
       "      <td>3090</td>\n",
       "      <td>3029</td>\n",
       "      <td>71</td>\n",
       "      <td>-10</td>\n",
       "      <td>998</td>\n",
       "    </tr>\n",
       "  </tbody>\n",
       "</table>\n",
       "<p>57239 rows × 11 columns</p>\n",
       "</div>"
      ],
      "text/plain": [
       "        site_id  line_id            datetime  recipe_id  agile_flag  \\\n",
       "0             1       20 2022-10-04 14:00:00         21           0   \n",
       "10            1       20 2022-10-04 22:30:00         37           0   \n",
       "11            1       20 2022-10-04 23:00:00         37           0   \n",
       "12            1       20 2022-10-05 00:00:00         37           0   \n",
       "15            1       20 2022-10-05 02:00:00         37           0   \n",
       "...         ...      ...                 ...        ...         ...   \n",
       "155925        5       70 2023-03-09 17:00:00         41           0   \n",
       "155929        5       70 2023-03-10 10:30:00         41           0   \n",
       "155934        5       70 2023-03-10 15:30:00         41           0   \n",
       "155936        5       70 2023-03-10 18:00:00         51           0   \n",
       "155937        5       70 2023-03-10 19:30:00         51           0   \n",
       "\n",
       "       line_state_id  n_produced_covers  n_packaged_packs  n_rejects  \\\n",
       "0          1462084/4                 11                33          0   \n",
       "10         1462102/1                 11                21          0   \n",
       "11         1462102/1                 10                18          0   \n",
       "12         1462102/9                130               136          0   \n",
       "15        1462102/29                271               283          0   \n",
       "...              ...                ...               ...        ...   \n",
       "155925     253209/34                369               378          5   \n",
       "155929      253328/1                 36                35         27   \n",
       "155934      253369/4                246               250          4   \n",
       "155936     253378/16                647               648          6   \n",
       "155937     253378/18               3090              3029         71   \n",
       "\n",
       "        rejects_qty  reject_cause_id  \n",
       "0               -22              998  \n",
       "10              -10              998  \n",
       "11               -8              998  \n",
       "12               -6              998  \n",
       "15              -12              998  \n",
       "...             ...              ...  \n",
       "155925          -14              998  \n",
       "155929          -26              998  \n",
       "155934           -8              998  \n",
       "155936           -7              998  \n",
       "155937          -10              998  \n",
       "\n",
       "[57239 rows x 11 columns]"
      ]
     },
     "execution_count": 179,
     "metadata": {},
     "output_type": "execute_result"
    }
   ],
   "source": [
    "df_base.loc[df_base.rejects_qty < 0]"
   ]
  },
  {
   "cell_type": "code",
   "execution_count": 180,
   "metadata": {
    "ExecuteTime": {
     "end_time": "2023-03-10T21:30:09.710611Z",
     "start_time": "2023-03-10T21:30:09.674434Z"
    }
   },
   "outputs": [
    {
     "data": {
      "text/html": [
       "<div>\n",
       "<style scoped>\n",
       "    .dataframe tbody tr th:only-of-type {\n",
       "        vertical-align: middle;\n",
       "    }\n",
       "\n",
       "    .dataframe tbody tr th {\n",
       "        vertical-align: top;\n",
       "    }\n",
       "\n",
       "    .dataframe thead th {\n",
       "        text-align: right;\n",
       "    }\n",
       "</style>\n",
       "<table border=\"1\" class=\"dataframe\">\n",
       "  <thead>\n",
       "    <tr style=\"text-align: right;\">\n",
       "      <th></th>\n",
       "      <th>site_id</th>\n",
       "      <th>line_id</th>\n",
       "      <th>datetime</th>\n",
       "      <th>recipe_id</th>\n",
       "      <th>agile_flag</th>\n",
       "      <th>line_state_id</th>\n",
       "      <th>n_produced_covers</th>\n",
       "      <th>n_packaged_packs</th>\n",
       "      <th>n_rejects</th>\n",
       "      <th>rejects_qty</th>\n",
       "      <th>reject_cause_id</th>\n",
       "    </tr>\n",
       "  </thead>\n",
       "  <tbody>\n",
       "    <tr>\n",
       "      <th>49842</th>\n",
       "      <td>1</td>\n",
       "      <td>23</td>\n",
       "      <td>2023-03-10 00:30:00</td>\n",
       "      <td>11</td>\n",
       "      <td>0</td>\n",
       "      <td>2095988/25</td>\n",
       "      <td>4140</td>\n",
       "      <td>4130</td>\n",
       "      <td>18</td>\n",
       "      <td>-8</td>\n",
       "      <td>998</td>\n",
       "    </tr>\n",
       "    <tr>\n",
       "      <th>46270</th>\n",
       "      <td>1</td>\n",
       "      <td>23</td>\n",
       "      <td>2023-03-10 02:00:00</td>\n",
       "      <td>11</td>\n",
       "      <td>0</td>\n",
       "      <td>2095988/33</td>\n",
       "      <td>3841</td>\n",
       "      <td>3857</td>\n",
       "      <td>33</td>\n",
       "      <td>-49</td>\n",
       "      <td>998</td>\n",
       "    </tr>\n",
       "    <tr>\n",
       "      <th>49845</th>\n",
       "      <td>1</td>\n",
       "      <td>23</td>\n",
       "      <td>2023-03-10 02:30:00</td>\n",
       "      <td>11</td>\n",
       "      <td>0</td>\n",
       "      <td>2095988/37</td>\n",
       "      <td>3663</td>\n",
       "      <td>3635</td>\n",
       "      <td>38</td>\n",
       "      <td>-10</td>\n",
       "      <td>998</td>\n",
       "    </tr>\n",
       "    <tr>\n",
       "      <th>49848</th>\n",
       "      <td>1</td>\n",
       "      <td>23</td>\n",
       "      <td>2023-03-10 05:00:00</td>\n",
       "      <td>11</td>\n",
       "      <td>0</td>\n",
       "      <td>2096025/15</td>\n",
       "      <td>3098</td>\n",
       "      <td>3098</td>\n",
       "      <td>6</td>\n",
       "      <td>-6</td>\n",
       "      <td>998</td>\n",
       "    </tr>\n",
       "    <tr>\n",
       "      <th>49849</th>\n",
       "      <td>1</td>\n",
       "      <td>23</td>\n",
       "      <td>2023-03-10 05:30:00</td>\n",
       "      <td>11</td>\n",
       "      <td>0</td>\n",
       "      <td>2096025/15</td>\n",
       "      <td>192</td>\n",
       "      <td>203</td>\n",
       "      <td>10</td>\n",
       "      <td>-21</td>\n",
       "      <td>998</td>\n",
       "    </tr>\n",
       "    <tr>\n",
       "      <th>46275</th>\n",
       "      <td>1</td>\n",
       "      <td>23</td>\n",
       "      <td>2023-03-10 07:00:00</td>\n",
       "      <td>41</td>\n",
       "      <td>0</td>\n",
       "      <td>2096055/40</td>\n",
       "      <td>283</td>\n",
       "      <td>225</td>\n",
       "      <td>59</td>\n",
       "      <td>-1</td>\n",
       "      <td>998</td>\n",
       "    </tr>\n",
       "    <tr>\n",
       "      <th>46278</th>\n",
       "      <td>1</td>\n",
       "      <td>23</td>\n",
       "      <td>2023-03-10 07:30:00</td>\n",
       "      <td>41</td>\n",
       "      <td>0</td>\n",
       "      <td>2096055/58</td>\n",
       "      <td>222</td>\n",
       "      <td>234</td>\n",
       "      <td>35</td>\n",
       "      <td>-47</td>\n",
       "      <td>998</td>\n",
       "    </tr>\n",
       "    <tr>\n",
       "      <th>49853</th>\n",
       "      <td>1</td>\n",
       "      <td>23</td>\n",
       "      <td>2023-03-10 07:30:00</td>\n",
       "      <td>41</td>\n",
       "      <td>0</td>\n",
       "      <td>2096055/52</td>\n",
       "      <td>20</td>\n",
       "      <td>16</td>\n",
       "      <td>8</td>\n",
       "      <td>-4</td>\n",
       "      <td>998</td>\n",
       "    </tr>\n",
       "    <tr>\n",
       "      <th>46279</th>\n",
       "      <td>1</td>\n",
       "      <td>23</td>\n",
       "      <td>2023-03-10 08:00:00</td>\n",
       "      <td>41</td>\n",
       "      <td>0</td>\n",
       "      <td>2096055/63</td>\n",
       "      <td>5</td>\n",
       "      <td>19</td>\n",
       "      <td>0</td>\n",
       "      <td>-14</td>\n",
       "      <td>998</td>\n",
       "    </tr>\n",
       "    <tr>\n",
       "      <th>49855</th>\n",
       "      <td>1</td>\n",
       "      <td>23</td>\n",
       "      <td>2023-03-10 08:30:00</td>\n",
       "      <td>41</td>\n",
       "      <td>0</td>\n",
       "      <td>2096055/68</td>\n",
       "      <td>1502</td>\n",
       "      <td>1400</td>\n",
       "      <td>132</td>\n",
       "      <td>-30</td>\n",
       "      <td>998</td>\n",
       "    </tr>\n",
       "    <tr>\n",
       "      <th>46280</th>\n",
       "      <td>1</td>\n",
       "      <td>23</td>\n",
       "      <td>2023-03-10 09:00:00</td>\n",
       "      <td>41</td>\n",
       "      <td>0</td>\n",
       "      <td>2096055/74</td>\n",
       "      <td>460</td>\n",
       "      <td>418</td>\n",
       "      <td>45</td>\n",
       "      <td>-3</td>\n",
       "      <td>998</td>\n",
       "    </tr>\n",
       "    <tr>\n",
       "      <th>46281</th>\n",
       "      <td>1</td>\n",
       "      <td>23</td>\n",
       "      <td>2023-03-10 09:30:00</td>\n",
       "      <td>41</td>\n",
       "      <td>0</td>\n",
       "      <td>2096055/82</td>\n",
       "      <td>1402</td>\n",
       "      <td>1391</td>\n",
       "      <td>23</td>\n",
       "      <td>-12</td>\n",
       "      <td>998</td>\n",
       "    </tr>\n",
       "    <tr>\n",
       "      <th>46282</th>\n",
       "      <td>1</td>\n",
       "      <td>23</td>\n",
       "      <td>2023-03-10 10:00:00</td>\n",
       "      <td>41</td>\n",
       "      <td>0</td>\n",
       "      <td>2096055/82</td>\n",
       "      <td>526</td>\n",
       "      <td>537</td>\n",
       "      <td>26</td>\n",
       "      <td>-37</td>\n",
       "      <td>998</td>\n",
       "    </tr>\n",
       "    <tr>\n",
       "      <th>46283</th>\n",
       "      <td>1</td>\n",
       "      <td>23</td>\n",
       "      <td>2023-03-10 11:00:00</td>\n",
       "      <td>41</td>\n",
       "      <td>0</td>\n",
       "      <td>2096055/87</td>\n",
       "      <td>14</td>\n",
       "      <td>18</td>\n",
       "      <td>1</td>\n",
       "      <td>-5</td>\n",
       "      <td>998</td>\n",
       "    </tr>\n",
       "    <tr>\n",
       "      <th>46287</th>\n",
       "      <td>1</td>\n",
       "      <td>23</td>\n",
       "      <td>2023-03-10 13:00:00</td>\n",
       "      <td>41</td>\n",
       "      <td>0</td>\n",
       "      <td>2096092/12</td>\n",
       "      <td>0</td>\n",
       "      <td>2</td>\n",
       "      <td>0</td>\n",
       "      <td>-2</td>\n",
       "      <td>998</td>\n",
       "    </tr>\n",
       "    <tr>\n",
       "      <th>46288</th>\n",
       "      <td>1</td>\n",
       "      <td>23</td>\n",
       "      <td>2023-03-10 13:00:00</td>\n",
       "      <td>41</td>\n",
       "      <td>0</td>\n",
       "      <td>2096092/4</td>\n",
       "      <td>17</td>\n",
       "      <td>16</td>\n",
       "      <td>2</td>\n",
       "      <td>-1</td>\n",
       "      <td>998</td>\n",
       "    </tr>\n",
       "    <tr>\n",
       "      <th>46292</th>\n",
       "      <td>1</td>\n",
       "      <td>23</td>\n",
       "      <td>2023-03-10 17:30:00</td>\n",
       "      <td>41</td>\n",
       "      <td>0</td>\n",
       "      <td>2096117/40</td>\n",
       "      <td>142</td>\n",
       "      <td>165</td>\n",
       "      <td>10</td>\n",
       "      <td>-33</td>\n",
       "      <td>998</td>\n",
       "    </tr>\n",
       "    <tr>\n",
       "      <th>46293</th>\n",
       "      <td>1</td>\n",
       "      <td>23</td>\n",
       "      <td>2023-03-10 17:30:00</td>\n",
       "      <td>41</td>\n",
       "      <td>0</td>\n",
       "      <td>2096117/42</td>\n",
       "      <td>310</td>\n",
       "      <td>266</td>\n",
       "      <td>82</td>\n",
       "      <td>-38</td>\n",
       "      <td>998</td>\n",
       "    </tr>\n",
       "    <tr>\n",
       "      <th>46294</th>\n",
       "      <td>1</td>\n",
       "      <td>23</td>\n",
       "      <td>2023-03-10 19:30:00</td>\n",
       "      <td>41</td>\n",
       "      <td>0</td>\n",
       "      <td>2096117/50</td>\n",
       "      <td>3105</td>\n",
       "      <td>3086</td>\n",
       "      <td>23</td>\n",
       "      <td>-4</td>\n",
       "      <td>998</td>\n",
       "    </tr>\n",
       "    <tr>\n",
       "      <th>46296</th>\n",
       "      <td>1</td>\n",
       "      <td>23</td>\n",
       "      <td>2023-03-10 20:30:00</td>\n",
       "      <td>41</td>\n",
       "      <td>0</td>\n",
       "      <td>2096117/58</td>\n",
       "      <td>2152</td>\n",
       "      <td>2135</td>\n",
       "      <td>23</td>\n",
       "      <td>-6</td>\n",
       "      <td>998</td>\n",
       "    </tr>\n",
       "  </tbody>\n",
       "</table>\n",
       "</div>"
      ],
      "text/plain": [
       "       site_id  line_id            datetime  recipe_id  agile_flag  \\\n",
       "49842        1       23 2023-03-10 00:30:00         11           0   \n",
       "46270        1       23 2023-03-10 02:00:00         11           0   \n",
       "49845        1       23 2023-03-10 02:30:00         11           0   \n",
       "49848        1       23 2023-03-10 05:00:00         11           0   \n",
       "49849        1       23 2023-03-10 05:30:00         11           0   \n",
       "46275        1       23 2023-03-10 07:00:00         41           0   \n",
       "46278        1       23 2023-03-10 07:30:00         41           0   \n",
       "49853        1       23 2023-03-10 07:30:00         41           0   \n",
       "46279        1       23 2023-03-10 08:00:00         41           0   \n",
       "49855        1       23 2023-03-10 08:30:00         41           0   \n",
       "46280        1       23 2023-03-10 09:00:00         41           0   \n",
       "46281        1       23 2023-03-10 09:30:00         41           0   \n",
       "46282        1       23 2023-03-10 10:00:00         41           0   \n",
       "46283        1       23 2023-03-10 11:00:00         41           0   \n",
       "46287        1       23 2023-03-10 13:00:00         41           0   \n",
       "46288        1       23 2023-03-10 13:00:00         41           0   \n",
       "46292        1       23 2023-03-10 17:30:00         41           0   \n",
       "46293        1       23 2023-03-10 17:30:00         41           0   \n",
       "46294        1       23 2023-03-10 19:30:00         41           0   \n",
       "46296        1       23 2023-03-10 20:30:00         41           0   \n",
       "\n",
       "      line_state_id  n_produced_covers  n_packaged_packs  n_rejects  \\\n",
       "49842    2095988/25               4140              4130         18   \n",
       "46270    2095988/33               3841              3857         33   \n",
       "49845    2095988/37               3663              3635         38   \n",
       "49848    2096025/15               3098              3098          6   \n",
       "49849    2096025/15                192               203         10   \n",
       "46275    2096055/40                283               225         59   \n",
       "46278    2096055/58                222               234         35   \n",
       "49853    2096055/52                 20                16          8   \n",
       "46279    2096055/63                  5                19          0   \n",
       "49855    2096055/68               1502              1400        132   \n",
       "46280    2096055/74                460               418         45   \n",
       "46281    2096055/82               1402              1391         23   \n",
       "46282    2096055/82                526               537         26   \n",
       "46283    2096055/87                 14                18          1   \n",
       "46287    2096092/12                  0                 2          0   \n",
       "46288     2096092/4                 17                16          2   \n",
       "46292    2096117/40                142               165         10   \n",
       "46293    2096117/42                310               266         82   \n",
       "46294    2096117/50               3105              3086         23   \n",
       "46296    2096117/58               2152              2135         23   \n",
       "\n",
       "       rejects_qty  reject_cause_id  \n",
       "49842           -8              998  \n",
       "46270          -49              998  \n",
       "49845          -10              998  \n",
       "49848           -6              998  \n",
       "49849          -21              998  \n",
       "46275           -1              998  \n",
       "46278          -47              998  \n",
       "49853           -4              998  \n",
       "46279          -14              998  \n",
       "49855          -30              998  \n",
       "46280           -3              998  \n",
       "46281          -12              998  \n",
       "46282          -37              998  \n",
       "46283           -5              998  \n",
       "46287           -2              998  \n",
       "46288           -1              998  \n",
       "46292          -33              998  \n",
       "46293          -38              998  \n",
       "46294           -4              998  \n",
       "46296           -6              998  "
      ]
     },
     "execution_count": 180,
     "metadata": {},
     "output_type": "execute_result"
    }
   ],
   "source": [
    "df_base.loc[(df_base['rejects_qty'] < 0) & (df_base['datetime'] >= '2023-03-10') & (df_base['line_id'] == 23)].head(20).sort_values(by = ['datetime'])"
   ]
  },
  {
   "cell_type": "code",
   "execution_count": null,
   "metadata": {},
   "outputs": [],
   "source": []
  },
  {
   "cell_type": "code",
   "execution_count": null,
   "metadata": {},
   "outputs": [],
   "source": []
  },
  {
   "cell_type": "markdown",
   "metadata": {
    "heading_collapsed": true
   },
   "source": [
    "# Adding tags to SUD_PBI_TOOL_TAGS table"
   ]
  },
  {
   "cell_type": "markdown",
   "metadata": {
    "hidden": true
   },
   "source": [
    "### function for generating dataframe for tags info"
   ]
  },
  {
   "cell_type": "code",
   "execution_count": 70,
   "metadata": {
    "ExecuteTime": {
     "end_time": "2022-07-05T13:31:08.696041Z",
     "start_time": "2022-07-05T13:31:08.668854Z"
    },
    "hidden": true
   },
   "outputs": [],
   "source": [
    "# def taglist_table(site_nm, histo_topic, tool_nm):\n",
    "#     \"\"\" Function to generate a tag list table to be populated into SUD_PBI_TOOL_TAG in Datalab DB\n",
    "    \n",
    "#     Args:\n",
    "#         site_nm (str): Site name\n",
    "#         histo_topic (str): Site specific historian topic\n",
    "#         tool_nm (str): names of the dashboard/tool\n",
    "\n",
    "#     Returns:\n",
    "#         pd.DataFrame: dataframe containing tag used in the specific tool in format matching the SUD_PBI_TOOL_TAG table \n",
    "    \n",
    "#     \"\"\"\n",
    "#     tag_df=pd.DataFrame({'TagName':reject_cause_tags})\n",
    "#     tag_df=tag_df.assign(ToolName=tool_nm,\n",
    "#                         Site=site_nm,\n",
    "#                         Line=(tag_df['TagName'].str.split('.', n=1, expand=True)[1]\n",
    "#                         .str.split('_',n=1,expand=True)[0]),\n",
    "#                         LastModifiedDate=datetime.now(),\n",
    "#                         Technology='BOX'\n",
    "                    \n",
    "#                         )\n",
    "#     tag_df=tag_df[['ToolName','Site','Line','TagName','LastModifiedDate','Technology']]\n",
    "#     return tag_df"
   ]
  },
  {
   "cell_type": "code",
   "execution_count": 71,
   "metadata": {
    "ExecuteTime": {
     "end_time": "2022-07-05T13:31:08.773290Z",
     "start_time": "2022-07-05T13:31:08.699093Z"
    },
    "hidden": true
   },
   "outputs": [],
   "source": [
    "# tags_df = taglist_table(site_name, site_servers['historian']['proficy']['topic'], pbi_refresh_app)\n",
    "# tags_df.head()"
   ]
  },
  {
   "cell_type": "markdown",
   "metadata": {
    "hidden": true
   },
   "source": [
    "### Truncating and load data into SUD_PBI_TOOL_TAGS table"
   ]
  },
  {
   "cell_type": "code",
   "execution_count": 72,
   "metadata": {
    "ExecuteTime": {
     "end_time": "2022-07-05T13:31:08.786933Z",
     "start_time": "2022-07-05T13:31:08.778252Z"
    },
    "hidden": true
   },
   "outputs": [],
   "source": [
    "# truncate_query_tmp=\"\"\" delete from {}\n",
    "#                        where Site = '{}' and ToolName='{}'\n",
    "#                     \"\"\"\n",
    "\n",
    "# truncate_query=truncate_query_tmp.format(tags_df, site_name, pbi_refresh_app)"
   ]
  },
  {
   "cell_type": "code",
   "execution_count": 73,
   "metadata": {
    "ExecuteTime": {
     "end_time": "2022-07-05T13:31:08.823077Z",
     "start_time": "2022-07-05T13:31:08.790528Z"
    },
    "hidden": true
   },
   "outputs": [],
   "source": [
    "# def truncate_and_load(conn_string, truncate_query, access_token,df, table_db):\n",
    "#     execute_db_query(conn_string,truncate_query,access_token )\n",
    "#     insert_df_to_mssql_db(df=df, \n",
    "#                        db_conn=datalab_db_conn,\n",
    "#                        db_table=table_db, \n",
    "#                        access_token=access_token,\n",
    "#                         if_exists='append'\n",
    "#                         )"
   ]
  },
  {
   "cell_type": "code",
   "execution_count": 76,
   "metadata": {
    "ExecuteTime": {
     "end_time": "2022-07-05T13:31:09.172927Z",
     "start_time": "2022-07-05T13:31:08.826943Z"
    },
    "hidden": true
   },
   "outputs": [],
   "source": [
    "#truncate_and_load(datalab_db_conn, truncate_query, datalab_db_access_token, tags_df)"
   ]
  },
  {
   "cell_type": "code",
   "execution_count": null,
   "metadata": {
    "hidden": true
   },
   "outputs": [],
   "source": []
  },
  {
   "cell_type": "code",
   "execution_count": null,
   "metadata": {
    "hidden": true
   },
   "outputs": [],
   "source": []
  },
  {
   "cell_type": "code",
   "execution_count": null,
   "metadata": {
    "hidden": true
   },
   "outputs": [],
   "source": []
  },
  {
   "cell_type": "code",
   "execution_count": null,
   "metadata": {
    "hidden": true
   },
   "outputs": [],
   "source": []
  }
 ],
 "metadata": {
  "kernelspec": {
   "display_name": "Python 3 (ipykernel)",
   "language": "python",
   "name": "python3"
  },
  "language_info": {
   "codemirror_mode": {
    "name": "ipython",
    "version": 3
   },
   "file_extension": ".py",
   "mimetype": "text/x-python",
   "name": "python",
   "nbconvert_exporter": "python",
   "pygments_lexer": "ipython3",
   "version": "3.11.7"
  },
  "toc": {
   "base_numbering": 1,
   "nav_menu": {},
   "number_sections": true,
   "sideBar": true,
   "skip_h1_title": false,
   "title_cell": "Table of Contents",
   "title_sidebar": "Contents",
   "toc_cell": false,
   "toc_position": {
    "height": "calc(100% - 180px)",
    "left": "10px",
    "top": "150px",
    "width": "329.156px"
   },
   "toc_section_display": true,
   "toc_window_display": true
  }
 },
 "nbformat": 4,
 "nbformat_minor": 4
}
